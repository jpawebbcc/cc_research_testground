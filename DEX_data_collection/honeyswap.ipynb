{
 "cells": [
  {
   "cell_type": "markdown",
   "metadata": {},
   "source": [
    "## Messari standardised subgraphs\n",
    "\n",
    "https://github.com/messari/subgraphs\n",
    "\n",
    "### Honeyswap\n",
    "\n",
    "12/09/2022"
   ]
  },
  {
   "cell_type": "code",
   "execution_count": 1,
   "metadata": {},
   "outputs": [],
   "source": [
    "import pandas as pd\n",
    "import numpy as np\n",
    "import time\n",
    "import requests\n",
    "import datetime as dt"
   ]
  },
  {
   "cell_type": "code",
   "execution_count": 2,
   "metadata": {},
   "outputs": [],
   "source": [
    "endpoint = 'https://api.thegraph.com/subgraphs/name/messari/honeyswap-gnosis'"
   ]
  },
  {
   "cell_type": "code",
   "execution_count": 3,
   "metadata": {},
   "outputs": [
    {
     "name": "stdout",
     "output_type": "stream",
     "text": [
      "2022-09-12 16:17:00\n"
     ]
    },
    {
     "data": {
      "text/plain": [
       "True"
      ]
     },
     "execution_count": 3,
     "metadata": {},
     "output_type": "execute_result"
    }
   ],
   "source": [
    "#Check if subgraph is up to date\n",
    "query = \"\"\"{\n",
    "  _meta{\n",
    "    block{\n",
    "      timestamp\n",
    "  \t\thash\n",
    "      number\n",
    "    }\n",
    "    hasIndexingErrors\n",
    "    deployment\n",
    "  }\n",
    "}\"\"\"\n",
    "request = requests.post(endpoint, json={'query':query})\n",
    "data = request.json()\n",
    "#Check if it is ok to run i.e. within 5 days of today\n",
    "print(dt.datetime.fromtimestamp(int(data['data']['_meta']['block']['timestamp'], base = 0)))\n",
    "int(data['data']['_meta']['block']['timestamp'], base = 0) > (dt.datetime.today().timestamp() - 3600*24*5)"
   ]
  },
  {
   "cell_type": "markdown",
   "metadata": {},
   "source": [
    "6-Month Average Daily Volume"
   ]
  },
  {
   "cell_type": "code",
   "execution_count": 4,
   "metadata": {},
   "outputs": [],
   "source": [
    "query = \"\"\"{\n",
    "  financialsDailySnapshots(first: 183, orderBy: timestamp, orderDirection: desc){\n",
    "    id\n",
    "    protocol{\n",
    "      name\n",
    "    }\n",
    "    dailyVolumeUSD\n",
    "    dailyTotalRevenueUSD\n",
    "    dailySupplySideRevenueUSD\n",
    "    dailyProtocolSideRevenueUSD\n",
    "    timestamp\n",
    "    blockNumber\n",
    "  }\n",
    "}\n",
    "\"\"\""
   ]
  },
  {
   "cell_type": "code",
   "execution_count": 5,
   "metadata": {},
   "outputs": [],
   "source": [
    "request = requests.post(endpoint, json={'query':query})\n",
    "data = request.json()"
   ]
  },
  {
   "cell_type": "code",
   "execution_count": 6,
   "metadata": {},
   "outputs": [],
   "source": [
    "df = pd.json_normalize(data['data']['financialsDailySnapshots'])"
   ]
  },
  {
   "cell_type": "code",
   "execution_count": 7,
   "metadata": {},
   "outputs": [
    {
     "data": {
      "text/plain": [
       "183189.8698075358"
      ]
     },
     "execution_count": 7,
     "metadata": {},
     "output_type": "execute_result"
    }
   ],
   "source": [
    "df['dailyVolumeUSD'].astype(float).mean()"
   ]
  },
  {
   "cell_type": "markdown",
   "metadata": {},
   "source": [
    "6-Month Average TVL"
   ]
  },
  {
   "cell_type": "code",
   "execution_count": 8,
   "metadata": {},
   "outputs": [],
   "source": [
    "#DefiLlama https://defillama.com/protocols/dexes \n",
    "lma = pd.read_csv(\"https://api.llama.fi/dataset/honeyswap.csv\")"
   ]
  },
  {
   "cell_type": "code",
   "execution_count": 9,
   "metadata": {},
   "outputs": [
    {
     "data": {
      "text/html": [
       "<div>\n",
       "<style scoped>\n",
       "    .dataframe tbody tr th:only-of-type {\n",
       "        vertical-align: middle;\n",
       "    }\n",
       "\n",
       "    .dataframe tbody tr th {\n",
       "        vertical-align: top;\n",
       "    }\n",
       "\n",
       "    .dataframe thead th {\n",
       "        text-align: right;\n",
       "    }\n",
       "</style>\n",
       "<table border=\"1\" class=\"dataframe\">\n",
       "  <thead>\n",
       "    <tr style=\"text-align: right;\">\n",
       "      <th></th>\n",
       "      <th>Unnamed: 0</th>\n",
       "      <th>Date</th>\n",
       "      <th>Timestamp</th>\n",
       "      <th>Honeyswap</th>\n",
       "      <th>Honeyswap.1</th>\n",
       "      <th>Honeyswap.2</th>\n",
       "      <th>Honeyswap.3</th>\n",
       "      <th>Honeyswap.4</th>\n",
       "      <th>Honeyswap.5</th>\n",
       "      <th>Honeyswap.6</th>\n",
       "      <th>...</th>\n",
       "      <th>Honeyswap.679</th>\n",
       "      <th>Honeyswap.680</th>\n",
       "      <th>Honeyswap.681</th>\n",
       "      <th>Honeyswap.682</th>\n",
       "      <th>Honeyswap.683</th>\n",
       "      <th>Honeyswap.684</th>\n",
       "      <th>Honeyswap.685</th>\n",
       "      <th>Honeyswap.686</th>\n",
       "      <th>Honeyswap.687</th>\n",
       "      <th>Honeyswap.688</th>\n",
       "    </tr>\n",
       "  </thead>\n",
       "  <tbody>\n",
       "    <tr>\n",
       "      <th>0</th>\n",
       "      <td>NaN</td>\n",
       "      <td>NaN</td>\n",
       "      <td>NaN</td>\n",
       "      <td>Dexes</td>\n",
       "      <td>Dexes</td>\n",
       "      <td>Dexes</td>\n",
       "      <td>Dexes</td>\n",
       "      <td>Dexes</td>\n",
       "      <td>Dexes</td>\n",
       "      <td>Dexes</td>\n",
       "      <td>...</td>\n",
       "      <td>Dexes</td>\n",
       "      <td>Dexes</td>\n",
       "      <td>Dexes</td>\n",
       "      <td>Dexes</td>\n",
       "      <td>Dexes</td>\n",
       "      <td>Dexes</td>\n",
       "      <td>Dexes</td>\n",
       "      <td>Dexes</td>\n",
       "      <td>Dexes</td>\n",
       "      <td>Dexes</td>\n",
       "    </tr>\n",
       "    <tr>\n",
       "      <th>1</th>\n",
       "      <td>NaN</td>\n",
       "      <td>NaN</td>\n",
       "      <td>NaN</td>\n",
       "      <td>Total</td>\n",
       "      <td>xdai</td>\n",
       "      <td>polygon</td>\n",
       "      <td>Total</td>\n",
       "      <td>Total</td>\n",
       "      <td>Total</td>\n",
       "      <td>Total</td>\n",
       "      <td>...</td>\n",
       "      <td>polygon</td>\n",
       "      <td>polygon</td>\n",
       "      <td>polygon</td>\n",
       "      <td>polygon</td>\n",
       "      <td>polygon</td>\n",
       "      <td>polygon</td>\n",
       "      <td>polygon</td>\n",
       "      <td>polygon</td>\n",
       "      <td>polygon</td>\n",
       "      <td>polygon</td>\n",
       "    </tr>\n",
       "    <tr>\n",
       "      <th>2</th>\n",
       "      <td>NaN</td>\n",
       "      <td>NaN</td>\n",
       "      <td>NaN</td>\n",
       "      <td>TVL</td>\n",
       "      <td>TVL</td>\n",
       "      <td>TVL</td>\n",
       "      <td>Tokens(USD)</td>\n",
       "      <td>Tokens(USD)</td>\n",
       "      <td>Tokens(USD)</td>\n",
       "      <td>Tokens(USD)</td>\n",
       "      <td>...</td>\n",
       "      <td>Tokens</td>\n",
       "      <td>Tokens</td>\n",
       "      <td>Tokens</td>\n",
       "      <td>Tokens</td>\n",
       "      <td>Tokens</td>\n",
       "      <td>Tokens</td>\n",
       "      <td>Tokens</td>\n",
       "      <td>Tokens</td>\n",
       "      <td>Tokens</td>\n",
       "      <td>Tokens</td>\n",
       "    </tr>\n",
       "    <tr>\n",
       "      <th>3</th>\n",
       "      <td>NaN</td>\n",
       "      <td>NaN</td>\n",
       "      <td>NaN</td>\n",
       "      <td>NaN</td>\n",
       "      <td>NaN</td>\n",
       "      <td>NaN</td>\n",
       "      <td>USDT</td>\n",
       "      <td>MATIC</td>\n",
       "      <td>ROUTE</td>\n",
       "      <td>KRILL</td>\n",
       "      <td>...</td>\n",
       "      <td>HEX</td>\n",
       "      <td>DEFI5</td>\n",
       "      <td>WAULTX</td>\n",
       "      <td>LUNA</td>\n",
       "      <td>MIFARM</td>\n",
       "      <td>ROUTE (POS)</td>\n",
       "      <td>WETH</td>\n",
       "      <td>DAI</td>\n",
       "      <td>USDC</td>\n",
       "      <td>SOL</td>\n",
       "    </tr>\n",
       "    <tr>\n",
       "      <th>4</th>\n",
       "      <td>NaN</td>\n",
       "      <td>08/04/2021</td>\n",
       "      <td>1.617840e+09</td>\n",
       "      <td>10131675.731226</td>\n",
       "      <td>10131675.731226</td>\n",
       "      <td>NaN</td>\n",
       "      <td>NaN</td>\n",
       "      <td>NaN</td>\n",
       "      <td>NaN</td>\n",
       "      <td>NaN</td>\n",
       "      <td>...</td>\n",
       "      <td>NaN</td>\n",
       "      <td>NaN</td>\n",
       "      <td>NaN</td>\n",
       "      <td>NaN</td>\n",
       "      <td>NaN</td>\n",
       "      <td>NaN</td>\n",
       "      <td>NaN</td>\n",
       "      <td>NaN</td>\n",
       "      <td>NaN</td>\n",
       "      <td>NaN</td>\n",
       "    </tr>\n",
       "    <tr>\n",
       "      <th>...</th>\n",
       "      <td>...</td>\n",
       "      <td>...</td>\n",
       "      <td>...</td>\n",
       "      <td>...</td>\n",
       "      <td>...</td>\n",
       "      <td>...</td>\n",
       "      <td>...</td>\n",
       "      <td>...</td>\n",
       "      <td>...</td>\n",
       "      <td>...</td>\n",
       "      <td>...</td>\n",
       "      <td>...</td>\n",
       "      <td>...</td>\n",
       "      <td>...</td>\n",
       "      <td>...</td>\n",
       "      <td>...</td>\n",
       "      <td>...</td>\n",
       "      <td>...</td>\n",
       "      <td>...</td>\n",
       "      <td>...</td>\n",
       "      <td>...</td>\n",
       "    </tr>\n",
       "    <tr>\n",
       "      <th>520</th>\n",
       "      <td>NaN</td>\n",
       "      <td>08/09/2022</td>\n",
       "      <td>1.662595e+09</td>\n",
       "      <td>6629770.561468702</td>\n",
       "      <td>6515778.170963727</td>\n",
       "      <td>113992.3905049746</td>\n",
       "      <td>2418.626991</td>\n",
       "      <td>113.29992979631375</td>\n",
       "      <td>NaN</td>\n",
       "      <td>NaN</td>\n",
       "      <td>...</td>\n",
       "      <td>44.81084814</td>\n",
       "      <td>NaN</td>\n",
       "      <td>NaN</td>\n",
       "      <td>NaN</td>\n",
       "      <td>0.005154083944181409</td>\n",
       "      <td>NaN</td>\n",
       "      <td>25.130078516243955</td>\n",
       "      <td>1668.9854698379845</td>\n",
       "      <td>62949.722904</td>\n",
       "      <td>NaN</td>\n",
       "    </tr>\n",
       "    <tr>\n",
       "      <th>521</th>\n",
       "      <td>NaN</td>\n",
       "      <td>09/09/2022</td>\n",
       "      <td>1.662682e+09</td>\n",
       "      <td>6705977.1010464905</td>\n",
       "      <td>6591386.546642129</td>\n",
       "      <td>114590.55440436157</td>\n",
       "      <td>2422.329654745</td>\n",
       "      <td>114.41720996629557</td>\n",
       "      <td>NaN</td>\n",
       "      <td>NaN</td>\n",
       "      <td>...</td>\n",
       "      <td>44.81084814</td>\n",
       "      <td>NaN</td>\n",
       "      <td>NaN</td>\n",
       "      <td>NaN</td>\n",
       "      <td>0.005154083944181409</td>\n",
       "      <td>NaN</td>\n",
       "      <td>25.206547996063115</td>\n",
       "      <td>1671.1900482907554</td>\n",
       "      <td>62970.093618</td>\n",
       "      <td>NaN</td>\n",
       "    </tr>\n",
       "    <tr>\n",
       "      <th>522</th>\n",
       "      <td>NaN</td>\n",
       "      <td>10/09/2022</td>\n",
       "      <td>1.662768e+09</td>\n",
       "      <td>6903963.320695563</td>\n",
       "      <td>6787356.422845993</td>\n",
       "      <td>116606.89784956964</td>\n",
       "      <td>2445.733254965</td>\n",
       "      <td>117.41359217002933</td>\n",
       "      <td>NaN</td>\n",
       "      <td>NaN</td>\n",
       "      <td>...</td>\n",
       "      <td>44.81084814</td>\n",
       "      <td>NaN</td>\n",
       "      <td>NaN</td>\n",
       "      <td>NaN</td>\n",
       "      <td>0.005154083944181409</td>\n",
       "      <td>NaN</td>\n",
       "      <td>24.99520332699297</td>\n",
       "      <td>1675.4062101413908</td>\n",
       "      <td>63071.006771</td>\n",
       "      <td>NaN</td>\n",
       "    </tr>\n",
       "    <tr>\n",
       "      <th>523</th>\n",
       "      <td>NaN</td>\n",
       "      <td>11/09/2022</td>\n",
       "      <td>1.662854e+09</td>\n",
       "      <td>7041296.411482292</td>\n",
       "      <td>6923966.370138095</td>\n",
       "      <td>117330.04134419719</td>\n",
       "      <td>2450.0762255969994</td>\n",
       "      <td>118.9910039843776</td>\n",
       "      <td>NaN</td>\n",
       "      <td>NaN</td>\n",
       "      <td>...</td>\n",
       "      <td>44.81084814</td>\n",
       "      <td>NaN</td>\n",
       "      <td>NaN</td>\n",
       "      <td>NaN</td>\n",
       "      <td>0.005154083944181409</td>\n",
       "      <td>NaN</td>\n",
       "      <td>24.840325954329455</td>\n",
       "      <td>1680.3689807201285</td>\n",
       "      <td>62409.184743</td>\n",
       "      <td>NaN</td>\n",
       "    </tr>\n",
       "    <tr>\n",
       "      <th>524</th>\n",
       "      <td>NaN</td>\n",
       "      <td>12/09/2022</td>\n",
       "      <td>1.662941e+09</td>\n",
       "      <td>7023019.366100182</td>\n",
       "      <td>6911082.385412892</td>\n",
       "      <td>111936.9806872899</td>\n",
       "      <td>2440.2725284223397</td>\n",
       "      <td>117.6917494848901</td>\n",
       "      <td>NaN</td>\n",
       "      <td>NaN</td>\n",
       "      <td>...</td>\n",
       "      <td>44.81084814</td>\n",
       "      <td>NaN</td>\n",
       "      <td>NaN</td>\n",
       "      <td>NaN</td>\n",
       "      <td>0.005154083944181409</td>\n",
       "      <td>NaN</td>\n",
       "      <td>23.87091165430663</td>\n",
       "      <td>1679.5939904608924</td>\n",
       "      <td>59022.446241</td>\n",
       "      <td>NaN</td>\n",
       "    </tr>\n",
       "  </tbody>\n",
       "</table>\n",
       "<p>525 rows × 692 columns</p>\n",
       "</div>"
      ],
      "text/plain": [
       "     Unnamed: 0        Date     Timestamp           Honeyswap  \\\n",
       "0           NaN         NaN           NaN               Dexes   \n",
       "1           NaN         NaN           NaN               Total   \n",
       "2           NaN         NaN           NaN                 TVL   \n",
       "3           NaN         NaN           NaN                 NaN   \n",
       "4           NaN  08/04/2021  1.617840e+09     10131675.731226   \n",
       "..          ...         ...           ...                 ...   \n",
       "520         NaN  08/09/2022  1.662595e+09   6629770.561468702   \n",
       "521         NaN  09/09/2022  1.662682e+09  6705977.1010464905   \n",
       "522         NaN  10/09/2022  1.662768e+09   6903963.320695563   \n",
       "523         NaN  11/09/2022  1.662854e+09   7041296.411482292   \n",
       "524         NaN  12/09/2022  1.662941e+09   7023019.366100182   \n",
       "\n",
       "           Honeyswap.1         Honeyswap.2         Honeyswap.3  \\\n",
       "0                Dexes               Dexes               Dexes   \n",
       "1                 xdai             polygon               Total   \n",
       "2                  TVL                 TVL         Tokens(USD)   \n",
       "3                  NaN                 NaN                USDT   \n",
       "4      10131675.731226                 NaN                 NaN   \n",
       "..                 ...                 ...                 ...   \n",
       "520  6515778.170963727   113992.3905049746         2418.626991   \n",
       "521  6591386.546642129  114590.55440436157      2422.329654745   \n",
       "522  6787356.422845993  116606.89784956964      2445.733254965   \n",
       "523  6923966.370138095  117330.04134419719  2450.0762255969994   \n",
       "524  6911082.385412892   111936.9806872899  2440.2725284223397   \n",
       "\n",
       "            Honeyswap.4  Honeyswap.5  Honeyswap.6  ... Honeyswap.679  \\\n",
       "0                 Dexes        Dexes        Dexes  ...         Dexes   \n",
       "1                 Total        Total        Total  ...       polygon   \n",
       "2           Tokens(USD)  Tokens(USD)  Tokens(USD)  ...        Tokens   \n",
       "3                 MATIC        ROUTE        KRILL  ...           HEX   \n",
       "4                   NaN          NaN          NaN  ...           NaN   \n",
       "..                  ...          ...          ...  ...           ...   \n",
       "520  113.29992979631375          NaN          NaN  ...   44.81084814   \n",
       "521  114.41720996629557          NaN          NaN  ...   44.81084814   \n",
       "522  117.41359217002933          NaN          NaN  ...   44.81084814   \n",
       "523   118.9910039843776          NaN          NaN  ...   44.81084814   \n",
       "524   117.6917494848901          NaN          NaN  ...   44.81084814   \n",
       "\n",
       "    Honeyswap.680 Honeyswap.681 Honeyswap.682         Honeyswap.683  \\\n",
       "0           Dexes         Dexes         Dexes                 Dexes   \n",
       "1         polygon       polygon       polygon               polygon   \n",
       "2          Tokens        Tokens        Tokens                Tokens   \n",
       "3           DEFI5        WAULTX          LUNA                MIFARM   \n",
       "4             NaN           NaN           NaN                   NaN   \n",
       "..            ...           ...           ...                   ...   \n",
       "520           NaN           NaN           NaN  0.005154083944181409   \n",
       "521           NaN           NaN           NaN  0.005154083944181409   \n",
       "522           NaN           NaN           NaN  0.005154083944181409   \n",
       "523           NaN           NaN           NaN  0.005154083944181409   \n",
       "524           NaN           NaN           NaN  0.005154083944181409   \n",
       "\n",
       "    Honeyswap.684       Honeyswap.685       Honeyswap.686 Honeyswap.687  \\\n",
       "0           Dexes               Dexes               Dexes         Dexes   \n",
       "1         polygon             polygon             polygon       polygon   \n",
       "2          Tokens              Tokens              Tokens        Tokens   \n",
       "3     ROUTE (POS)                WETH                 DAI          USDC   \n",
       "4             NaN                 NaN                 NaN           NaN   \n",
       "..            ...                 ...                 ...           ...   \n",
       "520           NaN  25.130078516243955  1668.9854698379845  62949.722904   \n",
       "521           NaN  25.206547996063115  1671.1900482907554  62970.093618   \n",
       "522           NaN   24.99520332699297  1675.4062101413908  63071.006771   \n",
       "523           NaN  24.840325954329455  1680.3689807201285  62409.184743   \n",
       "524           NaN   23.87091165430663  1679.5939904608924  59022.446241   \n",
       "\n",
       "    Honeyswap.688  \n",
       "0           Dexes  \n",
       "1         polygon  \n",
       "2          Tokens  \n",
       "3             SOL  \n",
       "4             NaN  \n",
       "..            ...  \n",
       "520           NaN  \n",
       "521           NaN  \n",
       "522           NaN  \n",
       "523           NaN  \n",
       "524           NaN  \n",
       "\n",
       "[525 rows x 692 columns]"
      ]
     },
     "execution_count": 9,
     "metadata": {},
     "output_type": "execute_result"
    }
   ],
   "source": [
    "lma"
   ]
  },
  {
   "cell_type": "code",
   "execution_count": 10,
   "metadata": {},
   "outputs": [
    {
     "data": {
      "text/plain": [
       "0                   Dexes\n",
       "1                   Total\n",
       "2                     TVL\n",
       "3                     NaN\n",
       "4         10131675.731226\n",
       "              ...        \n",
       "520     6629770.561468702\n",
       "521    6705977.1010464905\n",
       "522     6903963.320695563\n",
       "523     7041296.411482292\n",
       "524     7023019.366100182\n",
       "Name: Honeyswap, Length: 525, dtype: object"
      ]
     },
     "execution_count": 10,
     "metadata": {},
     "output_type": "execute_result"
    }
   ],
   "source": [
    "lma.iloc[:,3]"
   ]
  },
  {
   "cell_type": "code",
   "execution_count": 11,
   "metadata": {},
   "outputs": [
    {
     "data": {
      "text/plain": [
       "8536124.66999322"
      ]
     },
     "execution_count": 11,
     "metadata": {},
     "output_type": "execute_result"
    }
   ],
   "source": [
    "#Just eth currently can take total by changing the header\n",
    "lma.iloc[-183:, 3].astype(float).mean()"
   ]
  },
  {
   "cell_type": "code",
   "execution_count": null,
   "metadata": {},
   "outputs": [],
   "source": []
  },
  {
   "cell_type": "markdown",
   "metadata": {},
   "source": [
    "Largest Pool Concentration"
   ]
  },
  {
   "cell_type": "code",
   "execution_count": 13,
   "metadata": {},
   "outputs": [
    {
     "name": "stderr",
     "output_type": "stream",
     "text": [
      "/tmp/ipykernel_64532/4280252882.py:27: FutureWarning: The frame.append method is deprecated and will be removed from pandas in a future version. Use pandas.concat instead.\n",
      "  df = df.append(pool)\n",
      "/tmp/ipykernel_64532/4280252882.py:27: FutureWarning: The frame.append method is deprecated and will be removed from pandas in a future version. Use pandas.concat instead.\n",
      "  df = df.append(pool)\n",
      "/tmp/ipykernel_64532/4280252882.py:27: FutureWarning: The frame.append method is deprecated and will be removed from pandas in a future version. Use pandas.concat instead.\n",
      "  df = df.append(pool)\n",
      "/tmp/ipykernel_64532/4280252882.py:27: FutureWarning: The frame.append method is deprecated and will be removed from pandas in a future version. Use pandas.concat instead.\n",
      "  df = df.append(pool)\n"
     ]
    }
   ],
   "source": [
    "df = pd.DataFrame()\n",
    "ts = 0\n",
    "\n",
    "while True:\n",
    "    sl = len(df)\n",
    "    query = \"\"\"\n",
    "{\n",
    "  liquidityPools(first:1000, orderBy: createdTimestamp, orderDirection: asc, where: {createdTimestamp_gt: \"\"\"+f'\"{ts}\"'+\"\"\"}){\n",
    "    id\n",
    "    name\n",
    "    totalValueLockedUSD\n",
    "    cumulativeVolumeUSD\n",
    "    createdTimestamp\n",
    "    createdBlockNumber\n",
    "  }\n",
    "}\n",
    "\"\"\"\n",
    "    request = requests.post(endpoint, json={'query':query})\n",
    "    if not request.ok:\n",
    "      continue\n",
    "    data = request.json()\n",
    "\n",
    "    pool = pd.json_normalize(data['data']['liquidityPools'])\n",
    "    df = df.append(pool)\n",
    "    df.drop_duplicates(inplace=True)\n",
    "    if len(df) == sl:\n",
    "      break\n",
    "    ts = df['createdTimestamp'].max()\n"
   ]
  },
  {
   "cell_type": "code",
   "execution_count": 14,
   "metadata": {},
   "outputs": [
    {
     "data": {
      "text/html": [
       "<div>\n",
       "<style scoped>\n",
       "    .dataframe tbody tr th:only-of-type {\n",
       "        vertical-align: middle;\n",
       "    }\n",
       "\n",
       "    .dataframe tbody tr th {\n",
       "        vertical-align: top;\n",
       "    }\n",
       "\n",
       "    .dataframe thead th {\n",
       "        text-align: right;\n",
       "    }\n",
       "</style>\n",
       "<table border=\"1\" class=\"dataframe\">\n",
       "  <thead>\n",
       "    <tr style=\"text-align: right;\">\n",
       "      <th></th>\n",
       "      <th>id</th>\n",
       "      <th>name</th>\n",
       "      <th>totalValueLockedUSD</th>\n",
       "      <th>cumulativeVolumeUSD</th>\n",
       "      <th>createdTimestamp</th>\n",
       "      <th>createdBlockNumber</th>\n",
       "    </tr>\n",
       "  </thead>\n",
       "  <tbody>\n",
       "    <tr>\n",
       "      <th>0</th>\n",
       "      <td>0x1384d8a5dbd206aa312c700358f3e41ab61756c4</td>\n",
       "      <td>Honeyswap Moons on xDai/Wrapped XDAI</td>\n",
       "      <td>5733.949597332996265642</td>\n",
       "      <td>7505389.60724378121406691</td>\n",
       "      <td>1599154210</td>\n",
       "      <td>11814253</td>\n",
       "    </tr>\n",
       "    <tr>\n",
       "      <th>1</th>\n",
       "      <td>0x4505b262dc053998c10685dc5f9098af8ae5c8ad</td>\n",
       "      <td>Honeyswap Honey/Wrapped XDAI</td>\n",
       "      <td>149793.252354595393071532</td>\n",
       "      <td>128009750.9576508329492315330827947</td>\n",
       "      <td>1599171490</td>\n",
       "      <td>11817677</td>\n",
       "    </tr>\n",
       "    <tr>\n",
       "      <th>2</th>\n",
       "      <td>0x01f4a4d82a4c1cf12eb2dadc35fd87a14526cc79</td>\n",
       "      <td>Honeyswap USD//C on xDai/Wrapped XDAI</td>\n",
       "      <td>405890.968074354257536958</td>\n",
       "      <td>9771638.4118045061224505355</td>\n",
       "      <td>1599418960</td>\n",
       "      <td>11866830</td>\n",
       "    </tr>\n",
       "    <tr>\n",
       "      <th>3</th>\n",
       "      <td>0x7bea4af5d425f2d4485bdad1859c88617df31a67</td>\n",
       "      <td>Honeyswap Wrapped Ether on xDai/Wrapped XDAI</td>\n",
       "      <td>22605.0361606887298574182615431687</td>\n",
       "      <td>29792806.994032099361738088</td>\n",
       "      <td>1599419155</td>\n",
       "      <td>11866869</td>\n",
       "    </tr>\n",
       "    <tr>\n",
       "      <th>4</th>\n",
       "      <td>0x5e0b59ad1225c18a5a816e3d28b3212c6a3c9320</td>\n",
       "      <td>Honeyswap dOrgX token/Wrapped XDAI</td>\n",
       "      <td>1.025</td>\n",
       "      <td>0</td>\n",
       "      <td>1599572040</td>\n",
       "      <td>11897248</td>\n",
       "    </tr>\n",
       "    <tr>\n",
       "      <th>...</th>\n",
       "      <td>...</td>\n",
       "      <td>...</td>\n",
       "      <td>...</td>\n",
       "      <td>...</td>\n",
       "      <td>...</td>\n",
       "      <td>...</td>\n",
       "    </tr>\n",
       "    <tr>\n",
       "      <th>189</th>\n",
       "      <td>0x398a34b3d0f4e5b8df6e914331fceafd8ce8852e</td>\n",
       "      <td>Honeyswap Parahyangan/Wrapped XDAI</td>\n",
       "      <td>0.019</td>\n",
       "      <td>0</td>\n",
       "      <td>1662795560</td>\n",
       "      <td>24121665</td>\n",
       "    </tr>\n",
       "    <tr>\n",
       "      <th>190</th>\n",
       "      <td>0x8295a59b07dd7367735aa92d1e0a8b3c2f5b3af8</td>\n",
       "      <td>Honeyswap Adept Coin Governance on xDai/Tharan...</td>\n",
       "      <td>0</td>\n",
       "      <td>0</td>\n",
       "      <td>1662808590</td>\n",
       "      <td>24123945</td>\n",
       "    </tr>\n",
       "    <tr>\n",
       "      <th>191</th>\n",
       "      <td>0xca74ad29bd34400e3745f8809764cb3fc55b2a37</td>\n",
       "      <td>Honeyswap Wrapped Ether on xDai/Gnosis Token o...</td>\n",
       "      <td>0.0003568026759303918594243122254727147</td>\n",
       "      <td>0</td>\n",
       "      <td>1662867715</td>\n",
       "      <td>24133613</td>\n",
       "    </tr>\n",
       "    <tr>\n",
       "      <th>192</th>\n",
       "      <td>0xce175daea17296fc6769ec0fa1e33950c10dd140</td>\n",
       "      <td>Honeyswap Paxos Gold/DefiPulse Index on xDai</td>\n",
       "      <td>0</td>\n",
       "      <td>0</td>\n",
       "      <td>1662901130</td>\n",
       "      <td>24139042</td>\n",
       "    </tr>\n",
       "    <tr>\n",
       "      <th>193</th>\n",
       "      <td>0x67c3935e2e6525dc5a9f0bd96190a83e5bf2373c</td>\n",
       "      <td>Honeyswap Paxos Gold/09/11/22</td>\n",
       "      <td>0</td>\n",
       "      <td>0</td>\n",
       "      <td>1662907205</td>\n",
       "      <td>24140029</td>\n",
       "    </tr>\n",
       "  </tbody>\n",
       "</table>\n",
       "<p>2194 rows × 6 columns</p>\n",
       "</div>"
      ],
      "text/plain": [
       "                                             id  \\\n",
       "0    0x1384d8a5dbd206aa312c700358f3e41ab61756c4   \n",
       "1    0x4505b262dc053998c10685dc5f9098af8ae5c8ad   \n",
       "2    0x01f4a4d82a4c1cf12eb2dadc35fd87a14526cc79   \n",
       "3    0x7bea4af5d425f2d4485bdad1859c88617df31a67   \n",
       "4    0x5e0b59ad1225c18a5a816e3d28b3212c6a3c9320   \n",
       "..                                          ...   \n",
       "189  0x398a34b3d0f4e5b8df6e914331fceafd8ce8852e   \n",
       "190  0x8295a59b07dd7367735aa92d1e0a8b3c2f5b3af8   \n",
       "191  0xca74ad29bd34400e3745f8809764cb3fc55b2a37   \n",
       "192  0xce175daea17296fc6769ec0fa1e33950c10dd140   \n",
       "193  0x67c3935e2e6525dc5a9f0bd96190a83e5bf2373c   \n",
       "\n",
       "                                                  name  \\\n",
       "0                 Honeyswap Moons on xDai/Wrapped XDAI   \n",
       "1                         Honeyswap Honey/Wrapped XDAI   \n",
       "2                Honeyswap USD//C on xDai/Wrapped XDAI   \n",
       "3         Honeyswap Wrapped Ether on xDai/Wrapped XDAI   \n",
       "4                   Honeyswap dOrgX token/Wrapped XDAI   \n",
       "..                                                 ...   \n",
       "189                 Honeyswap Parahyangan/Wrapped XDAI   \n",
       "190  Honeyswap Adept Coin Governance on xDai/Tharan...   \n",
       "191  Honeyswap Wrapped Ether on xDai/Gnosis Token o...   \n",
       "192       Honeyswap Paxos Gold/DefiPulse Index on xDai   \n",
       "193                      Honeyswap Paxos Gold/09/11/22   \n",
       "\n",
       "                         totalValueLockedUSD  \\\n",
       "0                    5733.949597332996265642   \n",
       "1                  149793.252354595393071532   \n",
       "2                  405890.968074354257536958   \n",
       "3         22605.0361606887298574182615431687   \n",
       "4                                      1.025   \n",
       "..                                       ...   \n",
       "189                                    0.019   \n",
       "190                                        0   \n",
       "191  0.0003568026759303918594243122254727147   \n",
       "192                                        0   \n",
       "193                                        0   \n",
       "\n",
       "                     cumulativeVolumeUSD createdTimestamp createdBlockNumber  \n",
       "0              7505389.60724378121406691       1599154210           11814253  \n",
       "1    128009750.9576508329492315330827947       1599171490           11817677  \n",
       "2            9771638.4118045061224505355       1599418960           11866830  \n",
       "3            29792806.994032099361738088       1599419155           11866869  \n",
       "4                                      0       1599572040           11897248  \n",
       "..                                   ...              ...                ...  \n",
       "189                                    0       1662795560           24121665  \n",
       "190                                    0       1662808590           24123945  \n",
       "191                                    0       1662867715           24133613  \n",
       "192                                    0       1662901130           24139042  \n",
       "193                                    0       1662907205           24140029  \n",
       "\n",
       "[2194 rows x 6 columns]"
      ]
     },
     "execution_count": 14,
     "metadata": {},
     "output_type": "execute_result"
    }
   ],
   "source": [
    "df"
   ]
  },
  {
   "cell_type": "code",
   "execution_count": 15,
   "metadata": {},
   "outputs": [
    {
     "data": {
      "text/plain": [
       "0.3598043216556756"
      ]
     },
     "execution_count": 15,
     "metadata": {},
     "output_type": "execute_result"
    }
   ],
   "source": [
    "df['totalValueLockedUSD'].astype(float).max()/df['totalValueLockedUSD'].astype(float).sum()"
   ]
  },
  {
   "cell_type": "code",
   "execution_count": 16,
   "metadata": {},
   "outputs": [
    {
     "data": {
      "text/plain": [
       "0.8238024230592623"
      ]
     },
     "execution_count": 16,
     "metadata": {},
     "output_type": "execute_result"
    }
   ],
   "source": [
    "df['totalValueLockedUSD'].astype(float).nlargest(10).sum()/df['totalValueLockedUSD'].astype(float).sum()"
   ]
  },
  {
   "cell_type": "markdown",
   "metadata": {},
   "source": [
    "Liquidity Pools with > $1mn TVL"
   ]
  },
  {
   "cell_type": "code",
   "execution_count": 17,
   "metadata": {},
   "outputs": [
    {
     "data": {
      "text/plain": [
       "1"
      ]
     },
     "execution_count": 17,
     "metadata": {},
     "output_type": "execute_result"
    }
   ],
   "source": [
    "len(df.loc[df['totalValueLockedUSD'].astype(float) > 1000000])"
   ]
  },
  {
   "cell_type": "code",
   "execution_count": null,
   "metadata": {},
   "outputs": [],
   "source": []
  },
  {
   "cell_type": "markdown",
   "metadata": {},
   "source": [
    "Monthly Active Users"
   ]
  },
  {
   "cell_type": "code",
   "execution_count": 18,
   "metadata": {},
   "outputs": [],
   "source": [
    "query = \"\"\"{\n",
    "  usageMetricsDailySnapshots(first: 183, orderBy: timestamp, orderDirection: desc){\n",
    "    timestamp\n",
    "    blockNumber\n",
    "    id\n",
    "    dailyActiveUsers\n",
    "    dailySwapCount\n",
    "    dailyDepositCount\n",
    "    dailyWithdrawCount \n",
    "  }\n",
    "}\n",
    "\"\"\""
   ]
  },
  {
   "cell_type": "code",
   "execution_count": 19,
   "metadata": {},
   "outputs": [],
   "source": [
    "request = requests.post(endpoint, json={'query':query})\n",
    "data = request.json()"
   ]
  },
  {
   "cell_type": "code",
   "execution_count": 20,
   "metadata": {},
   "outputs": [],
   "source": [
    "df = pd.json_normalize(data['data']['usageMetricsDailySnapshots'])"
   ]
  },
  {
   "cell_type": "code",
   "execution_count": 21,
   "metadata": {},
   "outputs": [
    {
     "data": {
      "text/plain": [
       "346.3879781420765"
      ]
     },
     "execution_count": 21,
     "metadata": {},
     "output_type": "execute_result"
    }
   ],
   "source": [
    "df['dailyActiveUsers'].astype(float).mean()"
   ]
  },
  {
   "cell_type": "code",
   "execution_count": null,
   "metadata": {},
   "outputs": [],
   "source": []
  },
  {
   "cell_type": "code",
   "execution_count": null,
   "metadata": {},
   "outputs": [],
   "source": []
  },
  {
   "cell_type": "markdown",
   "metadata": {},
   "source": [
    "Implied slippage"
   ]
  },
  {
   "cell_type": "code",
   "execution_count": 22,
   "metadata": {},
   "outputs": [],
   "source": [
    "query = \"\"\"\n",
    "{\n",
    "  liquidityPools(first:10, orderBy: totalValueLockedUSD, orderDirection: desc){\n",
    "    id\n",
    "    name\n",
    "    totalValueLockedUSD\n",
    "    cumulativeVolumeUSD\n",
    "    createdTimestamp\n",
    "    createdBlockNumber\n",
    "    inputTokens{\n",
    "      id\n",
    "      name\n",
    "      symbol\n",
    "      lastPriceUSD\n",
    "      decimals\n",
    "    }\n",
    "    inputTokenBalances\n",
    "  }\n",
    "}\n",
    "\"\"\"\n",
    "request = requests.post(endpoint, json={'query':query})\n",
    "if request.ok:\n",
    "    data = request.json()"
   ]
  },
  {
   "cell_type": "code",
   "execution_count": 23,
   "metadata": {},
   "outputs": [
    {
     "data": {
      "text/plain": [
       "{'data': {'liquidityPools': [{'id': '0x28dbd35fd79f48bfa9444d330d14683e7101d817',\n",
       "    'name': 'Honeyswap Wrapped Ether on xDai/Gnosis Token on xDai',\n",
       "    'totalValueLockedUSD': '2168110.131589464904852097773354033',\n",
       "    'cumulativeVolumeUSD': '9698989.058406998785890802738090433',\n",
       "    'createdTimestamp': '1614798970',\n",
       "    'createdBlockNumber': '14830802',\n",
       "    'inputTokens': [{'id': '0x6a023ccd1ff6f2045c3309768ead9e68f978f6e1',\n",
       "      'name': 'Wrapped Ether on xDai',\n",
       "      'symbol': 'WETH',\n",
       "      'lastPriceUSD': '1736.656504891638647815063453921369',\n",
       "      'decimals': 18},\n",
       "     {'id': '0x9c58bacc331c9aa871afd802db6379a98e80cedb',\n",
       "      'name': 'Gnosis Token on xDai',\n",
       "      'symbol': 'GNO',\n",
       "      'lastPriceUSD': '169.5812391917517980273860838625467',\n",
       "      'decimals': 18}],\n",
       "    'inputTokenBalances': ['624219621290264153100', '6392541244311531270656']},\n",
       "   {'id': '0x5aa67e24ba8a3fbdc553e308d02377e03ce9e94f',\n",
       "    'name': 'Honeyswap Giveth from Mainnet/Gnosis Token on xDai',\n",
       "    'totalValueLockedUSD': '708611.5224591759898565391435064027',\n",
       "    'cumulativeVolumeUSD': '705545.2328561679951334293989200836',\n",
       "    'createdTimestamp': '1654177950',\n",
       "    'createdBlockNumber': '22457422',\n",
       "    'inputTokens': [{'id': '0x4f4f9b8d5b4d0dc10506e5551b0513b61fd59e75',\n",
       "      'name': 'Giveth from Mainnet',\n",
       "      'symbol': 'GIV',\n",
       "      'lastPriceUSD': '0.05069080578736909989796654465790273',\n",
       "      'decimals': 18},\n",
       "     {'id': '0x9c58bacc331c9aa871afd802db6379a98e80cedb',\n",
       "      'name': 'Gnosis Token on xDai',\n",
       "      'symbol': 'GNO',\n",
       "      'lastPriceUSD': '169.5812391917517980273860838625467',\n",
       "      'decimals': 18}],\n",
       "    'inputTokenBalances': ['6986136554495751627557744',\n",
       "     '2088282440991204532241']},\n",
       "   {'id': '0x321704900d52f44180068caa73778d5cd60695a6',\n",
       "    'name': 'Honeyswap Gnosis Token on xDai/Wrapped XDAI',\n",
       "    'totalValueLockedUSD': '648157.537814837465694776',\n",
       "    'cumulativeVolumeUSD': '14096399.60677902276809964662907172',\n",
       "    'createdTimestamp': '1614798715',\n",
       "    'createdBlockNumber': '14830753',\n",
       "    'inputTokens': [{'id': '0x9c58bacc331c9aa871afd802db6379a98e80cedb',\n",
       "      'name': 'Gnosis Token on xDai',\n",
       "      'symbol': 'GNO',\n",
       "      'lastPriceUSD': '169.5812391917517980273860838625467',\n",
       "      'decimals': 18},\n",
       "     {'id': '0xe91d153e0b41518a2ce8dd3d7944fa863463a97d',\n",
       "      'name': 'Wrapped XDAI',\n",
       "      'symbol': 'WXDAI',\n",
       "      'lastPriceUSD': '1',\n",
       "      'decimals': 18}],\n",
       "    'inputTokenBalances': ['1911053194634170862794',\n",
       "     '324078768907418732847388']},\n",
       "   {'id': '0x01f4a4d82a4c1cf12eb2dadc35fd87a14526cc79',\n",
       "    'name': 'Honeyswap USD//C on xDai/Wrapped XDAI',\n",
       "    'totalValueLockedUSD': '405890.968074354257536958',\n",
       "    'cumulativeVolumeUSD': '9771638.4118045061224505355',\n",
       "    'createdTimestamp': '1599418960',\n",
       "    'createdBlockNumber': '11866830',\n",
       "    'inputTokens': [{'id': '0xddafbb505ad214d7b80b1f830fccc89b60fb7a83',\n",
       "      'name': 'USD//C on xDai',\n",
       "      'symbol': 'USDC',\n",
       "      'lastPriceUSD': '1',\n",
       "      'decimals': 6},\n",
       "     {'id': '0xe91d153e0b41518a2ce8dd3d7944fa863463a97d',\n",
       "      'name': 'Wrapped XDAI',\n",
       "      'symbol': 'WXDAI',\n",
       "      'lastPriceUSD': '1',\n",
       "      'decimals': 18}],\n",
       "    'inputTokenBalances': ['202848941045', '203042027029354257536958']},\n",
       "   {'id': '0xabe9822795bc8349c3797963088330c8cb96bb66',\n",
       "    'name': 'Honeyswap VitaDAO Token from Mainnet/Gnosis Token on xDai',\n",
       "    'totalValueLockedUSD': '289973.3130790160602588015438798543',\n",
       "    'cumulativeVolumeUSD': '244832.3830646962707617723928649067',\n",
       "    'createdTimestamp': '1646955730',\n",
       "    'createdBlockNumber': '21043727',\n",
       "    'inputTokens': [{'id': '0x0939a7c3f8d37c1ce67fada4963ae7e0bd112ff3',\n",
       "      'name': 'VitaDAO Token from Mainnet',\n",
       "      'symbol': 'VITA',\n",
       "      'lastPriceUSD': '1.315598615405170367798284228958992',\n",
       "      'decimals': 18},\n",
       "     {'id': '0x9c58bacc331c9aa871afd802db6379a98e80cedb',\n",
       "      'name': 'Gnosis Token on xDai',\n",
       "      'symbol': 'GNO',\n",
       "      'lastPriceUSD': '169.5812391917517980273860838625467',\n",
       "      'decimals': 18}],\n",
       "    'inputTokenBalances': ['108988972326720865763126',\n",
       "     '844114776982308644431']},\n",
       "   {'id': '0xeba7cc57e6f745b8d5cab829e07346c65393d78e',\n",
       "    'name': 'Honeyswap Agave Token/Wrapped Ether on xDai',\n",
       "    'totalValueLockedUSD': '171146.4019369891203072272225911836',\n",
       "    'cumulativeVolumeUSD': '0',\n",
       "    'createdTimestamp': '1614515535',\n",
       "    'createdBlockNumber': '14775592',\n",
       "    'inputTokens': [{'id': '0x3a97704a1b25f08aa230ae53b352e2e72ef52843',\n",
       "      'name': 'Agave Token',\n",
       "      'symbol': 'AGVE',\n",
       "      'lastPriceUSD': '0',\n",
       "      'decimals': 18},\n",
       "     {'id': '0x6a023ccd1ff6f2045c3309768ead9e68f978f6e1',\n",
       "      'name': 'Wrapped Ether on xDai',\n",
       "      'symbol': 'WETH',\n",
       "      'lastPriceUSD': '1736.656504891638647815063453921369',\n",
       "      'decimals': 18}],\n",
       "    'inputTokenBalances': ['3210468165208980903608', '98549597143354692976']},\n",
       "   {'id': '0x4505b262dc053998c10685dc5f9098af8ae5c8ad',\n",
       "    'name': 'Honeyswap Honey/Wrapped XDAI',\n",
       "    'totalValueLockedUSD': '149793.252354595393071532',\n",
       "    'cumulativeVolumeUSD': '128009750.9576508329492315330827947',\n",
       "    'createdTimestamp': '1599171490',\n",
       "    'createdBlockNumber': '11817677',\n",
       "    'inputTokens': [{'id': '0x71850b7e9ee3f13ab46d67167341e4bdc905eef9',\n",
       "      'name': 'Honey',\n",
       "      'symbol': 'HNY',\n",
       "      'lastPriceUSD': '35.41539731046002474975170552809952',\n",
       "      'decimals': 18},\n",
       "     {'id': '0xe91d153e0b41518a2ce8dd3d7944fa863463a97d',\n",
       "      'name': 'Wrapped XDAI',\n",
       "      'symbol': 'WXDAI',\n",
       "      'lastPriceUSD': '1',\n",
       "      'decimals': 18}],\n",
       "    'inputTokenBalances': ['2114804064478948925428',\n",
       "     '74896626177297696535766']},\n",
       "   {'id': '0x75594f01da2e4231e16e67f841c307c4df2313d1',\n",
       "    'name': 'Honeyswap FOX on xDai/Giveth from Mainnet',\n",
       "    'totalValueLockedUSD': '148817.5124746094885745716695350234',\n",
       "    'cumulativeVolumeUSD': '0',\n",
       "    'createdTimestamp': '1648652620',\n",
       "    'createdBlockNumber': '21379355',\n",
       "    'inputTokens': [{'id': '0x21a42669643f45bc0e086b8fc2ed70c23d67509d',\n",
       "      'name': 'FOX on xDai',\n",
       "      'symbol': 'FOX',\n",
       "      'lastPriceUSD': '0',\n",
       "      'decimals': 18},\n",
       "     {'id': '0x4f4f9b8d5b4d0dc10506e5551b0513b61fd59e75',\n",
       "      'name': 'Giveth from Mainnet',\n",
       "      'symbol': 'GIV',\n",
       "      'lastPriceUSD': '0.05069080578736909989796654465790273',\n",
       "      'decimals': 18}],\n",
       "    'inputTokenBalances': ['2436514974624438370647080',\n",
       "     '2934356642240157678745945']},\n",
       "   {'id': '0x40e93143cbc9e3a20fd3d4f3e6fb7ca9e778b571',\n",
       "    'name': 'Honeyswap UniCrypt on xDai/Wrapped XDAI',\n",
       "    'totalValueLockedUSD': '144342.27130855269697664',\n",
       "    'cumulativeVolumeUSD': '6103647.520374570199183522',\n",
       "    'createdTimestamp': '1612947500',\n",
       "    'createdBlockNumber': '14474159',\n",
       "    'inputTokens': [{'id': '0x0116e28b43a358162b96f70b4de14c98a4465f25',\n",
       "      'name': 'UniCrypt on xDai',\n",
       "      'symbol': 'UNCX',\n",
       "      'lastPriceUSD': '271.8801752728199014846086489309235',\n",
       "      'decimals': 18},\n",
       "     {'id': '0xe91d153e0b41518a2ce8dd3d7944fa863463a97d',\n",
       "      'name': 'Wrapped XDAI',\n",
       "      'symbol': 'WXDAI',\n",
       "      'lastPriceUSD': '1',\n",
       "      'decimals': 18}],\n",
       "    'inputTokenBalances': ['265451997674548210931',\n",
       "     '72171135654276348488320']},\n",
       "   {'id': '0x0af1bb2dc885e8eab12b8e9e96c81410db4324a2',\n",
       "    'name': 'Honeyswap VitaDAO Token from Mainnet/Wrapped Ether on xDai',\n",
       "    'totalValueLockedUSD': '130588.2755218229393715869925762878',\n",
       "    'cumulativeVolumeUSD': '0',\n",
       "    'createdTimestamp': '1645190585',\n",
       "    'createdBlockNumber': '20703212',\n",
       "    'inputTokens': [{'id': '0x0939a7c3f8d37c1ce67fada4963ae7e0bd112ff3',\n",
       "      'name': 'VitaDAO Token from Mainnet',\n",
       "      'symbol': 'VITA',\n",
       "      'lastPriceUSD': '1.315598615405170367798284228958992',\n",
       "      'decimals': 18},\n",
       "     {'id': '0x6a023ccd1ff6f2045c3309768ead9e68f978f6e1',\n",
       "      'name': 'Wrapped Ether on xDai',\n",
       "      'symbol': 'WETH',\n",
       "      'lastPriceUSD': '1736.656504891638647815063453921369',\n",
       "      'decimals': 18}],\n",
       "    'inputTokenBalances': ['49683487496113303933024',\n",
       "     '37563560070933429370']}]}}"
      ]
     },
     "execution_count": 23,
     "metadata": {},
     "output_type": "execute_result"
    }
   ],
   "source": [
    "data"
   ]
  },
  {
   "cell_type": "code",
   "execution_count": 25,
   "metadata": {},
   "outputs": [],
   "source": [
    "slip1000 = []\n",
    "slip10000 = []\n",
    "slip100000 = []\n",
    "\n",
    "for pool in data['data']['liquidityPools']:\n",
    "    token0 = pool['inputTokens'][0]\n",
    "    token0_reserveUSD = (float(pool['inputTokenBalances'][0])/10**token0['decimals'])*float(token0['lastPriceUSD'])\n",
    "    \n",
    "    token1 = pool['inputTokens'][1]\n",
    "    token1_reserveUSD = (float(pool['inputTokenBalances'][1])/10**token1['decimals'])*float(token1['lastPriceUSD'])\n",
    "\n",
    "    try:\n",
    "        pi1000 = 1000/token0_reserveUSD\n",
    "    except:\n",
    "        pi1000 = 1000/token1_reserveUSD\n",
    "    \n",
    "    try:\n",
    "        pi10000 = 10000/token0_reserveUSD\n",
    "    except:\n",
    "        pi10000 = 10000/token1_reserveUSD\n",
    "    \n",
    "    try:\n",
    "        pi100000 = 100000/token0_reserveUSD\n",
    "    except:\n",
    "        pi100000 = 100000/token1_reserveUSD\n",
    "    \n",
    "    slip1000.append(pi1000)\n",
    "    slip10000.append(pi10000)\n",
    "    slip100000.append(pi100000)\n"
   ]
  },
  {
   "cell_type": "code",
   "execution_count": 26,
   "metadata": {},
   "outputs": [
    {
     "data": {
      "text/plain": [
       "0.007380850137334008"
      ]
     },
     "execution_count": 26,
     "metadata": {},
     "output_type": "execute_result"
    }
   ],
   "source": [
    "np.mean(slip1000)"
   ]
  },
  {
   "cell_type": "code",
   "execution_count": 27,
   "metadata": {},
   "outputs": [
    {
     "data": {
      "text/plain": [
       "0.0738085013733401"
      ]
     },
     "execution_count": 27,
     "metadata": {},
     "output_type": "execute_result"
    }
   ],
   "source": [
    "np.mean(slip10000)"
   ]
  },
  {
   "cell_type": "code",
   "execution_count": 28,
   "metadata": {},
   "outputs": [
    {
     "data": {
      "text/plain": [
       "0.738085013733401"
      ]
     },
     "execution_count": 28,
     "metadata": {},
     "output_type": "execute_result"
    }
   ],
   "source": [
    "np.mean(slip100000)"
   ]
  },
  {
   "cell_type": "code",
   "execution_count": null,
   "metadata": {},
   "outputs": [],
   "source": []
  }
 ],
 "metadata": {
  "kernelspec": {
   "display_name": "Python 3.8.10 64-bit",
   "language": "python",
   "name": "python3"
  },
  "language_info": {
   "codemirror_mode": {
    "name": "ipython",
    "version": 3
   },
   "file_extension": ".py",
   "mimetype": "text/x-python",
   "name": "python",
   "nbconvert_exporter": "python",
   "pygments_lexer": "ipython3",
   "version": "3.8.10"
  },
  "orig_nbformat": 4,
  "vscode": {
   "interpreter": {
    "hash": "916dbcbb3f70747c44a77c7bcd40155683ae19c65e1c03b4aa3499c5328201f1"
   }
  }
 },
 "nbformat": 4,
 "nbformat_minor": 2
}
