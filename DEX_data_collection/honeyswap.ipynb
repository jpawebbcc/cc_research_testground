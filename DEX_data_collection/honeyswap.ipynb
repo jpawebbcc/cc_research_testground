{
 "cells": [
  {
   "cell_type": "markdown",
   "metadata": {},
   "source": [
    "## Messari standardised subgraphs\n",
    "\n",
    "https://github.com/messari/subgraphs\n",
    "\n",
    "### HoneySwap - https://honeyswap.org/"
   ]
  },
  {
   "cell_type": "code",
   "execution_count": 1,
   "metadata": {},
   "outputs": [],
   "source": [
    "import pandas as pd\n",
    "import numpy as np\n",
    "import time\n",
    "import requests\n",
    "import datetime as dt"
   ]
  },
  {
   "cell_type": "code",
   "execution_count": 2,
   "metadata": {},
   "outputs": [],
   "source": [
    "endpoint = 'https://api.thegraph.com/subgraphs/name/messari/honeyswap-gnosis'"
   ]
  },
  {
   "cell_type": "markdown",
   "metadata": {},
   "source": [
    "6-Month Average Daily Volume"
   ]
  },
  {
   "cell_type": "code",
   "execution_count": 3,
   "metadata": {},
   "outputs": [],
   "source": [
    "query = \"\"\"{\n",
    "  financialsDailySnapshots(first: 183, orderBy: timestamp, orderDirection: desc){\n",
    "    id\n",
    "    protocol{\n",
    "      name\n",
    "    }\n",
    "    dailyVolumeUSD\n",
    "    dailyTotalRevenueUSD\n",
    "    dailySupplySideRevenueUSD\n",
    "    dailyProtocolSideRevenueUSD\n",
    "    timestamp\n",
    "    blockNumber\n",
    "  }\n",
    "}\n",
    "\"\"\""
   ]
  },
  {
   "cell_type": "code",
   "execution_count": 4,
   "metadata": {},
   "outputs": [],
   "source": [
    "request = requests.post(endpoint, json={'query':query})\n",
    "data = request.json()"
   ]
  },
  {
   "cell_type": "code",
   "execution_count": 5,
   "metadata": {},
   "outputs": [],
   "source": [
    "df = pd.json_normalize(data['data']['financialsDailySnapshots'])"
   ]
  },
  {
   "cell_type": "code",
   "execution_count": 6,
   "metadata": {},
   "outputs": [
    {
     "data": {
      "text/plain": [
       "233417.41843992114"
      ]
     },
     "execution_count": 6,
     "metadata": {},
     "output_type": "execute_result"
    }
   ],
   "source": [
    "df['dailyVolumeUSD'].astype(float).mean()"
   ]
  },
  {
   "cell_type": "markdown",
   "metadata": {},
   "source": [
    "6-Month Average TVL"
   ]
  },
  {
   "cell_type": "code",
   "execution_count": 7,
   "metadata": {},
   "outputs": [],
   "source": [
    "#DefiLlama https://defillama.com/protocols/dexes \n",
    "lma = pd.read_csv(\"https://api.llama.fi/dataset/honeyswap.csv\")"
   ]
  },
  {
   "cell_type": "code",
   "execution_count": 8,
   "metadata": {},
   "outputs": [
    {
     "data": {
      "text/html": [
       "<div>\n",
       "<style scoped>\n",
       "    .dataframe tbody tr th:only-of-type {\n",
       "        vertical-align: middle;\n",
       "    }\n",
       "\n",
       "    .dataframe tbody tr th {\n",
       "        vertical-align: top;\n",
       "    }\n",
       "\n",
       "    .dataframe thead th {\n",
       "        text-align: right;\n",
       "    }\n",
       "</style>\n",
       "<table border=\"1\" class=\"dataframe\">\n",
       "  <thead>\n",
       "    <tr style=\"text-align: right;\">\n",
       "      <th></th>\n",
       "      <th>Unnamed: 0</th>\n",
       "      <th>Date</th>\n",
       "      <th>Timestamp</th>\n",
       "      <th>Honeyswap</th>\n",
       "      <th>Honeyswap.1</th>\n",
       "      <th>Honeyswap.2</th>\n",
       "      <th>Honeyswap.3</th>\n",
       "      <th>Honeyswap.4</th>\n",
       "      <th>Honeyswap.5</th>\n",
       "      <th>Honeyswap.6</th>\n",
       "      <th>...</th>\n",
       "      <th>Honeyswap.287</th>\n",
       "      <th>Honeyswap.288</th>\n",
       "      <th>Honeyswap.289</th>\n",
       "      <th>Honeyswap.290</th>\n",
       "      <th>Honeyswap.291</th>\n",
       "      <th>Honeyswap.292</th>\n",
       "      <th>Honeyswap.293</th>\n",
       "      <th>Honeyswap.294</th>\n",
       "      <th>Honeyswap.295</th>\n",
       "      <th>Honeyswap.296</th>\n",
       "    </tr>\n",
       "  </thead>\n",
       "  <tbody>\n",
       "    <tr>\n",
       "      <th>0</th>\n",
       "      <td>NaN</td>\n",
       "      <td>NaN</td>\n",
       "      <td>NaN</td>\n",
       "      <td>Dexes</td>\n",
       "      <td>Dexes</td>\n",
       "      <td>Dexes</td>\n",
       "      <td>Dexes</td>\n",
       "      <td>Dexes</td>\n",
       "      <td>Dexes</td>\n",
       "      <td>Dexes</td>\n",
       "      <td>...</td>\n",
       "      <td>Dexes</td>\n",
       "      <td>Dexes</td>\n",
       "      <td>Dexes</td>\n",
       "      <td>Dexes</td>\n",
       "      <td>Dexes</td>\n",
       "      <td>Dexes</td>\n",
       "      <td>Dexes</td>\n",
       "      <td>Dexes</td>\n",
       "      <td>Dexes</td>\n",
       "      <td>Dexes</td>\n",
       "    </tr>\n",
       "    <tr>\n",
       "      <th>1</th>\n",
       "      <td>NaN</td>\n",
       "      <td>NaN</td>\n",
       "      <td>NaN</td>\n",
       "      <td>Total</td>\n",
       "      <td>xdai</td>\n",
       "      <td>polygon</td>\n",
       "      <td>Total</td>\n",
       "      <td>Total</td>\n",
       "      <td>Total</td>\n",
       "      <td>Total</td>\n",
       "      <td>...</td>\n",
       "      <td>polygon</td>\n",
       "      <td>polygon</td>\n",
       "      <td>polygon</td>\n",
       "      <td>polygon</td>\n",
       "      <td>polygon</td>\n",
       "      <td>polygon</td>\n",
       "      <td>polygon</td>\n",
       "      <td>polygon</td>\n",
       "      <td>polygon</td>\n",
       "      <td>polygon</td>\n",
       "    </tr>\n",
       "    <tr>\n",
       "      <th>2</th>\n",
       "      <td>NaN</td>\n",
       "      <td>NaN</td>\n",
       "      <td>NaN</td>\n",
       "      <td>TVL</td>\n",
       "      <td>TVL</td>\n",
       "      <td>TVL</td>\n",
       "      <td>Tokens(USD)</td>\n",
       "      <td>Tokens(USD)</td>\n",
       "      <td>Tokens(USD)</td>\n",
       "      <td>Tokens(USD)</td>\n",
       "      <td>...</td>\n",
       "      <td>Tokens</td>\n",
       "      <td>Tokens</td>\n",
       "      <td>Tokens</td>\n",
       "      <td>Tokens</td>\n",
       "      <td>Tokens</td>\n",
       "      <td>Tokens</td>\n",
       "      <td>Tokens</td>\n",
       "      <td>Tokens</td>\n",
       "      <td>Tokens</td>\n",
       "      <td>Tokens</td>\n",
       "    </tr>\n",
       "    <tr>\n",
       "      <th>3</th>\n",
       "      <td>NaN</td>\n",
       "      <td>NaN</td>\n",
       "      <td>NaN</td>\n",
       "      <td>NaN</td>\n",
       "      <td>NaN</td>\n",
       "      <td>NaN</td>\n",
       "      <td>USDT</td>\n",
       "      <td>MATIC</td>\n",
       "      <td>ROUTE</td>\n",
       "      <td>KRILL</td>\n",
       "      <td>...</td>\n",
       "      <td>AVAX</td>\n",
       "      <td>JPYC</td>\n",
       "      <td>WMATIC</td>\n",
       "      <td>MAWETH</td>\n",
       "      <td>UST</td>\n",
       "      <td>AMDAI</td>\n",
       "      <td>FISH</td>\n",
       "      <td>TEL</td>\n",
       "      <td>HEX</td>\n",
       "      <td>DEFI5</td>\n",
       "    </tr>\n",
       "    <tr>\n",
       "      <th>4</th>\n",
       "      <td>NaN</td>\n",
       "      <td>08/04/2021</td>\n",
       "      <td>1.617840e+09</td>\n",
       "      <td>10131675.731226</td>\n",
       "      <td>10131675.731226</td>\n",
       "      <td>NaN</td>\n",
       "      <td>NaN</td>\n",
       "      <td>NaN</td>\n",
       "      <td>NaN</td>\n",
       "      <td>NaN</td>\n",
       "      <td>...</td>\n",
       "      <td>NaN</td>\n",
       "      <td>NaN</td>\n",
       "      <td>NaN</td>\n",
       "      <td>NaN</td>\n",
       "      <td>NaN</td>\n",
       "      <td>NaN</td>\n",
       "      <td>NaN</td>\n",
       "      <td>NaN</td>\n",
       "      <td>NaN</td>\n",
       "      <td>NaN</td>\n",
       "    </tr>\n",
       "    <tr>\n",
       "      <th>...</th>\n",
       "      <td>...</td>\n",
       "      <td>...</td>\n",
       "      <td>...</td>\n",
       "      <td>...</td>\n",
       "      <td>...</td>\n",
       "      <td>...</td>\n",
       "      <td>...</td>\n",
       "      <td>...</td>\n",
       "      <td>...</td>\n",
       "      <td>...</td>\n",
       "      <td>...</td>\n",
       "      <td>...</td>\n",
       "      <td>...</td>\n",
       "      <td>...</td>\n",
       "      <td>...</td>\n",
       "      <td>...</td>\n",
       "      <td>...</td>\n",
       "      <td>...</td>\n",
       "      <td>...</td>\n",
       "      <td>...</td>\n",
       "      <td>...</td>\n",
       "    </tr>\n",
       "    <tr>\n",
       "      <th>464</th>\n",
       "      <td>NaN</td>\n",
       "      <td>14/07/2022</td>\n",
       "      <td>1.657757e+09</td>\n",
       "      <td>6451246.899633457</td>\n",
       "      <td>6382961.627766488</td>\n",
       "      <td>68285.27186696927</td>\n",
       "      <td>471.091903</td>\n",
       "      <td>21.583619972946664</td>\n",
       "      <td>0.024692994542165832</td>\n",
       "      <td>0.00006986987977924645</td>\n",
       "      <td>...</td>\n",
       "      <td>0.17205952628877233</td>\n",
       "      <td>769.3282855820751</td>\n",
       "      <td>85655.53517858822</td>\n",
       "      <td>4.7827775373e-8</td>\n",
       "      <td>0.03629</td>\n",
       "      <td>0.02062176654768191</td>\n",
       "      <td>0.01967429049248775</td>\n",
       "      <td>15.01</td>\n",
       "      <td>206.76353064</td>\n",
       "      <td>NaN</td>\n",
       "    </tr>\n",
       "    <tr>\n",
       "      <th>465</th>\n",
       "      <td>NaN</td>\n",
       "      <td>15/07/2022</td>\n",
       "      <td>1.657843e+09</td>\n",
       "      <td>6798382.578888863</td>\n",
       "      <td>6726600.318503418</td>\n",
       "      <td>71782.26038544558</td>\n",
       "      <td>473.005857</td>\n",
       "      <td>21.951989134677895</td>\n",
       "      <td>0.030340271320867435</td>\n",
       "      <td>0.0000709050998771161</td>\n",
       "      <td>...</td>\n",
       "      <td>0.17205952628877233</td>\n",
       "      <td>765.3657437424769</td>\n",
       "      <td>80861.10232049029</td>\n",
       "      <td>4.7827775373e-8</td>\n",
       "      <td>0.03629</td>\n",
       "      <td>0.02062176654768191</td>\n",
       "      <td>0.01967429049248775</td>\n",
       "      <td>15.01</td>\n",
       "      <td>212.3421177</td>\n",
       "      <td>NaN</td>\n",
       "    </tr>\n",
       "    <tr>\n",
       "      <th>466</th>\n",
       "      <td>NaN</td>\n",
       "      <td>16/07/2022</td>\n",
       "      <td>1.657930e+09</td>\n",
       "      <td>6924664.16579955</td>\n",
       "      <td>6852864.303474827</td>\n",
       "      <td>71799.8623247231</td>\n",
       "      <td>475.73933507099997</td>\n",
       "      <td>22.28051630075236</td>\n",
       "      <td>0.029343693065802444</td>\n",
       "      <td>0.0000703184893965651</td>\n",
       "      <td>...</td>\n",
       "      <td>0.17205952628877233</td>\n",
       "      <td>765.3657437424769</td>\n",
       "      <td>81638.53938277741</td>\n",
       "      <td>4.7827775373e-8</td>\n",
       "      <td>0.03629</td>\n",
       "      <td>0.02062176654768191</td>\n",
       "      <td>0.01967429049248775</td>\n",
       "      <td>15.01</td>\n",
       "      <td>214.20762082</td>\n",
       "      <td>NaN</td>\n",
       "    </tr>\n",
       "    <tr>\n",
       "      <th>467</th>\n",
       "      <td>NaN</td>\n",
       "      <td>17/07/2022</td>\n",
       "      <td>1.658016e+09</td>\n",
       "      <td>7352951.719482331</td>\n",
       "      <td>7277509.976459728</td>\n",
       "      <td>75441.74302260292</td>\n",
       "      <td>477.20652</td>\n",
       "      <td>23.72893429252217</td>\n",
       "      <td>0.03654120268571625</td>\n",
       "      <td>0.00006964301148705956</td>\n",
       "      <td>...</td>\n",
       "      <td>0.17205952628877233</td>\n",
       "      <td>765.3657437424769</td>\n",
       "      <td>81223.00700506796</td>\n",
       "      <td>4.7827775373e-8</td>\n",
       "      <td>0.03629</td>\n",
       "      <td>0.02062176654768191</td>\n",
       "      <td>0.01967429049248775</td>\n",
       "      <td>15.01</td>\n",
       "      <td>223.88855073</td>\n",
       "      <td>NaN</td>\n",
       "    </tr>\n",
       "    <tr>\n",
       "      <th>468</th>\n",
       "      <td>NaN</td>\n",
       "      <td>18/07/2022</td>\n",
       "      <td>1.658102e+09</td>\n",
       "      <td>7297610.758941475</td>\n",
       "      <td>7223133.976136186</td>\n",
       "      <td>74476.78280528939</td>\n",
       "      <td>478.23192474</td>\n",
       "      <td>23.829653539779862</td>\n",
       "      <td>0.03554462443065126</td>\n",
       "      <td>0.00007002411603815315</td>\n",
       "      <td>...</td>\n",
       "      <td>0.17205952628877233</td>\n",
       "      <td>765.3657437424769</td>\n",
       "      <td>79126.30808253893</td>\n",
       "      <td>4.7827775373e-8</td>\n",
       "      <td>0.03629</td>\n",
       "      <td>0.02062176654768191</td>\n",
       "      <td>0.01967429049248775</td>\n",
       "      <td>15.01</td>\n",
       "      <td>218.42342262</td>\n",
       "      <td>NaN</td>\n",
       "    </tr>\n",
       "  </tbody>\n",
       "</table>\n",
       "<p>469 rows × 300 columns</p>\n",
       "</div>"
      ],
      "text/plain": [
       "     Unnamed: 0        Date     Timestamp          Honeyswap  \\\n",
       "0           NaN         NaN           NaN              Dexes   \n",
       "1           NaN         NaN           NaN              Total   \n",
       "2           NaN         NaN           NaN                TVL   \n",
       "3           NaN         NaN           NaN                NaN   \n",
       "4           NaN  08/04/2021  1.617840e+09    10131675.731226   \n",
       "..          ...         ...           ...                ...   \n",
       "464         NaN  14/07/2022  1.657757e+09  6451246.899633457   \n",
       "465         NaN  15/07/2022  1.657843e+09  6798382.578888863   \n",
       "466         NaN  16/07/2022  1.657930e+09   6924664.16579955   \n",
       "467         NaN  17/07/2022  1.658016e+09  7352951.719482331   \n",
       "468         NaN  18/07/2022  1.658102e+09  7297610.758941475   \n",
       "\n",
       "           Honeyswap.1        Honeyswap.2         Honeyswap.3  \\\n",
       "0                Dexes              Dexes               Dexes   \n",
       "1                 xdai            polygon               Total   \n",
       "2                  TVL                TVL         Tokens(USD)   \n",
       "3                  NaN                NaN                USDT   \n",
       "4      10131675.731226                NaN                 NaN   \n",
       "..                 ...                ...                 ...   \n",
       "464  6382961.627766488  68285.27186696927          471.091903   \n",
       "465  6726600.318503418  71782.26038544558          473.005857   \n",
       "466  6852864.303474827   71799.8623247231  475.73933507099997   \n",
       "467  7277509.976459728  75441.74302260292           477.20652   \n",
       "468  7223133.976136186  74476.78280528939        478.23192474   \n",
       "\n",
       "            Honeyswap.4           Honeyswap.5             Honeyswap.6  ...  \\\n",
       "0                 Dexes                 Dexes                   Dexes  ...   \n",
       "1                 Total                 Total                   Total  ...   \n",
       "2           Tokens(USD)           Tokens(USD)             Tokens(USD)  ...   \n",
       "3                 MATIC                 ROUTE                   KRILL  ...   \n",
       "4                   NaN                   NaN                     NaN  ...   \n",
       "..                  ...                   ...                     ...  ...   \n",
       "464  21.583619972946664  0.024692994542165832  0.00006986987977924645  ...   \n",
       "465  21.951989134677895  0.030340271320867435   0.0000709050998771161  ...   \n",
       "466   22.28051630075236  0.029343693065802444   0.0000703184893965651  ...   \n",
       "467   23.72893429252217   0.03654120268571625  0.00006964301148705956  ...   \n",
       "468  23.829653539779862   0.03554462443065126  0.00007002411603815315  ...   \n",
       "\n",
       "           Honeyswap.287      Honeyswap.288      Honeyswap.289  \\\n",
       "0                  Dexes              Dexes              Dexes   \n",
       "1                polygon            polygon            polygon   \n",
       "2                 Tokens             Tokens             Tokens   \n",
       "3                   AVAX               JPYC             WMATIC   \n",
       "4                    NaN                NaN                NaN   \n",
       "..                   ...                ...                ...   \n",
       "464  0.17205952628877233  769.3282855820751  85655.53517858822   \n",
       "465  0.17205952628877233  765.3657437424769  80861.10232049029   \n",
       "466  0.17205952628877233  765.3657437424769  81638.53938277741   \n",
       "467  0.17205952628877233  765.3657437424769  81223.00700506796   \n",
       "468  0.17205952628877233  765.3657437424769  79126.30808253893   \n",
       "\n",
       "       Honeyswap.290 Honeyswap.291        Honeyswap.292        Honeyswap.293  \\\n",
       "0              Dexes         Dexes                Dexes                Dexes   \n",
       "1            polygon       polygon              polygon              polygon   \n",
       "2             Tokens        Tokens               Tokens               Tokens   \n",
       "3             MAWETH           UST                AMDAI                 FISH   \n",
       "4                NaN           NaN                  NaN                  NaN   \n",
       "..               ...           ...                  ...                  ...   \n",
       "464  4.7827775373e-8       0.03629  0.02062176654768191  0.01967429049248775   \n",
       "465  4.7827775373e-8       0.03629  0.02062176654768191  0.01967429049248775   \n",
       "466  4.7827775373e-8       0.03629  0.02062176654768191  0.01967429049248775   \n",
       "467  4.7827775373e-8       0.03629  0.02062176654768191  0.01967429049248775   \n",
       "468  4.7827775373e-8       0.03629  0.02062176654768191  0.01967429049248775   \n",
       "\n",
       "    Honeyswap.294 Honeyswap.295 Honeyswap.296  \n",
       "0           Dexes         Dexes         Dexes  \n",
       "1         polygon       polygon       polygon  \n",
       "2          Tokens        Tokens        Tokens  \n",
       "3             TEL           HEX         DEFI5  \n",
       "4             NaN           NaN           NaN  \n",
       "..            ...           ...           ...  \n",
       "464         15.01  206.76353064           NaN  \n",
       "465         15.01   212.3421177           NaN  \n",
       "466         15.01  214.20762082           NaN  \n",
       "467         15.01  223.88855073           NaN  \n",
       "468         15.01  218.42342262           NaN  \n",
       "\n",
       "[469 rows x 300 columns]"
      ]
     },
     "execution_count": 8,
     "metadata": {},
     "output_type": "execute_result"
    }
   ],
   "source": [
    "lma"
   ]
  },
  {
   "cell_type": "code",
   "execution_count": 11,
   "metadata": {},
   "outputs": [
    {
     "data": {
      "text/plain": [
       "0                   Dexes\n",
       "1                   Total\n",
       "2                     TVL\n",
       "3                     NaN\n",
       "4            324457.32223\n",
       "              ...        \n",
       "301    28461440.367345914\n",
       "302      28884345.0476636\n",
       "303     29449453.66706093\n",
       "304     30363374.27842397\n",
       "305      29895708.6068861\n",
       "Name: Solarbeam, Length: 306, dtype: object"
      ]
     },
     "execution_count": 11,
     "metadata": {},
     "output_type": "execute_result"
    }
   ],
   "source": [
    "lma.iloc[:,3]"
   ]
  },
  {
   "cell_type": "code",
   "execution_count": 12,
   "metadata": {},
   "outputs": [
    {
     "data": {
      "text/plain": [
       "27671389.253872823"
      ]
     },
     "execution_count": 12,
     "metadata": {},
     "output_type": "execute_result"
    }
   ],
   "source": [
    "#Just eth currently can take total by changing the header\n",
    "lma.iloc[-183:, 3].astype(float).mean()"
   ]
  },
  {
   "cell_type": "code",
   "execution_count": null,
   "metadata": {},
   "outputs": [],
   "source": []
  },
  {
   "cell_type": "markdown",
   "metadata": {},
   "source": [
    "Largest Pool Concentration"
   ]
  },
  {
   "cell_type": "code",
   "execution_count": 21,
   "metadata": {},
   "outputs": [
    {
     "name": "stderr",
     "output_type": "stream",
     "text": [
      "/tmp/ipykernel_28149/2291472997.py:22: FutureWarning: The frame.append method is deprecated and will be removed from pandas in a future version. Use pandas.concat instead.\n",
      "  df = df.append(pool)\n",
      "/tmp/ipykernel_28149/2291472997.py:22: FutureWarning: The frame.append method is deprecated and will be removed from pandas in a future version. Use pandas.concat instead.\n",
      "  df = df.append(pool)\n",
      "/tmp/ipykernel_28149/2291472997.py:22: FutureWarning: The frame.append method is deprecated and will be removed from pandas in a future version. Use pandas.concat instead.\n",
      "  df = df.append(pool)\n",
      "/tmp/ipykernel_28149/2291472997.py:22: FutureWarning: The frame.append method is deprecated and will be removed from pandas in a future version. Use pandas.concat instead.\n",
      "  df = df.append(pool)\n"
     ]
    }
   ],
   "source": [
    "df = pd.DataFrame()\n",
    "ts = 0\n",
    "\n",
    "while True:\n",
    "    sl = len(df)\n",
    "    query = \"\"\"\n",
    "{\n",
    "  liquidityPools(first:1000, orderBy: createdTimestamp, orderDirection: asc, where: {createdTimestamp_gt: \"\"\"+f'\"{ts}\"'+\"\"\"}){\n",
    "    id\n",
    "    name\n",
    "    totalValueLockedUSD\n",
    "    cumulativeVolumeUSD\n",
    "    createdTimestamp\n",
    "    createdBlockNumber\n",
    "  }\n",
    "}\n",
    "\"\"\"\n",
    "    request = requests.post(endpoint, json={'query':query})\n",
    "    data = request.json()\n",
    "\n",
    "    pool = pd.json_normalize(data['data']['liquidityPools'])\n",
    "    df = df.append(pool)\n",
    "    df.drop_duplicates(inplace=True)\n",
    "    if len(df) == sl:\n",
    "      break\n",
    "    ts = df['createdTimestamp'].max()\n"
   ]
  },
  {
   "cell_type": "code",
   "execution_count": 23,
   "metadata": {},
   "outputs": [
    {
     "data": {
      "text/plain": [
       "0.2407176531159885"
      ]
     },
     "execution_count": 23,
     "metadata": {},
     "output_type": "execute_result"
    }
   ],
   "source": [
    "df['totalValueLockedUSD'].astype(float).max()/df['totalValueLockedUSD'].astype(float).sum()"
   ]
  },
  {
   "cell_type": "code",
   "execution_count": 24,
   "metadata": {},
   "outputs": [
    {
     "data": {
      "text/plain": [
       "0.6621316289621388"
      ]
     },
     "execution_count": 24,
     "metadata": {},
     "output_type": "execute_result"
    }
   ],
   "source": [
    "df['totalValueLockedUSD'].astype(float).nlargest(10).sum()/df['totalValueLockedUSD'].astype(float).sum()"
   ]
  },
  {
   "cell_type": "markdown",
   "metadata": {},
   "source": [
    "Liquidity Pools with > $1mn TVL"
   ]
  },
  {
   "cell_type": "code",
   "execution_count": 25,
   "metadata": {},
   "outputs": [
    {
     "data": {
      "text/plain": [
       "1"
      ]
     },
     "execution_count": 25,
     "metadata": {},
     "output_type": "execute_result"
    }
   ],
   "source": [
    "len(df.loc[df['totalValueLockedUSD'].astype(float) > 1000000])"
   ]
  },
  {
   "cell_type": "code",
   "execution_count": null,
   "metadata": {},
   "outputs": [],
   "source": []
  },
  {
   "cell_type": "markdown",
   "metadata": {},
   "source": [
    "Monthly Active Users"
   ]
  },
  {
   "cell_type": "code",
   "execution_count": 15,
   "metadata": {},
   "outputs": [],
   "source": [
    "query = \"\"\"{\n",
    "  usageMetricsDailySnapshots(first: 183, orderBy: timestamp, orderDirection: desc){\n",
    "    timestamp\n",
    "    blockNumber\n",
    "    id\n",
    "    dailyActiveUsers\n",
    "    dailySwapCount\n",
    "    dailyDepositCount\n",
    "    dailyWithdrawCount \n",
    "  }\n",
    "}\n",
    "\"\"\""
   ]
  },
  {
   "cell_type": "code",
   "execution_count": 16,
   "metadata": {},
   "outputs": [],
   "source": [
    "request = requests.post(endpoint, json={'query':query})\n",
    "data = request.json()"
   ]
  },
  {
   "cell_type": "code",
   "execution_count": 17,
   "metadata": {},
   "outputs": [],
   "source": [
    "df = pd.json_normalize(data['data']['usageMetricsDailySnapshots'])"
   ]
  },
  {
   "cell_type": "code",
   "execution_count": 18,
   "metadata": {},
   "outputs": [],
   "source": [
    "df['date'] = df['timestamp'].astype(int).apply(lambda x: dt.datetime.fromtimestamp(x))"
   ]
  },
  {
   "cell_type": "code",
   "execution_count": 19,
   "metadata": {},
   "outputs": [],
   "source": [
    "monthactiveusers = []\n",
    "for i in range(len(df['date'].dt.month.unique())):\n",
    "    monthactiveusers.append(df['dailyActiveUsers'].loc[df['date'].dt.month == df['date'].dt.month.unique()[i]].astype(float).sum())"
   ]
  },
  {
   "cell_type": "code",
   "execution_count": 20,
   "metadata": {},
   "outputs": [
    {
     "data": {
      "text/plain": [
       "11067.0"
      ]
     },
     "execution_count": 20,
     "metadata": {},
     "output_type": "execute_result"
    }
   ],
   "source": [
    "np.mean(monthactiveusers) #can chart this easy"
   ]
  },
  {
   "cell_type": "code",
   "execution_count": null,
   "metadata": {},
   "outputs": [],
   "source": []
  },
  {
   "cell_type": "markdown",
   "metadata": {},
   "source": [
    "Implied slippage"
   ]
  },
  {
   "cell_type": "code",
   "execution_count": null,
   "metadata": {},
   "outputs": [],
   "source": []
  },
  {
   "cell_type": "code",
   "execution_count": null,
   "metadata": {},
   "outputs": [],
   "source": []
  },
  {
   "cell_type": "code",
   "execution_count": null,
   "metadata": {},
   "outputs": [],
   "source": []
  }
 ],
 "metadata": {
  "kernelspec": {
   "display_name": "Python 3.8.10 64-bit",
   "language": "python",
   "name": "python3"
  },
  "language_info": {
   "codemirror_mode": {
    "name": "ipython",
    "version": 3
   },
   "file_extension": ".py",
   "mimetype": "text/x-python",
   "name": "python",
   "nbconvert_exporter": "python",
   "pygments_lexer": "ipython3",
   "version": "3.8.10"
  },
  "orig_nbformat": 4,
  "vscode": {
   "interpreter": {
    "hash": "916dbcbb3f70747c44a77c7bcd40155683ae19c65e1c03b4aa3499c5328201f1"
   }
  }
 },
 "nbformat": 4,
 "nbformat_minor": 2
}
