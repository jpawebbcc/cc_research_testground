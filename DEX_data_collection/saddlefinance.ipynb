{
 "cells": [
  {
   "cell_type": "markdown",
   "metadata": {},
   "source": [
    "## Messari standardised subgraphs\n",
    "\n",
    "https://github.com/messari/subgraphs\n",
    "\n",
    "### saddle Finance\n",
    "\n",
    "12/09/22"
   ]
  },
  {
   "cell_type": "code",
   "execution_count": 11,
   "metadata": {},
   "outputs": [],
   "source": [
    "import pandas as pd\n",
    "import numpy as np\n",
    "import time\n",
    "import requests\n",
    "import datetime as dt"
   ]
  },
  {
   "cell_type": "code",
   "execution_count": 12,
   "metadata": {},
   "outputs": [],
   "source": [
    "endpoint = 'https://api.thegraph.com/subgraphs/name/messari/saddle-finance-ethereum'"
   ]
  },
  {
   "cell_type": "code",
   "execution_count": 13,
   "metadata": {},
   "outputs": [
    {
     "name": "stdout",
     "output_type": "stream",
     "text": [
      "2022-09-12 16:32:05\n"
     ]
    },
    {
     "data": {
      "text/plain": [
       "True"
      ]
     },
     "execution_count": 13,
     "metadata": {},
     "output_type": "execute_result"
    }
   ],
   "source": [
    "#Check if subgraph is up to date\n",
    "query = \"\"\"{\n",
    "  _meta{\n",
    "    block{\n",
    "      timestamp\n",
    "  \t\thash\n",
    "      number\n",
    "    }\n",
    "    hasIndexingErrors\n",
    "    deployment\n",
    "  }\n",
    "}\"\"\"\n",
    "request = requests.post(endpoint, json={'query':query})\n",
    "data = request.json()\n",
    "#Check if it is ok to run i.e. within 5 days of today\n",
    "print(dt.datetime.fromtimestamp(int(data['data']['_meta']['block']['timestamp'], base = 0)))\n",
    "int(data['data']['_meta']['block']['timestamp'], base = 0) > (dt.datetime.today().timestamp() - 3600*24*5)"
   ]
  },
  {
   "cell_type": "markdown",
   "metadata": {},
   "source": [
    "6-month average volume"
   ]
  },
  {
   "cell_type": "code",
   "execution_count": 41,
   "metadata": {},
   "outputs": [],
   "source": [
    "query = \"\"\"{\n",
    "  financialsDailySnapshots(first: 183, orderBy: timestamp, orderDirection: desc){\n",
    "    id\n",
    "    protocol{\n",
    "      name\n",
    "    }\n",
    "    dailyVolumeUSD\n",
    "    dailyTotalRevenueUSD\n",
    "    dailySupplySideRevenueUSD\n",
    "    dailyProtocolSideRevenueUSD\n",
    "    timestamp\n",
    "    blockNumber\n",
    "  }\n",
    "}\n",
    "\"\"\""
   ]
  },
  {
   "cell_type": "code",
   "execution_count": 42,
   "metadata": {},
   "outputs": [],
   "source": [
    "request = requests.post(endpoint, json={'query':query})\n",
    "data = request.json()"
   ]
  },
  {
   "cell_type": "code",
   "execution_count": 43,
   "metadata": {},
   "outputs": [],
   "source": [
    "df = pd.json_normalize(data['data']['financialsDailySnapshots'])"
   ]
  },
  {
   "cell_type": "code",
   "execution_count": 44,
   "metadata": {},
   "outputs": [],
   "source": [
    "df['dailyVolumeUSD'] = df['dailyVolumeUSD'].astype(float)"
   ]
  },
  {
   "cell_type": "code",
   "execution_count": 45,
   "metadata": {},
   "outputs": [
    {
     "data": {
      "text/plain": [
       "<AxesSubplot:>"
      ]
     },
     "execution_count": 45,
     "metadata": {},
     "output_type": "execute_result"
    },
    {
     "data": {
      "image/png": "[encoded data removed]",
      "text/plain": [
       "<Figure size 432x288 with 1 Axes>"
      ]
     },
     "metadata": {
      "needs_background": "light"
     },
     "output_type": "display_data"
    }
   ],
   "source": [
    "df['dailyVolumeUSD'].plot()"
   ]
  },
  {
   "cell_type": "code",
   "execution_count": 50,
   "metadata": {},
   "outputs": [
    {
     "data": {
      "text/plain": [
       "2502284.8276301883"
      ]
     },
     "execution_count": 50,
     "metadata": {},
     "output_type": "execute_result"
    }
   ],
   "source": [
    "df['dailyVolumeUSD'].nsmallest(134).mean() #Volume USD issue"
   ]
  },
  {
   "cell_type": "markdown",
   "metadata": {},
   "source": [
    "6-Month Average TVL"
   ]
  },
  {
   "cell_type": "code",
   "execution_count": 51,
   "metadata": {},
   "outputs": [],
   "source": [
    "#DefiLlama https://defillama.com/protocols/dexes \n",
    "lma = pd.read_csv(\"https://api.llama.fi/dataset/saddle-finance.csv\")"
   ]
  },
  {
   "cell_type": "code",
   "execution_count": 52,
   "metadata": {},
   "outputs": [
    {
     "data": {
      "text/html": [
       "<div>\n",
       "<style scoped>\n",
       "    .dataframe tbody tr th:only-of-type {\n",
       "        vertical-align: middle;\n",
       "    }\n",
       "\n",
       "    .dataframe tbody tr th {\n",
       "        vertical-align: top;\n",
       "    }\n",
       "\n",
       "    .dataframe thead th {\n",
       "        text-align: right;\n",
       "    }\n",
       "</style>\n",
       "<table border=\"1\" class=\"dataframe\">\n",
       "  <thead>\n",
       "    <tr style=\"text-align: right;\">\n",
       "      <th></th>\n",
       "      <th>Unnamed: 0</th>\n",
       "      <th>Date</th>\n",
       "      <th>Timestamp</th>\n",
       "      <th>Saddle Finance</th>\n",
       "      <th>Saddle Finance.1</th>\n",
       "      <th>Saddle Finance.2</th>\n",
       "      <th>Saddle Finance.3</th>\n",
       "      <th>Saddle Finance.4</th>\n",
       "      <th>Saddle Finance.5</th>\n",
       "      <th>Saddle Finance.6</th>\n",
       "      <th>...</th>\n",
       "      <th>Saddle Finance.143</th>\n",
       "      <th>Saddle Finance.144</th>\n",
       "      <th>Saddle Finance.145</th>\n",
       "      <th>Saddle Finance.146</th>\n",
       "      <th>Saddle Finance.147</th>\n",
       "      <th>Saddle Finance.148</th>\n",
       "      <th>Saddle Finance.149</th>\n",
       "      <th>Saddle Finance.150</th>\n",
       "      <th>Saddle Finance.151</th>\n",
       "      <th>Saddle Finance.152</th>\n",
       "    </tr>\n",
       "  </thead>\n",
       "  <tbody>\n",
       "    <tr>\n",
       "      <th>0</th>\n",
       "      <td>NaN</td>\n",
       "      <td>NaN</td>\n",
       "      <td>NaN</td>\n",
       "      <td>Dexes</td>\n",
       "      <td>Dexes</td>\n",
       "      <td>Dexes</td>\n",
       "      <td>Dexes</td>\n",
       "      <td>Dexes</td>\n",
       "      <td>Dexes</td>\n",
       "      <td>Dexes</td>\n",
       "      <td>...</td>\n",
       "      <td>Dexes</td>\n",
       "      <td>Dexes</td>\n",
       "      <td>Dexes</td>\n",
       "      <td>Dexes</td>\n",
       "      <td>Dexes</td>\n",
       "      <td>Dexes</td>\n",
       "      <td>Dexes</td>\n",
       "      <td>Dexes</td>\n",
       "      <td>Dexes</td>\n",
       "      <td>Dexes</td>\n",
       "    </tr>\n",
       "    <tr>\n",
       "      <th>1</th>\n",
       "      <td>NaN</td>\n",
       "      <td>NaN</td>\n",
       "      <td>NaN</td>\n",
       "      <td>optimism</td>\n",
       "      <td>ethereum</td>\n",
       "      <td>kava</td>\n",
       "      <td>evmos</td>\n",
       "      <td>arbitrum</td>\n",
       "      <td>Total</td>\n",
       "      <td>fantom</td>\n",
       "      <td>...</td>\n",
       "      <td>Total</td>\n",
       "      <td>Total</td>\n",
       "      <td>Total</td>\n",
       "      <td>Total</td>\n",
       "      <td>Total</td>\n",
       "      <td>fantom</td>\n",
       "      <td>fantom</td>\n",
       "      <td>fantom</td>\n",
       "      <td>fantom</td>\n",
       "      <td>fantom</td>\n",
       "    </tr>\n",
       "    <tr>\n",
       "      <th>2</th>\n",
       "      <td>NaN</td>\n",
       "      <td>NaN</td>\n",
       "      <td>NaN</td>\n",
       "      <td>TVL</td>\n",
       "      <td>TVL</td>\n",
       "      <td>TVL</td>\n",
       "      <td>TVL</td>\n",
       "      <td>TVL</td>\n",
       "      <td>TVL</td>\n",
       "      <td>TVL</td>\n",
       "      <td>...</td>\n",
       "      <td>Tokens</td>\n",
       "      <td>Tokens</td>\n",
       "      <td>Tokens</td>\n",
       "      <td>Tokens</td>\n",
       "      <td>Tokens</td>\n",
       "      <td>Tokens</td>\n",
       "      <td>Tokens</td>\n",
       "      <td>Tokens</td>\n",
       "      <td>Tokens</td>\n",
       "      <td>Tokens</td>\n",
       "    </tr>\n",
       "    <tr>\n",
       "      <th>3</th>\n",
       "      <td>NaN</td>\n",
       "      <td>NaN</td>\n",
       "      <td>NaN</td>\n",
       "      <td>NaN</td>\n",
       "      <td>NaN</td>\n",
       "      <td>NaN</td>\n",
       "      <td>NaN</td>\n",
       "      <td>NaN</td>\n",
       "      <td>NaN</td>\n",
       "      <td>NaN</td>\n",
       "      <td>...</td>\n",
       "      <td>USDS</td>\n",
       "      <td>USX</td>\n",
       "      <td>tether</td>\n",
       "      <td>dai</td>\n",
       "      <td>SCHF</td>\n",
       "      <td>usd-coin</td>\n",
       "      <td>USDT</td>\n",
       "      <td>FRAX</td>\n",
       "      <td>USDC</td>\n",
       "      <td>ALUSD</td>\n",
       "    </tr>\n",
       "    <tr>\n",
       "      <th>4</th>\n",
       "      <td>NaN</td>\n",
       "      <td>07/03/2021</td>\n",
       "      <td>1.615075e+09</td>\n",
       "      <td>NaN</td>\n",
       "      <td>53426351.37</td>\n",
       "      <td>NaN</td>\n",
       "      <td>NaN</td>\n",
       "      <td>NaN</td>\n",
       "      <td>53426351.37</td>\n",
       "      <td>NaN</td>\n",
       "      <td>...</td>\n",
       "      <td>NaN</td>\n",
       "      <td>NaN</td>\n",
       "      <td>NaN</td>\n",
       "      <td>NaN</td>\n",
       "      <td>NaN</td>\n",
       "      <td>NaN</td>\n",
       "      <td>NaN</td>\n",
       "      <td>NaN</td>\n",
       "      <td>NaN</td>\n",
       "      <td>NaN</td>\n",
       "    </tr>\n",
       "    <tr>\n",
       "      <th>...</th>\n",
       "      <td>...</td>\n",
       "      <td>...</td>\n",
       "      <td>...</td>\n",
       "      <td>...</td>\n",
       "      <td>...</td>\n",
       "      <td>...</td>\n",
       "      <td>...</td>\n",
       "      <td>...</td>\n",
       "      <td>...</td>\n",
       "      <td>...</td>\n",
       "      <td>...</td>\n",
       "      <td>...</td>\n",
       "      <td>...</td>\n",
       "      <td>...</td>\n",
       "      <td>...</td>\n",
       "      <td>...</td>\n",
       "      <td>...</td>\n",
       "      <td>...</td>\n",
       "      <td>...</td>\n",
       "      <td>...</td>\n",
       "      <td>...</td>\n",
       "    </tr>\n",
       "    <tr>\n",
       "      <th>554</th>\n",
       "      <td>NaN</td>\n",
       "      <td>08/09/2022</td>\n",
       "      <td>1.662595e+09</td>\n",
       "      <td>2857820.769685244</td>\n",
       "      <td>34595109.78921851</td>\n",
       "      <td>0.20015</td>\n",
       "      <td>3375.4516739028836</td>\n",
       "      <td>3985563.694685812</td>\n",
       "      <td>41442790.963357694</td>\n",
       "      <td>921.0579442336799</td>\n",
       "      <td>...</td>\n",
       "      <td>628429.5312887768</td>\n",
       "      <td>506869.57771990064</td>\n",
       "      <td>0.05</td>\n",
       "      <td>0.05</td>\n",
       "      <td>NaN</td>\n",
       "      <td>NaN</td>\n",
       "      <td>NaN</td>\n",
       "      <td>803.7089622430191</td>\n",
       "      <td>117.968818</td>\n",
       "      <td>NaN</td>\n",
       "    </tr>\n",
       "    <tr>\n",
       "      <th>555</th>\n",
       "      <td>NaN</td>\n",
       "      <td>09/09/2022</td>\n",
       "      <td>1.662682e+09</td>\n",
       "      <td>2865436.9746894035</td>\n",
       "      <td>34637574.691984914</td>\n",
       "      <td>0.20015</td>\n",
       "      <td>3390.6312259796887</td>\n",
       "      <td>4525797.187740381</td>\n",
       "      <td>42033119.32453833</td>\n",
       "      <td>919.6387476539795</td>\n",
       "      <td>...</td>\n",
       "      <td>874188.6923730549</td>\n",
       "      <td>506869.57771990064</td>\n",
       "      <td>0.05</td>\n",
       "      <td>0.05</td>\n",
       "      <td>NaN</td>\n",
       "      <td>NaN</td>\n",
       "      <td>NaN</td>\n",
       "      <td>792.4740377533112</td>\n",
       "      <td>129.246466</td>\n",
       "      <td>NaN</td>\n",
       "    </tr>\n",
       "    <tr>\n",
       "      <th>556</th>\n",
       "      <td>NaN</td>\n",
       "      <td>10/09/2022</td>\n",
       "      <td>1.662768e+09</td>\n",
       "      <td>2908458.49005867</td>\n",
       "      <td>35298989.66420811</td>\n",
       "      <td>0.2002</td>\n",
       "      <td>3377.9170954611172</td>\n",
       "      <td>5477155.38634822</td>\n",
       "      <td>43688902.97386057</td>\n",
       "      <td>921.3159501166663</td>\n",
       "      <td>...</td>\n",
       "      <td>1157002.351112716</td>\n",
       "      <td>506869.57771990064</td>\n",
       "      <td>0.05</td>\n",
       "      <td>0.05</td>\n",
       "      <td>NaN</td>\n",
       "      <td>NaN</td>\n",
       "      <td>NaN</td>\n",
       "      <td>752.2518174969576</td>\n",
       "      <td>169.174044</td>\n",
       "      <td>NaN</td>\n",
       "    </tr>\n",
       "    <tr>\n",
       "      <th>557</th>\n",
       "      <td>NaN</td>\n",
       "      <td>11/09/2022</td>\n",
       "      <td>1.662854e+09</td>\n",
       "      <td>3085560.29336869</td>\n",
       "      <td>35858766.45445004</td>\n",
       "      <td>0.20025</td>\n",
       "      <td>3373.4746976425045</td>\n",
       "      <td>6541911.024364816</td>\n",
       "      <td>45490533.087411396</td>\n",
       "      <td>921.6402802130394</td>\n",
       "      <td>...</td>\n",
       "      <td>1346796.8616734727</td>\n",
       "      <td>506869.57771990064</td>\n",
       "      <td>0.05</td>\n",
       "      <td>0.05</td>\n",
       "      <td>NaN</td>\n",
       "      <td>NaN</td>\n",
       "      <td>NaN</td>\n",
       "      <td>781.0360323188092</td>\n",
       "      <td>140.820361</td>\n",
       "      <td>NaN</td>\n",
       "    </tr>\n",
       "    <tr>\n",
       "      <th>558</th>\n",
       "      <td>NaN</td>\n",
       "      <td>12/09/2022</td>\n",
       "      <td>1.662941e+09</td>\n",
       "      <td>3074315.481787567</td>\n",
       "      <td>36649086.55675181</td>\n",
       "      <td>0.1999717</td>\n",
       "      <td>3363.9094722689106</td>\n",
       "      <td>6675375.243555949</td>\n",
       "      <td>46403057.62169437</td>\n",
       "      <td>916.2301550727582</td>\n",
       "      <td>...</td>\n",
       "      <td>1440238.3806717999</td>\n",
       "      <td>506869.57771990064</td>\n",
       "      <td>0.05</td>\n",
       "      <td>0.05</td>\n",
       "      <td>NaN</td>\n",
       "      <td>NaN</td>\n",
       "      <td>NaN</td>\n",
       "      <td>784.1600134204625</td>\n",
       "      <td>137.985781</td>\n",
       "      <td>NaN</td>\n",
       "    </tr>\n",
       "  </tbody>\n",
       "</table>\n",
       "<p>559 rows × 156 columns</p>\n",
       "</div>"
      ],
      "text/plain": [
       "     Unnamed: 0        Date     Timestamp      Saddle Finance  \\\n",
       "0           NaN         NaN           NaN               Dexes   \n",
       "1           NaN         NaN           NaN            optimism   \n",
       "2           NaN         NaN           NaN                 TVL   \n",
       "3           NaN         NaN           NaN                 NaN   \n",
       "4           NaN  07/03/2021  1.615075e+09                 NaN   \n",
       "..          ...         ...           ...                 ...   \n",
       "554         NaN  08/09/2022  1.662595e+09   2857820.769685244   \n",
       "555         NaN  09/09/2022  1.662682e+09  2865436.9746894035   \n",
       "556         NaN  10/09/2022  1.662768e+09    2908458.49005867   \n",
       "557         NaN  11/09/2022  1.662854e+09    3085560.29336869   \n",
       "558         NaN  12/09/2022  1.662941e+09   3074315.481787567   \n",
       "\n",
       "       Saddle Finance.1 Saddle Finance.2    Saddle Finance.3  \\\n",
       "0                 Dexes            Dexes               Dexes   \n",
       "1              ethereum             kava               evmos   \n",
       "2                   TVL              TVL                 TVL   \n",
       "3                   NaN              NaN                 NaN   \n",
       "4           53426351.37              NaN                 NaN   \n",
       "..                  ...              ...                 ...   \n",
       "554   34595109.78921851          0.20015  3375.4516739028836   \n",
       "555  34637574.691984914          0.20015  3390.6312259796887   \n",
       "556   35298989.66420811           0.2002  3377.9170954611172   \n",
       "557   35858766.45445004          0.20025  3373.4746976425045   \n",
       "558   36649086.55675181        0.1999717  3363.9094722689106   \n",
       "\n",
       "      Saddle Finance.4    Saddle Finance.5   Saddle Finance.6  ...  \\\n",
       "0                Dexes               Dexes              Dexes  ...   \n",
       "1             arbitrum               Total             fantom  ...   \n",
       "2                  TVL                 TVL                TVL  ...   \n",
       "3                  NaN                 NaN                NaN  ...   \n",
       "4                  NaN         53426351.37                NaN  ...   \n",
       "..                 ...                 ...                ...  ...   \n",
       "554  3985563.694685812  41442790.963357694  921.0579442336799  ...   \n",
       "555  4525797.187740381   42033119.32453833  919.6387476539795  ...   \n",
       "556   5477155.38634822   43688902.97386057  921.3159501166663  ...   \n",
       "557  6541911.024364816  45490533.087411396  921.6402802130394  ...   \n",
       "558  6675375.243555949   46403057.62169437  916.2301550727582  ...   \n",
       "\n",
       "     Saddle Finance.143  Saddle Finance.144 Saddle Finance.145  \\\n",
       "0                 Dexes               Dexes              Dexes   \n",
       "1                 Total               Total              Total   \n",
       "2                Tokens              Tokens             Tokens   \n",
       "3                  USDS                 USX             tether   \n",
       "4                   NaN                 NaN                NaN   \n",
       "..                  ...                 ...                ...   \n",
       "554   628429.5312887768  506869.57771990064               0.05   \n",
       "555   874188.6923730549  506869.57771990064               0.05   \n",
       "556   1157002.351112716  506869.57771990064               0.05   \n",
       "557  1346796.8616734727  506869.57771990064               0.05   \n",
       "558  1440238.3806717999  506869.57771990064               0.05   \n",
       "\n",
       "    Saddle Finance.146 Saddle Finance.147 Saddle Finance.148  \\\n",
       "0                Dexes              Dexes              Dexes   \n",
       "1                Total              Total             fantom   \n",
       "2               Tokens             Tokens             Tokens   \n",
       "3                  dai               SCHF           usd-coin   \n",
       "4                  NaN                NaN                NaN   \n",
       "..                 ...                ...                ...   \n",
       "554               0.05                NaN                NaN   \n",
       "555               0.05                NaN                NaN   \n",
       "556               0.05                NaN                NaN   \n",
       "557               0.05                NaN                NaN   \n",
       "558               0.05                NaN                NaN   \n",
       "\n",
       "    Saddle Finance.149 Saddle Finance.150 Saddle Finance.151  \\\n",
       "0                Dexes              Dexes              Dexes   \n",
       "1               fantom             fantom             fantom   \n",
       "2               Tokens             Tokens             Tokens   \n",
       "3                 USDT               FRAX               USDC   \n",
       "4                  NaN                NaN                NaN   \n",
       "..                 ...                ...                ...   \n",
       "554                NaN  803.7089622430191         117.968818   \n",
       "555                NaN  792.4740377533112         129.246466   \n",
       "556                NaN  752.2518174969576         169.174044   \n",
       "557                NaN  781.0360323188092         140.820361   \n",
       "558                NaN  784.1600134204625         137.985781   \n",
       "\n",
       "    Saddle Finance.152  \n",
       "0                Dexes  \n",
       "1               fantom  \n",
       "2               Tokens  \n",
       "3                ALUSD  \n",
       "4                  NaN  \n",
       "..                 ...  \n",
       "554                NaN  \n",
       "555                NaN  \n",
       "556                NaN  \n",
       "557                NaN  \n",
       "558                NaN  \n",
       "\n",
       "[559 rows x 156 columns]"
      ]
     },
     "execution_count": 52,
     "metadata": {},
     "output_type": "execute_result"
    }
   ],
   "source": [
    "lma"
   ]
  },
  {
   "cell_type": "code",
   "execution_count": 53,
   "metadata": {},
   "outputs": [
    {
     "data": {
      "text/plain": [
       "0                   Dexes\n",
       "1                ethereum\n",
       "2                     TVL\n",
       "3                     NaN\n",
       "4             53426351.37\n",
       "              ...        \n",
       "554     34595109.78921851\n",
       "555    34637574.691984914\n",
       "556     35298989.66420811\n",
       "557     35858766.45445004\n",
       "558     36649086.55675181\n",
       "Name: Saddle Finance.1, Length: 559, dtype: object"
      ]
     },
     "execution_count": 53,
     "metadata": {},
     "output_type": "execute_result"
    }
   ],
   "source": [
    "lma.iloc[:,4]"
   ]
  },
  {
   "cell_type": "code",
   "execution_count": 54,
   "metadata": {},
   "outputs": [
    {
     "data": {
      "text/plain": [
       "81858127.72264962"
      ]
     },
     "execution_count": 54,
     "metadata": {},
     "output_type": "execute_result"
    }
   ],
   "source": [
    "#Just eth currently can take total by changing the header\n",
    "lma.iloc[-183:, 4].astype(float).mean()"
   ]
  },
  {
   "cell_type": "code",
   "execution_count": null,
   "metadata": {},
   "outputs": [],
   "source": []
  },
  {
   "cell_type": "markdown",
   "metadata": {},
   "source": [
    "Largest Pool Concentration"
   ]
  },
  {
   "cell_type": "code",
   "execution_count": 55,
   "metadata": {},
   "outputs": [
    {
     "name": "stderr",
     "output_type": "stream",
     "text": [
      "/tmp/ipykernel_66260/2291472997.py:22: FutureWarning: The frame.append method is deprecated and will be removed from pandas in a future version. Use pandas.concat instead.\n",
      "  df = df.append(pool)\n"
     ]
    }
   ],
   "source": [
    "df = pd.DataFrame()\n",
    "ts = 0\n",
    "\n",
    "while True:\n",
    "    sl = len(df)\n",
    "    query = \"\"\"\n",
    "{\n",
    "  liquidityPools(first:1000, orderBy: createdTimestamp, orderDirection: asc, where: {createdTimestamp_gt: \"\"\"+f'\"{ts}\"'+\"\"\"}){\n",
    "    id\n",
    "    name\n",
    "    totalValueLockedUSD\n",
    "    cumulativeVolumeUSD\n",
    "    createdTimestamp\n",
    "    createdBlockNumber\n",
    "  }\n",
    "}\n",
    "\"\"\"\n",
    "    request = requests.post(endpoint, json={'query':query})\n",
    "    data = request.json()\n",
    "\n",
    "    pool = pd.json_normalize(data['data']['liquidityPools'])\n",
    "    df = df.append(pool)\n",
    "    df.drop_duplicates(inplace=True)\n",
    "    if len(df) == sl:\n",
    "      break\n",
    "    ts = df['createdTimestamp'].max()\n"
   ]
  },
  {
   "cell_type": "code",
   "execution_count": 56,
   "metadata": {},
   "outputs": [
    {
     "data": {
      "text/html": [
       "<div>\n",
       "<style scoped>\n",
       "    .dataframe tbody tr th:only-of-type {\n",
       "        vertical-align: middle;\n",
       "    }\n",
       "\n",
       "    .dataframe tbody tr th {\n",
       "        vertical-align: top;\n",
       "    }\n",
       "\n",
       "    .dataframe thead th {\n",
       "        text-align: right;\n",
       "    }\n",
       "</style>\n",
       "<table border=\"1\" class=\"dataframe\">\n",
       "  <thead>\n",
       "    <tr style=\"text-align: right;\">\n",
       "      <th></th>\n",
       "      <th>id</th>\n",
       "      <th>name</th>\n",
       "      <th>totalValueLockedUSD</th>\n",
       "      <th>cumulativeVolumeUSD</th>\n",
       "      <th>createdTimestamp</th>\n",
       "      <th>createdBlockNumber</th>\n",
       "    </tr>\n",
       "  </thead>\n",
       "  <tbody>\n",
       "    <tr>\n",
       "      <th>0</th>\n",
       "      <td>0x4f6a43ad7cba042606decaca730d4ce0a57ac62e</td>\n",
       "      <td>Saddle tBTC/WBTC/renBTC/sBTC</td>\n",
       "      <td>203704.282346935900237400728312</td>\n",
       "      <td>345237865278045193.4724972762325069</td>\n",
       "      <td>1611057088</td>\n",
       "      <td>11685572</td>\n",
       "    </tr>\n",
       "    <tr>\n",
       "      <th>1</th>\n",
       "      <td>0x3911f80530595fbd01ab1516ab61255d75aeb066</td>\n",
       "      <td>Saddle DAI/USDC/USDT</td>\n",
       "      <td>12954.777465613017142821</td>\n",
       "      <td>39911827.346622506694863984</td>\n",
       "      <td>1616117925</td>\n",
       "      <td>12066229</td>\n",
       "    </tr>\n",
       "    <tr>\n",
       "      <th>2</th>\n",
       "      <td>0xdec2157831d6abc3ec328291119cc91b337272b5</td>\n",
       "      <td>Saddle WETH/vETH2</td>\n",
       "      <td>216311.038672528270819670364</td>\n",
       "      <td>26436088.1896051515563041831639355</td>\n",
       "      <td>1617838432</td>\n",
       "      <td>12195714</td>\n",
       "    </tr>\n",
       "    <tr>\n",
       "      <th>3</th>\n",
       "      <td>0xa6018520eaacc06c30ff2e1b3ee2c7c22e64196a</td>\n",
       "      <td>Saddle WETH/alETH/sETH</td>\n",
       "      <td>2701212.60427951387274052854018</td>\n",
       "      <td>491311838.1943447635610914764752855</td>\n",
       "      <td>1623701930</td>\n",
       "      <td>12634694</td>\n",
       "    </tr>\n",
       "    <tr>\n",
       "      <th>4</th>\n",
       "      <td>0xc69ddcd4dfef25d8a793241834d4cc4b3668ead6</td>\n",
       "      <td>Saddle alUSD/FEI/FRAX/LUSD</td>\n",
       "      <td>10916694.933523967747195661</td>\n",
       "      <td>860244069.8079564781929427315</td>\n",
       "      <td>1624601841</td>\n",
       "      <td>12701652</td>\n",
       "    </tr>\n",
       "    <tr>\n",
       "      <th>5</th>\n",
       "      <td>0xacb83e0633d6605c5001e2ab59ef3c745547c8c7</td>\n",
       "      <td>Saddle DAI/USDC/USDT V2</td>\n",
       "      <td>755787.557931565657597772</td>\n",
       "      <td>54605525.5978472302693218205</td>\n",
       "      <td>1626293129</td>\n",
       "      <td>12827153</td>\n",
       "    </tr>\n",
       "    <tr>\n",
       "      <th>6</th>\n",
       "      <td>0x0c8bae14c9f9bf2c953997c881befac7729fd314</td>\n",
       "      <td>Saddle sUSD/saddleUSD-V2</td>\n",
       "      <td>607.073696140398706261</td>\n",
       "      <td>216140.6044913456191537835</td>\n",
       "      <td>1627451981</td>\n",
       "      <td>12912720</td>\n",
       "    </tr>\n",
       "    <tr>\n",
       "      <th>7</th>\n",
       "      <td>0xdf3309771d2bf82cb2b6c56f9f5365c8bd97c4f2</td>\n",
       "      <td>Saddle WBTC/renBTC/sBTC</td>\n",
       "      <td>825445.77388662899096607304</td>\n",
       "      <td>213024329.8066530523499943036869715</td>\n",
       "      <td>1629751863</td>\n",
       "      <td>13083826</td>\n",
       "    </tr>\n",
       "    <tr>\n",
       "      <th>8</th>\n",
       "      <td>0xf74ebe6e5586275dc4ced78f5dbef31b1efbe7a5</td>\n",
       "      <td>Saddle tBTCv2/saddleWRenSBTC</td>\n",
       "      <td>55111.025920654704885486</td>\n",
       "      <td>14859380.86427285728039790411237</td>\n",
       "      <td>1630370737</td>\n",
       "      <td>13130191</td>\n",
       "    </tr>\n",
       "    <tr>\n",
       "      <th>9</th>\n",
       "      <td>0x3f1d224557afa4365155ea77ce4bc32d5dae2174</td>\n",
       "      <td>Saddle wCUSD/saddleUSD-V2</td>\n",
       "      <td>1402.523827818283495483</td>\n",
       "      <td>907.749460655638545267</td>\n",
       "      <td>1630728602</td>\n",
       "      <td>13156995</td>\n",
       "    </tr>\n",
       "    <tr>\n",
       "      <th>10</th>\n",
       "      <td>0x824dcd7b044d60df2e89b1bb888e66d8bcf41491</td>\n",
       "      <td>Saddle sUSD/saddleUSD-V2</td>\n",
       "      <td>18181.584079207194646759</td>\n",
       "      <td>171197024.1780196889998739795</td>\n",
       "      <td>1639529917</td>\n",
       "      <td>13806669</td>\n",
       "    </tr>\n",
       "    <tr>\n",
       "      <th>11</th>\n",
       "      <td>0xa0b4a2667dd60d5cdd7ecff1084f0ceb8dd84326</td>\n",
       "      <td>Saddle tBTCv2/saddleWRenSBTC</td>\n",
       "      <td>275233.66501040999431280256</td>\n",
       "      <td>19641551.399911250061682261472072</td>\n",
       "      <td>1639533398</td>\n",
       "      <td>13806917</td>\n",
       "    </tr>\n",
       "    <tr>\n",
       "      <th>12</th>\n",
       "      <td>0xc02d481b52ae04ebc76a8882441cfaed45eb8342</td>\n",
       "      <td>Saddle wCUSD/saddleUSD-V2</td>\n",
       "      <td>19523.124042098381387129</td>\n",
       "      <td>11944.3993007357574851565</td>\n",
       "      <td>1639533491</td>\n",
       "      <td>13806922</td>\n",
       "    </tr>\n",
       "    <tr>\n",
       "      <th>13</th>\n",
       "      <td>0xfa9ed0309bf79eb84c847819f0b3cb84f6d351af</td>\n",
       "      <td>Saddle tBTCv2/saddleWRenSBTC V3 LP Token</td>\n",
       "      <td>170414.763745232267802342780488</td>\n",
       "      <td>15134594.936367752499963108007202</td>\n",
       "      <td>1652474100</td>\n",
       "      <td>14769535</td>\n",
       "    </tr>\n",
       "    <tr>\n",
       "      <th>14</th>\n",
       "      <td>0xb62222b941e9b652be3632eea062cb0ff66b1d1c</td>\n",
       "      <td>Saddle wCUSD/saddleUSD-V2 V3 LP Token</td>\n",
       "      <td>199555.689746446500642769</td>\n",
       "      <td>5000000000012662.828604452500580296</td>\n",
       "      <td>1652474155</td>\n",
       "      <td>14769540</td>\n",
       "    </tr>\n",
       "    <tr>\n",
       "      <th>15</th>\n",
       "      <td>0x101cd330d088634b6f64c2eb4276e63bf1bbfde3</td>\n",
       "      <td>Saddle DAI/USDC/USDT/FRAX LP Token</td>\n",
       "      <td>0</td>\n",
       "      <td>0</td>\n",
       "      <td>1652990888</td>\n",
       "      <td>14806915</td>\n",
       "    </tr>\n",
       "    <tr>\n",
       "      <th>16</th>\n",
       "      <td>0x8caea59f3bf1f341f89c51607e4919841131e47a</td>\n",
       "      <td>Saddle USDC/USDT/FRAX LP Token</td>\n",
       "      <td>75007.847167993829182353</td>\n",
       "      <td>284170710131496691.8066145862167044</td>\n",
       "      <td>1653589287</td>\n",
       "      <td>14849494</td>\n",
       "    </tr>\n",
       "  </tbody>\n",
       "</table>\n",
       "</div>"
      ],
      "text/plain": [
       "                                            id  \\\n",
       "0   0x4f6a43ad7cba042606decaca730d4ce0a57ac62e   \n",
       "1   0x3911f80530595fbd01ab1516ab61255d75aeb066   \n",
       "2   0xdec2157831d6abc3ec328291119cc91b337272b5   \n",
       "3   0xa6018520eaacc06c30ff2e1b3ee2c7c22e64196a   \n",
       "4   0xc69ddcd4dfef25d8a793241834d4cc4b3668ead6   \n",
       "5   0xacb83e0633d6605c5001e2ab59ef3c745547c8c7   \n",
       "6   0x0c8bae14c9f9bf2c953997c881befac7729fd314   \n",
       "7   0xdf3309771d2bf82cb2b6c56f9f5365c8bd97c4f2   \n",
       "8   0xf74ebe6e5586275dc4ced78f5dbef31b1efbe7a5   \n",
       "9   0x3f1d224557afa4365155ea77ce4bc32d5dae2174   \n",
       "10  0x824dcd7b044d60df2e89b1bb888e66d8bcf41491   \n",
       "11  0xa0b4a2667dd60d5cdd7ecff1084f0ceb8dd84326   \n",
       "12  0xc02d481b52ae04ebc76a8882441cfaed45eb8342   \n",
       "13  0xfa9ed0309bf79eb84c847819f0b3cb84f6d351af   \n",
       "14  0xb62222b941e9b652be3632eea062cb0ff66b1d1c   \n",
       "15  0x101cd330d088634b6f64c2eb4276e63bf1bbfde3   \n",
       "16  0x8caea59f3bf1f341f89c51607e4919841131e47a   \n",
       "\n",
       "                                        name              totalValueLockedUSD  \\\n",
       "0               Saddle tBTC/WBTC/renBTC/sBTC  203704.282346935900237400728312   \n",
       "1                       Saddle DAI/USDC/USDT         12954.777465613017142821   \n",
       "2                          Saddle WETH/vETH2     216311.038672528270819670364   \n",
       "3                     Saddle WETH/alETH/sETH  2701212.60427951387274052854018   \n",
       "4                 Saddle alUSD/FEI/FRAX/LUSD      10916694.933523967747195661   \n",
       "5                    Saddle DAI/USDC/USDT V2        755787.557931565657597772   \n",
       "6                   Saddle sUSD/saddleUSD-V2           607.073696140398706261   \n",
       "7                    Saddle WBTC/renBTC/sBTC      825445.77388662899096607304   \n",
       "8               Saddle tBTCv2/saddleWRenSBTC         55111.025920654704885486   \n",
       "9                  Saddle wCUSD/saddleUSD-V2          1402.523827818283495483   \n",
       "10                  Saddle sUSD/saddleUSD-V2         18181.584079207194646759   \n",
       "11              Saddle tBTCv2/saddleWRenSBTC      275233.66501040999431280256   \n",
       "12                 Saddle wCUSD/saddleUSD-V2         19523.124042098381387129   \n",
       "13  Saddle tBTCv2/saddleWRenSBTC V3 LP Token  170414.763745232267802342780488   \n",
       "14     Saddle wCUSD/saddleUSD-V2 V3 LP Token        199555.689746446500642769   \n",
       "15        Saddle DAI/USDC/USDT/FRAX LP Token                                0   \n",
       "16            Saddle USDC/USDT/FRAX LP Token         75007.847167993829182353   \n",
       "\n",
       "                    cumulativeVolumeUSD createdTimestamp createdBlockNumber  \n",
       "0   345237865278045193.4724972762325069       1611057088           11685572  \n",
       "1           39911827.346622506694863984       1616117925           12066229  \n",
       "2    26436088.1896051515563041831639355       1617838432           12195714  \n",
       "3   491311838.1943447635610914764752855       1623701930           12634694  \n",
       "4         860244069.8079564781929427315       1624601841           12701652  \n",
       "5          54605525.5978472302693218205       1626293129           12827153  \n",
       "6            216140.6044913456191537835       1627451981           12912720  \n",
       "7   213024329.8066530523499943036869715       1629751863           13083826  \n",
       "8      14859380.86427285728039790411237       1630370737           13130191  \n",
       "9                907.749460655638545267       1630728602           13156995  \n",
       "10        171197024.1780196889998739795       1639529917           13806669  \n",
       "11    19641551.399911250061682261472072       1639533398           13806917  \n",
       "12            11944.3993007357574851565       1639533491           13806922  \n",
       "13    15134594.936367752499963108007202       1652474100           14769535  \n",
       "14  5000000000012662.828604452500580296       1652474155           14769540  \n",
       "15                                    0       1652990888           14806915  \n",
       "16  284170710131496691.8066145862167044       1653589287           14849494  "
      ]
     },
     "execution_count": 56,
     "metadata": {},
     "output_type": "execute_result"
    }
   ],
   "source": [
    "df"
   ]
  },
  {
   "cell_type": "code",
   "execution_count": 57,
   "metadata": {},
   "outputs": [
    {
     "data": {
      "text/plain": [
       "0.663743936480922"
      ]
     },
     "execution_count": 57,
     "metadata": {},
     "output_type": "execute_result"
    }
   ],
   "source": [
    "df['totalValueLockedUSD'].astype(float).max()/df['totalValueLockedUSD'].astype(float).sum()"
   ]
  },
  {
   "cell_type": "code",
   "execution_count": 58,
   "metadata": {},
   "outputs": [
    {
     "data": {
      "text/plain": [
       "0.9934468816543326"
      ]
     },
     "execution_count": 58,
     "metadata": {},
     "output_type": "execute_result"
    }
   ],
   "source": [
    "df['totalValueLockedUSD'].astype(float).nlargest(10).sum()/df['totalValueLockedUSD'].astype(float).sum()"
   ]
  },
  {
   "cell_type": "markdown",
   "metadata": {},
   "source": [
    "Liquidity Pools with > $1mn TVL"
   ]
  },
  {
   "cell_type": "code",
   "execution_count": 59,
   "metadata": {},
   "outputs": [
    {
     "data": {
      "text/plain": [
       "2"
      ]
     },
     "execution_count": 59,
     "metadata": {},
     "output_type": "execute_result"
    }
   ],
   "source": [
    "len(df.loc[df['totalValueLockedUSD'].astype(float) > 1000000])"
   ]
  },
  {
   "cell_type": "code",
   "execution_count": null,
   "metadata": {},
   "outputs": [],
   "source": []
  },
  {
   "cell_type": "markdown",
   "metadata": {},
   "source": [
    "Monthly Active Users"
   ]
  },
  {
   "cell_type": "code",
   "execution_count": 60,
   "metadata": {},
   "outputs": [],
   "source": [
    "query = \"\"\"{\n",
    "  usageMetricsDailySnapshots(first: 183, orderBy: timestamp, orderDirection: desc){\n",
    "    timestamp\n",
    "    blockNumber\n",
    "    id\n",
    "    dailyActiveUsers\n",
    "    dailySwapCount\n",
    "    dailyDepositCount\n",
    "    dailyWithdrawCount \n",
    "  }\n",
    "}\n",
    "\"\"\""
   ]
  },
  {
   "cell_type": "code",
   "execution_count": 61,
   "metadata": {},
   "outputs": [],
   "source": [
    "request = requests.post(endpoint, json={'query':query})\n",
    "data = request.json()"
   ]
  },
  {
   "cell_type": "code",
   "execution_count": 62,
   "metadata": {},
   "outputs": [],
   "source": [
    "df = pd.json_normalize(data['data']['usageMetricsDailySnapshots'])"
   ]
  },
  {
   "cell_type": "code",
   "execution_count": 66,
   "metadata": {},
   "outputs": [
    {
     "data": {
      "text/plain": [
       "14.300546448087431"
      ]
     },
     "execution_count": 66,
     "metadata": {},
     "output_type": "execute_result"
    }
   ],
   "source": [
    "df['dailyActiveUsers'].astype(float).mean()"
   ]
  },
  {
   "cell_type": "code",
   "execution_count": null,
   "metadata": {},
   "outputs": [],
   "source": []
  },
  {
   "cell_type": "markdown",
   "metadata": {},
   "source": [
    "Implied slippage"
   ]
  },
  {
   "cell_type": "code",
   "execution_count": null,
   "metadata": {},
   "outputs": [],
   "source": []
  },
  {
   "cell_type": "code",
   "execution_count": null,
   "metadata": {},
   "outputs": [],
   "source": []
  },
  {
   "cell_type": "code",
   "execution_count": null,
   "metadata": {},
   "outputs": [],
   "source": []
  }
 ],
 "metadata": {
  "kernelspec": {
   "display_name": "Python 3.8.10 64-bit",
   "language": "python",
   "name": "python3"
  },
  "language_info": {
   "codemirror_mode": {
    "name": "ipython",
    "version": 3
   },
   "file_extension": ".py",
   "mimetype": "text/x-python",
   "name": "python",
   "nbconvert_exporter": "python",
   "pygments_lexer": "ipython3",
   "version": "3.8.10"
  },
  "orig_nbformat": 4,
  "vscode": {
   "interpreter": {
    "hash": "916dbcbb3f70747c44a77c7bcd40155683ae19c65e1c03b4aa3499c5328201f1"
   }
  }
 },
 "nbformat": 4,
 "nbformat_minor": 2
}
