{
 "cells": [
  {
   "cell_type": "markdown",
   "metadata": {},
   "source": [
    "## Messari standardised subgraphs\n",
    "\n",
    "https://github.com/messari/subgraphs\n",
    "\n",
    "### Curve\n",
    "https://api.thegraph.com/subgraphs/name/messari/curve-finance-ethereum"
   ]
  },
  {
   "cell_type": "code",
   "execution_count": 1,
   "metadata": {},
   "outputs": [],
   "source": [
    "import pandas as pd\n",
    "import numpy as np\n",
    "import time\n",
    "import requests\n",
    "import datetime as dt"
   ]
  },
  {
   "cell_type": "code",
   "execution_count": 20,
   "metadata": {},
   "outputs": [],
   "source": [
    "endpoint = 'https://api.thegraph.com/subgraphs/name/messari/curve-finance-ethereum'"
   ]
  },
  {
   "cell_type": "markdown",
   "metadata": {},
   "source": [
    "6-Month Average Daily Volume"
   ]
  },
  {
   "cell_type": "code",
   "execution_count": 21,
   "metadata": {},
   "outputs": [],
   "source": [
    "query = \"\"\"{\n",
    "  financialsDailySnapshots(first: 183, orderBy: timestamp, orderDirection: desc){\n",
    "    id\n",
    "    protocol{\n",
    "      name\n",
    "    }\n",
    "    dailyVolumeUSD\n",
    "    dailyTotalRevenueUSD\n",
    "    dailySupplySideRevenueUSD\n",
    "    dailyProtocolSideRevenueUSD\n",
    "    timestamp\n",
    "    blockNumber\n",
    "  }\n",
    "}\n",
    "\"\"\""
   ]
  },
  {
   "cell_type": "code",
   "execution_count": 22,
   "metadata": {},
   "outputs": [],
   "source": [
    "request = requests.post(endpoint, json={'query':query})\n",
    "data = request.json()"
   ]
  },
  {
   "cell_type": "code",
   "execution_count": 23,
   "metadata": {},
   "outputs": [],
   "source": [
    "df = pd.json_normalize(data['data']['financialsDailySnapshots'])"
   ]
  },
  {
   "cell_type": "code",
   "execution_count": 24,
   "metadata": {},
   "outputs": [
    {
     "data": {
      "text/plain": [
       "555447485.5768127"
      ]
     },
     "execution_count": 24,
     "metadata": {},
     "output_type": "execute_result"
    }
   ],
   "source": [
    "df['dailyVolumeUSD'].astype(float).mean()"
   ]
  },
  {
   "cell_type": "markdown",
   "metadata": {},
   "source": [
    "6-Month Average TVL"
   ]
  },
  {
   "cell_type": "code",
   "execution_count": 25,
   "metadata": {},
   "outputs": [],
   "source": [
    "#DefiLlama https://defillama.com/protocols/dexes \n",
    "lma = pd.read_csv(\"https://api.llama.fi/dataset/curve.csv\")"
   ]
  },
  {
   "cell_type": "code",
   "execution_count": 27,
   "metadata": {},
   "outputs": [
    {
     "data": {
      "text/html": [
       "<div>\n",
       "<style scoped>\n",
       "    .dataframe tbody tr th:only-of-type {\n",
       "        vertical-align: middle;\n",
       "    }\n",
       "\n",
       "    .dataframe tbody tr th {\n",
       "        vertical-align: top;\n",
       "    }\n",
       "\n",
       "    .dataframe thead th {\n",
       "        text-align: right;\n",
       "    }\n",
       "</style>\n",
       "<table border=\"1\" class=\"dataframe\">\n",
       "  <thead>\n",
       "    <tr style=\"text-align: right;\">\n",
       "      <th></th>\n",
       "      <th>Unnamed: 0</th>\n",
       "      <th>Date</th>\n",
       "      <th>Timestamp</th>\n",
       "      <th>Curve</th>\n",
       "      <th>Curve.1</th>\n",
       "      <th>Curve.2</th>\n",
       "      <th>Curve.3</th>\n",
       "      <th>Curve.4</th>\n",
       "      <th>Curve.5</th>\n",
       "      <th>Curve.6</th>\n",
       "      <th>...</th>\n",
       "      <th>Curve.67</th>\n",
       "      <th>Curve.68</th>\n",
       "      <th>Curve.69</th>\n",
       "      <th>Curve.70</th>\n",
       "      <th>Curve.71</th>\n",
       "      <th>Curve.72</th>\n",
       "      <th>Curve.73</th>\n",
       "      <th>Curve.74</th>\n",
       "      <th>Curve.75</th>\n",
       "      <th>Curve.76</th>\n",
       "    </tr>\n",
       "  </thead>\n",
       "  <tbody>\n",
       "    <tr>\n",
       "      <th>0</th>\n",
       "      <td>NaN</td>\n",
       "      <td>NaN</td>\n",
       "      <td>NaN</td>\n",
       "      <td>Dexes</td>\n",
       "      <td>Dexes</td>\n",
       "      <td>Dexes</td>\n",
       "      <td>Dexes</td>\n",
       "      <td>Dexes</td>\n",
       "      <td>Dexes</td>\n",
       "      <td>Dexes</td>\n",
       "      <td>...</td>\n",
       "      <td>Dexes</td>\n",
       "      <td>Dexes</td>\n",
       "      <td>Dexes</td>\n",
       "      <td>Dexes</td>\n",
       "      <td>Dexes</td>\n",
       "      <td>Dexes</td>\n",
       "      <td>Dexes</td>\n",
       "      <td>Dexes</td>\n",
       "      <td>Dexes</td>\n",
       "      <td>Dexes</td>\n",
       "    </tr>\n",
       "    <tr>\n",
       "      <th>1</th>\n",
       "      <td>NaN</td>\n",
       "      <td>NaN</td>\n",
       "      <td>NaN</td>\n",
       "      <td>optimism</td>\n",
       "      <td>avalanche</td>\n",
       "      <td>Total</td>\n",
       "      <td>harmony</td>\n",
       "      <td>moonbeam</td>\n",
       "      <td>ethereum</td>\n",
       "      <td>xdai</td>\n",
       "      <td>...</td>\n",
       "      <td>ethereum</td>\n",
       "      <td>ethereum</td>\n",
       "      <td>ethereum</td>\n",
       "      <td>ethereum</td>\n",
       "      <td>ethereum</td>\n",
       "      <td>ethereum</td>\n",
       "      <td>ethereum</td>\n",
       "      <td>ethereum</td>\n",
       "      <td>ethereum</td>\n",
       "      <td>ethereum</td>\n",
       "    </tr>\n",
       "    <tr>\n",
       "      <th>2</th>\n",
       "      <td>NaN</td>\n",
       "      <td>NaN</td>\n",
       "      <td>NaN</td>\n",
       "      <td>TVL</td>\n",
       "      <td>TVL</td>\n",
       "      <td>TVL</td>\n",
       "      <td>TVL</td>\n",
       "      <td>TVL</td>\n",
       "      <td>TVL</td>\n",
       "      <td>TVL</td>\n",
       "      <td>...</td>\n",
       "      <td>Tokens</td>\n",
       "      <td>Tokens</td>\n",
       "      <td>Tokens</td>\n",
       "      <td>Tokens</td>\n",
       "      <td>Tokens</td>\n",
       "      <td>Tokens</td>\n",
       "      <td>Tokens</td>\n",
       "      <td>Tokens</td>\n",
       "      <td>Tokens</td>\n",
       "      <td>Tokens</td>\n",
       "    </tr>\n",
       "    <tr>\n",
       "      <th>3</th>\n",
       "      <td>NaN</td>\n",
       "      <td>NaN</td>\n",
       "      <td>NaN</td>\n",
       "      <td>NaN</td>\n",
       "      <td>NaN</td>\n",
       "      <td>NaN</td>\n",
       "      <td>NaN</td>\n",
       "      <td>NaN</td>\n",
       "      <td>NaN</td>\n",
       "      <td>NaN</td>\n",
       "      <td>...</td>\n",
       "      <td>WBTC</td>\n",
       "      <td>SBTC</td>\n",
       "      <td>HBTC</td>\n",
       "      <td>USDK</td>\n",
       "      <td>USDN</td>\n",
       "      <td>GUSD</td>\n",
       "      <td>HUSD</td>\n",
       "      <td>MUSD</td>\n",
       "      <td>RSV</td>\n",
       "      <td>TBTC</td>\n",
       "    </tr>\n",
       "    <tr>\n",
       "      <th>4</th>\n",
       "      <td>NaN</td>\n",
       "      <td>09/02/2020</td>\n",
       "      <td>1.581206e+09</td>\n",
       "      <td>NaN</td>\n",
       "      <td>NaN</td>\n",
       "      <td>1163733.163555646</td>\n",
       "      <td>NaN</td>\n",
       "      <td>NaN</td>\n",
       "      <td>1163733.163555646</td>\n",
       "      <td>NaN</td>\n",
       "      <td>...</td>\n",
       "      <td>NaN</td>\n",
       "      <td>NaN</td>\n",
       "      <td>NaN</td>\n",
       "      <td>NaN</td>\n",
       "      <td>NaN</td>\n",
       "      <td>NaN</td>\n",
       "      <td>NaN</td>\n",
       "      <td>NaN</td>\n",
       "      <td>NaN</td>\n",
       "      <td>NaN</td>\n",
       "    </tr>\n",
       "    <tr>\n",
       "      <th>...</th>\n",
       "      <td>...</td>\n",
       "      <td>...</td>\n",
       "      <td>...</td>\n",
       "      <td>...</td>\n",
       "      <td>...</td>\n",
       "      <td>...</td>\n",
       "      <td>...</td>\n",
       "      <td>...</td>\n",
       "      <td>...</td>\n",
       "      <td>...</td>\n",
       "      <td>...</td>\n",
       "      <td>...</td>\n",
       "      <td>...</td>\n",
       "      <td>...</td>\n",
       "      <td>...</td>\n",
       "      <td>...</td>\n",
       "      <td>...</td>\n",
       "      <td>...</td>\n",
       "      <td>...</td>\n",
       "      <td>...</td>\n",
       "      <td>...</td>\n",
       "    </tr>\n",
       "    <tr>\n",
       "      <th>890</th>\n",
       "      <td>NaN</td>\n",
       "      <td>14/07/2022</td>\n",
       "      <td>1.657757e+09</td>\n",
       "      <td>11683365.414221896</td>\n",
       "      <td>128940272.11470175</td>\n",
       "      <td>5112191464.164293</td>\n",
       "      <td>1527087.6653723603</td>\n",
       "      <td>5188420.818581765</td>\n",
       "      <td>4550925481.900369</td>\n",
       "      <td>71698933.39436468</td>\n",
       "      <td>...</td>\n",
       "      <td>NaN</td>\n",
       "      <td>NaN</td>\n",
       "      <td>NaN</td>\n",
       "      <td>NaN</td>\n",
       "      <td>NaN</td>\n",
       "      <td>NaN</td>\n",
       "      <td>NaN</td>\n",
       "      <td>NaN</td>\n",
       "      <td>NaN</td>\n",
       "      <td>NaN</td>\n",
       "    </tr>\n",
       "    <tr>\n",
       "      <th>891</th>\n",
       "      <td>NaN</td>\n",
       "      <td>15/07/2022</td>\n",
       "      <td>1.657843e+09</td>\n",
       "      <td>11321648.328221604</td>\n",
       "      <td>127926200.70640086</td>\n",
       "      <td>5252916006.444021</td>\n",
       "      <td>1529924.8881579326</td>\n",
       "      <td>6709261.666706267</td>\n",
       "      <td>4697843120.0692625</td>\n",
       "      <td>71328344.12069276</td>\n",
       "      <td>...</td>\n",
       "      <td>NaN</td>\n",
       "      <td>NaN</td>\n",
       "      <td>NaN</td>\n",
       "      <td>NaN</td>\n",
       "      <td>NaN</td>\n",
       "      <td>NaN</td>\n",
       "      <td>NaN</td>\n",
       "      <td>NaN</td>\n",
       "      <td>NaN</td>\n",
       "      <td>NaN</td>\n",
       "    </tr>\n",
       "    <tr>\n",
       "      <th>892</th>\n",
       "      <td>NaN</td>\n",
       "      <td>16/07/2022</td>\n",
       "      <td>1.657930e+09</td>\n",
       "      <td>11503164.188707896</td>\n",
       "      <td>127717819.57878709</td>\n",
       "      <td>5319860006.023603</td>\n",
       "      <td>1531080.9717024018</td>\n",
       "      <td>7676767.764754455</td>\n",
       "      <td>4764679080.819227</td>\n",
       "      <td>71046771.70274982</td>\n",
       "      <td>...</td>\n",
       "      <td>NaN</td>\n",
       "      <td>NaN</td>\n",
       "      <td>NaN</td>\n",
       "      <td>NaN</td>\n",
       "      <td>NaN</td>\n",
       "      <td>NaN</td>\n",
       "      <td>NaN</td>\n",
       "      <td>NaN</td>\n",
       "      <td>NaN</td>\n",
       "      <td>NaN</td>\n",
       "    </tr>\n",
       "    <tr>\n",
       "      <th>893</th>\n",
       "      <td>NaN</td>\n",
       "      <td>17/07/2022</td>\n",
       "      <td>1.658016e+09</td>\n",
       "      <td>11328092.419865165</td>\n",
       "      <td>128034825.70951968</td>\n",
       "      <td>5490801031.700195</td>\n",
       "      <td>1531830.6740342472</td>\n",
       "      <td>8194291.556497392</td>\n",
       "      <td>4931432286.945959</td>\n",
       "      <td>71136594.64468202</td>\n",
       "      <td>...</td>\n",
       "      <td>NaN</td>\n",
       "      <td>NaN</td>\n",
       "      <td>NaN</td>\n",
       "      <td>NaN</td>\n",
       "      <td>NaN</td>\n",
       "      <td>NaN</td>\n",
       "      <td>NaN</td>\n",
       "      <td>NaN</td>\n",
       "      <td>NaN</td>\n",
       "      <td>NaN</td>\n",
       "    </tr>\n",
       "    <tr>\n",
       "      <th>894</th>\n",
       "      <td>NaN</td>\n",
       "      <td>18/07/2022</td>\n",
       "      <td>1.658102e+09</td>\n",
       "      <td>11239232.065385966</td>\n",
       "      <td>128079924.62848246</td>\n",
       "      <td>5504111560.187205</td>\n",
       "      <td>1482656.8292136118</td>\n",
       "      <td>9830502.987897903</td>\n",
       "      <td>4946103243.128083</td>\n",
       "      <td>71374373.96556485</td>\n",
       "      <td>...</td>\n",
       "      <td>NaN</td>\n",
       "      <td>NaN</td>\n",
       "      <td>NaN</td>\n",
       "      <td>NaN</td>\n",
       "      <td>NaN</td>\n",
       "      <td>NaN</td>\n",
       "      <td>NaN</td>\n",
       "      <td>NaN</td>\n",
       "      <td>NaN</td>\n",
       "      <td>NaN</td>\n",
       "    </tr>\n",
       "  </tbody>\n",
       "</table>\n",
       "<p>895 rows × 80 columns</p>\n",
       "</div>"
      ],
      "text/plain": [
       "     Unnamed: 0        Date     Timestamp               Curve  \\\n",
       "0           NaN         NaN           NaN               Dexes   \n",
       "1           NaN         NaN           NaN            optimism   \n",
       "2           NaN         NaN           NaN                 TVL   \n",
       "3           NaN         NaN           NaN                 NaN   \n",
       "4           NaN  09/02/2020  1.581206e+09                 NaN   \n",
       "..          ...         ...           ...                 ...   \n",
       "890         NaN  14/07/2022  1.657757e+09  11683365.414221896   \n",
       "891         NaN  15/07/2022  1.657843e+09  11321648.328221604   \n",
       "892         NaN  16/07/2022  1.657930e+09  11503164.188707896   \n",
       "893         NaN  17/07/2022  1.658016e+09  11328092.419865165   \n",
       "894         NaN  18/07/2022  1.658102e+09  11239232.065385966   \n",
       "\n",
       "                Curve.1            Curve.2             Curve.3  \\\n",
       "0                 Dexes              Dexes               Dexes   \n",
       "1             avalanche              Total             harmony   \n",
       "2                   TVL                TVL                 TVL   \n",
       "3                   NaN                NaN                 NaN   \n",
       "4                   NaN  1163733.163555646                 NaN   \n",
       "..                  ...                ...                 ...   \n",
       "890  128940272.11470175  5112191464.164293  1527087.6653723603   \n",
       "891  127926200.70640086  5252916006.444021  1529924.8881579326   \n",
       "892  127717819.57878709  5319860006.023603  1531080.9717024018   \n",
       "893  128034825.70951968  5490801031.700195  1531830.6740342472   \n",
       "894  128079924.62848246  5504111560.187205  1482656.8292136118   \n",
       "\n",
       "               Curve.4             Curve.5            Curve.6  ...  Curve.67  \\\n",
       "0                Dexes               Dexes              Dexes  ...     Dexes   \n",
       "1             moonbeam            ethereum               xdai  ...  ethereum   \n",
       "2                  TVL                 TVL                TVL  ...    Tokens   \n",
       "3                  NaN                 NaN                NaN  ...      WBTC   \n",
       "4                  NaN   1163733.163555646                NaN  ...       NaN   \n",
       "..                 ...                 ...                ...  ...       ...   \n",
       "890  5188420.818581765   4550925481.900369  71698933.39436468  ...       NaN   \n",
       "891  6709261.666706267  4697843120.0692625  71328344.12069276  ...       NaN   \n",
       "892  7676767.764754455   4764679080.819227  71046771.70274982  ...       NaN   \n",
       "893  8194291.556497392   4931432286.945959  71136594.64468202  ...       NaN   \n",
       "894  9830502.987897903   4946103243.128083  71374373.96556485  ...       NaN   \n",
       "\n",
       "     Curve.68  Curve.69  Curve.70  Curve.71  Curve.72  Curve.73  Curve.74  \\\n",
       "0       Dexes     Dexes     Dexes     Dexes     Dexes     Dexes     Dexes   \n",
       "1    ethereum  ethereum  ethereum  ethereum  ethereum  ethereum  ethereum   \n",
       "2      Tokens    Tokens    Tokens    Tokens    Tokens    Tokens    Tokens   \n",
       "3        SBTC      HBTC      USDK      USDN      GUSD      HUSD      MUSD   \n",
       "4         NaN       NaN       NaN       NaN       NaN       NaN       NaN   \n",
       "..        ...       ...       ...       ...       ...       ...       ...   \n",
       "890       NaN       NaN       NaN       NaN       NaN       NaN       NaN   \n",
       "891       NaN       NaN       NaN       NaN       NaN       NaN       NaN   \n",
       "892       NaN       NaN       NaN       NaN       NaN       NaN       NaN   \n",
       "893       NaN       NaN       NaN       NaN       NaN       NaN       NaN   \n",
       "894       NaN       NaN       NaN       NaN       NaN       NaN       NaN   \n",
       "\n",
       "     Curve.75  Curve.76  \n",
       "0       Dexes     Dexes  \n",
       "1    ethereum  ethereum  \n",
       "2      Tokens    Tokens  \n",
       "3         RSV      TBTC  \n",
       "4         NaN       NaN  \n",
       "..        ...       ...  \n",
       "890       NaN       NaN  \n",
       "891       NaN       NaN  \n",
       "892       NaN       NaN  \n",
       "893       NaN       NaN  \n",
       "894       NaN       NaN  \n",
       "\n",
       "[895 rows x 80 columns]"
      ]
     },
     "execution_count": 27,
     "metadata": {},
     "output_type": "execute_result"
    }
   ],
   "source": [
    "lma"
   ]
  },
  {
   "cell_type": "code",
   "execution_count": 28,
   "metadata": {},
   "outputs": [
    {
     "data": {
      "text/plain": [
       "12866343024.997925"
      ]
     },
     "execution_count": 28,
     "metadata": {},
     "output_type": "execute_result"
    }
   ],
   "source": [
    "#Just eth currently can take total by changing the header\n",
    "lma.iloc[-183:, 8].astype(float).mean()"
   ]
  },
  {
   "cell_type": "code",
   "execution_count": null,
   "metadata": {},
   "outputs": [],
   "source": []
  },
  {
   "cell_type": "markdown",
   "metadata": {},
   "source": [
    "Largest Pool Concentration"
   ]
  },
  {
   "cell_type": "code",
   "execution_count": 43,
   "metadata": {},
   "outputs": [
    {
     "name": "stderr",
     "output_type": "stream",
     "text": [
      "/tmp/ipykernel_3055/2291472997.py:22: FutureWarning: The frame.append method is deprecated and will be removed from pandas in a future version. Use pandas.concat instead.\n",
      "  df = df.append(pool)\n"
     ]
    }
   ],
   "source": [
    "df = pd.DataFrame()\n",
    "ts = 0\n",
    "\n",
    "while True:\n",
    "    sl = len(df)\n",
    "    query = \"\"\"\n",
    "{\n",
    "  liquidityPools(first:1000, orderBy: createdTimestamp, orderDirection: asc, where: {createdTimestamp_gt: \"\"\"+f'\"{ts}\"'+\"\"\"}){\n",
    "    id\n",
    "    name\n",
    "    totalValueLockedUSD\n",
    "    cumulativeVolumeUSD\n",
    "    createdTimestamp\n",
    "    createdBlockNumber\n",
    "  }\n",
    "}\n",
    "\"\"\"\n",
    "    request = requests.post(endpoint, json={'query':query})\n",
    "    data = request.json()\n",
    "\n",
    "    pool = pd.json_normalize(data['data']['liquidityPools'])\n",
    "    df = df.append(pool)\n",
    "    df.drop_duplicates(inplace=True)\n",
    "    if len(df) == sl:\n",
    "      break\n",
    "    ts = df['createdTimestamp'].max()\n"
   ]
  },
  {
   "cell_type": "code",
   "execution_count": 44,
   "metadata": {},
   "outputs": [
    {
     "data": {
      "text/html": [
       "<div>\n",
       "<style scoped>\n",
       "    .dataframe tbody tr th:only-of-type {\n",
       "        vertical-align: middle;\n",
       "    }\n",
       "\n",
       "    .dataframe tbody tr th {\n",
       "        vertical-align: top;\n",
       "    }\n",
       "\n",
       "    .dataframe thead th {\n",
       "        text-align: right;\n",
       "    }\n",
       "</style>\n",
       "<table border=\"1\" class=\"dataframe\">\n",
       "  <thead>\n",
       "    <tr style=\"text-align: right;\">\n",
       "      <th></th>\n",
       "      <th>id</th>\n",
       "      <th>name</th>\n",
       "      <th>totalValueLockedUSD</th>\n",
       "      <th>cumulativeVolumeUSD</th>\n",
       "      <th>createdTimestamp</th>\n",
       "      <th>createdBlockNumber</th>\n",
       "    </tr>\n",
       "  </thead>\n",
       "  <tbody>\n",
       "    <tr>\n",
       "      <th>0</th>\n",
       "      <td>0x52ea46506b9cc5ef470c5bf89f17dc28bb35d85c</td>\n",
       "      <td>Curve.fi cDAI/cUSDC/USDT</td>\n",
       "      <td>4727483.62146723</td>\n",
       "      <td>325882589.7771241412015846575</td>\n",
       "      <td>1581353158</td>\n",
       "      <td>9456293</td>\n",
       "    </tr>\n",
       "    <tr>\n",
       "      <th>1</th>\n",
       "      <td>0x45f783cce6b7ff23b2ab2d70e416cdb7d6055f51</td>\n",
       "      <td>Curve.fi yDAI/yUSDC/yUSDT/yTUSD</td>\n",
       "      <td>9896684.778118787419320378</td>\n",
       "      <td>4164216137.306760717032287986</td>\n",
       "      <td>1581620865</td>\n",
       "      <td>9476468</td>\n",
       "    </tr>\n",
       "    <tr>\n",
       "      <th>2</th>\n",
       "      <td>0xa2b47e3d5c44877cca798226b7b8118f9bfb7a56</td>\n",
       "      <td>Curve.fi cDAI/cUSDC</td>\n",
       "      <td>71682037.07791614436485609179162948</td>\n",
       "      <td>35998107.56220225854876836720593083</td>\n",
       "      <td>1582652911</td>\n",
       "      <td>9554040</td>\n",
       "    </tr>\n",
       "    <tr>\n",
       "      <th>3</th>\n",
       "      <td>0x79a8c46dea5ada233abaffd40f3a0a2b1e5a4f27</td>\n",
       "      <td>Curve.fi yDAI/yUSDC/yUSDT/yBUSD</td>\n",
       "      <td>9046135.661778435912314576</td>\n",
       "      <td>1655243106.3415161114471576105</td>\n",
       "      <td>1582828615</td>\n",
       "      <td>9567295</td>\n",
       "    </tr>\n",
       "    <tr>\n",
       "      <th>4</th>\n",
       "      <td>0xa5407eae9ba41422680e2e00537571bcc53efbfd</td>\n",
       "      <td>Curve.fi DAI/USDC/USDT/sUSD</td>\n",
       "      <td>139237888.072652683478431597</td>\n",
       "      <td>16965620690.0295902165960410825</td>\n",
       "      <td>1587348844</td>\n",
       "      <td>9906598</td>\n",
       "    </tr>\n",
       "    <tr>\n",
       "      <th>...</th>\n",
       "      <td>...</td>\n",
       "      <td>...</td>\n",
       "      <td>...</td>\n",
       "      <td>...</td>\n",
       "      <td>...</td>\n",
       "      <td>...</td>\n",
       "    </tr>\n",
       "    <tr>\n",
       "      <th>334</th>\n",
       "      <td>0xb30da2376f63de30b42dc055c93fa474f31330a5</td>\n",
       "      <td>Curve.fi Factory USD Metapool: alUSDFRAXBP</td>\n",
       "      <td>17003.987376552850958636</td>\n",
       "      <td>3149.631549823209645115</td>\n",
       "      <td>1657597179</td>\n",
       "      <td>15125488</td>\n",
       "    </tr>\n",
       "    <tr>\n",
       "      <th>335</th>\n",
       "      <td>0xd3301b7caa76f932816a6fc7ef0b673238e217ad</td>\n",
       "      <td>Curve.fi Factory Crypto Pool: BENT/FRAX</td>\n",
       "      <td>0</td>\n",
       "      <td>0</td>\n",
       "      <td>1657678738</td>\n",
       "      <td>15131595</td>\n",
       "    </tr>\n",
       "    <tr>\n",
       "      <th>336</th>\n",
       "      <td>0xb2e2536821521174a168eda7be78a6c70ea6e5fa</td>\n",
       "      <td>Curve.fi Factory Crypto Pool: BENTCVX/FRAX</td>\n",
       "      <td>0</td>\n",
       "      <td>0</td>\n",
       "      <td>1657678861</td>\n",
       "      <td>15131603</td>\n",
       "    </tr>\n",
       "    <tr>\n",
       "      <th>337</th>\n",
       "      <td>0x316d2606ce036ec0e69a11432a870a4ec66ade96</td>\n",
       "      <td>Curve.fi Factory Crypto Pool: APW/ETH</td>\n",
       "      <td>0</td>\n",
       "      <td>0</td>\n",
       "      <td>1657712322</td>\n",
       "      <td>15134061</td>\n",
       "    </tr>\n",
       "    <tr>\n",
       "      <th>338</th>\n",
       "      <td>0xc78d84ee5d970227f988a2e2dc0a4a945163bcb9</td>\n",
       "      <td>Curve.fi Factory Crypto Pool: APW/ETH</td>\n",
       "      <td>0</td>\n",
       "      <td>0</td>\n",
       "      <td>1657712444</td>\n",
       "      <td>15134071</td>\n",
       "    </tr>\n",
       "  </tbody>\n",
       "</table>\n",
       "<p>339 rows × 6 columns</p>\n",
       "</div>"
      ],
      "text/plain": [
       "                                             id  \\\n",
       "0    0x52ea46506b9cc5ef470c5bf89f17dc28bb35d85c   \n",
       "1    0x45f783cce6b7ff23b2ab2d70e416cdb7d6055f51   \n",
       "2    0xa2b47e3d5c44877cca798226b7b8118f9bfb7a56   \n",
       "3    0x79a8c46dea5ada233abaffd40f3a0a2b1e5a4f27   \n",
       "4    0xa5407eae9ba41422680e2e00537571bcc53efbfd   \n",
       "..                                          ...   \n",
       "334  0xb30da2376f63de30b42dc055c93fa474f31330a5   \n",
       "335  0xd3301b7caa76f932816a6fc7ef0b673238e217ad   \n",
       "336  0xb2e2536821521174a168eda7be78a6c70ea6e5fa   \n",
       "337  0x316d2606ce036ec0e69a11432a870a4ec66ade96   \n",
       "338  0xc78d84ee5d970227f988a2e2dc0a4a945163bcb9   \n",
       "\n",
       "                                           name  \\\n",
       "0                      Curve.fi cDAI/cUSDC/USDT   \n",
       "1               Curve.fi yDAI/yUSDC/yUSDT/yTUSD   \n",
       "2                           Curve.fi cDAI/cUSDC   \n",
       "3               Curve.fi yDAI/yUSDC/yUSDT/yBUSD   \n",
       "4                   Curve.fi DAI/USDC/USDT/sUSD   \n",
       "..                                          ...   \n",
       "334  Curve.fi Factory USD Metapool: alUSDFRAXBP   \n",
       "335     Curve.fi Factory Crypto Pool: BENT/FRAX   \n",
       "336  Curve.fi Factory Crypto Pool: BENTCVX/FRAX   \n",
       "337       Curve.fi Factory Crypto Pool: APW/ETH   \n",
       "338       Curve.fi Factory Crypto Pool: APW/ETH   \n",
       "\n",
       "                     totalValueLockedUSD                  cumulativeVolumeUSD  \\\n",
       "0                       4727483.62146723        325882589.7771241412015846575   \n",
       "1             9896684.778118787419320378        4164216137.306760717032287986   \n",
       "2    71682037.07791614436485609179162948  35998107.56220225854876836720593083   \n",
       "3             9046135.661778435912314576       1655243106.3415161114471576105   \n",
       "4           139237888.072652683478431597      16965620690.0295902165960410825   \n",
       "..                                   ...                                  ...   \n",
       "334             17003.987376552850958636              3149.631549823209645115   \n",
       "335                                    0                                    0   \n",
       "336                                    0                                    0   \n",
       "337                                    0                                    0   \n",
       "338                                    0                                    0   \n",
       "\n",
       "    createdTimestamp createdBlockNumber  \n",
       "0         1581353158            9456293  \n",
       "1         1581620865            9476468  \n",
       "2         1582652911            9554040  \n",
       "3         1582828615            9567295  \n",
       "4         1587348844            9906598  \n",
       "..               ...                ...  \n",
       "334       1657597179           15125488  \n",
       "335       1657678738           15131595  \n",
       "336       1657678861           15131603  \n",
       "337       1657712322           15134061  \n",
       "338       1657712444           15134071  \n",
       "\n",
       "[339 rows x 6 columns]"
      ]
     },
     "execution_count": 44,
     "metadata": {},
     "output_type": "execute_result"
    }
   ],
   "source": [
    "df"
   ]
  },
  {
   "cell_type": "code",
   "execution_count": 45,
   "metadata": {},
   "outputs": [
    {
     "data": {
      "text/plain": [
       "0.6030646909652808"
      ]
     },
     "execution_count": 45,
     "metadata": {},
     "output_type": "execute_result"
    }
   ],
   "source": [
    "df['totalValueLockedUSD'].astype(float).max()/df['totalValueLockedUSD'].astype(float).sum()"
   ]
  },
  {
   "cell_type": "code",
   "execution_count": 46,
   "metadata": {},
   "outputs": [
    {
     "data": {
      "text/plain": [
       "0.906398714717815"
      ]
     },
     "execution_count": 46,
     "metadata": {},
     "output_type": "execute_result"
    }
   ],
   "source": [
    "df['totalValueLockedUSD'].astype(float).nlargest(10).sum()/df['totalValueLockedUSD'].astype(float).sum()"
   ]
  },
  {
   "cell_type": "markdown",
   "metadata": {},
   "source": [
    "Liquidity Pools with > $1mn TVL"
   ]
  },
  {
   "cell_type": "code",
   "execution_count": 32,
   "metadata": {},
   "outputs": [
    {
     "data": {
      "text/plain": [
       "83"
      ]
     },
     "execution_count": 32,
     "metadata": {},
     "output_type": "execute_result"
    }
   ],
   "source": [
    "len(df.loc[df['totalValueLockedUSD'].astype(float) > 1000000])"
   ]
  },
  {
   "cell_type": "code",
   "execution_count": null,
   "metadata": {},
   "outputs": [],
   "source": []
  },
  {
   "cell_type": "markdown",
   "metadata": {},
   "source": [
    "Monthly Active Users"
   ]
  },
  {
   "cell_type": "code",
   "execution_count": 33,
   "metadata": {},
   "outputs": [],
   "source": [
    "query = \"\"\"{\n",
    "  usageMetricsDailySnapshots(first: 183, orderBy: timestamp, orderDirection: desc){\n",
    "    timestamp\n",
    "    blockNumber\n",
    "    id\n",
    "    dailyActiveUsers\n",
    "    dailySwapCount\n",
    "    dailyDepositCount\n",
    "    dailyWithdrawCount \n",
    "  }\n",
    "}\n",
    "\"\"\""
   ]
  },
  {
   "cell_type": "code",
   "execution_count": 36,
   "metadata": {},
   "outputs": [],
   "source": [
    "request = requests.post(endpoint, json={'query':query})\n",
    "data = request.json()"
   ]
  },
  {
   "cell_type": "code",
   "execution_count": 37,
   "metadata": {},
   "outputs": [],
   "source": [
    "df = pd.json_normalize(data['data']['usageMetricsDailySnapshots'])"
   ]
  },
  {
   "cell_type": "code",
   "execution_count": 38,
   "metadata": {},
   "outputs": [],
   "source": [
    "df['date'] = df['timestamp'].astype(int).apply(lambda x: dt.datetime.fromtimestamp(x))"
   ]
  },
  {
   "cell_type": "code",
   "execution_count": 39,
   "metadata": {},
   "outputs": [],
   "source": [
    "monthactiveusers = []\n",
    "for i in range(len(df['date'].dt.month.unique())):\n",
    "    monthactiveusers.append(df['dailyActiveUsers'].loc[df['date'].dt.month == df['date'].dt.month.unique()[i]].astype(float).sum())"
   ]
  },
  {
   "cell_type": "code",
   "execution_count": 40,
   "metadata": {},
   "outputs": [
    {
     "data": {
      "text/plain": [
       "27812.85714285714"
      ]
     },
     "execution_count": 40,
     "metadata": {},
     "output_type": "execute_result"
    }
   ],
   "source": [
    "np.mean(monthactiveusers) #can chart this easy"
   ]
  },
  {
   "cell_type": "code",
   "execution_count": null,
   "metadata": {},
   "outputs": [],
   "source": []
  },
  {
   "cell_type": "markdown",
   "metadata": {},
   "source": [
    "Implied slippage"
   ]
  },
  {
   "cell_type": "code",
   "execution_count": null,
   "metadata": {},
   "outputs": [],
   "source": []
  },
  {
   "cell_type": "code",
   "execution_count": null,
   "metadata": {},
   "outputs": [],
   "source": []
  },
  {
   "cell_type": "code",
   "execution_count": null,
   "metadata": {},
   "outputs": [],
   "source": []
  }
 ],
 "metadata": {
  "kernelspec": {
   "display_name": "Python 3.8.10 64-bit",
   "language": "python",
   "name": "python3"
  },
  "language_info": {
   "codemirror_mode": {
    "name": "ipython",
    "version": 3
   },
   "file_extension": ".py",
   "mimetype": "text/x-python",
   "name": "python",
   "nbconvert_exporter": "python",
   "pygments_lexer": "ipython3",
   "version": "3.8.10"
  },
  "orig_nbformat": 4,
  "vscode": {
   "interpreter": {
    "hash": "916dbcbb3f70747c44a77c7bcd40155683ae19c65e1c03b4aa3499c5328201f1"
   }
  }
 },
 "nbformat": 4,
 "nbformat_minor": 2
}
