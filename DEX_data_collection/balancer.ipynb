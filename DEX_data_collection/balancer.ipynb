{
 "cells": [
  {
   "cell_type": "markdown",
   "metadata": {},
   "source": [
    "## Messari standardised subgraphs\n",
    "\n",
    "https://github.com/messari/subgraphs\n",
    "\n",
    "### Balancer\n",
    "\n",
    "https://api.thegraph.com/subgraphs/name/messari/balancer-v2-ethereum\n",
    "\n",
    "06/09/2022 Price impact still needed"
   ]
  },
  {
   "cell_type": "code",
   "execution_count": 1,
   "metadata": {},
   "outputs": [],
   "source": [
    "import pandas as pd\n",
    "import numpy as np\n",
    "import time\n",
    "import requests\n",
    "import datetime as dt"
   ]
  },
  {
   "cell_type": "code",
   "execution_count": 2,
   "metadata": {},
   "outputs": [],
   "source": [
    "endpoint = 'https://api.thegraph.com/subgraphs/name/messari/balancer-v2-ethereum'"
   ]
  },
  {
   "cell_type": "code",
   "execution_count": 3,
   "metadata": {},
   "outputs": [
    {
     "data": {
      "text/plain": [
       "True"
      ]
     },
     "execution_count": 3,
     "metadata": {},
     "output_type": "execute_result"
    }
   ],
   "source": [
    "#Check if subgraph is up to date\n",
    "query = \"\"\"{\n",
    "  _meta{\n",
    "    block{\n",
    "      timestamp\n",
    "  \t\thash\n",
    "      number\n",
    "    }\n",
    "    hasIndexingErrors\n",
    "    deployment\n",
    "  }\n",
    "}\"\"\"\n",
    "request = requests.post(endpoint, json={'query':query})\n",
    "data = request.json()\n",
    "#Check if it is ok to run i.e. within 5 days of today\n",
    "int(data['data']['_meta']['block']['timestamp'], base = 0) > (dt.datetime.today().timestamp() - 3600*24*5)"
   ]
  },
  {
   "cell_type": "markdown",
   "metadata": {},
   "source": [
    "6-Month Average Daily Volume"
   ]
  },
  {
   "cell_type": "code",
   "execution_count": 4,
   "metadata": {},
   "outputs": [],
   "source": [
    "query = \"\"\"{\n",
    "  financialsDailySnapshots(first: 183, orderBy: timestamp, orderDirection: desc){\n",
    "    id\n",
    "    protocol{\n",
    "      name\n",
    "    }\n",
    "    dailyVolumeUSD\n",
    "    dailyTotalRevenueUSD\n",
    "    dailySupplySideRevenueUSD\n",
    "    dailyProtocolSideRevenueUSD\n",
    "    timestamp\n",
    "    blockNumber\n",
    "  }\n",
    "}\n",
    "\"\"\""
   ]
  },
  {
   "cell_type": "code",
   "execution_count": 5,
   "metadata": {},
   "outputs": [],
   "source": [
    "request = requests.post(endpoint, json={'query':query})\n",
    "data = request.json()"
   ]
  },
  {
   "cell_type": "code",
   "execution_count": 6,
   "metadata": {},
   "outputs": [],
   "source": [
    "df = pd.json_normalize(data['data']['financialsDailySnapshots'])"
   ]
  },
  {
   "cell_type": "code",
   "execution_count": 8,
   "metadata": {},
   "outputs": [
    {
     "data": {
      "text/plain": [
       "89546052.40941167"
      ]
     },
     "execution_count": 8,
     "metadata": {},
     "output_type": "execute_result"
    }
   ],
   "source": [
    "df['dailyVolumeUSD'].astype(float).mean()"
   ]
  },
  {
   "cell_type": "markdown",
   "metadata": {},
   "source": [
    "6-Month Average TVL"
   ]
  },
  {
   "cell_type": "code",
   "execution_count": 9,
   "metadata": {},
   "outputs": [],
   "source": [
    "#DefiLlama https://defillama.com/protocols/dexes \n",
    "lma = pd.read_csv(\"https://api.llama.fi/dataset/balancer.csv\")"
   ]
  },
  {
   "cell_type": "code",
   "execution_count": 10,
   "metadata": {},
   "outputs": [
    {
     "data": {
      "text/html": [
       "<div>\n",
       "<style scoped>\n",
       "    .dataframe tbody tr th:only-of-type {\n",
       "        vertical-align: middle;\n",
       "    }\n",
       "\n",
       "    .dataframe tbody tr th {\n",
       "        vertical-align: top;\n",
       "    }\n",
       "\n",
       "    .dataframe thead th {\n",
       "        text-align: right;\n",
       "    }\n",
       "</style>\n",
       "<table border=\"1\" class=\"dataframe\">\n",
       "  <thead>\n",
       "    <tr style=\"text-align: right;\">\n",
       "      <th></th>\n",
       "      <th>Unnamed: 0</th>\n",
       "      <th>Date</th>\n",
       "      <th>Timestamp</th>\n",
       "      <th>Balancer</th>\n",
       "      <th>Balancer.1</th>\n",
       "      <th>Balancer.2</th>\n",
       "      <th>Balancer.3</th>\n",
       "      <th>Balancer.4</th>\n",
       "      <th>Balancer.5</th>\n",
       "      <th>Balancer.6</th>\n",
       "      <th>Balancer.7</th>\n",
       "      <th>Balancer.8</th>\n",
       "      <th>Balancer.9</th>\n",
       "      <th>Balancer.10</th>\n",
       "      <th>Balancer.11</th>\n",
       "    </tr>\n",
       "  </thead>\n",
       "  <tbody>\n",
       "    <tr>\n",
       "      <th>0</th>\n",
       "      <td>NaN</td>\n",
       "      <td>NaN</td>\n",
       "      <td>NaN</td>\n",
       "      <td>Dexes</td>\n",
       "      <td>Dexes</td>\n",
       "      <td>Dexes</td>\n",
       "      <td>Dexes</td>\n",
       "      <td>Dexes</td>\n",
       "      <td>Dexes</td>\n",
       "      <td>Dexes</td>\n",
       "      <td>Dexes</td>\n",
       "      <td>Dexes</td>\n",
       "      <td>Dexes</td>\n",
       "      <td>Dexes</td>\n",
       "      <td>Dexes</td>\n",
       "    </tr>\n",
       "    <tr>\n",
       "      <th>1</th>\n",
       "      <td>NaN</td>\n",
       "      <td>NaN</td>\n",
       "      <td>NaN</td>\n",
       "      <td>ethereum</td>\n",
       "      <td>polygon</td>\n",
       "      <td>arbitrum</td>\n",
       "      <td>Total</td>\n",
       "      <td>ethereum</td>\n",
       "      <td>polygon</td>\n",
       "      <td>arbitrum</td>\n",
       "      <td>Total</td>\n",
       "      <td>ethereum</td>\n",
       "      <td>polygon</td>\n",
       "      <td>arbitrum</td>\n",
       "      <td>Total</td>\n",
       "    </tr>\n",
       "    <tr>\n",
       "      <th>2</th>\n",
       "      <td>NaN</td>\n",
       "      <td>NaN</td>\n",
       "      <td>NaN</td>\n",
       "      <td>TVL</td>\n",
       "      <td>TVL</td>\n",
       "      <td>TVL</td>\n",
       "      <td>TVL</td>\n",
       "      <td>Tokens(USD)</td>\n",
       "      <td>Tokens(USD)</td>\n",
       "      <td>Tokens(USD)</td>\n",
       "      <td>Tokens(USD)</td>\n",
       "      <td>Tokens</td>\n",
       "      <td>Tokens</td>\n",
       "      <td>Tokens</td>\n",
       "      <td>Tokens</td>\n",
       "    </tr>\n",
       "    <tr>\n",
       "      <th>3</th>\n",
       "      <td>NaN</td>\n",
       "      <td>NaN</td>\n",
       "      <td>NaN</td>\n",
       "      <td>NaN</td>\n",
       "      <td>NaN</td>\n",
       "      <td>NaN</td>\n",
       "      <td>NaN</td>\n",
       "      <td>USDT</td>\n",
       "      <td>USDT</td>\n",
       "      <td>USDT</td>\n",
       "      <td>USDT</td>\n",
       "      <td>USDT</td>\n",
       "      <td>USDT</td>\n",
       "      <td>USDT</td>\n",
       "      <td>USDT</td>\n",
       "    </tr>\n",
       "    <tr>\n",
       "      <th>4</th>\n",
       "      <td>NaN</td>\n",
       "      <td>24/03/2020</td>\n",
       "      <td>1.585008e+09</td>\n",
       "      <td>7833.948843186513</td>\n",
       "      <td>NaN</td>\n",
       "      <td>NaN</td>\n",
       "      <td>7833.948843186513</td>\n",
       "      <td>7833.948843186513</td>\n",
       "      <td>NaN</td>\n",
       "      <td>NaN</td>\n",
       "      <td>7833.948843186513</td>\n",
       "      <td>7808.045244</td>\n",
       "      <td>NaN</td>\n",
       "      <td>NaN</td>\n",
       "      <td>7808.045244</td>\n",
       "    </tr>\n",
       "    <tr>\n",
       "      <th>...</th>\n",
       "      <td>...</td>\n",
       "      <td>...</td>\n",
       "      <td>...</td>\n",
       "      <td>...</td>\n",
       "      <td>...</td>\n",
       "      <td>...</td>\n",
       "      <td>...</td>\n",
       "      <td>...</td>\n",
       "      <td>...</td>\n",
       "      <td>...</td>\n",
       "      <td>...</td>\n",
       "      <td>...</td>\n",
       "      <td>...</td>\n",
       "      <td>...</td>\n",
       "      <td>...</td>\n",
       "    </tr>\n",
       "    <tr>\n",
       "      <th>895</th>\n",
       "      <td>NaN</td>\n",
       "      <td>02/09/2022</td>\n",
       "      <td>1.662077e+09</td>\n",
       "      <td>1549684069.427236</td>\n",
       "      <td>62754098.087032</td>\n",
       "      <td>13368539.162001</td>\n",
       "      <td>1625806706.676269</td>\n",
       "      <td>1549684069.427236</td>\n",
       "      <td>62754098.087032</td>\n",
       "      <td>13368539.162001</td>\n",
       "      <td>1625806706.676269</td>\n",
       "      <td>1549684069.427236</td>\n",
       "      <td>62754098.087032</td>\n",
       "      <td>13368539.162001</td>\n",
       "      <td>1625806706.676269</td>\n",
       "    </tr>\n",
       "    <tr>\n",
       "      <th>896</th>\n",
       "      <td>NaN</td>\n",
       "      <td>03/09/2022</td>\n",
       "      <td>1.662163e+09</td>\n",
       "      <td>1535451483.2507179</td>\n",
       "      <td>63447447.130664594</td>\n",
       "      <td>13164413.901126487</td>\n",
       "      <td>1612063344.2825089</td>\n",
       "      <td>1535451483.2507179</td>\n",
       "      <td>63447447.130664594</td>\n",
       "      <td>13164413.901126487</td>\n",
       "      <td>1612063344.2825089</td>\n",
       "      <td>1533917565.685033</td>\n",
       "      <td>63384063.067597</td>\n",
       "      <td>13151262.638488</td>\n",
       "      <td>1610452891.391118</td>\n",
       "    </tr>\n",
       "    <tr>\n",
       "      <th>897</th>\n",
       "      <td>NaN</td>\n",
       "      <td>04/09/2022</td>\n",
       "      <td>1.662250e+09</td>\n",
       "      <td>1477124788.9708078</td>\n",
       "      <td>63872848.249165945</td>\n",
       "      <td>12990612.84019599</td>\n",
       "      <td>1553988250.0601697</td>\n",
       "      <td>1477124788.9708078</td>\n",
       "      <td>63872848.249165945</td>\n",
       "      <td>12990612.84019599</td>\n",
       "      <td>1553988250.0601697</td>\n",
       "      <td>1475649139.830977</td>\n",
       "      <td>63809039.209956</td>\n",
       "      <td>12977635.204991</td>\n",
       "      <td>1552435814.245924</td>\n",
       "    </tr>\n",
       "    <tr>\n",
       "      <th>898</th>\n",
       "      <td>NaN</td>\n",
       "      <td>05/09/2022</td>\n",
       "      <td>1.662336e+09</td>\n",
       "      <td>1531002701.0175686</td>\n",
       "      <td>66757736.028127134</td>\n",
       "      <td>13016076.236632468</td>\n",
       "      <td>1610776513.2823284</td>\n",
       "      <td>1531002701.0175686</td>\n",
       "      <td>66757736.028127134</td>\n",
       "      <td>13016076.236632468</td>\n",
       "      <td>1610776513.2823284</td>\n",
       "      <td>1529473227.789779</td>\n",
       "      <td>66691044.983144</td>\n",
       "      <td>13003073.163469</td>\n",
       "      <td>1609167345.936392</td>\n",
       "    </tr>\n",
       "    <tr>\n",
       "      <th>899</th>\n",
       "      <td>NaN</td>\n",
       "      <td>06/09/2022</td>\n",
       "      <td>1.662422e+09</td>\n",
       "      <td>1449104757.983931</td>\n",
       "      <td>66749497.611381575</td>\n",
       "      <td>13519758.876332708</td>\n",
       "      <td>1529374014.4716454</td>\n",
       "      <td>1449104757.983931</td>\n",
       "      <td>66749497.611381575</td>\n",
       "      <td>13519758.876332708</td>\n",
       "      <td>1529374014.4716454</td>\n",
       "      <td>1447657100.883048</td>\n",
       "      <td>66682814.796585</td>\n",
       "      <td>13506252.623709</td>\n",
       "      <td>1527846168.303342</td>\n",
       "    </tr>\n",
       "  </tbody>\n",
       "</table>\n",
       "<p>900 rows × 15 columns</p>\n",
       "</div>"
      ],
      "text/plain": [
       "     Unnamed: 0        Date     Timestamp            Balancer  \\\n",
       "0           NaN         NaN           NaN               Dexes   \n",
       "1           NaN         NaN           NaN            ethereum   \n",
       "2           NaN         NaN           NaN                 TVL   \n",
       "3           NaN         NaN           NaN                 NaN   \n",
       "4           NaN  24/03/2020  1.585008e+09   7833.948843186513   \n",
       "..          ...         ...           ...                 ...   \n",
       "895         NaN  02/09/2022  1.662077e+09   1549684069.427236   \n",
       "896         NaN  03/09/2022  1.662163e+09  1535451483.2507179   \n",
       "897         NaN  04/09/2022  1.662250e+09  1477124788.9708078   \n",
       "898         NaN  05/09/2022  1.662336e+09  1531002701.0175686   \n",
       "899         NaN  06/09/2022  1.662422e+09   1449104757.983931   \n",
       "\n",
       "             Balancer.1          Balancer.2          Balancer.3  \\\n",
       "0                 Dexes               Dexes               Dexes   \n",
       "1               polygon            arbitrum               Total   \n",
       "2                   TVL                 TVL                 TVL   \n",
       "3                   NaN                 NaN                 NaN   \n",
       "4                   NaN                 NaN   7833.948843186513   \n",
       "..                  ...                 ...                 ...   \n",
       "895     62754098.087032     13368539.162001   1625806706.676269   \n",
       "896  63447447.130664594  13164413.901126487  1612063344.2825089   \n",
       "897  63872848.249165945   12990612.84019599  1553988250.0601697   \n",
       "898  66757736.028127134  13016076.236632468  1610776513.2823284   \n",
       "899  66749497.611381575  13519758.876332708  1529374014.4716454   \n",
       "\n",
       "             Balancer.4          Balancer.5          Balancer.6  \\\n",
       "0                 Dexes               Dexes               Dexes   \n",
       "1              ethereum             polygon            arbitrum   \n",
       "2           Tokens(USD)         Tokens(USD)         Tokens(USD)   \n",
       "3                  USDT                USDT                USDT   \n",
       "4     7833.948843186513                 NaN                 NaN   \n",
       "..                  ...                 ...                 ...   \n",
       "895   1549684069.427236     62754098.087032     13368539.162001   \n",
       "896  1535451483.2507179  63447447.130664594  13164413.901126487   \n",
       "897  1477124788.9708078  63872848.249165945   12990612.84019599   \n",
       "898  1531002701.0175686  66757736.028127134  13016076.236632468   \n",
       "899   1449104757.983931  66749497.611381575  13519758.876332708   \n",
       "\n",
       "             Balancer.7         Balancer.8       Balancer.9      Balancer.10  \\\n",
       "0                 Dexes              Dexes            Dexes            Dexes   \n",
       "1                 Total           ethereum          polygon         arbitrum   \n",
       "2           Tokens(USD)             Tokens           Tokens           Tokens   \n",
       "3                  USDT               USDT             USDT             USDT   \n",
       "4     7833.948843186513        7808.045244              NaN              NaN   \n",
       "..                  ...                ...              ...              ...   \n",
       "895   1625806706.676269  1549684069.427236  62754098.087032  13368539.162001   \n",
       "896  1612063344.2825089  1533917565.685033  63384063.067597  13151262.638488   \n",
       "897  1553988250.0601697  1475649139.830977  63809039.209956  12977635.204991   \n",
       "898  1610776513.2823284  1529473227.789779  66691044.983144  13003073.163469   \n",
       "899  1529374014.4716454  1447657100.883048  66682814.796585  13506252.623709   \n",
       "\n",
       "           Balancer.11  \n",
       "0                Dexes  \n",
       "1                Total  \n",
       "2               Tokens  \n",
       "3                 USDT  \n",
       "4          7808.045244  \n",
       "..                 ...  \n",
       "895  1625806706.676269  \n",
       "896  1610452891.391118  \n",
       "897  1552435814.245924  \n",
       "898  1609167345.936392  \n",
       "899  1527846168.303342  \n",
       "\n",
       "[900 rows x 15 columns]"
      ]
     },
     "execution_count": 10,
     "metadata": {},
     "output_type": "execute_result"
    }
   ],
   "source": [
    "lma"
   ]
  },
  {
   "cell_type": "code",
   "execution_count": 11,
   "metadata": {},
   "outputs": [
    {
     "data": {
      "text/plain": [
       "2011415420.2205076"
      ]
     },
     "execution_count": 11,
     "metadata": {},
     "output_type": "execute_result"
    }
   ],
   "source": [
    "#Just eth currently can take total by changing the header\n",
    "lma.iloc[-183:, 3].astype(float).mean()"
   ]
  },
  {
   "cell_type": "code",
   "execution_count": null,
   "metadata": {},
   "outputs": [],
   "source": []
  },
  {
   "cell_type": "markdown",
   "metadata": {},
   "source": [
    "Largest Pool Concentration"
   ]
  },
  {
   "cell_type": "code",
   "execution_count": 12,
   "metadata": {},
   "outputs": [
    {
     "name": "stderr",
     "output_type": "stream",
     "text": [
      "/tmp/ipykernel_106821/2291472997.py:22: FutureWarning: The frame.append method is deprecated and will be removed from pandas in a future version. Use pandas.concat instead.\n",
      "  df = df.append(pool)\n"
     ]
    }
   ],
   "source": [
    "df = pd.DataFrame()\n",
    "ts = 0\n",
    "\n",
    "while True:\n",
    "    sl = len(df)\n",
    "    query = \"\"\"\n",
    "{\n",
    "  liquidityPools(first:1000, orderBy: createdTimestamp, orderDirection: asc, where: {createdTimestamp_gt: \"\"\"+f'\"{ts}\"'+\"\"\"}){\n",
    "    id\n",
    "    name\n",
    "    totalValueLockedUSD\n",
    "    cumulativeVolumeUSD\n",
    "    createdTimestamp\n",
    "    createdBlockNumber\n",
    "  }\n",
    "}\n",
    "\"\"\"\n",
    "    request = requests.post(endpoint, json={'query':query})\n",
    "    data = request.json()\n",
    "\n",
    "    pool = pd.json_normalize(data['data']['liquidityPools'])\n",
    "    df = df.append(pool)\n",
    "    df.drop_duplicates(inplace=True)\n",
    "    if len(df) == sl:\n",
    "      break\n",
    "    ts = df['createdTimestamp'].max()\n"
   ]
  },
  {
   "cell_type": "code",
   "execution_count": 13,
   "metadata": {},
   "outputs": [
    {
     "data": {
      "text/html": [
       "<div>\n",
       "<style scoped>\n",
       "    .dataframe tbody tr th:only-of-type {\n",
       "        vertical-align: middle;\n",
       "    }\n",
       "\n",
       "    .dataframe tbody tr th {\n",
       "        vertical-align: top;\n",
       "    }\n",
       "\n",
       "    .dataframe thead th {\n",
       "        text-align: right;\n",
       "    }\n",
       "</style>\n",
       "<table border=\"1\" class=\"dataframe\">\n",
       "  <thead>\n",
       "    <tr style=\"text-align: right;\">\n",
       "      <th></th>\n",
       "      <th>id</th>\n",
       "      <th>name</th>\n",
       "      <th>totalValueLockedUSD</th>\n",
       "      <th>cumulativeVolumeUSD</th>\n",
       "      <th>createdTimestamp</th>\n",
       "      <th>createdBlockNumber</th>\n",
       "    </tr>\n",
       "  </thead>\n",
       "  <tbody>\n",
       "    <tr>\n",
       "      <th>0</th>\n",
       "      <td>0xf3799cbae9c028c1a590f4463dff039b8f4986be</td>\n",
       "      <td>None</td>\n",
       "      <td>0</td>\n",
       "      <td>0</td>\n",
       "      <td>1618889021</td>\n",
       "      <td>12274556</td>\n",
       "    </tr>\n",
       "    <tr>\n",
       "      <th>1</th>\n",
       "      <td>0x61d5dc44849c9c87b0856a2a311536205c96c7fd</td>\n",
       "      <td>Comfy</td>\n",
       "      <td>21785.442774692943810205251199</td>\n",
       "      <td>12755999.1661168152963283538616655</td>\n",
       "      <td>1619037254</td>\n",
       "      <td>12285749</td>\n",
       "    </tr>\n",
       "    <tr>\n",
       "      <th>2</th>\n",
       "      <td>0x647c1fd457b95b75d0972ff08fe01d7d7bda05df</td>\n",
       "      <td>Balancer 80 BAL 20 WETH</td>\n",
       "      <td>22.780064571369506561003928</td>\n",
       "      <td>1681.389832680707987186142857</td>\n",
       "      <td>1619044051</td>\n",
       "      <td>12286257</td>\n",
       "    </tr>\n",
       "    <tr>\n",
       "      <th>3</th>\n",
       "      <td>0x0297e37f1873d2dab4487aa67cd56b58e2f27875</td>\n",
       "      <td>Balancer 50 WBTC 50 WETH</td>\n",
       "      <td>458.51106446778255370338</td>\n",
       "      <td>9553.038849894420661988930759</td>\n",
       "      <td>1619044189</td>\n",
       "      <td>12286276</td>\n",
       "    </tr>\n",
       "    <tr>\n",
       "      <th>4</th>\n",
       "      <td>0xc6a5032dc4bf638e15b4a66bc718ba7ba474ff73</td>\n",
       "      <td>Balancer 60 WETH 40 DAI</td>\n",
       "      <td>1583.986468282437688425071303</td>\n",
       "      <td>8304.202057513854709636521029</td>\n",
       "      <td>1619188473</td>\n",
       "      <td>12297008</td>\n",
       "    </tr>\n",
       "    <tr>\n",
       "      <th>...</th>\n",
       "      <td>...</td>\n",
       "      <td>...</td>\n",
       "      <td>...</td>\n",
       "      <td>...</td>\n",
       "      <td>...</td>\n",
       "      <td>...</td>\n",
       "    </tr>\n",
       "    <tr>\n",
       "      <th>854</th>\n",
       "      <td>0xcb146c5fccccf4d444e36e158f4167181a752721</td>\n",
       "      <td>ZEON-USDT</td>\n",
       "      <td>158.38033839679614607818834</td>\n",
       "      <td>50.0590470960491433338604095</td>\n",
       "      <td>1662031599</td>\n",
       "      <td>15452599</td>\n",
       "    </tr>\n",
       "    <tr>\n",
       "      <th>855</th>\n",
       "      <td>0xbb692c7b6087f390930b13e57c080ea215c184fe</td>\n",
       "      <td>SILKRD Copper LBP</td>\n",
       "      <td>6437.770211752099</td>\n",
       "      <td>1820.8909843532405</td>\n",
       "      <td>1662075500</td>\n",
       "      <td>15455776</td>\n",
       "    </tr>\n",
       "    <tr>\n",
       "      <th>856</th>\n",
       "      <td>0x563bb570107fc2d2de54caac58c91e4f27d68153</td>\n",
       "      <td>EU Copper LBP</td>\n",
       "      <td>0.000000998201</td>\n",
       "      <td>0</td>\n",
       "      <td>1662116923</td>\n",
       "      <td>15458798</td>\n",
       "    </tr>\n",
       "    <tr>\n",
       "      <th>857</th>\n",
       "      <td>0xc3df7970e204d26d6b6fb3bd720f177eb2f8117e</td>\n",
       "      <td>GETH Copper LBP</td>\n",
       "      <td>3404.610292933385</td>\n",
       "      <td>199.1431959179425</td>\n",
       "      <td>1662235713</td>\n",
       "      <td>15467386</td>\n",
       "    </tr>\n",
       "    <tr>\n",
       "      <th>858</th>\n",
       "      <td>0x6f2528f9972c8fb70a9db8c3e26d537dc2ce8ef0</td>\n",
       "      <td>ASCEND6</td>\n",
       "      <td>2954144.46234779793024</td>\n",
       "      <td>7191.30117389896512</td>\n",
       "      <td>1662448110</td>\n",
       "      <td>15482648</td>\n",
       "    </tr>\n",
       "  </tbody>\n",
       "</table>\n",
       "<p>859 rows × 6 columns</p>\n",
       "</div>"
      ],
      "text/plain": [
       "                                             id                      name  \\\n",
       "0    0xf3799cbae9c028c1a590f4463dff039b8f4986be                      None   \n",
       "1    0x61d5dc44849c9c87b0856a2a311536205c96c7fd                     Comfy   \n",
       "2    0x647c1fd457b95b75d0972ff08fe01d7d7bda05df   Balancer 80 BAL 20 WETH   \n",
       "3    0x0297e37f1873d2dab4487aa67cd56b58e2f27875  Balancer 50 WBTC 50 WETH   \n",
       "4    0xc6a5032dc4bf638e15b4a66bc718ba7ba474ff73   Balancer 60 WETH 40 DAI   \n",
       "..                                          ...                       ...   \n",
       "854  0xcb146c5fccccf4d444e36e158f4167181a752721                 ZEON-USDT   \n",
       "855  0xbb692c7b6087f390930b13e57c080ea215c184fe         SILKRD Copper LBP   \n",
       "856  0x563bb570107fc2d2de54caac58c91e4f27d68153             EU Copper LBP   \n",
       "857  0xc3df7970e204d26d6b6fb3bd720f177eb2f8117e           GETH Copper LBP   \n",
       "858  0x6f2528f9972c8fb70a9db8c3e26d537dc2ce8ef0                   ASCEND6   \n",
       "\n",
       "                totalValueLockedUSD                 cumulativeVolumeUSD  \\\n",
       "0                                 0                                   0   \n",
       "1    21785.442774692943810205251199  12755999.1661168152963283538616655   \n",
       "2       22.780064571369506561003928       1681.389832680707987186142857   \n",
       "3          458.51106446778255370338       9553.038849894420661988930759   \n",
       "4     1583.986468282437688425071303       8304.202057513854709636521029   \n",
       "..                              ...                                 ...   \n",
       "854     158.38033839679614607818834        50.0590470960491433338604095   \n",
       "855               6437.770211752099                  1820.8909843532405   \n",
       "856                  0.000000998201                                   0   \n",
       "857               3404.610292933385                   199.1431959179425   \n",
       "858          2954144.46234779793024                 7191.30117389896512   \n",
       "\n",
       "    createdTimestamp createdBlockNumber  \n",
       "0         1618889021           12274556  \n",
       "1         1619037254           12285749  \n",
       "2         1619044051           12286257  \n",
       "3         1619044189           12286276  \n",
       "4         1619188473           12297008  \n",
       "..               ...                ...  \n",
       "854       1662031599           15452599  \n",
       "855       1662075500           15455776  \n",
       "856       1662116923           15458798  \n",
       "857       1662235713           15467386  \n",
       "858       1662448110           15482648  \n",
       "\n",
       "[859 rows x 6 columns]"
      ]
     },
     "execution_count": 13,
     "metadata": {},
     "output_type": "execute_result"
    }
   ],
   "source": [
    "df"
   ]
  },
  {
   "cell_type": "code",
   "execution_count": 14,
   "metadata": {},
   "outputs": [
    {
     "data": {
      "text/plain": [
       "0.2402164296104777"
      ]
     },
     "execution_count": 14,
     "metadata": {},
     "output_type": "execute_result"
    }
   ],
   "source": [
    "df['totalValueLockedUSD'].astype(float).max()/df['totalValueLockedUSD'].astype(float).sum()"
   ]
  },
  {
   "cell_type": "code",
   "execution_count": 15,
   "metadata": {},
   "outputs": [
    {
     "data": {
      "text/plain": [
       "0.8055463874049088"
      ]
     },
     "execution_count": 15,
     "metadata": {},
     "output_type": "execute_result"
    }
   ],
   "source": [
    "df['totalValueLockedUSD'].astype(float).nlargest(10).sum()/df['totalValueLockedUSD'].astype(float).sum()"
   ]
  },
  {
   "cell_type": "markdown",
   "metadata": {},
   "source": [
    "Liquidity Pools with > $1mn TVL"
   ]
  },
  {
   "cell_type": "code",
   "execution_count": 16,
   "metadata": {},
   "outputs": [
    {
     "data": {
      "text/plain": [
       "44"
      ]
     },
     "execution_count": 16,
     "metadata": {},
     "output_type": "execute_result"
    }
   ],
   "source": [
    "len(df.loc[df['totalValueLockedUSD'].astype(float) > 1000000])"
   ]
  },
  {
   "cell_type": "code",
   "execution_count": null,
   "metadata": {},
   "outputs": [],
   "source": []
  },
  {
   "cell_type": "markdown",
   "metadata": {},
   "source": [
    "Monthly Active Users"
   ]
  },
  {
   "cell_type": "code",
   "execution_count": 17,
   "metadata": {},
   "outputs": [],
   "source": [
    "query = \"\"\"{\n",
    "  usageMetricsDailySnapshots(first: 183, orderBy: timestamp, orderDirection: desc){\n",
    "    timestamp\n",
    "    blockNumber\n",
    "    id\n",
    "    dailyActiveUsers\n",
    "    dailySwapCount\n",
    "    dailyDepositCount\n",
    "    dailyWithdrawCount \n",
    "  }\n",
    "}\n",
    "\"\"\""
   ]
  },
  {
   "cell_type": "code",
   "execution_count": 18,
   "metadata": {},
   "outputs": [],
   "source": [
    "request = requests.post(endpoint, json={'query':query})\n",
    "data = request.json()"
   ]
  },
  {
   "cell_type": "code",
   "execution_count": 19,
   "metadata": {},
   "outputs": [],
   "source": [
    "df = pd.json_normalize(data['data']['usageMetricsDailySnapshots'])"
   ]
  },
  {
   "cell_type": "code",
   "execution_count": 21,
   "metadata": {},
   "outputs": [
    {
     "data": {
      "text/plain": [
       "823.2185792349727"
      ]
     },
     "execution_count": 21,
     "metadata": {},
     "output_type": "execute_result"
    }
   ],
   "source": [
    "df['dailyActiveUsers'].astype(float).mean()"
   ]
  },
  {
   "cell_type": "code",
   "execution_count": null,
   "metadata": {},
   "outputs": [],
   "source": []
  },
  {
   "cell_type": "markdown",
   "metadata": {},
   "source": [
    "Implied slippage"
   ]
  },
  {
   "cell_type": "code",
   "execution_count": null,
   "metadata": {},
   "outputs": [],
   "source": []
  },
  {
   "cell_type": "code",
   "execution_count": null,
   "metadata": {},
   "outputs": [],
   "source": []
  },
  {
   "cell_type": "code",
   "execution_count": null,
   "metadata": {},
   "outputs": [],
   "source": []
  }
 ],
 "metadata": {
  "kernelspec": {
   "display_name": "Python 3.8.10 64-bit",
   "language": "python",
   "name": "python3"
  },
  "language_info": {
   "codemirror_mode": {
    "name": "ipython",
    "version": 3
   },
   "file_extension": ".py",
   "mimetype": "text/x-python",
   "name": "python",
   "nbconvert_exporter": "python",
   "pygments_lexer": "ipython3",
   "version": "3.8.10"
  },
  "orig_nbformat": 4,
  "vscode": {
   "interpreter": {
    "hash": "916dbcbb3f70747c44a77c7bcd40155683ae19c65e1c03b4aa3499c5328201f1"
   }
  }
 },
 "nbformat": 4,
 "nbformat_minor": 2
}
