{
 "cells": [
  {
   "cell_type": "markdown",
   "metadata": {},
   "source": [
    "## Messari standardised subgraphs\n",
    "\n",
    "https://github.com/messari/subgraphs\n",
    "\n",
    "### MM Finance\n",
    "\n",
    "06/09/2022"
   ]
  },
  {
   "cell_type": "code",
   "execution_count": 2,
   "metadata": {},
   "outputs": [],
   "source": [
    "import pandas as pd\n",
    "import numpy as np\n",
    "import time\n",
    "import requests\n",
    "import datetime as dt"
   ]
  },
  {
   "cell_type": "code",
   "execution_count": 3,
   "metadata": {},
   "outputs": [],
   "source": [
    "endpoint = 'https://graph.cronoslabs.com/subgraphs/name/messari/mm-finance'"
   ]
  },
  {
   "cell_type": "code",
   "execution_count": 4,
   "metadata": {},
   "outputs": [
    {
     "ename": "KeyError",
     "evalue": "'data'",
     "output_type": "error",
     "traceback": [
      "\u001b[0;31m---------------------------------------------------------------------------\u001b[0m",
      "\u001b[0;31mKeyError\u001b[0m                                  Traceback (most recent call last)",
      "\u001b[1;32m/home/luke/Code/Research/cc_research_testground/DEX_data_collection/mmfinance.ipynb Cell 4\u001b[0m in \u001b[0;36m<cell line: 16>\u001b[0;34m()\u001b[0m\n\u001b[1;32m     <a href='vscode-notebook-cell:/home/luke/Code/Research/cc_research_testground/DEX_data_collection/mmfinance.ipynb#W3sZmlsZQ%3D%3D?line=13'>14</a>\u001b[0m data \u001b[39m=\u001b[39m request\u001b[39m.\u001b[39mjson()\n\u001b[1;32m     <a href='vscode-notebook-cell:/home/luke/Code/Research/cc_research_testground/DEX_data_collection/mmfinance.ipynb#W3sZmlsZQ%3D%3D?line=14'>15</a>\u001b[0m \u001b[39m#Check if it is ok to run i.e. within 5 days of today\u001b[39;00m\n\u001b[0;32m---> <a href='vscode-notebook-cell:/home/luke/Code/Research/cc_research_testground/DEX_data_collection/mmfinance.ipynb#W3sZmlsZQ%3D%3D?line=15'>16</a>\u001b[0m \u001b[39mint\u001b[39m(data[\u001b[39m'\u001b[39;49m\u001b[39mdata\u001b[39;49m\u001b[39m'\u001b[39;49m][\u001b[39m'\u001b[39m\u001b[39m_meta\u001b[39m\u001b[39m'\u001b[39m][\u001b[39m'\u001b[39m\u001b[39mblock\u001b[39m\u001b[39m'\u001b[39m][\u001b[39m'\u001b[39m\u001b[39mtimestamp\u001b[39m\u001b[39m'\u001b[39m], base \u001b[39m=\u001b[39m \u001b[39m0\u001b[39m) \u001b[39m>\u001b[39m (dt\u001b[39m.\u001b[39mdatetime\u001b[39m.\u001b[39mtoday()\u001b[39m.\u001b[39mtimestamp() \u001b[39m-\u001b[39m \u001b[39m3600\u001b[39m\u001b[39m*\u001b[39m\u001b[39m24\u001b[39m\u001b[39m*\u001b[39m\u001b[39m5\u001b[39m)\n",
      "\u001b[0;31mKeyError\u001b[0m: 'data'"
     ]
    }
   ],
   "source": [
    "#Check if subgraph is up to date\n",
    "query = \"\"\"{\n",
    "  _meta{\n",
    "    block{\n",
    "      timestamp\n",
    "  \t\thash\n",
    "      number\n",
    "    }\n",
    "    hasIndexingErrors\n",
    "    deployment\n",
    "  }\n",
    "}\"\"\"\n",
    "request = requests.post(endpoint, json={'query':query})\n",
    "data = request.json()\n",
    "#Check if it is ok to run i.e. within 5 days of today\n",
    "int(data['data']['_meta']['block']['timestamp'], base = 0) > (dt.datetime.today().timestamp() - 3600*24*5)"
   ]
  },
  {
   "cell_type": "markdown",
   "metadata": {},
   "source": [
    "6-Month Average Daily Volume"
   ]
  },
  {
   "cell_type": "code",
   "execution_count": 5,
   "metadata": {},
   "outputs": [],
   "source": [
    "query = \"\"\"{\n",
    "  financialsDailySnapshots(first: 183, orderBy: timestamp, orderDirection: desc){\n",
    "    id\n",
    "    protocol{\n",
    "      name\n",
    "    }\n",
    "    dailyVolumeUSD\n",
    "    dailyTotalRevenueUSD\n",
    "    dailySupplySideRevenueUSD\n",
    "    dailyProtocolSideRevenueUSD\n",
    "    timestamp\n",
    "    blockNumber\n",
    "  }\n",
    "}\n",
    "\"\"\""
   ]
  },
  {
   "cell_type": "code",
   "execution_count": 6,
   "metadata": {},
   "outputs": [],
   "source": [
    "request = requests.post(endpoint, json={'query':query})\n",
    "data = request.json()"
   ]
  },
  {
   "cell_type": "code",
   "execution_count": 7,
   "metadata": {},
   "outputs": [],
   "source": [
    "df = pd.json_normalize(data['data']['financialsDailySnapshots'])"
   ]
  },
  {
   "cell_type": "code",
   "execution_count": 9,
   "metadata": {},
   "outputs": [
    {
     "data": {
      "text/html": [
       "<div>\n",
       "<style scoped>\n",
       "    .dataframe tbody tr th:only-of-type {\n",
       "        vertical-align: middle;\n",
       "    }\n",
       "\n",
       "    .dataframe tbody tr th {\n",
       "        vertical-align: top;\n",
       "    }\n",
       "\n",
       "    .dataframe thead th {\n",
       "        text-align: right;\n",
       "    }\n",
       "</style>\n",
       "<table border=\"1\" class=\"dataframe\">\n",
       "  <thead>\n",
       "    <tr style=\"text-align: right;\">\n",
       "      <th></th>\n",
       "      <th>id</th>\n",
       "      <th>dailyVolumeUSD</th>\n",
       "      <th>dailyTotalRevenueUSD</th>\n",
       "      <th>dailySupplySideRevenueUSD</th>\n",
       "      <th>dailyProtocolSideRevenueUSD</th>\n",
       "      <th>timestamp</th>\n",
       "      <th>blockNumber</th>\n",
       "      <th>protocol.name</th>\n",
       "    </tr>\n",
       "  </thead>\n",
       "  <tbody>\n",
       "    <tr>\n",
       "      <th>0</th>\n",
       "      <td>19241</td>\n",
       "      <td>3384325.099730895406559077330422872</td>\n",
       "      <td>5753.352669542522191150431461718901</td>\n",
       "      <td>3452.011601725513314690258877031342</td>\n",
       "      <td>2301.341067817008876460172584687555</td>\n",
       "      <td>1662478679</td>\n",
       "      <td>4509277</td>\n",
       "      <td>MM Finance</td>\n",
       "    </tr>\n",
       "    <tr>\n",
       "      <th>1</th>\n",
       "      <td>19240</td>\n",
       "      <td>2545236.002188113993350162201783088</td>\n",
       "      <td>4326.901203719793788695275743031262</td>\n",
       "      <td>2596.14072223187627321716544581874</td>\n",
       "      <td>1730.760481487917515478110297212516</td>\n",
       "      <td>1662422385</td>\n",
       "      <td>4499330</td>\n",
       "      <td>MM Finance</td>\n",
       "    </tr>\n",
       "    <tr>\n",
       "      <th>2</th>\n",
       "      <td>19239</td>\n",
       "      <td>3764256.540001968474575563486697511</td>\n",
       "      <td>6399.236118003346406778457927385738</td>\n",
       "      <td>3839.541670802007844067074756431494</td>\n",
       "      <td>2559.6944472013385627113831709543</td>\n",
       "      <td>1662335954</td>\n",
       "      <td>4484064</td>\n",
       "      <td>MM Finance</td>\n",
       "    </tr>\n",
       "    <tr>\n",
       "      <th>3</th>\n",
       "      <td>19238</td>\n",
       "      <td>2523313.687547797137044887887774448</td>\n",
       "      <td>4289.633268831255132976309409216585</td>\n",
       "      <td>2573.779961298753079785785645529961</td>\n",
       "      <td>1715.853307532502053190523763686627</td>\n",
       "      <td>1662249593</td>\n",
       "      <td>4468803</td>\n",
       "      <td>MM Finance</td>\n",
       "    </tr>\n",
       "    <tr>\n",
       "      <th>4</th>\n",
       "      <td>19237</td>\n",
       "      <td>3625906.661621591569348669401165248</td>\n",
       "      <td>6164.041324756705667892737981980915</td>\n",
       "      <td>3698.424794854023400735642789188603</td>\n",
       "      <td>2465.616529902682267157095192792337</td>\n",
       "      <td>1662163191</td>\n",
       "      <td>4453534</td>\n",
       "      <td>MM Finance</td>\n",
       "    </tr>\n",
       "    <tr>\n",
       "      <th>...</th>\n",
       "      <td>...</td>\n",
       "      <td>...</td>\n",
       "      <td>...</td>\n",
       "      <td>...</td>\n",
       "      <td>...</td>\n",
       "      <td>...</td>\n",
       "      <td>...</td>\n",
       "      <td>...</td>\n",
       "    </tr>\n",
       "    <tr>\n",
       "      <th>178</th>\n",
       "      <td>19063</td>\n",
       "      <td>38083644.40590664214708437078157892</td>\n",
       "      <td>64742.19549004129165004343032868273</td>\n",
       "      <td>38845.31729402477499002605819720905</td>\n",
       "      <td>25896.87819601651666001737213147272</td>\n",
       "      <td>1647129598</td>\n",
       "      <td>1875184</td>\n",
       "      <td>MM Finance</td>\n",
       "    </tr>\n",
       "    <tr>\n",
       "      <th>179</th>\n",
       "      <td>19062</td>\n",
       "      <td>59364875.00029447411888638832137123</td>\n",
       "      <td>100920.2875005006060021068601463306</td>\n",
       "      <td>60552.17250030036360126411608779845</td>\n",
       "      <td>40368.11500020024240084274405853306</td>\n",
       "      <td>1647043195</td>\n",
       "      <td>1860388</td>\n",
       "      <td>MM Finance</td>\n",
       "    </tr>\n",
       "    <tr>\n",
       "      <th>180</th>\n",
       "      <td>19061</td>\n",
       "      <td>117560386.4027221353962952013180213</td>\n",
       "      <td>199852.6568846276301737018422406479</td>\n",
       "      <td>119911.5941307765781042211053443814</td>\n",
       "      <td>79941.06275385105206948073689625664</td>\n",
       "      <td>1646956798</td>\n",
       "      <td>1845630</td>\n",
       "      <td>MM Finance</td>\n",
       "    </tr>\n",
       "    <tr>\n",
       "      <th>181</th>\n",
       "      <td>19060</td>\n",
       "      <td>49887345.40404525532405594388518819</td>\n",
       "      <td>84808.48718687693405089510460482043</td>\n",
       "      <td>50885.09231212616043053706276289245</td>\n",
       "      <td>33923.39487475077362035804184192931</td>\n",
       "      <td>1646870390</td>\n",
       "      <td>1830870</td>\n",
       "      <td>MM Finance</td>\n",
       "    </tr>\n",
       "    <tr>\n",
       "      <th>182</th>\n",
       "      <td>19059</td>\n",
       "      <td>36499704.49016498015856348353428318</td>\n",
       "      <td>62049.49763328046626955792200828146</td>\n",
       "      <td>37229.69857996827976173475320496848</td>\n",
       "      <td>24819.79905331218650782316880331265</td>\n",
       "      <td>1646783998</td>\n",
       "      <td>1816069</td>\n",
       "      <td>MM Finance</td>\n",
       "    </tr>\n",
       "  </tbody>\n",
       "</table>\n",
       "<p>183 rows × 8 columns</p>\n",
       "</div>"
      ],
      "text/plain": [
       "        id                       dailyVolumeUSD  \\\n",
       "0    19241  3384325.099730895406559077330422872   \n",
       "1    19240  2545236.002188113993350162201783088   \n",
       "2    19239  3764256.540001968474575563486697511   \n",
       "3    19238  2523313.687547797137044887887774448   \n",
       "4    19237  3625906.661621591569348669401165248   \n",
       "..     ...                                  ...   \n",
       "178  19063  38083644.40590664214708437078157892   \n",
       "179  19062  59364875.00029447411888638832137123   \n",
       "180  19061  117560386.4027221353962952013180213   \n",
       "181  19060  49887345.40404525532405594388518819   \n",
       "182  19059  36499704.49016498015856348353428318   \n",
       "\n",
       "                    dailyTotalRevenueUSD            dailySupplySideRevenueUSD  \\\n",
       "0    5753.352669542522191150431461718901  3452.011601725513314690258877031342   \n",
       "1    4326.901203719793788695275743031262   2596.14072223187627321716544581874   \n",
       "2    6399.236118003346406778457927385738  3839.541670802007844067074756431494   \n",
       "3    4289.633268831255132976309409216585  2573.779961298753079785785645529961   \n",
       "4    6164.041324756705667892737981980915  3698.424794854023400735642789188603   \n",
       "..                                   ...                                  ...   \n",
       "178  64742.19549004129165004343032868273  38845.31729402477499002605819720905   \n",
       "179  100920.2875005006060021068601463306  60552.17250030036360126411608779845   \n",
       "180  199852.6568846276301737018422406479  119911.5941307765781042211053443814   \n",
       "181  84808.48718687693405089510460482043  50885.09231212616043053706276289245   \n",
       "182  62049.49763328046626955792200828146  37229.69857996827976173475320496848   \n",
       "\n",
       "             dailyProtocolSideRevenueUSD   timestamp blockNumber protocol.name  \n",
       "0    2301.341067817008876460172584687555  1662478679     4509277    MM Finance  \n",
       "1    1730.760481487917515478110297212516  1662422385     4499330    MM Finance  \n",
       "2      2559.6944472013385627113831709543  1662335954     4484064    MM Finance  \n",
       "3    1715.853307532502053190523763686627  1662249593     4468803    MM Finance  \n",
       "4    2465.616529902682267157095192792337  1662163191     4453534    MM Finance  \n",
       "..                                   ...         ...         ...           ...  \n",
       "178  25896.87819601651666001737213147272  1647129598     1875184    MM Finance  \n",
       "179  40368.11500020024240084274405853306  1647043195     1860388    MM Finance  \n",
       "180  79941.06275385105206948073689625664  1646956798     1845630    MM Finance  \n",
       "181  33923.39487475077362035804184192931  1646870390     1830870    MM Finance  \n",
       "182  24819.79905331218650782316880331265  1646783998     1816069    MM Finance  \n",
       "\n",
       "[183 rows x 8 columns]"
      ]
     },
     "execution_count": 9,
     "metadata": {},
     "output_type": "execute_result"
    }
   ],
   "source": [
    "df"
   ]
  },
  {
   "cell_type": "code",
   "execution_count": 10,
   "metadata": {},
   "outputs": [
    {
     "data": {
      "text/plain": [
       "57408943.22991544"
      ]
     },
     "execution_count": 10,
     "metadata": {},
     "output_type": "execute_result"
    }
   ],
   "source": [
    "df['dailyVolumeUSD'].astype(float).mean()"
   ]
  },
  {
   "cell_type": "markdown",
   "metadata": {},
   "source": [
    "6-Month Average TVL"
   ]
  },
  {
   "cell_type": "code",
   "execution_count": 14,
   "metadata": {},
   "outputs": [],
   "source": [
    "#DefiLlama https://defillama.com/protocols/dexes \n",
    "lma = pd.read_csv(\"https://api.llama.fi/dataset/mm-finance-cronos.csv\")"
   ]
  },
  {
   "cell_type": "code",
   "execution_count": 15,
   "metadata": {},
   "outputs": [
    {
     "data": {
      "text/html": [
       "<div>\n",
       "<style scoped>\n",
       "    .dataframe tbody tr th:only-of-type {\n",
       "        vertical-align: middle;\n",
       "    }\n",
       "\n",
       "    .dataframe tbody tr th {\n",
       "        vertical-align: top;\n",
       "    }\n",
       "\n",
       "    .dataframe thead th {\n",
       "        text-align: right;\n",
       "    }\n",
       "</style>\n",
       "<table border=\"1\" class=\"dataframe\">\n",
       "  <thead>\n",
       "    <tr style=\"text-align: right;\">\n",
       "      <th></th>\n",
       "      <th>Unnamed: 0</th>\n",
       "      <th>Date</th>\n",
       "      <th>Timestamp</th>\n",
       "      <th>MM Finance Cronos</th>\n",
       "      <th>MM Finance Cronos.1</th>\n",
       "      <th>MM Finance Cronos.2</th>\n",
       "      <th>MM Finance Cronos.3</th>\n",
       "      <th>MM Finance Cronos.4</th>\n",
       "      <th>MM Finance Cronos.5</th>\n",
       "      <th>MM Finance Cronos.6</th>\n",
       "      <th>...</th>\n",
       "      <th>MM Finance Cronos.238</th>\n",
       "      <th>MM Finance Cronos.239</th>\n",
       "      <th>MM Finance Cronos.240</th>\n",
       "      <th>MM Finance Cronos.241</th>\n",
       "      <th>MM Finance Cronos.242</th>\n",
       "      <th>MM Finance Cronos.243</th>\n",
       "      <th>MM Finance Cronos.244</th>\n",
       "      <th>MM Finance Cronos.245</th>\n",
       "      <th>MM Finance Cronos.246</th>\n",
       "      <th>MM Finance Cronos.247</th>\n",
       "    </tr>\n",
       "  </thead>\n",
       "  <tbody>\n",
       "    <tr>\n",
       "      <th>0</th>\n",
       "      <td>NaN</td>\n",
       "      <td>NaN</td>\n",
       "      <td>NaN</td>\n",
       "      <td>Dexes</td>\n",
       "      <td>Dexes</td>\n",
       "      <td>Dexes</td>\n",
       "      <td>Dexes</td>\n",
       "      <td>Dexes</td>\n",
       "      <td>Dexes</td>\n",
       "      <td>Dexes</td>\n",
       "      <td>...</td>\n",
       "      <td>Dexes</td>\n",
       "      <td>Dexes</td>\n",
       "      <td>Dexes</td>\n",
       "      <td>Dexes</td>\n",
       "      <td>Dexes</td>\n",
       "      <td>Dexes</td>\n",
       "      <td>Dexes</td>\n",
       "      <td>Dexes</td>\n",
       "      <td>Dexes</td>\n",
       "      <td>Dexes</td>\n",
       "    </tr>\n",
       "    <tr>\n",
       "      <th>1</th>\n",
       "      <td>NaN</td>\n",
       "      <td>NaN</td>\n",
       "      <td>NaN</td>\n",
       "      <td>cronos</td>\n",
       "      <td>cronos-staking</td>\n",
       "      <td>Total</td>\n",
       "      <td>staking</td>\n",
       "      <td>cronos</td>\n",
       "      <td>cronos</td>\n",
       "      <td>cronos</td>\n",
       "      <td>...</td>\n",
       "      <td>Total</td>\n",
       "      <td>Total</td>\n",
       "      <td>Total</td>\n",
       "      <td>Total</td>\n",
       "      <td>Total</td>\n",
       "      <td>Total</td>\n",
       "      <td>Total</td>\n",
       "      <td>Total</td>\n",
       "      <td>Total</td>\n",
       "      <td>staking</td>\n",
       "    </tr>\n",
       "    <tr>\n",
       "      <th>2</th>\n",
       "      <td>NaN</td>\n",
       "      <td>NaN</td>\n",
       "      <td>NaN</td>\n",
       "      <td>TVL</td>\n",
       "      <td>TVL</td>\n",
       "      <td>TVL</td>\n",
       "      <td>TVL</td>\n",
       "      <td>Tokens(USD)</td>\n",
       "      <td>Tokens(USD)</td>\n",
       "      <td>Tokens(USD)</td>\n",
       "      <td>...</td>\n",
       "      <td>Tokens</td>\n",
       "      <td>Tokens</td>\n",
       "      <td>Tokens</td>\n",
       "      <td>Tokens</td>\n",
       "      <td>Tokens</td>\n",
       "      <td>Tokens</td>\n",
       "      <td>Tokens</td>\n",
       "      <td>Tokens</td>\n",
       "      <td>Tokens</td>\n",
       "      <td>Tokens</td>\n",
       "    </tr>\n",
       "    <tr>\n",
       "      <th>3</th>\n",
       "      <td>NaN</td>\n",
       "      <td>NaN</td>\n",
       "      <td>NaN</td>\n",
       "      <td>NaN</td>\n",
       "      <td>NaN</td>\n",
       "      <td>NaN</td>\n",
       "      <td>NaN</td>\n",
       "      <td>crypto-com-chain</td>\n",
       "      <td>USDT</td>\n",
       "      <td>CRP</td>\n",
       "      <td>...</td>\n",
       "      <td>DARKCRYSTL</td>\n",
       "      <td>CHIBIKI</td>\n",
       "      <td>LAB</td>\n",
       "      <td>WBTC</td>\n",
       "      <td>MUSD</td>\n",
       "      <td>USDC</td>\n",
       "      <td>TUSD</td>\n",
       "      <td>akash-network</td>\n",
       "      <td>BTCBR</td>\n",
       "      <td>MMF</td>\n",
       "    </tr>\n",
       "    <tr>\n",
       "      <th>4</th>\n",
       "      <td>NaN</td>\n",
       "      <td>11/12/2021</td>\n",
       "      <td>1.639181e+09</td>\n",
       "      <td>1221.8222108002014</td>\n",
       "      <td>NaN</td>\n",
       "      <td>1221.8222108002014</td>\n",
       "      <td>NaN</td>\n",
       "      <td>1221.8222108002014</td>\n",
       "      <td>NaN</td>\n",
       "      <td>NaN</td>\n",
       "      <td>...</td>\n",
       "      <td>NaN</td>\n",
       "      <td>NaN</td>\n",
       "      <td>NaN</td>\n",
       "      <td>NaN</td>\n",
       "      <td>NaN</td>\n",
       "      <td>NaN</td>\n",
       "      <td>NaN</td>\n",
       "      <td>NaN</td>\n",
       "      <td>NaN</td>\n",
       "      <td>NaN</td>\n",
       "    </tr>\n",
       "    <tr>\n",
       "      <th>...</th>\n",
       "      <td>...</td>\n",
       "      <td>...</td>\n",
       "      <td>...</td>\n",
       "      <td>...</td>\n",
       "      <td>...</td>\n",
       "      <td>...</td>\n",
       "      <td>...</td>\n",
       "      <td>...</td>\n",
       "      <td>...</td>\n",
       "      <td>...</td>\n",
       "      <td>...</td>\n",
       "      <td>...</td>\n",
       "      <td>...</td>\n",
       "      <td>...</td>\n",
       "      <td>...</td>\n",
       "      <td>...</td>\n",
       "      <td>...</td>\n",
       "      <td>...</td>\n",
       "      <td>...</td>\n",
       "      <td>...</td>\n",
       "      <td>...</td>\n",
       "    </tr>\n",
       "    <tr>\n",
       "      <th>259</th>\n",
       "      <td>NaN</td>\n",
       "      <td>02/09/2022</td>\n",
       "      <td>1.662077e+09</td>\n",
       "      <td>59035064.90398302</td>\n",
       "      <td>2111810.639018903</td>\n",
       "      <td>59035064.90398302</td>\n",
       "      <td>2111810.639018903</td>\n",
       "      <td>NaN</td>\n",
       "      <td>3954692.935367</td>\n",
       "      <td>4737.133964282566</td>\n",
       "      <td>...</td>\n",
       "      <td>68560.11783817247</td>\n",
       "      <td>0.000340001431038721</td>\n",
       "      <td>0.3635570988049983</td>\n",
       "      <td>102.21495363</td>\n",
       "      <td>686217.3003859872</td>\n",
       "      <td>15072946.945157</td>\n",
       "      <td>0</td>\n",
       "      <td>0.000227</td>\n",
       "      <td>37002392.21330488</td>\n",
       "      <td>61717899.91331548</td>\n",
       "    </tr>\n",
       "    <tr>\n",
       "      <th>260</th>\n",
       "      <td>NaN</td>\n",
       "      <td>03/09/2022</td>\n",
       "      <td>1.662163e+09</td>\n",
       "      <td>59480895.70481921</td>\n",
       "      <td>2093540.8619860294</td>\n",
       "      <td>59480895.70481921</td>\n",
       "      <td>2093540.8619860294</td>\n",
       "      <td>NaN</td>\n",
       "      <td>3950092.997569719</td>\n",
       "      <td>4737.133964282566</td>\n",
       "      <td>...</td>\n",
       "      <td>72509.91935987915</td>\n",
       "      <td>0.000340001431038721</td>\n",
       "      <td>0.3635570988049983</td>\n",
       "      <td>102.27790247</td>\n",
       "      <td>683963.5611400987</td>\n",
       "      <td>15494431.859691</td>\n",
       "      <td>0</td>\n",
       "      <td>0.000227</td>\n",
       "      <td>3703.5170400617167</td>\n",
       "      <td>61679277.6104329</td>\n",
       "    </tr>\n",
       "    <tr>\n",
       "      <th>261</th>\n",
       "      <td>NaN</td>\n",
       "      <td>04/09/2022</td>\n",
       "      <td>1.662250e+09</td>\n",
       "      <td>57007573.76954059</td>\n",
       "      <td>1987332.4760357398</td>\n",
       "      <td>57007573.76954059</td>\n",
       "      <td>1987332.4760357398</td>\n",
       "      <td>NaN</td>\n",
       "      <td>3929195.9176239767</td>\n",
       "      <td>4737.133964282566</td>\n",
       "      <td>...</td>\n",
       "      <td>64105.89000902311</td>\n",
       "      <td>0.000340001431038721</td>\n",
       "      <td>0.3635570988049983</td>\n",
       "      <td>102.61416648</td>\n",
       "      <td>661982.3161787079</td>\n",
       "      <td>15182597.017191</td>\n",
       "      <td>0</td>\n",
       "      <td>0.000227</td>\n",
       "      <td>3703.5170400617167</td>\n",
       "      <td>61316396.631764226</td>\n",
       "    </tr>\n",
       "    <tr>\n",
       "      <th>262</th>\n",
       "      <td>NaN</td>\n",
       "      <td>05/09/2022</td>\n",
       "      <td>1.662336e+09</td>\n",
       "      <td>55529311.615704715</td>\n",
       "      <td>1808617.7217136428</td>\n",
       "      <td>55529311.615704715</td>\n",
       "      <td>1808617.7217136428</td>\n",
       "      <td>NaN</td>\n",
       "      <td>4035114.5522667975</td>\n",
       "      <td>4719.29842616449</td>\n",
       "      <td>...</td>\n",
       "      <td>99102.7119378792</td>\n",
       "      <td>0.000340001431038721</td>\n",
       "      <td>0.3635570988049983</td>\n",
       "      <td>100.88687783</td>\n",
       "      <td>553373.6115797616</td>\n",
       "      <td>14822660.377835</td>\n",
       "      <td>0</td>\n",
       "      <td>0.000227</td>\n",
       "      <td>1.486517419222292</td>\n",
       "      <td>60611711.884170726</td>\n",
       "    </tr>\n",
       "    <tr>\n",
       "      <th>263</th>\n",
       "      <td>NaN</td>\n",
       "      <td>06/09/2022</td>\n",
       "      <td>1.662422e+09</td>\n",
       "      <td>51662969.318823434</td>\n",
       "      <td>1797802.8477233623</td>\n",
       "      <td>51662969.318823434</td>\n",
       "      <td>1797802.8477233623</td>\n",
       "      <td>NaN</td>\n",
       "      <td>3624304.0174710155</td>\n",
       "      <td>4611.602689114231</td>\n",
       "      <td>...</td>\n",
       "      <td>107089.62193329938</td>\n",
       "      <td>0.000340001431038721</td>\n",
       "      <td>0.3635570988049983</td>\n",
       "      <td>101.08482729</td>\n",
       "      <td>524947.4647122115</td>\n",
       "      <td>14499205.137349</td>\n",
       "      <td>0</td>\n",
       "      <td>0.000227</td>\n",
       "      <td>1.486517419222292</td>\n",
       "      <td>61157037.324965976</td>\n",
       "    </tr>\n",
       "  </tbody>\n",
       "</table>\n",
       "<p>264 rows × 251 columns</p>\n",
       "</div>"
      ],
      "text/plain": [
       "     Unnamed: 0        Date     Timestamp   MM Finance Cronos  \\\n",
       "0           NaN         NaN           NaN               Dexes   \n",
       "1           NaN         NaN           NaN              cronos   \n",
       "2           NaN         NaN           NaN                 TVL   \n",
       "3           NaN         NaN           NaN                 NaN   \n",
       "4           NaN  11/12/2021  1.639181e+09  1221.8222108002014   \n",
       "..          ...         ...           ...                 ...   \n",
       "259         NaN  02/09/2022  1.662077e+09   59035064.90398302   \n",
       "260         NaN  03/09/2022  1.662163e+09   59480895.70481921   \n",
       "261         NaN  04/09/2022  1.662250e+09   57007573.76954059   \n",
       "262         NaN  05/09/2022  1.662336e+09  55529311.615704715   \n",
       "263         NaN  06/09/2022  1.662422e+09  51662969.318823434   \n",
       "\n",
       "    MM Finance Cronos.1 MM Finance Cronos.2 MM Finance Cronos.3  \\\n",
       "0                 Dexes               Dexes               Dexes   \n",
       "1        cronos-staking               Total             staking   \n",
       "2                   TVL                 TVL                 TVL   \n",
       "3                   NaN                 NaN                 NaN   \n",
       "4                   NaN  1221.8222108002014                 NaN   \n",
       "..                  ...                 ...                 ...   \n",
       "259   2111810.639018903   59035064.90398302   2111810.639018903   \n",
       "260  2093540.8619860294   59480895.70481921  2093540.8619860294   \n",
       "261  1987332.4760357398   57007573.76954059  1987332.4760357398   \n",
       "262  1808617.7217136428  55529311.615704715  1808617.7217136428   \n",
       "263  1797802.8477233623  51662969.318823434  1797802.8477233623   \n",
       "\n",
       "    MM Finance Cronos.4 MM Finance Cronos.5 MM Finance Cronos.6  ...  \\\n",
       "0                 Dexes               Dexes               Dexes  ...   \n",
       "1                cronos              cronos              cronos  ...   \n",
       "2           Tokens(USD)         Tokens(USD)         Tokens(USD)  ...   \n",
       "3      crypto-com-chain                USDT                 CRP  ...   \n",
       "4    1221.8222108002014                 NaN                 NaN  ...   \n",
       "..                  ...                 ...                 ...  ...   \n",
       "259                 NaN      3954692.935367   4737.133964282566  ...   \n",
       "260                 NaN   3950092.997569719   4737.133964282566  ...   \n",
       "261                 NaN  3929195.9176239767   4737.133964282566  ...   \n",
       "262                 NaN  4035114.5522667975    4719.29842616449  ...   \n",
       "263                 NaN  3624304.0174710155   4611.602689114231  ...   \n",
       "\n",
       "    MM Finance Cronos.238 MM Finance Cronos.239 MM Finance Cronos.240  \\\n",
       "0                   Dexes                 Dexes                 Dexes   \n",
       "1                   Total                 Total                 Total   \n",
       "2                  Tokens                Tokens                Tokens   \n",
       "3              DARKCRYSTL               CHIBIKI                   LAB   \n",
       "4                     NaN                   NaN                   NaN   \n",
       "..                    ...                   ...                   ...   \n",
       "259     68560.11783817247  0.000340001431038721    0.3635570988049983   \n",
       "260     72509.91935987915  0.000340001431038721    0.3635570988049983   \n",
       "261     64105.89000902311  0.000340001431038721    0.3635570988049983   \n",
       "262      99102.7119378792  0.000340001431038721    0.3635570988049983   \n",
       "263    107089.62193329938  0.000340001431038721    0.3635570988049983   \n",
       "\n",
       "    MM Finance Cronos.241 MM Finance Cronos.242 MM Finance Cronos.243  \\\n",
       "0                   Dexes                 Dexes                 Dexes   \n",
       "1                   Total                 Total                 Total   \n",
       "2                  Tokens                Tokens                Tokens   \n",
       "3                    WBTC                  MUSD                  USDC   \n",
       "4                     NaN                   NaN                   NaN   \n",
       "..                    ...                   ...                   ...   \n",
       "259          102.21495363     686217.3003859872       15072946.945157   \n",
       "260          102.27790247     683963.5611400987       15494431.859691   \n",
       "261          102.61416648     661982.3161787079       15182597.017191   \n",
       "262          100.88687783     553373.6115797616       14822660.377835   \n",
       "263          101.08482729     524947.4647122115       14499205.137349   \n",
       "\n",
       "    MM Finance Cronos.244 MM Finance Cronos.245 MM Finance Cronos.246  \\\n",
       "0                   Dexes                 Dexes                 Dexes   \n",
       "1                   Total                 Total                 Total   \n",
       "2                  Tokens                Tokens                Tokens   \n",
       "3                    TUSD         akash-network                 BTCBR   \n",
       "4                     NaN                   NaN                   NaN   \n",
       "..                    ...                   ...                   ...   \n",
       "259                     0              0.000227     37002392.21330488   \n",
       "260                     0              0.000227    3703.5170400617167   \n",
       "261                     0              0.000227    3703.5170400617167   \n",
       "262                     0              0.000227     1.486517419222292   \n",
       "263                     0              0.000227     1.486517419222292   \n",
       "\n",
       "    MM Finance Cronos.247  \n",
       "0                   Dexes  \n",
       "1                 staking  \n",
       "2                  Tokens  \n",
       "3                     MMF  \n",
       "4                     NaN  \n",
       "..                    ...  \n",
       "259     61717899.91331548  \n",
       "260      61679277.6104329  \n",
       "261    61316396.631764226  \n",
       "262    60611711.884170726  \n",
       "263    61157037.324965976  \n",
       "\n",
       "[264 rows x 251 columns]"
      ]
     },
     "execution_count": 15,
     "metadata": {},
     "output_type": "execute_result"
    }
   ],
   "source": [
    "lma"
   ]
  },
  {
   "cell_type": "code",
   "execution_count": 17,
   "metadata": {},
   "outputs": [
    {
     "data": {
      "text/plain": [
       "0                   Dexes\n",
       "1                   Total\n",
       "2                     TVL\n",
       "3                     NaN\n",
       "4      1221.8222108002014\n",
       "              ...        \n",
       "259     59035064.90398302\n",
       "260     59480895.70481921\n",
       "261     57007573.76954059\n",
       "262    55529311.615704715\n",
       "263    51662969.318823434\n",
       "Name: MM Finance Cronos.2, Length: 264, dtype: object"
      ]
     },
     "execution_count": 17,
     "metadata": {},
     "output_type": "execute_result"
    }
   ],
   "source": [
    "lma.iloc[:,5]"
   ]
  },
  {
   "cell_type": "code",
   "execution_count": 18,
   "metadata": {},
   "outputs": [
    {
     "data": {
      "text/plain": [
       "9390308.28146803"
      ]
     },
     "execution_count": 18,
     "metadata": {},
     "output_type": "execute_result"
    }
   ],
   "source": [
    "#Just eth currently can take total by changing the header\n",
    "lma.iloc[-183:, 6].astype(float).mean()"
   ]
  },
  {
   "cell_type": "code",
   "execution_count": null,
   "metadata": {},
   "outputs": [],
   "source": []
  },
  {
   "cell_type": "markdown",
   "metadata": {},
   "source": [
    "Largest Pool Concentration"
   ]
  },
  {
   "cell_type": "code",
   "execution_count": 20,
   "metadata": {},
   "outputs": [
    {
     "name": "stderr",
     "output_type": "stream",
     "text": [
      "/tmp/ipykernel_121056/3580151785.py:22: FutureWarning: The frame.append method is deprecated and will be removed from pandas in a future version. Use pandas.concat instead.\n",
      "  df = df.append(pool)\n",
      "/tmp/ipykernel_121056/3580151785.py:22: FutureWarning: The frame.append method is deprecated and will be removed from pandas in a future version. Use pandas.concat instead.\n",
      "  df = df.append(pool)\n",
      "/tmp/ipykernel_121056/3580151785.py:22: FutureWarning: The frame.append method is deprecated and will be removed from pandas in a future version. Use pandas.concat instead.\n",
      "  df = df.append(pool)\n",
      "/tmp/ipykernel_121056/3580151785.py:22: FutureWarning: The frame.append method is deprecated and will be removed from pandas in a future version. Use pandas.concat instead.\n",
      "  df = df.append(pool)\n",
      "/tmp/ipykernel_121056/3580151785.py:22: FutureWarning: The frame.append method is deprecated and will be removed from pandas in a future version. Use pandas.concat instead.\n",
      "  df = df.append(pool)\n",
      "/tmp/ipykernel_121056/3580151785.py:22: FutureWarning: The frame.append method is deprecated and will be removed from pandas in a future version. Use pandas.concat instead.\n",
      "  df = df.append(pool)\n",
      "/tmp/ipykernel_121056/3580151785.py:22: FutureWarning: The frame.append method is deprecated and will be removed from pandas in a future version. Use pandas.concat instead.\n",
      "  df = df.append(pool)\n",
      "/tmp/ipykernel_121056/3580151785.py:22: FutureWarning: The frame.append method is deprecated and will be removed from pandas in a future version. Use pandas.concat instead.\n",
      "  df = df.append(pool)\n",
      "/tmp/ipykernel_121056/3580151785.py:22: FutureWarning: The frame.append method is deprecated and will be removed from pandas in a future version. Use pandas.concat instead.\n",
      "  df = df.append(pool)\n",
      "/tmp/ipykernel_121056/3580151785.py:22: FutureWarning: The frame.append method is deprecated and will be removed from pandas in a future version. Use pandas.concat instead.\n",
      "  df = df.append(pool)\n",
      "/tmp/ipykernel_121056/3580151785.py:22: FutureWarning: The frame.append method is deprecated and will be removed from pandas in a future version. Use pandas.concat instead.\n",
      "  df = df.append(pool)\n",
      "/tmp/ipykernel_121056/3580151785.py:22: FutureWarning: The frame.append method is deprecated and will be removed from pandas in a future version. Use pandas.concat instead.\n",
      "  df = df.append(pool)\n"
     ]
    }
   ],
   "source": [
    "df = pd.DataFrame()\n",
    "ts = 0\n",
    "\n",
    "while True:\n",
    "    sl = len(df)\n",
    "    query = \"\"\"\n",
    "{\n",
    "  liquidityPools(first:1000, orderBy: createdTimestamp, orderDirection: asc, where: {createdTimestamp_gt: \"\"\"+f'\"{ts}\"'+\"\"\"}){\n",
    "    id\n",
    "    name\n",
    "    totalValueLockedUSD\n",
    "    cumulativeVolumeUSD\n",
    "    createdTimestamp\n",
    "    createdBlockNumber\n",
    "  }\n",
    "  }\n",
    "\"\"\"\n",
    "    request = requests.post(endpoint, json={'query':query})\n",
    "    if request.ok:\n",
    "      data = request.json()\n",
    "      pool = pd.json_normalize(data['data']['liquidityPools'])\n",
    "      df = df.append(pool)\n",
    "      df.drop_duplicates(inplace=True)\n",
    "      if len(df) == sl:\n",
    "        break\n",
    "      ts = df['createdTimestamp'].max()\n"
   ]
  },
  {
   "cell_type": "code",
   "execution_count": 22,
   "metadata": {},
   "outputs": [
    {
     "data": {
      "text/html": [
       "<div>\n",
       "<style scoped>\n",
       "    .dataframe tbody tr th:only-of-type {\n",
       "        vertical-align: middle;\n",
       "    }\n",
       "\n",
       "    .dataframe tbody tr th {\n",
       "        vertical-align: top;\n",
       "    }\n",
       "\n",
       "    .dataframe thead th {\n",
       "        text-align: right;\n",
       "    }\n",
       "</style>\n",
       "<table border=\"1\" class=\"dataframe\">\n",
       "  <thead>\n",
       "    <tr style=\"text-align: right;\">\n",
       "      <th></th>\n",
       "      <th>id</th>\n",
       "      <th>name</th>\n",
       "      <th>totalValueLockedUSD</th>\n",
       "      <th>cumulativeVolumeUSD</th>\n",
       "      <th>createdTimestamp</th>\n",
       "      <th>createdBlockNumber</th>\n",
       "    </tr>\n",
       "  </thead>\n",
       "  <tbody>\n",
       "    <tr>\n",
       "      <th>0</th>\n",
       "      <td>0xba452a1c0875d33a440259b1ea4dca8f5d86d9ae</td>\n",
       "      <td>MM Finance Wrapped CRO/Mad Meerkat Finance</td>\n",
       "      <td>5191379.656815793930449278041674666</td>\n",
       "      <td>3018019744.905150042218254341489762</td>\n",
       "      <td>1638848069</td>\n",
       "      <td>446670</td>\n",
       "    </tr>\n",
       "    <tr>\n",
       "      <th>1</th>\n",
       "      <td>0x019d9479606fbdd4acb16488e0aae49e4684322b</td>\n",
       "      <td>MM Finance Wrapped CRO/Wrapped Ether</td>\n",
       "      <td>2714718.033181013038202390273340604</td>\n",
       "      <td>296153361.7547361433020010765387156</td>\n",
       "      <td>1638848075</td>\n",
       "      <td>446671</td>\n",
       "    </tr>\n",
       "    <tr>\n",
       "      <th>2</th>\n",
       "      <td>0x5383202d48c24aaa19873366168f2ed558a00ff0</td>\n",
       "      <td>MM Finance Wrapped BTC/Wrapped CRO</td>\n",
       "      <td>756278.8772150363095452923015012178</td>\n",
       "      <td>174331008.958130038325865132165201</td>\n",
       "      <td>1638848081</td>\n",
       "      <td>446672</td>\n",
       "    </tr>\n",
       "    <tr>\n",
       "      <th>3</th>\n",
       "      <td>0xa68466208f1a3eb21650320d2520ee8eba5ba623</td>\n",
       "      <td>MM Finance Wrapped CRO/USD Coin</td>\n",
       "      <td>8971991.773048000000000000000000002</td>\n",
       "      <td>2356671963.753448084748194506970395</td>\n",
       "      <td>1638848086</td>\n",
       "      <td>446673</td>\n",
       "    </tr>\n",
       "    <tr>\n",
       "      <th>4</th>\n",
       "      <td>0xeb28c926a7afc75fcc8d6671acd4c4a298b38419</td>\n",
       "      <td>MM Finance Wrapped CRO/Tether USD</td>\n",
       "      <td>2035244.551521069665766557298081834</td>\n",
       "      <td>839364214.861585693279186624983961</td>\n",
       "      <td>1638848098</td>\n",
       "      <td>446675</td>\n",
       "    </tr>\n",
       "    <tr>\n",
       "      <th>...</th>\n",
       "      <td>...</td>\n",
       "      <td>...</td>\n",
       "      <td>...</td>\n",
       "      <td>...</td>\n",
       "      <td>...</td>\n",
       "      <td>...</td>\n",
       "    </tr>\n",
       "    <tr>\n",
       "      <th>714</th>\n",
       "      <td>0x545dcc9f6be18e608893524858c5d8e877449a35</td>\n",
       "      <td>MM Finance Wrapped CRO/Baby Hop</td>\n",
       "      <td>22.85772939011721492051574743753769</td>\n",
       "      <td>0</td>\n",
       "      <td>1662260752</td>\n",
       "      <td>4470775</td>\n",
       "    </tr>\n",
       "    <tr>\n",
       "      <th>715</th>\n",
       "      <td>0xcf415dc3018734e141813084b081360f260337bc</td>\n",
       "      <td>MM Finance CroMaster/Wrapped CRO</td>\n",
       "      <td>0.2931031592214514635001642854332159</td>\n",
       "      <td>412.9223436167608696994212757159887</td>\n",
       "      <td>1662293569</td>\n",
       "      <td>4476578</td>\n",
       "    </tr>\n",
       "    <tr>\n",
       "      <th>716</th>\n",
       "      <td>0x950e27a71119f3703cc8f1fc1c57b4fca8f20a5e</td>\n",
       "      <td>MM Finance USD Coin/Mad Meerkat Optimizer</td>\n",
       "      <td>277.917217</td>\n",
       "      <td>0</td>\n",
       "      <td>1662340110</td>\n",
       "      <td>4484799</td>\n",
       "    </tr>\n",
       "    <tr>\n",
       "      <th>717</th>\n",
       "      <td>0x35cb220810514a2930a204e68484fe3dc6723cd8</td>\n",
       "      <td>MM Finance DEMOTEST1/DEMOTEST2</td>\n",
       "      <td>0</td>\n",
       "      <td>0</td>\n",
       "      <td>1662395742</td>\n",
       "      <td>4494626</td>\n",
       "    </tr>\n",
       "    <tr>\n",
       "      <th>718</th>\n",
       "      <td>0xec51bc691ae390cd0079606c79e0f0b504afb4f3</td>\n",
       "      <td>MM Finance ViesteToken-crypto.com/LUNA</td>\n",
       "      <td>0</td>\n",
       "      <td>0</td>\n",
       "      <td>1662463011</td>\n",
       "      <td>4506509</td>\n",
       "    </tr>\n",
       "  </tbody>\n",
       "</table>\n",
       "<p>10719 rows × 6 columns</p>\n",
       "</div>"
      ],
      "text/plain": [
       "                                             id  \\\n",
       "0    0xba452a1c0875d33a440259b1ea4dca8f5d86d9ae   \n",
       "1    0x019d9479606fbdd4acb16488e0aae49e4684322b   \n",
       "2    0x5383202d48c24aaa19873366168f2ed558a00ff0   \n",
       "3    0xa68466208f1a3eb21650320d2520ee8eba5ba623   \n",
       "4    0xeb28c926a7afc75fcc8d6671acd4c4a298b38419   \n",
       "..                                          ...   \n",
       "714  0x545dcc9f6be18e608893524858c5d8e877449a35   \n",
       "715  0xcf415dc3018734e141813084b081360f260337bc   \n",
       "716  0x950e27a71119f3703cc8f1fc1c57b4fca8f20a5e   \n",
       "717  0x35cb220810514a2930a204e68484fe3dc6723cd8   \n",
       "718  0xec51bc691ae390cd0079606c79e0f0b504afb4f3   \n",
       "\n",
       "                                           name  \\\n",
       "0    MM Finance Wrapped CRO/Mad Meerkat Finance   \n",
       "1          MM Finance Wrapped CRO/Wrapped Ether   \n",
       "2            MM Finance Wrapped BTC/Wrapped CRO   \n",
       "3               MM Finance Wrapped CRO/USD Coin   \n",
       "4             MM Finance Wrapped CRO/Tether USD   \n",
       "..                                          ...   \n",
       "714             MM Finance Wrapped CRO/Baby Hop   \n",
       "715            MM Finance CroMaster/Wrapped CRO   \n",
       "716   MM Finance USD Coin/Mad Meerkat Optimizer   \n",
       "717              MM Finance DEMOTEST1/DEMOTEST2   \n",
       "718      MM Finance ViesteToken-crypto.com/LUNA   \n",
       "\n",
       "                      totalValueLockedUSD  \\\n",
       "0     5191379.656815793930449278041674666   \n",
       "1     2714718.033181013038202390273340604   \n",
       "2     756278.8772150363095452923015012178   \n",
       "3     8971991.773048000000000000000000002   \n",
       "4     2035244.551521069665766557298081834   \n",
       "..                                    ...   \n",
       "714   22.85772939011721492051574743753769   \n",
       "715  0.2931031592214514635001642854332159   \n",
       "716                            277.917217   \n",
       "717                                     0   \n",
       "718                                     0   \n",
       "\n",
       "                     cumulativeVolumeUSD createdTimestamp createdBlockNumber  \n",
       "0    3018019744.905150042218254341489762       1638848069             446670  \n",
       "1    296153361.7547361433020010765387156       1638848075             446671  \n",
       "2     174331008.958130038325865132165201       1638848081             446672  \n",
       "3    2356671963.753448084748194506970395       1638848086             446673  \n",
       "4     839364214.861585693279186624983961       1638848098             446675  \n",
       "..                                   ...              ...                ...  \n",
       "714                                    0       1662260752            4470775  \n",
       "715  412.9223436167608696994212757159887       1662293569            4476578  \n",
       "716                                    0       1662340110            4484799  \n",
       "717                                    0       1662395742            4494626  \n",
       "718                                    0       1662463011            4506509  \n",
       "\n",
       "[10719 rows x 6 columns]"
      ]
     },
     "execution_count": 22,
     "metadata": {},
     "output_type": "execute_result"
    }
   ],
   "source": [
    "df"
   ]
  },
  {
   "cell_type": "code",
   "execution_count": 23,
   "metadata": {},
   "outputs": [
    {
     "data": {
      "text/plain": [
       "0.1995243903519313"
      ]
     },
     "execution_count": 23,
     "metadata": {},
     "output_type": "execute_result"
    }
   ],
   "source": [
    "df['totalValueLockedUSD'].astype(float).max()/df['totalValueLockedUSD'].astype(float).sum()"
   ]
  },
  {
   "cell_type": "code",
   "execution_count": 24,
   "metadata": {},
   "outputs": [
    {
     "data": {
      "text/plain": [
       "0.7781339480288944"
      ]
     },
     "execution_count": 24,
     "metadata": {},
     "output_type": "execute_result"
    }
   ],
   "source": [
    "df['totalValueLockedUSD'].astype(float).nlargest(10).sum()/df['totalValueLockedUSD'].astype(float).sum()"
   ]
  },
  {
   "cell_type": "markdown",
   "metadata": {},
   "source": [
    "Liquidity Pools with > $1mn TVL"
   ]
  },
  {
   "cell_type": "code",
   "execution_count": 25,
   "metadata": {},
   "outputs": [
    {
     "data": {
      "text/plain": [
       "11"
      ]
     },
     "execution_count": 25,
     "metadata": {},
     "output_type": "execute_result"
    }
   ],
   "source": [
    "len(df.loc[df['totalValueLockedUSD'].astype(float) > 1000000])"
   ]
  },
  {
   "cell_type": "code",
   "execution_count": null,
   "metadata": {},
   "outputs": [],
   "source": []
  },
  {
   "cell_type": "markdown",
   "metadata": {},
   "source": [
    "Monthly Active Users"
   ]
  },
  {
   "cell_type": "code",
   "execution_count": 26,
   "metadata": {},
   "outputs": [],
   "source": [
    "query = \"\"\"{\n",
    "  usageMetricsDailySnapshots(first: 183, orderBy: timestamp, orderDirection: desc){\n",
    "    timestamp\n",
    "    blockNumber\n",
    "    id\n",
    "    dailyActiveUsers\n",
    "    dailySwapCount\n",
    "    dailyDepositCount\n",
    "    dailyWithdrawCount \n",
    "  }\n",
    "}\n",
    "\"\"\""
   ]
  },
  {
   "cell_type": "code",
   "execution_count": 27,
   "metadata": {},
   "outputs": [],
   "source": [
    "request = requests.post(endpoint, json={'query':query})\n",
    "data = request.json()"
   ]
  },
  {
   "cell_type": "code",
   "execution_count": 28,
   "metadata": {},
   "outputs": [],
   "source": [
    "df = pd.json_normalize(data['data']['usageMetricsDailySnapshots'])"
   ]
  },
  {
   "cell_type": "code",
   "execution_count": 29,
   "metadata": {},
   "outputs": [
    {
     "data": {
      "text/plain": [
       "9573.459016393443"
      ]
     },
     "execution_count": 29,
     "metadata": {},
     "output_type": "execute_result"
    }
   ],
   "source": [
    "df['dailyActiveUsers'].astype(float).mean()"
   ]
  },
  {
   "cell_type": "code",
   "execution_count": null,
   "metadata": {},
   "outputs": [],
   "source": []
  },
  {
   "cell_type": "markdown",
   "metadata": {},
   "source": [
    "Implied slippage"
   ]
  },
  {
   "cell_type": "code",
   "execution_count": 32,
   "metadata": {},
   "outputs": [],
   "source": [
    "query = \"\"\"\n",
    "{\n",
    "  liquidityPools(first:10, orderBy: totalValueLockedUSD, orderDirection: desc){\n",
    "    id\n",
    "    name\n",
    "    totalValueLockedUSD\n",
    "    cumulativeVolumeUSD\n",
    "    createdTimestamp\n",
    "    createdBlockNumber\n",
    "    inputTokens{\n",
    "      id\n",
    "      name\n",
    "      symbol\n",
    "      lastPriceUSD\n",
    "      decimals\n",
    "    }\n",
    "    inputTokenBalances\n",
    "  }\n",
    "}\n",
    "\"\"\"\n",
    "request = requests.post(endpoint, json={'query':query})\n",
    "if request.ok:\n",
    "    data = request.json()"
   ]
  },
  {
   "cell_type": "code",
   "execution_count": 33,
   "metadata": {},
   "outputs": [],
   "source": [
    "slip1000 = []\n",
    "slip10000 = []\n",
    "slip100000 = []\n",
    "\n",
    "for pool in data['data']['liquidityPools']:\n",
    "    token0 = pool['inputTokens'][0]\n",
    "    token0_reserveUSD = (float(pool['inputTokenBalances'][0])/10**token0['decimals'])*float(token0['lastPriceUSD'])\n",
    "    slip1000.append(1000/token0_reserveUSD)\n",
    "    slip10000.append(10000/token0_reserveUSD)\n",
    "    slip100000.append(100000/token0_reserveUSD)\n",
    "\n"
   ]
  },
  {
   "cell_type": "code",
   "execution_count": 34,
   "metadata": {},
   "outputs": [
    {
     "data": {
      "text/plain": [
       "0.0007331834067080002"
      ]
     },
     "execution_count": 34,
     "metadata": {},
     "output_type": "execute_result"
    }
   ],
   "source": [
    "np.mean(slip1000)"
   ]
  },
  {
   "cell_type": "code",
   "execution_count": 35,
   "metadata": {},
   "outputs": [
    {
     "data": {
      "text/plain": [
       "0.007331834067080002"
      ]
     },
     "execution_count": 35,
     "metadata": {},
     "output_type": "execute_result"
    }
   ],
   "source": [
    "np.mean(slip10000)"
   ]
  },
  {
   "cell_type": "code",
   "execution_count": 36,
   "metadata": {},
   "outputs": [
    {
     "data": {
      "text/plain": [
       "0.07331834067080002"
      ]
     },
     "execution_count": 36,
     "metadata": {},
     "output_type": "execute_result"
    }
   ],
   "source": [
    "np.mean(slip100000)"
   ]
  },
  {
   "cell_type": "code",
   "execution_count": 37,
   "metadata": {},
   "outputs": [
    {
     "data": {
      "text/plain": [
       "0.5"
      ]
     },
     "execution_count": 37,
     "metadata": {},
     "output_type": "execute_result"
    }
   ],
   "source": [
    "100/200"
   ]
  },
  {
   "cell_type": "code",
   "execution_count": 38,
   "metadata": {},
   "outputs": [
    {
     "data": {
      "text/plain": [
       "0.6111111111111112"
      ]
     },
     "execution_count": 38,
     "metadata": {},
     "output_type": "execute_result"
    }
   ],
   "source": [
    "(100+10)/(200-20)"
   ]
  },
  {
   "cell_type": "code",
   "execution_count": 40,
   "metadata": {},
   "outputs": [],
   "source": [
    "#Check price impact calculation is correct d0/r0"
   ]
  },
  {
   "cell_type": "code",
   "execution_count": null,
   "metadata": {},
   "outputs": [],
   "source": []
  }
 ],
 "metadata": {
  "kernelspec": {
   "display_name": "Python 3.8.10 64-bit",
   "language": "python",
   "name": "python3"
  },
  "language_info": {
   "codemirror_mode": {
    "name": "ipython",
    "version": 3
   },
   "file_extension": ".py",
   "mimetype": "text/x-python",
   "name": "python",
   "nbconvert_exporter": "python",
   "pygments_lexer": "ipython3",
   "version": "3.8.10"
  },
  "orig_nbformat": 4,
  "vscode": {
   "interpreter": {
    "hash": "916dbcbb3f70747c44a77c7bcd40155683ae19c65e1c03b4aa3499c5328201f1"
   }
  }
 },
 "nbformat": 4,
 "nbformat_minor": 2
}
