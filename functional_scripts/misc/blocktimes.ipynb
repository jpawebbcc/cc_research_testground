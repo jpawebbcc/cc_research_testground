{
 "cells": [
  {
   "cell_type": "code",
   "execution_count": 4,
   "metadata": {},
   "outputs": [],
   "source": [
    "import pandas as pd\n",
    "import os\n",
    "import numpy as np\n",
    "import datetime as dt\n",
    "import requests\n",
    "import time"
   ]
  },
  {
   "cell_type": "code",
   "execution_count": 5,
   "metadata": {},
   "outputs": [],
   "source": [
    "#Take a list of blocknumber and return a list of timestamps from etherscan API 'ETG5N92CNR441MM2P76T3W3NVUCNXS8T5T'"
   ]
  },
  {
   "cell_type": "code",
   "execution_count": 21,
   "metadata": {},
   "outputs": [],
   "source": [
    "def getEthersBlocktimes(blocknumbers, api_key, max_retry = 5):\n",
    "    ts = []\n",
    "    for block in blocknumbers:\n",
    "        url = f\"https://api.etherscan.io/api?module=block&action=getblockreward&blockno={int(block)}&apikey={api_key}\"\n",
    "        resp = requests.get(url)\n",
    "        retrys = 0\n",
    "        while True:\n",
    "            if resp.ok:\n",
    "                data = resp.json()\n",
    "                timestamp = (data['result']['timeStamp'])\n",
    "                ts.append([block, timestamp])    \n",
    "                break\n",
    "            else:\n",
    "                if retrys == max_retry:\n",
    "                    raise requests.ConnectionError\n",
    "                retrys += 1\n",
    "    return ts\n",
    "\n",
    "    "
   ]
  },
  {
   "cell_type": "code",
   "execution_count": 22,
   "metadata": {},
   "outputs": [],
   "source": [
    "bns = list(range(1440000,1440030))"
   ]
  },
  {
   "cell_type": "code",
   "execution_count": 23,
   "metadata": {},
   "outputs": [
    {
     "data": {
      "text/plain": [
       "[[1440000, '1462141065'],\n",
       " [1440001, '1462141096'],\n",
       " [1440002, '1462141102'],\n",
       " [1440003, '1462141262'],\n",
       " [1440004, '1462141276'],\n",
       " [1440005, '1462141285'],\n",
       " [1440006, '1462141299'],\n",
       " [1440007, '1462141340'],\n",
       " [1440008, '1462141347'],\n",
       " [1440009, '1462141379'],\n",
       " [1440010, '1462141404'],\n",
       " [1440011, '1462141427'],\n",
       " [1440012, '1462141429'],\n",
       " [1440013, '1462141430'],\n",
       " [1440014, '1462141472'],\n",
       " [1440015, '1462141538'],\n",
       " [1440016, '1462141552'],\n",
       " [1440017, '1462141579'],\n",
       " [1440018, '1462141585'],\n",
       " [1440019, '1462141615'],\n",
       " [1440020, '1462141641'],\n",
       " [1440021, '1462141734'],\n",
       " [1440022, '1462141772'],\n",
       " [1440023, '1462141778'],\n",
       " [1440024, '1462141820'],\n",
       " [1440025, '1462141873'],\n",
       " [1440026, '1462141880'],\n",
       " [1440027, '1462141893'],\n",
       " [1440028, '1462141933'],\n",
       " [1440029, '1462141993']]"
      ]
     },
     "execution_count": 23,
     "metadata": {},
     "output_type": "execute_result"
    }
   ],
   "source": [
    "getEthersBlocktimes(bns, 'APIKEYHERE')"
   ]
  },
  {
   "cell_type": "code",
   "execution_count": null,
   "metadata": {},
   "outputs": [],
   "source": []
  }
 ],
 "metadata": {
  "kernelspec": {
   "display_name": "Python 3.8.10 64-bit",
   "language": "python",
   "name": "python3"
  },
  "language_info": {
   "codemirror_mode": {
    "name": "ipython",
    "version": 3
   },
   "file_extension": ".py",
   "mimetype": "text/x-python",
   "name": "python",
   "nbconvert_exporter": "python",
   "pygments_lexer": "ipython3",
   "version": "3.8.10"
  },
  "orig_nbformat": 4,
  "vscode": {
   "interpreter": {
    "hash": "916dbcbb3f70747c44a77c7bcd40155683ae19c65e1c03b4aa3499c5328201f1"
   }
  }
 },
 "nbformat": 4,
 "nbformat_minor": 2
}
