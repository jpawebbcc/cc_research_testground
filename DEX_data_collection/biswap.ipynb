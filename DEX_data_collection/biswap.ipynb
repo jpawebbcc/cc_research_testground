{
 "cells": [
  {
   "cell_type": "code",
   "execution_count": 2,
   "metadata": {},
   "outputs": [],
   "source": [
    "import pandas as pd\n",
    "import numpy as np\n",
    "import time\n",
    "import requests\n",
    "import datetime as dt\n",
    "from dateutil.relativedelta import relativedelta\n",
    "import matplotlib.pyplot as plt"
   ]
  },
  {
   "cell_type": "markdown",
   "metadata": {},
   "source": [
    "## Biswap\n",
    "\n",
    "14/9/2022\n"
   ]
  },
  {
   "cell_type": "markdown",
   "metadata": {},
   "source": [
    "6-Month Average Daily Volume"
   ]
  },
  {
   "cell_type": "code",
   "execution_count": 3,
   "metadata": {},
   "outputs": [],
   "source": [
    "endpoint = \"https://api.thegraph.com/subgraphs/name/biswapcom/exchange5\""
   ]
  },
  {
   "cell_type": "code",
   "execution_count": 4,
   "metadata": {},
   "outputs": [],
   "source": [
    "query = \"\"\"{\n",
    "  pancakeDayDatas(first: 183, orderDirection: desc, orderBy: date){\n",
    "    id\n",
    "    date\n",
    "    dailyVolumeBNB\n",
    "    dailyVolumeUSD\n",
    "    dailyVolumeUntracked\n",
    "    totalVolumeBNB\n",
    "    totalVolumeUSD\n",
    "    totalVolumeUSD\n",
    "    totalLiquidityUSD\n",
    "    totalTransactions\n",
    "  }\n",
    "}\n",
    "\"\"\"\n"
   ]
  },
  {
   "cell_type": "code",
   "execution_count": 5,
   "metadata": {},
   "outputs": [],
   "source": [
    "request = requests.post(endpoint, json={'query':query})\n",
    "data = request.json()"
   ]
  },
  {
   "cell_type": "code",
   "execution_count": 6,
   "metadata": {},
   "outputs": [],
   "source": [
    "df = pd.DataFrame(data['data']['pancakeDayDatas'])"
   ]
  },
  {
   "cell_type": "code",
   "execution_count": 7,
   "metadata": {},
   "outputs": [
    {
     "data": {
      "text/html": [
       "<div>\n",
       "<style scoped>\n",
       "    .dataframe tbody tr th:only-of-type {\n",
       "        vertical-align: middle;\n",
       "    }\n",
       "\n",
       "    .dataframe tbody tr th {\n",
       "        vertical-align: top;\n",
       "    }\n",
       "\n",
       "    .dataframe thead th {\n",
       "        text-align: right;\n",
       "    }\n",
       "</style>\n",
       "<table border=\"1\" class=\"dataframe\">\n",
       "  <thead>\n",
       "    <tr style=\"text-align: right;\">\n",
       "      <th></th>\n",
       "      <th>id</th>\n",
       "      <th>date</th>\n",
       "      <th>dailyVolumeBNB</th>\n",
       "      <th>dailyVolumeUSD</th>\n",
       "      <th>dailyVolumeUntracked</th>\n",
       "      <th>totalVolumeBNB</th>\n",
       "      <th>totalVolumeUSD</th>\n",
       "      <th>totalLiquidityUSD</th>\n",
       "      <th>totalTransactions</th>\n",
       "    </tr>\n",
       "  </thead>\n",
       "  <tbody>\n",
       "    <tr>\n",
       "      <th>0</th>\n",
       "      <td>19249</td>\n",
       "      <td>1663113600</td>\n",
       "      <td>32627.73837485662867514996026188431</td>\n",
       "      <td>9107803.269477051842673841986072102</td>\n",
       "      <td>9104976.494092630863494063916980371</td>\n",
       "      <td>0</td>\n",
       "      <td>0</td>\n",
       "      <td>248429040.8178593621272596020876596</td>\n",
       "      <td>24401451</td>\n",
       "    </tr>\n",
       "    <tr>\n",
       "      <th>1</th>\n",
       "      <td>19248</td>\n",
       "      <td>1663027200</td>\n",
       "      <td>88826.92722875898224790498195394053</td>\n",
       "      <td>25464914.60424082111398752722543895</td>\n",
       "      <td>25464292.16849391488619112958309538</td>\n",
       "      <td>0</td>\n",
       "      <td>0</td>\n",
       "      <td>268805766.8751076773821300814215285</td>\n",
       "      <td>24387001</td>\n",
       "    </tr>\n",
       "    <tr>\n",
       "      <th>2</th>\n",
       "      <td>19247</td>\n",
       "      <td>1662940800</td>\n",
       "      <td>58270.19659713907005263159157402829</td>\n",
       "      <td>17206261.25119946215261718314002593</td>\n",
       "      <td>17204396.63718996029629705187419527</td>\n",
       "      <td>0</td>\n",
       "      <td>0</td>\n",
       "      <td>281765750.4465917456876463358191696</td>\n",
       "      <td>24355903</td>\n",
       "    </tr>\n",
       "    <tr>\n",
       "      <th>3</th>\n",
       "      <td>19246</td>\n",
       "      <td>1662854400</td>\n",
       "      <td>36797.35201151679959078052066658827</td>\n",
       "      <td>10840501.78534572422377113953427268</td>\n",
       "      <td>10839669.89456797755399149139395775</td>\n",
       "      <td>0</td>\n",
       "      <td>0</td>\n",
       "      <td>282450322.1346927150562475701237233</td>\n",
       "      <td>24329002</td>\n",
       "    </tr>\n",
       "    <tr>\n",
       "      <th>4</th>\n",
       "      <td>19245</td>\n",
       "      <td>1662768000</td>\n",
       "      <td>39679.12279097216844258251869698651</td>\n",
       "      <td>11675701.45362157114609390648777129</td>\n",
       "      <td>11679037.07440277275935731304178752</td>\n",
       "      <td>0</td>\n",
       "      <td>0</td>\n",
       "      <td>284694561.232666370076234276466364</td>\n",
       "      <td>24310120</td>\n",
       "    </tr>\n",
       "    <tr>\n",
       "      <th>...</th>\n",
       "      <td>...</td>\n",
       "      <td>...</td>\n",
       "      <td>...</td>\n",
       "      <td>...</td>\n",
       "      <td>...</td>\n",
       "      <td>...</td>\n",
       "      <td>...</td>\n",
       "      <td>...</td>\n",
       "      <td>...</td>\n",
       "    </tr>\n",
       "    <tr>\n",
       "      <th>178</th>\n",
       "      <td>19071</td>\n",
       "      <td>1647734400</td>\n",
       "      <td>110507.0430336293165755307575807372</td>\n",
       "      <td>43472340.85023031855131727048786779</td>\n",
       "      <td>43470555.47454535400895493818201938</td>\n",
       "      <td>0</td>\n",
       "      <td>0</td>\n",
       "      <td>332497236.2992797471667775010817832</td>\n",
       "      <td>13599431</td>\n",
       "    </tr>\n",
       "    <tr>\n",
       "      <th>179</th>\n",
       "      <td>19070</td>\n",
       "      <td>1647648000</td>\n",
       "      <td>115845.8650700917512275811396670711</td>\n",
       "      <td>46409080.96227154281758638509594406</td>\n",
       "      <td>46408721.06432052399771435247931169</td>\n",
       "      <td>0</td>\n",
       "      <td>0</td>\n",
       "      <td>336553021.2191180425974288456373593</td>\n",
       "      <td>13557321</td>\n",
       "    </tr>\n",
       "    <tr>\n",
       "      <th>180</th>\n",
       "      <td>19069</td>\n",
       "      <td>1647561600</td>\n",
       "      <td>122088.4594084019292877210474644961</td>\n",
       "      <td>47780667.10043103340017800933942675</td>\n",
       "      <td>47781344.63119744365251943081868872</td>\n",
       "      <td>0</td>\n",
       "      <td>0</td>\n",
       "      <td>338245812.1536309037457567232184589</td>\n",
       "      <td>13516417</td>\n",
       "    </tr>\n",
       "    <tr>\n",
       "      <th>181</th>\n",
       "      <td>19068</td>\n",
       "      <td>1647475200</td>\n",
       "      <td>129188.8746498755652012221823225591</td>\n",
       "      <td>50049006.2159228013796281208600761</td>\n",
       "      <td>50046878.88185168488366788427347213</td>\n",
       "      <td>0</td>\n",
       "      <td>0</td>\n",
       "      <td>337733246.3130287738399582428473718</td>\n",
       "      <td>13478928</td>\n",
       "    </tr>\n",
       "    <tr>\n",
       "      <th>182</th>\n",
       "      <td>19067</td>\n",
       "      <td>1647388800</td>\n",
       "      <td>208590.6956036865358775599555855781</td>\n",
       "      <td>78816661.49950115632289635374852656</td>\n",
       "      <td>78816095.9255170532935972356517322</td>\n",
       "      <td>0</td>\n",
       "      <td>0</td>\n",
       "      <td>350439814.7507568223976881002742575</td>\n",
       "      <td>13439564</td>\n",
       "    </tr>\n",
       "  </tbody>\n",
       "</table>\n",
       "<p>183 rows × 9 columns</p>\n",
       "</div>"
      ],
      "text/plain": [
       "        id        date                       dailyVolumeBNB  \\\n",
       "0    19249  1663113600  32627.73837485662867514996026188431   \n",
       "1    19248  1663027200  88826.92722875898224790498195394053   \n",
       "2    19247  1662940800  58270.19659713907005263159157402829   \n",
       "3    19246  1662854400  36797.35201151679959078052066658827   \n",
       "4    19245  1662768000  39679.12279097216844258251869698651   \n",
       "..     ...         ...                                  ...   \n",
       "178  19071  1647734400  110507.0430336293165755307575807372   \n",
       "179  19070  1647648000  115845.8650700917512275811396670711   \n",
       "180  19069  1647561600  122088.4594084019292877210474644961   \n",
       "181  19068  1647475200  129188.8746498755652012221823225591   \n",
       "182  19067  1647388800  208590.6956036865358775599555855781   \n",
       "\n",
       "                          dailyVolumeUSD                 dailyVolumeUntracked  \\\n",
       "0    9107803.269477051842673841986072102  9104976.494092630863494063916980371   \n",
       "1    25464914.60424082111398752722543895  25464292.16849391488619112958309538   \n",
       "2    17206261.25119946215261718314002593  17204396.63718996029629705187419527   \n",
       "3    10840501.78534572422377113953427268  10839669.89456797755399149139395775   \n",
       "4    11675701.45362157114609390648777129  11679037.07440277275935731304178752   \n",
       "..                                   ...                                  ...   \n",
       "178  43472340.85023031855131727048786779  43470555.47454535400895493818201938   \n",
       "179  46409080.96227154281758638509594406  46408721.06432052399771435247931169   \n",
       "180  47780667.10043103340017800933942675  47781344.63119744365251943081868872   \n",
       "181   50049006.2159228013796281208600761  50046878.88185168488366788427347213   \n",
       "182  78816661.49950115632289635374852656   78816095.9255170532935972356517322   \n",
       "\n",
       "    totalVolumeBNB totalVolumeUSD                    totalLiquidityUSD  \\\n",
       "0                0              0  248429040.8178593621272596020876596   \n",
       "1                0              0  268805766.8751076773821300814215285   \n",
       "2                0              0  281765750.4465917456876463358191696   \n",
       "3                0              0  282450322.1346927150562475701237233   \n",
       "4                0              0   284694561.232666370076234276466364   \n",
       "..             ...            ...                                  ...   \n",
       "178              0              0  332497236.2992797471667775010817832   \n",
       "179              0              0  336553021.2191180425974288456373593   \n",
       "180              0              0  338245812.1536309037457567232184589   \n",
       "181              0              0  337733246.3130287738399582428473718   \n",
       "182              0              0  350439814.7507568223976881002742575   \n",
       "\n",
       "    totalTransactions  \n",
       "0            24401451  \n",
       "1            24387001  \n",
       "2            24355903  \n",
       "3            24329002  \n",
       "4            24310120  \n",
       "..                ...  \n",
       "178          13599431  \n",
       "179          13557321  \n",
       "180          13516417  \n",
       "181          13478928  \n",
       "182          13439564  \n",
       "\n",
       "[183 rows x 9 columns]"
      ]
     },
     "execution_count": 7,
     "metadata": {},
     "output_type": "execute_result"
    }
   ],
   "source": [
    "df"
   ]
  },
  {
   "cell_type": "code",
   "execution_count": 8,
   "metadata": {},
   "outputs": [
    {
     "data": {
      "text/plain": [
       "88760802.62433189"
      ]
     },
     "execution_count": 8,
     "metadata": {},
     "output_type": "execute_result"
    }
   ],
   "source": [
    "df['dailyVolumeUSD'].astype(float).mean()"
   ]
  },
  {
   "cell_type": "markdown",
   "metadata": {},
   "source": [
    "6-Month Average TVL"
   ]
  },
  {
   "cell_type": "code",
   "execution_count": 9,
   "metadata": {},
   "outputs": [
    {
     "data": {
      "text/html": [
       "<div>\n",
       "<style scoped>\n",
       "    .dataframe tbody tr th:only-of-type {\n",
       "        vertical-align: middle;\n",
       "    }\n",
       "\n",
       "    .dataframe tbody tr th {\n",
       "        vertical-align: top;\n",
       "    }\n",
       "\n",
       "    .dataframe thead th {\n",
       "        text-align: right;\n",
       "    }\n",
       "</style>\n",
       "<table border=\"1\" class=\"dataframe\">\n",
       "  <thead>\n",
       "    <tr style=\"text-align: right;\">\n",
       "      <th></th>\n",
       "      <th>id</th>\n",
       "      <th>date</th>\n",
       "      <th>dailyVolumeBNB</th>\n",
       "      <th>dailyVolumeUSD</th>\n",
       "      <th>dailyVolumeUntracked</th>\n",
       "      <th>totalVolumeBNB</th>\n",
       "      <th>totalVolumeUSD</th>\n",
       "      <th>totalLiquidityUSD</th>\n",
       "      <th>totalTransactions</th>\n",
       "    </tr>\n",
       "  </thead>\n",
       "  <tbody>\n",
       "    <tr>\n",
       "      <th>0</th>\n",
       "      <td>19249</td>\n",
       "      <td>1663113600</td>\n",
       "      <td>32627.73837485662867514996026188431</td>\n",
       "      <td>9107803.269477051842673841986072102</td>\n",
       "      <td>9104976.494092630863494063916980371</td>\n",
       "      <td>0</td>\n",
       "      <td>0</td>\n",
       "      <td>248429040.8178593621272596020876596</td>\n",
       "      <td>24401451</td>\n",
       "    </tr>\n",
       "    <tr>\n",
       "      <th>1</th>\n",
       "      <td>19248</td>\n",
       "      <td>1663027200</td>\n",
       "      <td>88826.92722875898224790498195394053</td>\n",
       "      <td>25464914.60424082111398752722543895</td>\n",
       "      <td>25464292.16849391488619112958309538</td>\n",
       "      <td>0</td>\n",
       "      <td>0</td>\n",
       "      <td>268805766.8751076773821300814215285</td>\n",
       "      <td>24387001</td>\n",
       "    </tr>\n",
       "    <tr>\n",
       "      <th>2</th>\n",
       "      <td>19247</td>\n",
       "      <td>1662940800</td>\n",
       "      <td>58270.19659713907005263159157402829</td>\n",
       "      <td>17206261.25119946215261718314002593</td>\n",
       "      <td>17204396.63718996029629705187419527</td>\n",
       "      <td>0</td>\n",
       "      <td>0</td>\n",
       "      <td>281765750.4465917456876463358191696</td>\n",
       "      <td>24355903</td>\n",
       "    </tr>\n",
       "    <tr>\n",
       "      <th>3</th>\n",
       "      <td>19246</td>\n",
       "      <td>1662854400</td>\n",
       "      <td>36797.35201151679959078052066658827</td>\n",
       "      <td>10840501.78534572422377113953427268</td>\n",
       "      <td>10839669.89456797755399149139395775</td>\n",
       "      <td>0</td>\n",
       "      <td>0</td>\n",
       "      <td>282450322.1346927150562475701237233</td>\n",
       "      <td>24329002</td>\n",
       "    </tr>\n",
       "    <tr>\n",
       "      <th>4</th>\n",
       "      <td>19245</td>\n",
       "      <td>1662768000</td>\n",
       "      <td>39679.12279097216844258251869698651</td>\n",
       "      <td>11675701.45362157114609390648777129</td>\n",
       "      <td>11679037.07440277275935731304178752</td>\n",
       "      <td>0</td>\n",
       "      <td>0</td>\n",
       "      <td>284694561.232666370076234276466364</td>\n",
       "      <td>24310120</td>\n",
       "    </tr>\n",
       "    <tr>\n",
       "      <th>...</th>\n",
       "      <td>...</td>\n",
       "      <td>...</td>\n",
       "      <td>...</td>\n",
       "      <td>...</td>\n",
       "      <td>...</td>\n",
       "      <td>...</td>\n",
       "      <td>...</td>\n",
       "      <td>...</td>\n",
       "      <td>...</td>\n",
       "    </tr>\n",
       "    <tr>\n",
       "      <th>178</th>\n",
       "      <td>19071</td>\n",
       "      <td>1647734400</td>\n",
       "      <td>110507.0430336293165755307575807372</td>\n",
       "      <td>43472340.85023031855131727048786779</td>\n",
       "      <td>43470555.47454535400895493818201938</td>\n",
       "      <td>0</td>\n",
       "      <td>0</td>\n",
       "      <td>332497236.2992797471667775010817832</td>\n",
       "      <td>13599431</td>\n",
       "    </tr>\n",
       "    <tr>\n",
       "      <th>179</th>\n",
       "      <td>19070</td>\n",
       "      <td>1647648000</td>\n",
       "      <td>115845.8650700917512275811396670711</td>\n",
       "      <td>46409080.96227154281758638509594406</td>\n",
       "      <td>46408721.06432052399771435247931169</td>\n",
       "      <td>0</td>\n",
       "      <td>0</td>\n",
       "      <td>336553021.2191180425974288456373593</td>\n",
       "      <td>13557321</td>\n",
       "    </tr>\n",
       "    <tr>\n",
       "      <th>180</th>\n",
       "      <td>19069</td>\n",
       "      <td>1647561600</td>\n",
       "      <td>122088.4594084019292877210474644961</td>\n",
       "      <td>47780667.10043103340017800933942675</td>\n",
       "      <td>47781344.63119744365251943081868872</td>\n",
       "      <td>0</td>\n",
       "      <td>0</td>\n",
       "      <td>338245812.1536309037457567232184589</td>\n",
       "      <td>13516417</td>\n",
       "    </tr>\n",
       "    <tr>\n",
       "      <th>181</th>\n",
       "      <td>19068</td>\n",
       "      <td>1647475200</td>\n",
       "      <td>129188.8746498755652012221823225591</td>\n",
       "      <td>50049006.2159228013796281208600761</td>\n",
       "      <td>50046878.88185168488366788427347213</td>\n",
       "      <td>0</td>\n",
       "      <td>0</td>\n",
       "      <td>337733246.3130287738399582428473718</td>\n",
       "      <td>13478928</td>\n",
       "    </tr>\n",
       "    <tr>\n",
       "      <th>182</th>\n",
       "      <td>19067</td>\n",
       "      <td>1647388800</td>\n",
       "      <td>208590.6956036865358775599555855781</td>\n",
       "      <td>78816661.49950115632289635374852656</td>\n",
       "      <td>78816095.9255170532935972356517322</td>\n",
       "      <td>0</td>\n",
       "      <td>0</td>\n",
       "      <td>350439814.7507568223976881002742575</td>\n",
       "      <td>13439564</td>\n",
       "    </tr>\n",
       "  </tbody>\n",
       "</table>\n",
       "<p>183 rows × 9 columns</p>\n",
       "</div>"
      ],
      "text/plain": [
       "        id        date                       dailyVolumeBNB  \\\n",
       "0    19249  1663113600  32627.73837485662867514996026188431   \n",
       "1    19248  1663027200  88826.92722875898224790498195394053   \n",
       "2    19247  1662940800  58270.19659713907005263159157402829   \n",
       "3    19246  1662854400  36797.35201151679959078052066658827   \n",
       "4    19245  1662768000  39679.12279097216844258251869698651   \n",
       "..     ...         ...                                  ...   \n",
       "178  19071  1647734400  110507.0430336293165755307575807372   \n",
       "179  19070  1647648000  115845.8650700917512275811396670711   \n",
       "180  19069  1647561600  122088.4594084019292877210474644961   \n",
       "181  19068  1647475200  129188.8746498755652012221823225591   \n",
       "182  19067  1647388800  208590.6956036865358775599555855781   \n",
       "\n",
       "                          dailyVolumeUSD                 dailyVolumeUntracked  \\\n",
       "0    9107803.269477051842673841986072102  9104976.494092630863494063916980371   \n",
       "1    25464914.60424082111398752722543895  25464292.16849391488619112958309538   \n",
       "2    17206261.25119946215261718314002593  17204396.63718996029629705187419527   \n",
       "3    10840501.78534572422377113953427268  10839669.89456797755399149139395775   \n",
       "4    11675701.45362157114609390648777129  11679037.07440277275935731304178752   \n",
       "..                                   ...                                  ...   \n",
       "178  43472340.85023031855131727048786779  43470555.47454535400895493818201938   \n",
       "179  46409080.96227154281758638509594406  46408721.06432052399771435247931169   \n",
       "180  47780667.10043103340017800933942675  47781344.63119744365251943081868872   \n",
       "181   50049006.2159228013796281208600761  50046878.88185168488366788427347213   \n",
       "182  78816661.49950115632289635374852656   78816095.9255170532935972356517322   \n",
       "\n",
       "    totalVolumeBNB totalVolumeUSD                    totalLiquidityUSD  \\\n",
       "0                0              0  248429040.8178593621272596020876596   \n",
       "1                0              0  268805766.8751076773821300814215285   \n",
       "2                0              0  281765750.4465917456876463358191696   \n",
       "3                0              0  282450322.1346927150562475701237233   \n",
       "4                0              0   284694561.232666370076234276466364   \n",
       "..             ...            ...                                  ...   \n",
       "178              0              0  332497236.2992797471667775010817832   \n",
       "179              0              0  336553021.2191180425974288456373593   \n",
       "180              0              0  338245812.1536309037457567232184589   \n",
       "181              0              0  337733246.3130287738399582428473718   \n",
       "182              0              0  350439814.7507568223976881002742575   \n",
       "\n",
       "    totalTransactions  \n",
       "0            24401451  \n",
       "1            24387001  \n",
       "2            24355903  \n",
       "3            24329002  \n",
       "4            24310120  \n",
       "..                ...  \n",
       "178          13599431  \n",
       "179          13557321  \n",
       "180          13516417  \n",
       "181          13478928  \n",
       "182          13439564  \n",
       "\n",
       "[183 rows x 9 columns]"
      ]
     },
     "execution_count": 9,
     "metadata": {},
     "output_type": "execute_result"
    }
   ],
   "source": [
    "df"
   ]
  },
  {
   "cell_type": "code",
   "execution_count": 10,
   "metadata": {},
   "outputs": [
    {
     "data": {
      "text/plain": [
       "426600122.85695803"
      ]
     },
     "execution_count": 10,
     "metadata": {},
     "output_type": "execute_result"
    }
   ],
   "source": [
    "tl = df['totalLiquidityUSD'].astype(float).mean()\n",
    "tl"
   ]
  },
  {
   "cell_type": "markdown",
   "metadata": {},
   "source": [
    "Largest pool concentration "
   ]
  },
  {
   "cell_type": "code",
   "execution_count": 11,
   "metadata": {},
   "outputs": [
    {
     "name": "stderr",
     "output_type": "stream",
     "text": [
      "/tmp/ipykernel_192143/3911242152.py:39: FutureWarning: The frame.append method is deprecated and will be removed from pandas in a future version. Use pandas.concat instead.\n",
      "  df = df.append(pool)\n",
      "/tmp/ipykernel_192143/3911242152.py:39: FutureWarning: The frame.append method is deprecated and will be removed from pandas in a future version. Use pandas.concat instead.\n",
      "  df = df.append(pool)\n",
      "/tmp/ipykernel_192143/3911242152.py:39: FutureWarning: The frame.append method is deprecated and will be removed from pandas in a future version. Use pandas.concat instead.\n",
      "  df = df.append(pool)\n"
     ]
    }
   ],
   "source": [
    "#Get pancake pools\n",
    "\n",
    "df = pd.DataFrame()\n",
    "ts = 0\n",
    "\n",
    "while True:\n",
    "    sl = len(df)\n",
    "    query = \"\"\"{\n",
    "pairs(first: 1000, orderBy:timestamp, orderDirection: asc, where: {timestamp_gt: \"\"\"+f'{ts}'+\"\"\", totalTransactions_gt: 0}){\n",
    " id\n",
    "  name\n",
    "  token0{\n",
    "    id\n",
    "    name\n",
    "  }\n",
    "  token1{\n",
    "    id\n",
    "    name\n",
    "  }\n",
    "  token0Price\n",
    "  token1Price\n",
    "  volumeToken0\n",
    "  volumeToken1\n",
    "  reserve0\n",
    "  reserve1\n",
    "  reserveUSD\n",
    "  reserveBNB\n",
    "  totalTransactions\n",
    "  timestamp\n",
    "  block\n",
    "}\n",
    "}\n",
    "\"\"\"\n",
    "    request = requests.post(endpoint, json={'query':query})\n",
    "    if request.ok:\n",
    "      data = request.json()\n",
    "      try:\n",
    "        pool = pd.json_normalize(data['data']['pairs'])\n",
    "        df = df.append(pool)\n",
    "        df.drop_duplicates(inplace=True)\n",
    "        if len(df) == sl:\n",
    "          break\n",
    "        ts = df['timestamp'].astype(int).max()\n",
    "      except KeyError:\n",
    "        continue"
   ]
  },
  {
   "cell_type": "code",
   "execution_count": 12,
   "metadata": {},
   "outputs": [],
   "source": [
    "pools = df"
   ]
  },
  {
   "cell_type": "code",
   "execution_count": 12,
   "metadata": {},
   "outputs": [
    {
     "name": "stderr",
     "output_type": "stream",
     "text": [
      "/tmp/ipykernel_104456/3759669292.py:1: DtypeWarning: Columns (4,9,12) have mixed types. Specify dtype option on import or set low_memory=False.\n",
      "  pools = pd.read_csv(\"pancakepools.csv\", index_col=0)\n"
     ]
    }
   ],
   "source": [
    "pools = pd.read_csv(\"pancakepools.csv\", index_col=0)"
   ]
  },
  {
   "cell_type": "code",
   "execution_count": 18,
   "metadata": {},
   "outputs": [],
   "source": [
    "pools.reset_index(drop = True, inplace = True)"
   ]
  },
  {
   "cell_type": "code",
   "execution_count": 19,
   "metadata": {},
   "outputs": [
    {
     "data": {
      "text/plain": [
       "1071    4.077355e+11\n",
       "1255    2.804668e+08\n",
       "1       3.065147e+07\n",
       "0       2.954023e+07\n",
       "2       2.076340e+07\n",
       "5       1.721358e+07\n",
       "9       1.595051e+07\n",
       "3       1.590671e+07\n",
       "7       1.494278e+07\n",
       "13      1.488347e+07\n",
       "Name: reserveUSD, dtype: float64"
      ]
     },
     "execution_count": 19,
     "metadata": {},
     "output_type": "execute_result"
    }
   ],
   "source": [
    "pools['reserveUSD'].astype(float).nlargest(10)"
   ]
  },
  {
   "cell_type": "code",
   "execution_count": 31,
   "metadata": {},
   "outputs": [],
   "source": [
    "pools.drop([1071, 1255], axis =0, inplace = True)"
   ]
  },
  {
   "cell_type": "code",
   "execution_count": 32,
   "metadata": {},
   "outputs": [],
   "source": [
    "poolsf = pools.copy()"
   ]
  },
  {
   "cell_type": "code",
   "execution_count": 33,
   "metadata": {},
   "outputs": [],
   "source": [
    "poolsf['reserveUSD'] =poolsf['reserveUSD'].astype(float)\n",
    "poolsf.sort_values('reserveUSD', inplace=True)"
   ]
  },
  {
   "cell_type": "code",
   "execution_count": 34,
   "metadata": {},
   "outputs": [
    {
     "data": {
      "text/html": [
       "<div>\n",
       "<style scoped>\n",
       "    .dataframe tbody tr th:only-of-type {\n",
       "        vertical-align: middle;\n",
       "    }\n",
       "\n",
       "    .dataframe tbody tr th {\n",
       "        vertical-align: top;\n",
       "    }\n",
       "\n",
       "    .dataframe thead th {\n",
       "        text-align: right;\n",
       "    }\n",
       "</style>\n",
       "<table border=\"1\" class=\"dataframe\">\n",
       "  <thead>\n",
       "    <tr style=\"text-align: right;\">\n",
       "      <th></th>\n",
       "      <th>id</th>\n",
       "      <th>name</th>\n",
       "      <th>token0Price</th>\n",
       "      <th>token1Price</th>\n",
       "      <th>volumeToken0</th>\n",
       "      <th>volumeToken1</th>\n",
       "      <th>reserve0</th>\n",
       "      <th>reserve1</th>\n",
       "      <th>reserveUSD</th>\n",
       "      <th>reserveBNB</th>\n",
       "      <th>totalTransactions</th>\n",
       "      <th>timestamp</th>\n",
       "      <th>block</th>\n",
       "      <th>token0.id</th>\n",
       "      <th>token0.name</th>\n",
       "      <th>token1.id</th>\n",
       "      <th>token1.name</th>\n",
       "    </tr>\n",
       "  </thead>\n",
       "  <tbody>\n",
       "    <tr>\n",
       "      <th>471</th>\n",
       "      <td>0xfa7a5643246cc0a1caa7450a3f0993d8a8f35914</td>\n",
       "      <td>LPKX-LPKZ</td>\n",
       "      <td>26.33986159142202370391203661670809</td>\n",
       "      <td>0.03796527162943275298423796595669803</td>\n",
       "      <td>3927565.732001915352238048</td>\n",
       "      <td>62468.621139817056558066</td>\n",
       "      <td>2829474.267998084647761952</td>\n",
       "      <td>107421.759153037689137318</td>\n",
       "      <td>0.000000e+00</td>\n",
       "      <td>0</td>\n",
       "      <td>8</td>\n",
       "      <td>1637485712</td>\n",
       "      <td>12830075</td>\n",
       "      <td>0x15b05286eb1756434df34439ae456885462407c6</td>\n",
       "      <td>Kripton X</td>\n",
       "      <td>0xc842dadf99d61ba5cf4a98f0d380acc4f89dc0e6</td>\n",
       "      <td>Kripton Z</td>\n",
       "    </tr>\n",
       "    <tr>\n",
       "      <th>586</th>\n",
       "      <td>0x506f039922ddec8b0b2cd22318940516dea0fc1b</td>\n",
       "      <td>ALT-BET</td>\n",
       "      <td>1.661857968414316132847020404949003</td>\n",
       "      <td>0.6017361405163663235912395569426873</td>\n",
       "      <td>1846.208195562633275673</td>\n",
       "      <td>1420.772768697639169068</td>\n",
       "      <td>2111.216198385607444187</td>\n",
       "      <td>1270.395087012190601687</td>\n",
       "      <td>0.000000e+00</td>\n",
       "      <td>0</td>\n",
       "      <td>15</td>\n",
       "      <td>1639457133</td>\n",
       "      <td>13458680</td>\n",
       "      <td>0x2a4e4ab99413f35180af2eac1770901dc83e7cb2</td>\n",
       "      <td>Alpha Token</td>\n",
       "      <td>0xe14a5ee9c281057067459b2acd66f747cf1d4d2f</td>\n",
       "      <td>Beta Token</td>\n",
       "    </tr>\n",
       "    <tr>\n",
       "      <th>757</th>\n",
       "      <td>0x7d8799ea5a829a6b6290a3786bddcf4405831509</td>\n",
       "      <td>SOUL-GTTR</td>\n",
       "      <td>0.00000003472222225236304014962069457432352</td>\n",
       "      <td>28799999.975</td>\n",
       "      <td>0</td>\n",
       "      <td>0</td>\n",
       "      <td>0.4</td>\n",
       "      <td>11519999.99</td>\n",
       "      <td>0.000000e+00</td>\n",
       "      <td>0</td>\n",
       "      <td>1</td>\n",
       "      <td>1642469995</td>\n",
       "      <td>14459938</td>\n",
       "      <td>0xc3adbf524513863102df6784e1ab5652165c7912</td>\n",
       "      <td>Phantasma Stake</td>\n",
       "      <td>0xf3af5cba2b4d619dabe3919194cba9fa16ad73c8</td>\n",
       "      <td>Gutter (Wormhole)</td>\n",
       "    </tr>\n",
       "    <tr>\n",
       "      <th>758</th>\n",
       "      <td>0xf88822f337186acd2b84087281a93c23748e3ec3</td>\n",
       "      <td>XA9-GTTR</td>\n",
       "      <td>0.1041666667534722222945601852454668</td>\n",
       "      <td>9.599999992</td>\n",
       "      <td>0</td>\n",
       "      <td>0</td>\n",
       "      <td>250000</td>\n",
       "      <td>2399999.998</td>\n",
       "      <td>0.000000e+00</td>\n",
       "      <td>0</td>\n",
       "      <td>1</td>\n",
       "      <td>1642471078</td>\n",
       "      <td>14460299</td>\n",
       "      <td>0xe9914872699be897a71477a14049d503a24a1429</td>\n",
       "      <td>XANTA9</td>\n",
       "      <td>0xf3af5cba2b4d619dabe3919194cba9fa16ad73c8</td>\n",
       "      <td>Gutter (Wormhole)</td>\n",
       "    </tr>\n",
       "    <tr>\n",
       "      <th>194</th>\n",
       "      <td>0x02ff41ce6d3d10a626602e4fb1e7b09183eecc2b</td>\n",
       "      <td>PGSV-PGR1</td>\n",
       "      <td>1.085937543276506867485775607310982</td>\n",
       "      <td>0.9208632726545075171930053047893306</td>\n",
       "      <td>17.94910063</td>\n",
       "      <td>16.27772977</td>\n",
       "      <td>1093.16886093</td>\n",
       "      <td>1006.65905484</td>\n",
       "      <td>0.000000e+00</td>\n",
       "      <td>0</td>\n",
       "      <td>5</td>\n",
       "      <td>1630583818</td>\n",
       "      <td>0</td>\n",
       "      <td>0xdbc85cdfaebab4c25276b3196d7cd78b3ddcbe08</td>\n",
       "      <td>PGSV</td>\n",
       "      <td>0xe9e4eaad122f2c44562caaa41b122ccd5be96836</td>\n",
       "      <td>PGR1</td>\n",
       "    </tr>\n",
       "    <tr>\n",
       "      <th>...</th>\n",
       "      <td>...</td>\n",
       "      <td>...</td>\n",
       "      <td>...</td>\n",
       "      <td>...</td>\n",
       "      <td>...</td>\n",
       "      <td>...</td>\n",
       "      <td>...</td>\n",
       "      <td>...</td>\n",
       "      <td>...</td>\n",
       "      <td>...</td>\n",
       "      <td>...</td>\n",
       "      <td>...</td>\n",
       "      <td>...</td>\n",
       "      <td>...</td>\n",
       "      <td>...</td>\n",
       "      <td>...</td>\n",
       "      <td>...</td>\n",
       "    </tr>\n",
       "    <tr>\n",
       "      <th>9</th>\n",
       "      <td>0x46492b26639df0cda9b2769429845cb991591e0a</td>\n",
       "      <td>BSW-WBNB</td>\n",
       "      <td>932.7348632699149304630624037530417</td>\n",
       "      <td>0.001072116031445712001786724487014434</td>\n",
       "      <td>3532678914.779448560130873153</td>\n",
       "      <td>7448211.677916853911503599</td>\n",
       "      <td>26637157.695431989832329403</td>\n",
       "      <td>28558.123797420152647809</td>\n",
       "      <td>1.595051e+07</td>\n",
       "      <td>57122.12871005601415425549551747556</td>\n",
       "      <td>1644534</td>\n",
       "      <td>1621795317</td>\n",
       "      <td>0</td>\n",
       "      <td>0x965f527d9159dce6288a2219db51fc6eef120dd1</td>\n",
       "      <td>BSW</td>\n",
       "      <td>0xbb4cdb9cbd36b01bd1cbaebf2de08d9173bc095c</td>\n",
       "      <td>WBNB</td>\n",
       "    </tr>\n",
       "    <tr>\n",
       "      <th>5</th>\n",
       "      <td>0xa987f0b7098585c735cd943ee07544a84e923d1d</td>\n",
       "      <td>USDT-BTCB</td>\n",
       "      <td>20236.48166378733589387618227653859</td>\n",
       "      <td>0.00004941570459797239913368008029446564</td>\n",
       "      <td>2404120069.124762918311798399</td>\n",
       "      <td>62670.429046542497836835</td>\n",
       "      <td>8607835.536536956339766968</td>\n",
       "      <td>425.362258101439486678</td>\n",
       "      <td>1.721358e+07</td>\n",
       "      <td>61645.46989383027130246909344763421</td>\n",
       "      <td>688772</td>\n",
       "      <td>1621794076</td>\n",
       "      <td>0</td>\n",
       "      <td>0x55d398326f99059ff775485246999027b3197955</td>\n",
       "      <td>USDT</td>\n",
       "      <td>0x7130d2a12b9bcbfae4f2634d864a1ee1ce3ead9c</td>\n",
       "      <td>BTCB</td>\n",
       "    </tr>\n",
       "    <tr>\n",
       "      <th>2</th>\n",
       "      <td>0xacaac9311b0096e04dfe96b6d87dec867d3883dc</td>\n",
       "      <td>WBNB-BUSD</td>\n",
       "      <td>0.003580932708023162039287318933035381</td>\n",
       "      <td>279.2568533218948837594591319556285</td>\n",
       "      <td>14418468.621898667906124271</td>\n",
       "      <td>5734498491.172374849270485999</td>\n",
       "      <td>37179.046498963916563268</td>\n",
       "      <td>10382503.534809075951084313</td>\n",
       "      <td>2.076340e+07</td>\n",
       "      <td>74358.09488680174131959097681372019</td>\n",
       "      <td>3836414</td>\n",
       "      <td>1621793763</td>\n",
       "      <td>0</td>\n",
       "      <td>0xbb4cdb9cbd36b01bd1cbaebf2de08d9173bc095c</td>\n",
       "      <td>WBNB</td>\n",
       "      <td>0xe9e7cea3dedca5984780bafc599bd69add087d56</td>\n",
       "      <td>BUSD</td>\n",
       "    </tr>\n",
       "    <tr>\n",
       "      <th>0</th>\n",
       "      <td>0xda8ceb724a06819c0a5cdb4304ea0cb27f8304cf</td>\n",
       "      <td>USDT-BUSD</td>\n",
       "      <td>0.9989927456504255619020639566840086</td>\n",
       "      <td>1.001008269933850854502113670925798</td>\n",
       "      <td>5449537184.397260207681501354</td>\n",
       "      <td>5412962003.209035998976571529</td>\n",
       "      <td>14762856.523274280769513835</td>\n",
       "      <td>14777741.467644452184462822</td>\n",
       "      <td>2.954023e+07</td>\n",
       "      <td>105789.7736629275148104888944856759</td>\n",
       "      <td>1387940</td>\n",
       "      <td>1621793189</td>\n",
       "      <td>0</td>\n",
       "      <td>0x55d398326f99059ff775485246999027b3197955</td>\n",
       "      <td>USDT</td>\n",
       "      <td>0xe9e7cea3dedca5984780bafc599bd69add087d56</td>\n",
       "      <td>BUSD</td>\n",
       "    </tr>\n",
       "    <tr>\n",
       "      <th>1</th>\n",
       "      <td>0x8840c6252e2e86e545defb6da98b2a0e26d8c1ba</td>\n",
       "      <td>USDT-WBNB</td>\n",
       "      <td>279.2205282932094170954715020718205</td>\n",
       "      <td>0.003581398567335637348572598605501538</td>\n",
       "      <td>5840926476.81146734218029493</td>\n",
       "      <td>14579937.062855474607019095</td>\n",
       "      <td>15324190.65837118658834302</td>\n",
       "      <td>54882.034469468724923178</td>\n",
       "      <td>3.065147e+07</td>\n",
       "      <td>109748.14113642667694274487419634</td>\n",
       "      <td>3248032</td>\n",
       "      <td>1621793646</td>\n",
       "      <td>0</td>\n",
       "      <td>0x55d398326f99059ff775485246999027b3197955</td>\n",
       "      <td>USDT</td>\n",
       "      <td>0xbb4cdb9cbd36b01bd1cbaebf2de08d9173bc095c</td>\n",
       "      <td>WBNB</td>\n",
       "    </tr>\n",
       "  </tbody>\n",
       "</table>\n",
       "<p>1799 rows × 17 columns</p>\n",
       "</div>"
      ],
      "text/plain": [
       "                                             id       name  \\\n",
       "471  0xfa7a5643246cc0a1caa7450a3f0993d8a8f35914  LPKX-LPKZ   \n",
       "586  0x506f039922ddec8b0b2cd22318940516dea0fc1b    ALT-BET   \n",
       "757  0x7d8799ea5a829a6b6290a3786bddcf4405831509  SOUL-GTTR   \n",
       "758  0xf88822f337186acd2b84087281a93c23748e3ec3   XA9-GTTR   \n",
       "194  0x02ff41ce6d3d10a626602e4fb1e7b09183eecc2b  PGSV-PGR1   \n",
       "..                                          ...        ...   \n",
       "9    0x46492b26639df0cda9b2769429845cb991591e0a   BSW-WBNB   \n",
       "5    0xa987f0b7098585c735cd943ee07544a84e923d1d  USDT-BTCB   \n",
       "2    0xacaac9311b0096e04dfe96b6d87dec867d3883dc  WBNB-BUSD   \n",
       "0    0xda8ceb724a06819c0a5cdb4304ea0cb27f8304cf  USDT-BUSD   \n",
       "1    0x8840c6252e2e86e545defb6da98b2a0e26d8c1ba  USDT-WBNB   \n",
       "\n",
       "                                     token0Price  \\\n",
       "471          26.33986159142202370391203661670809   \n",
       "586          1.661857968414316132847020404949003   \n",
       "757  0.00000003472222225236304014962069457432352   \n",
       "758         0.1041666667534722222945601852454668   \n",
       "194          1.085937543276506867485775607310982   \n",
       "..                                           ...   \n",
       "9            932.7348632699149304630624037530417   \n",
       "5            20236.48166378733589387618227653859   \n",
       "2         0.003580932708023162039287318933035381   \n",
       "0           0.9989927456504255619020639566840086   \n",
       "1            279.2205282932094170954715020718205   \n",
       "\n",
       "                                  token1Price                   volumeToken0  \\\n",
       "471     0.03796527162943275298423796595669803     3927565.732001915352238048   \n",
       "586      0.6017361405163663235912395569426873        1846.208195562633275673   \n",
       "757                              28799999.975                              0   \n",
       "758                               9.599999992                              0   \n",
       "194      0.9208632726545075171930053047893306                    17.94910063   \n",
       "..                                        ...                            ...   \n",
       "9      0.001072116031445712001786724487014434  3532678914.779448560130873153   \n",
       "5    0.00004941570459797239913368008029446564  2404120069.124762918311798399   \n",
       "2         279.2568533218948837594591319556285    14418468.621898667906124271   \n",
       "0         1.001008269933850854502113670925798  5449537184.397260207681501354   \n",
       "1      0.003581398567335637348572598605501538   5840926476.81146734218029493   \n",
       "\n",
       "                      volumeToken1                     reserve0  \\\n",
       "471       62468.621139817056558066   2829474.267998084647761952   \n",
       "586        1420.772768697639169068      2111.216198385607444187   \n",
       "757                              0                          0.4   \n",
       "758                              0                       250000   \n",
       "194                    16.27772977                1093.16886093   \n",
       "..                             ...                          ...   \n",
       "9       7448211.677916853911503599  26637157.695431989832329403   \n",
       "5         62670.429046542497836835   8607835.536536956339766968   \n",
       "2    5734498491.172374849270485999     37179.046498963916563268   \n",
       "0    5412962003.209035998976571529  14762856.523274280769513835   \n",
       "1      14579937.062855474607019095   15324190.65837118658834302   \n",
       "\n",
       "                        reserve1    reserveUSD  \\\n",
       "471    107421.759153037689137318  0.000000e+00   \n",
       "586      1270.395087012190601687  0.000000e+00   \n",
       "757                  11519999.99  0.000000e+00   \n",
       "758                  2399999.998  0.000000e+00   \n",
       "194                1006.65905484  0.000000e+00   \n",
       "..                           ...           ...   \n",
       "9       28558.123797420152647809  1.595051e+07   \n",
       "5         425.362258101439486678  1.721358e+07   \n",
       "2    10382503.534809075951084313  2.076340e+07   \n",
       "0    14777741.467644452184462822  2.954023e+07   \n",
       "1       54882.034469468724923178  3.065147e+07   \n",
       "\n",
       "                              reserveBNB totalTransactions   timestamp  \\\n",
       "471                                    0                 8  1637485712   \n",
       "586                                    0                15  1639457133   \n",
       "757                                    0                 1  1642469995   \n",
       "758                                    0                 1  1642471078   \n",
       "194                                    0                 5  1630583818   \n",
       "..                                   ...               ...         ...   \n",
       "9    57122.12871005601415425549551747556           1644534  1621795317   \n",
       "5    61645.46989383027130246909344763421            688772  1621794076   \n",
       "2    74358.09488680174131959097681372019           3836414  1621793763   \n",
       "0    105789.7736629275148104888944856759           1387940  1621793189   \n",
       "1      109748.14113642667694274487419634           3248032  1621793646   \n",
       "\n",
       "        block                                   token0.id      token0.name  \\\n",
       "471  12830075  0x15b05286eb1756434df34439ae456885462407c6        Kripton X   \n",
       "586  13458680  0x2a4e4ab99413f35180af2eac1770901dc83e7cb2      Alpha Token   \n",
       "757  14459938  0xc3adbf524513863102df6784e1ab5652165c7912  Phantasma Stake   \n",
       "758  14460299  0xe9914872699be897a71477a14049d503a24a1429           XANTA9   \n",
       "194         0  0xdbc85cdfaebab4c25276b3196d7cd78b3ddcbe08             PGSV   \n",
       "..        ...                                         ...              ...   \n",
       "9           0  0x965f527d9159dce6288a2219db51fc6eef120dd1              BSW   \n",
       "5           0  0x55d398326f99059ff775485246999027b3197955             USDT   \n",
       "2           0  0xbb4cdb9cbd36b01bd1cbaebf2de08d9173bc095c             WBNB   \n",
       "0           0  0x55d398326f99059ff775485246999027b3197955             USDT   \n",
       "1           0  0x55d398326f99059ff775485246999027b3197955             USDT   \n",
       "\n",
       "                                      token1.id        token1.name  \n",
       "471  0xc842dadf99d61ba5cf4a98f0d380acc4f89dc0e6          Kripton Z  \n",
       "586  0xe14a5ee9c281057067459b2acd66f747cf1d4d2f         Beta Token  \n",
       "757  0xf3af5cba2b4d619dabe3919194cba9fa16ad73c8  Gutter (Wormhole)  \n",
       "758  0xf3af5cba2b4d619dabe3919194cba9fa16ad73c8  Gutter (Wormhole)  \n",
       "194  0xe9e4eaad122f2c44562caaa41b122ccd5be96836               PGR1  \n",
       "..                                          ...                ...  \n",
       "9    0xbb4cdb9cbd36b01bd1cbaebf2de08d9173bc095c               WBNB  \n",
       "5    0x7130d2a12b9bcbfae4f2634d864a1ee1ce3ead9c               BTCB  \n",
       "2    0xe9e7cea3dedca5984780bafc599bd69add087d56               BUSD  \n",
       "0    0xe9e7cea3dedca5984780bafc599bd69add087d56               BUSD  \n",
       "1    0xbb4cdb9cbd36b01bd1cbaebf2de08d9173bc095c               WBNB  \n",
       "\n",
       "[1799 rows x 17 columns]"
      ]
     },
     "execution_count": 34,
     "metadata": {},
     "output_type": "execute_result"
    }
   ],
   "source": [
    "poolsf"
   ]
  },
  {
   "cell_type": "code",
   "execution_count": null,
   "metadata": {},
   "outputs": [],
   "source": []
  },
  {
   "cell_type": "code",
   "execution_count": 35,
   "metadata": {},
   "outputs": [
    {
     "data": {
      "text/plain": [
       "0.12339919459443183"
      ]
     },
     "execution_count": 35,
     "metadata": {},
     "output_type": "execute_result"
    }
   ],
   "source": [
    "poolsf['reserveUSD'].max()/poolsf['reserveUSD'].sum()"
   ]
  },
  {
   "cell_type": "code",
   "execution_count": 36,
   "metadata": {},
   "outputs": [
    {
     "data": {
      "text/plain": [
       "0.7181881215078452"
      ]
     },
     "execution_count": 36,
     "metadata": {},
     "output_type": "execute_result"
    }
   ],
   "source": [
    "poolsf['reserveUSD'].nlargest(10).sum()/poolsf['reserveUSD'].sum()"
   ]
  },
  {
   "cell_type": "code",
   "execution_count": null,
   "metadata": {},
   "outputs": [],
   "source": []
  },
  {
   "cell_type": "markdown",
   "metadata": {},
   "source": [
    "Pools with > 1m liquidity"
   ]
  },
  {
   "cell_type": "code",
   "execution_count": 37,
   "metadata": {},
   "outputs": [
    {
     "data": {
      "text/plain": [
       "32"
      ]
     },
     "execution_count": 37,
     "metadata": {},
     "output_type": "execute_result"
    }
   ],
   "source": [
    "len(poolsf.loc[poolsf['reserveUSD'] >= 1000000])"
   ]
  },
  {
   "cell_type": "markdown",
   "metadata": {},
   "source": [
    "Daily active users"
   ]
  },
  {
   "cell_type": "markdown",
   "metadata": {},
   "source": [
    "https://graphql.bitquery.io/ide/FtV7QRla1w "
   ]
  },
  {
   "cell_type": "code",
   "execution_count": 86,
   "metadata": {},
   "outputs": [],
   "source": [
    "graphql = \"https://graphql.bitquery.io\""
   ]
  },
  {
   "cell_type": "code",
   "execution_count": 87,
   "metadata": {},
   "outputs": [],
   "source": [
    "query = \"\"\"\n",
    "query ($network: EthereumNetwork!, $dateFormat: String!, $from: ISO8601DateTime, $till: ISO8601DateTime, $address: String!) {\n",
    "  ethereum(network: $network) {\n",
    "    smartContractCalls(options: {desc: \"date.date\"}, date: {since: $from, till: $till}, smartContractAddress: {is: $address}) {\n",
    "      date: date {\n",
    "        date(format: $dateFormat)\n",
    "      }\n",
    "      count: count\n",
    "      callers: count(uniq: senders)\n",
    "      totalGas: gasValue\n",
    "    }\n",
    "  }\n",
    "}\n",
    "\"\"\"\n",
    "\n",
    "variables = {\n",
    "  \"network\":\"bsc\",\n",
    "  \"from\":\"2022-01-01\",\n",
    "  \"till\":\"2022-09-06\",\n",
    "  \"dateFormat\":\"%Y-%m-%d\",\n",
    "  \"address\": \"0x05fF2B0DB69458A0750badebc4f9e13aDd608C7F\"\n",
    "}\n",
    "\n",
    "head = {'X-API-KEY': 'BQYmzxkdVrZp1vdrHZbJfWNQSQVOcYI7'}"
   ]
  },
  {
   "cell_type": "code",
   "execution_count": 88,
   "metadata": {},
   "outputs": [],
   "source": [
    "resp = requests.post(graphql,json={'query':query, 'variables':variables}, headers=head)"
   ]
  },
  {
   "cell_type": "code",
   "execution_count": 89,
   "metadata": {},
   "outputs": [],
   "source": [
    "data = resp.json()"
   ]
  },
  {
   "cell_type": "code",
   "execution_count": 90,
   "metadata": {},
   "outputs": [],
   "source": [
    "df = pd.json_normalize(data['data']['ethereum']['smartContractCalls'])"
   ]
  },
  {
   "cell_type": "code",
   "execution_count": 91,
   "metadata": {},
   "outputs": [
    {
     "data": {
      "text/plain": [
       "1258.4918032786886"
      ]
     },
     "execution_count": 91,
     "metadata": {},
     "output_type": "execute_result"
    }
   ],
   "source": [
    "df['callers'].head(183).mean() "
   ]
  },
  {
   "cell_type": "code",
   "execution_count": null,
   "metadata": {},
   "outputs": [],
   "source": []
  },
  {
   "cell_type": "markdown",
   "metadata": {},
   "source": [
    "Slippage"
   ]
  },
  {
   "cell_type": "code",
   "execution_count": 38,
   "metadata": {},
   "outputs": [],
   "source": [
    "def uniswapv2slippage(amount0in, r1):\n",
    "    slippage = amount0in/r1\n",
    "    return slippage\n",
    "\n",
    "def getTokenPrice(symbol):\n",
    "    url = f\"https://min-api.cryptocompare.com/data/price?fsym={symbol}&tsyms=USD\"\n",
    "    response = requests.get(url)\n",
    "    if response.ok:\n",
    "        data = response.json()\n",
    "        try:\n",
    "            return data['USD']\n",
    "        except:\n",
    "            return np.nan\n",
    "    else:\n",
    "        raise KeyError(\"Symbol not availible!\")\n"
   ]
  },
  {
   "cell_type": "code",
   "execution_count": 39,
   "metadata": {},
   "outputs": [],
   "source": [
    "cs = poolsf.tail(10).copy()"
   ]
  },
  {
   "cell_type": "code",
   "execution_count": 40,
   "metadata": {},
   "outputs": [],
   "source": [
    "cs['reserve0'] = cs['reserve0'].astype(float)\n",
    "cs['reserve1'] = cs['reserve1'].astype(float)"
   ]
  },
  {
   "cell_type": "code",
   "execution_count": 41,
   "metadata": {},
   "outputs": [
    {
     "data": {
      "text/plain": [
       "id                    object\n",
       "name                  object\n",
       "token0Price           object\n",
       "token1Price           object\n",
       "volumeToken0          object\n",
       "volumeToken1          object\n",
       "reserve0             float64\n",
       "reserve1             float64\n",
       "reserveUSD           float64\n",
       "reserveBNB            object\n",
       "totalTransactions     object\n",
       "timestamp             object\n",
       "block                 object\n",
       "token0.id             object\n",
       "token0.name           object\n",
       "token1.id             object\n",
       "token1.name           object\n",
       "dtype: object"
      ]
     },
     "execution_count": 41,
     "metadata": {},
     "output_type": "execute_result"
    }
   ],
   "source": [
    "cs.dtypes"
   ]
  },
  {
   "cell_type": "code",
   "execution_count": 42,
   "metadata": {},
   "outputs": [
    {
     "data": {
      "text/plain": [
       "id                   0x8840c6252e2e86e545defb6da98b2a0e26d8c1ba\n",
       "name                                                  USDT-WBNB\n",
       "token0Price                 279.2205282932094170954715020718205\n",
       "token1Price              0.003581398567335637348572598605501538\n",
       "volumeToken0                       5840926476.81146734218029493\n",
       "volumeToken1                        14579937.062855474607019095\n",
       "reserve0                                        15324190.658371\n",
       "reserve1                                           54882.034469\n",
       "reserveUSD                                      30651468.818458\n",
       "reserveBNB                    109748.14113642667694274487419634\n",
       "totalTransactions                                       3248032\n",
       "timestamp                                            1621793646\n",
       "block                                                         0\n",
       "token0.id            0x55d398326f99059ff775485246999027b3197955\n",
       "token0.name                                                USDT\n",
       "token1.id            0xbb4cdb9cbd36b01bd1cbaebf2de08d9173bc095c\n",
       "token1.name                                                WBNB\n",
       "Name: 1, dtype: object"
      ]
     },
     "execution_count": 42,
     "metadata": {},
     "output_type": "execute_result"
    }
   ],
   "source": [
    "i = -1\n",
    "cs.iloc[i]"
   ]
  },
  {
   "cell_type": "code",
   "execution_count": 55,
   "metadata": {},
   "outputs": [
    {
     "data": {
      "text/plain": [
       "14597720.975490686"
      ]
     },
     "execution_count": 55,
     "metadata": {},
     "output_type": "execute_result"
    }
   ],
   "source": [
    "r1 = cs.iloc[i, 7]\n",
    "r1"
   ]
  },
  {
   "cell_type": "code",
   "execution_count": 56,
   "metadata": {},
   "outputs": [
    {
     "data": {
      "text/plain": [
       "'USDT'"
      ]
     },
     "execution_count": 56,
     "metadata": {},
     "output_type": "execute_result"
    }
   ],
   "source": [
    "token_sym = cs.iloc[i,1].split('-')[0]\n",
    "token_sym"
   ]
  },
  {
   "cell_type": "code",
   "execution_count": 57,
   "metadata": {},
   "outputs": [
    {
     "data": {
      "text/plain": [
       "1"
      ]
     },
     "execution_count": 57,
     "metadata": {},
     "output_type": "execute_result"
    }
   ],
   "source": [
    "getTokenPrice(token_sym)"
   ]
  },
  {
   "cell_type": "code",
   "execution_count": 51,
   "metadata": {},
   "outputs": [
    {
     "data": {
      "text/plain": [
       "100000.0"
      ]
     },
     "execution_count": 51,
     "metadata": {},
     "output_type": "execute_result"
    }
   ],
   "source": [
    "a = 100000/getTokenPrice(token_sym)\n",
    "a"
   ]
  },
  {
   "cell_type": "code",
   "execution_count": 54,
   "metadata": {},
   "outputs": [
    {
     "data": {
      "text/plain": [
       "3.6700189573509686e-05"
      ]
     },
     "execution_count": 54,
     "metadata": {},
     "output_type": "execute_result"
    }
   ],
   "source": [
    "uniswapv2slippage(a, float(r1))"
   ]
  },
  {
   "cell_type": "code",
   "execution_count": 58,
   "metadata": {},
   "outputs": [],
   "source": [
    "slip1000 = []\n",
    "slip10000 = []\n",
    "slip100000 = []\n",
    "for i in range(len(cs)):\n",
    "    r1 = cs.iloc[i, 7]\n",
    "    token_sym = cs.iloc[i,1].split('-')[0]\n",
    "    usd = getTokenPrice(token_sym)\n",
    "\n",
    "    a1000 = 1000/usd\n",
    "    a10000 = 10000/usd\n",
    "    a100000 = 100000/usd\n",
    "    \n",
    "    slip1000.append(uniswapv2slippage(a1000, r1))\n",
    "    slip10000.append(uniswapv2slippage(a10000, r1))\n",
    "    slip100000.append(uniswapv2slippage(a100000, r1))"
   ]
  },
  {
   "cell_type": "code",
   "execution_count": null,
   "metadata": {},
   "outputs": [],
   "source": []
  },
  {
   "cell_type": "code",
   "execution_count": 59,
   "metadata": {},
   "outputs": [
    {
     "name": "stderr",
     "output_type": "stream",
     "text": [
      "/home/luke/.local/lib/python3.8/site-packages/numpy/core/fromnumeric.py:3472: FutureWarning: In a future version, DataFrame.mean(axis=None) will return a scalar mean over the entire DataFrame. To retain the old behavior, use 'frame.mean(axis=0)' or just 'frame.mean()'\n",
      "  return mean(axis=axis, dtype=dtype, out=out, **kwargs)\n"
     ]
    },
    {
     "data": {
      "text/plain": [
       "0    0.248835\n",
       "dtype: float64"
      ]
     },
     "execution_count": 59,
     "metadata": {},
     "output_type": "execute_result"
    }
   ],
   "source": [
    "np.mean(pd.DataFrame(slip1000).dropna(axis=0))"
   ]
  },
  {
   "cell_type": "code",
   "execution_count": 60,
   "metadata": {},
   "outputs": [
    {
     "data": {
      "text/plain": [
       "0    2.488354\n",
       "dtype: float64"
      ]
     },
     "execution_count": 60,
     "metadata": {},
     "output_type": "execute_result"
    }
   ],
   "source": [
    "np.mean(pd.DataFrame(slip10000).dropna(axis=0))"
   ]
  },
  {
   "cell_type": "code",
   "execution_count": 61,
   "metadata": {},
   "outputs": [
    {
     "data": {
      "text/plain": [
       "0    24.883545\n",
       "dtype: float64"
      ]
     },
     "execution_count": 61,
     "metadata": {},
     "output_type": "execute_result"
    }
   ],
   "source": [
    "np.mean(pd.DataFrame(slip100000).dropna(axis=0))"
   ]
  },
  {
   "cell_type": "code",
   "execution_count": 144,
   "metadata": {},
   "outputs": [
    {
     "data": {
      "text/plain": [
       "[7.495460419563947e-06,\n",
       " 3.4112327079445934e-07,\n",
       " 3.567506265941031e-05,\n",
       " nan,\n",
       " 2.0172382625326753e-05,\n",
       " 0.0033373561597319613,\n",
       " 0.0007655271582800034,\n",
       " 4.1470948135027796e-08,\n",
       " 4.810415689741146e-06,\n",
       " 1.0511765584987172e-05]"
      ]
     },
     "execution_count": 144,
     "metadata": {},
     "output_type": "execute_result"
    }
   ],
   "source": [
    "slip1000"
   ]
  },
  {
   "cell_type": "code",
   "execution_count": null,
   "metadata": {},
   "outputs": [],
   "source": []
  }
 ],
 "metadata": {
  "kernelspec": {
   "display_name": "Python 3.8.10 64-bit",
   "language": "python",
   "name": "python3"
  },
  "language_info": {
   "codemirror_mode": {
    "name": "ipython",
    "version": 3
   },
   "file_extension": ".py",
   "mimetype": "text/x-python",
   "name": "python",
   "nbconvert_exporter": "python",
   "pygments_lexer": "ipython3",
   "version": "3.8.10"
  },
  "orig_nbformat": 4,
  "vscode": {
   "interpreter": {
    "hash": "916dbcbb3f70747c44a77c7bcd40155683ae19c65e1c03b4aa3499c5328201f1"
   }
  }
 },
 "nbformat": 4,
 "nbformat_minor": 2
}
