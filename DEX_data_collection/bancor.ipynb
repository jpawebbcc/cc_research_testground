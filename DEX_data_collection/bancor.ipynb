{
 "cells": [
  {
   "cell_type": "markdown",
   "metadata": {},
   "source": [
    "## Messari standardised subgraphs\n",
    "\n",
    "https://github.com/messari/subgraphs\n",
    "\n",
    "### Bancor"
   ]
  },
  {
   "cell_type": "code",
   "execution_count": 1,
   "metadata": {},
   "outputs": [],
   "source": [
    "import pandas as pd\n",
    "import numpy as np\n",
    "import time\n",
    "import requests\n",
    "import datetime as dt"
   ]
  },
  {
   "cell_type": "code",
   "execution_count": 2,
   "metadata": {},
   "outputs": [],
   "source": [
    "endpoint = 'https://api.thegraph.com/subgraphs/name/messari/bancor-v3-ethereum'"
   ]
  },
  {
   "cell_type": "markdown",
   "metadata": {},
   "source": [
    "6-Month Average Daily Volume"
   ]
  },
  {
   "cell_type": "code",
   "execution_count": 3,
   "metadata": {},
   "outputs": [],
   "source": [
    "query = \"\"\"{\n",
    "  financialsDailySnapshots(first: 183, orderBy: timestamp, orderDirection: desc){\n",
    "    id\n",
    "    protocol{\n",
    "      name\n",
    "    }\n",
    "    dailyVolumeUSD\n",
    "    dailyTotalRevenueUSD\n",
    "    dailySupplySideRevenueUSD\n",
    "    dailyProtocolSideRevenueUSD\n",
    "    timestamp\n",
    "    blockNumber\n",
    "  }\n",
    "}\n",
    "\"\"\""
   ]
  },
  {
   "cell_type": "code",
   "execution_count": 4,
   "metadata": {},
   "outputs": [],
   "source": [
    "request = requests.post(endpoint, json={'query':query})\n",
    "data = request.json()"
   ]
  },
  {
   "cell_type": "code",
   "execution_count": 5,
   "metadata": {},
   "outputs": [],
   "source": [
    "df = pd.json_normalize(data['data']['financialsDailySnapshots'])"
   ]
  },
  {
   "cell_type": "code",
   "execution_count": 6,
   "metadata": {},
   "outputs": [
    {
     "data": {
      "text/plain": [
       "2430562.9261489064"
      ]
     },
     "execution_count": 6,
     "metadata": {},
     "output_type": "execute_result"
    }
   ],
   "source": [
    "df['dailyVolumeUSD'].astype(float).mean()"
   ]
  },
  {
   "cell_type": "markdown",
   "metadata": {},
   "source": [
    "6-Month Average TVL"
   ]
  },
  {
   "cell_type": "code",
   "execution_count": 7,
   "metadata": {},
   "outputs": [
    {
     "name": "stderr",
     "output_type": "stream",
     "text": [
      "/tmp/ipykernel_18302/3687519907.py:2: DtypeWarning: Columns (3,4,5,6,7,8,9,10,11,12,13,14,15,16,17,18,19,20,21,22,23,24,25,26,27,28,29,30,31,32,33,34,35,36,37,38,39,40,41,42,43,44,45,46,47,48,49,50,51,52,53,54,55,56,57,58,59,60,61,62,63,64,65,66,67,68,69,70,71,72,73,74,75,76,77,78,79,80,81,82,83,84,85,86,87,88,89,90,91,92,93,94,95,96,97,98,99,100,101,102,103,104,105,106,107,108,109,110,111,112,113,114,115,116,117,118,119,120,121,122,123,124,125,126,127,128,129,130,131,132,133,134,135,136,137,138,139,140,141,142,143,144,145,146,147,148,149,150,151,152,153,154,155,156,157,158,159,160,161,162,163,164,165,166,167,168,169,170,171,172,173,174,175,176,177,178,179,180,181,182,183,184,185,186,187,188,189,190,191,192,193,194,195,196,197,198,199,200,201,202,203,204,205,206,207,208,209,210,211,212,213,214,215,216,217,218,219,220,221,222,223,224,225,226,227,228,229,230,231,232,233,234,235,236,237,238,239,240,241,242,243,244,245,246,247,248,249,250,251,252,253,254,255,256,257,258,259,260,261,262,263,264,265,266,267,268,269,270,271,272,273,274,275,276,277,278,279,280,281,282,283,284,285,286,287,288,289,290,291,292,293,294,295,296,297,298,299,300,301,302,303,304,305,306,307,308,309,310,311,312,313,314,315,316,317,318,319,320,321,322,323,324,325,326,327,328,329,330,331,332,333,334,335,336,337,338,339,340,341,342,343,344,345,346,347,348,349,350,351,352,353,354,355,356,357,358,359,360,361,362,363,364,365,366,367,368,369,370,371,372,373,374,375,376,377,378,379,380,381,382,383,384,385,386,387,388,389,390,391,392,393,394,395,396,397,398,399,400,401,402,403,404,405,406,407,408,409,410,411,412,413,414,415,416,417,418,419,420,421,422,423,424,425,426,427,428,429,430,431,432,433,434,435,436,437,438,439,440,441,442,443,444,445,446,447,448,449,450,451,452,453,454,455,456,457,458,459,460,461,462,463,464,465,466,467,468,469,470,471,472,473,474,475,476,477,478,479,480,481,482,483,484,485,486,487,488,489,490,491,492,493,494,495,496,497,498,499,500,501,502,503,504,505,506,507,508,509,510,511,512,513,514,515,516,517,518,519,520,521,522,523,524,525,526,527,528,529,530,531,532,533,534,535,536,537,538,539,540,541,542,543,544,545,546,547,548,549,550,551,552,553,554,555,556,557,558,559,560,561,562,563,564,565,566,567,568,569,570,571,572,573,574,575,576,577,578,579,580,581,582,583,584,585,586,587,588,589,590,591,592,593,594,595,596,597,598,599,600,601,602,603,604,605,606,607,608,609,610,611,612,613,614,615,616,617,618,619,620,621,622,623,624,625,626,627,628,629,630,631,632,633,634,635,636,637,638,639,640,641,642,643,644,645,646,647,648,649,650,651,652,653,654,655,656,657,658,659,660,661,662,663,664,665,666,667,668,669,670,671,672,673,674,675,676,677,678,679,680,681,682,683,684,685,686,687,688,689,690,691,692,693,694,695,696,697,698,699,700,701,702,703,704,705,706,707,708,709,710,711,712,713,714,715,716,717,718,719,720,721,722,723,724,725,726,727,728,729,730,731,732,733,734,735,736,737,738,739,740,741,742,743,744,745,746,747,748,749,750,751,752,753,754,755,756,757,758,759,760,761,762,763,764,765,766,767,768,769,770,771,772,773,774,775,776,777,778,779,780,781,782,783,784,785,786,787,788,789,790,791,792,793,794,795,796,797,798,799,800,801,802,803,804,805,806,807,808,809,810,811,812,813,814,815,816,817,818,819,820,821,822,823,824,825,826,827,828,829,830,831,832,833,834,835,836,837,838,839,840,841,842,843,844,845,846,847,848,849,850,851,852,853,854,855,856,857,858,859,860,861,862,863,864,865,866,867,868,869,870,871,872,873,874,875,876,877,878,879,880,881,882,883,884,885,886,887,888,889,890,891,892,893,894,895,896,897,898,899,900,901,902,903,904,905,906,907,908,909,910,911,912,913,914,915,916,917,918,919,920,921,922,923,924,925,926,927,928,929,930,931,932,933,934,935,936,937,938,939,940,941,942,943,944,945,946,947,948,949,950,951,952,953,954,955,956,957,958,959,960,961,962,963,964,965,966,967,968,969,970,971,972,973,974,975,976,977,978,979,980,981,982,983,984,985,986,987,988,989,990,991,992,993,994,995,996,997,998,999,1000,1001,1002,1003,1004,1005,1006,1007,1008,1009,1010,1011,1012,1013,1014,1015,1016,1017,1018,1019,1020,1021,1022,1023,1024,1025,1026,1027,1028,1029,1030,1031,1032,1033,1034,1035,1036,1037,1038,1039,1040,1041,1042,1043,1044,1045,1046,1047,1048,1049,1050,1051,1052,1053,1054,1055,1056,1057,1058,1059,1060,1061,1062,1063,1064,1065,1066,1067,1068,1069,1070,1071,1072,1073,1074,1075,1076,1077,1078,1079,1080,1081,1082,1083,1084,1085,1086,1087,1088,1089,1090,1091,1092,1093,1094,1095,1096,1097,1098,1099,1100,1101,1102,1103,1104,1105,1106,1107,1108,1109,1110,1111,1112,1113,1114,1115,1116,1117,1118,1119,1120,1121,1122,1123,1124,1125,1126,1127,1128,1129,1130,1131,1132,1133,1134,1135,1136,1137,1138,1139,1140,1141,1142,1143,1144,1145,1146,1147,1148,1149,1150,1151,1152,1153,1154,1155,1156,1157,1158,1159,1160,1161,1162,1163,1164,1165,1166,1167,1168,1169,1170,1171,1172,1173,1174,1175,1176,1177,1178,1179,1180,1181,1182,1183,1184,1185,1186,1187,1188,1189,1190,1191,1192,1193,1194,1195,1196,1197,1198,1199,1200,1201,1202,1203,1204,1205,1206,1207,1208,1209,1210,1211,1212,1213,1214,1215,1216,1217,1218,1219,1220,1221,1222,1223,1224,1225,1226,1227,1228,1229,1230,1231,1232,1233,1234,1235,1236,1237,1238,1239,1240,1241,1242,1243,1244,1245,1246,1247,1248,1249,1250,1251,1252,1253,1254,1255,1256,1257,1258,1259,1260,1261,1262,1263,1264,1265,1266,1267,1268,1269,1270,1271,1272,1273,1274,1275,1276,1277,1278,1279,1280,1281,1282,1283,1284,1285,1286,1287,1288,1289,1290,1291,1292,1293,1294,1295,1296,1297,1298,1299,1300,1301,1302,1303,1304,1305,1306,1307,1308,1309,1310,1311,1312,1313,1314,1315,1316,1317,1318,1319,1320,1321,1322,1323,1324,1325,1326,1327,1328,1329,1330,1331,1332,1333,1334,1335,1336,1337,1338,1339,1340,1341,1342,1343,1344,1345,1346,1347,1348,1349,1350,1351,1352,1353,1354,1355,1356,1357,1358,1359,1360,1361,1362,1363,1364,1365,1366,1367,1368,1369,1370,1371,1372,1373,1374,1375,1376,1377,1378,1379,1380,1381,1382,1383,1384,1385,1386,1387,1388,1389,1390,1391,1392,1393,1394,1395,1396,1397,1398,1399,1400,1401,1402,1403,1404,1405,1406,1407,1408,1409,1410,1411,1412,1413,1414,1415,1416,1417,1418,1419,1420,1421,1422,1423,1424,1425,1426,1427,1428,1429,1430,1431,1432,1433,1434,1435,1436,1437,1438,1439,1440,1441,1442,1443,1444,1445,1446,1447,1448,1449,1450,1451,1452,1453,1454,1455,1456,1457,1458,1459,1460,1461,1462,1463,1464,1465,1466,1467,1468,1469,1470,1471,1472,1473,1474,1475,1476,1477,1478,1479,1480,1481,1482,1483,1484,1485,1486,1487,1488,1489,1490,1491,1492,1493,1494,1495,1496,1497,1498,1499,1500,1501,1502,1503,1504,1505,1506,1507,1508,1509,1510,1511,1512,1513,1514,1515,1516,1517,1518,1519,1520,1521,1522,1523,1524,1525,1526,1527,1528,1529,1530,1531,1532,1533,1534,1535,1536,1537,1538,1539,1540,1541,1542,1543,1544) have mixed types. Specify dtype option on import or set low_memory=False.\n",
      "  lma = pd.read_csv(\"https://api.llama.fi/dataset/bancor.csv\")\n"
     ]
    }
   ],
   "source": [
    "#DefiLlama https://defillama.com/protocols/dexes \n",
    "lma = pd.read_csv(\"https://api.llama.fi/dataset/bancor.csv\")"
   ]
  },
  {
   "cell_type": "code",
   "execution_count": 8,
   "metadata": {},
   "outputs": [
    {
     "data": {
      "text/html": [
       "<div>\n",
       "<style scoped>\n",
       "    .dataframe tbody tr th:only-of-type {\n",
       "        vertical-align: middle;\n",
       "    }\n",
       "\n",
       "    .dataframe tbody tr th {\n",
       "        vertical-align: top;\n",
       "    }\n",
       "\n",
       "    .dataframe thead th {\n",
       "        text-align: right;\n",
       "    }\n",
       "</style>\n",
       "<table border=\"1\" class=\"dataframe\">\n",
       "  <thead>\n",
       "    <tr style=\"text-align: right;\">\n",
       "      <th></th>\n",
       "      <th>Unnamed: 0</th>\n",
       "      <th>Date</th>\n",
       "      <th>Timestamp</th>\n",
       "      <th>Bancor</th>\n",
       "      <th>Bancor.1</th>\n",
       "      <th>Bancor.2</th>\n",
       "      <th>Bancor.3</th>\n",
       "      <th>Bancor.4</th>\n",
       "      <th>Bancor.5</th>\n",
       "      <th>Bancor.6</th>\n",
       "      <th>...</th>\n",
       "      <th>Bancor.1532</th>\n",
       "      <th>Bancor.1533</th>\n",
       "      <th>Bancor.1534</th>\n",
       "      <th>Bancor.1535</th>\n",
       "      <th>Bancor.1536</th>\n",
       "      <th>Bancor.1537</th>\n",
       "      <th>Bancor.1538</th>\n",
       "      <th>Bancor.1539</th>\n",
       "      <th>Bancor.1540</th>\n",
       "      <th>Bancor.1541</th>\n",
       "    </tr>\n",
       "  </thead>\n",
       "  <tbody>\n",
       "    <tr>\n",
       "      <th>0</th>\n",
       "      <td>NaN</td>\n",
       "      <td>NaN</td>\n",
       "      <td>NaN</td>\n",
       "      <td>Dexes</td>\n",
       "      <td>Dexes</td>\n",
       "      <td>Dexes</td>\n",
       "      <td>Dexes</td>\n",
       "      <td>Dexes</td>\n",
       "      <td>Dexes</td>\n",
       "      <td>Dexes</td>\n",
       "      <td>...</td>\n",
       "      <td>Dexes</td>\n",
       "      <td>Dexes</td>\n",
       "      <td>Dexes</td>\n",
       "      <td>Dexes</td>\n",
       "      <td>Dexes</td>\n",
       "      <td>Dexes</td>\n",
       "      <td>Dexes</td>\n",
       "      <td>Dexes</td>\n",
       "      <td>Dexes</td>\n",
       "      <td>Dexes</td>\n",
       "    </tr>\n",
       "    <tr>\n",
       "      <th>1</th>\n",
       "      <td>NaN</td>\n",
       "      <td>NaN</td>\n",
       "      <td>NaN</td>\n",
       "      <td>ethereum</td>\n",
       "      <td>Total</td>\n",
       "      <td>ethereum</td>\n",
       "      <td>ethereum</td>\n",
       "      <td>ethereum</td>\n",
       "      <td>ethereum</td>\n",
       "      <td>ethereum</td>\n",
       "      <td>...</td>\n",
       "      <td>Total</td>\n",
       "      <td>Total</td>\n",
       "      <td>Total</td>\n",
       "      <td>Total</td>\n",
       "      <td>Total</td>\n",
       "      <td>Total</td>\n",
       "      <td>Total</td>\n",
       "      <td>Total</td>\n",
       "      <td>Total</td>\n",
       "      <td>Total</td>\n",
       "    </tr>\n",
       "    <tr>\n",
       "      <th>2</th>\n",
       "      <td>NaN</td>\n",
       "      <td>NaN</td>\n",
       "      <td>NaN</td>\n",
       "      <td>TVL</td>\n",
       "      <td>TVL</td>\n",
       "      <td>Tokens(USD)</td>\n",
       "      <td>Tokens(USD)</td>\n",
       "      <td>Tokens(USD)</td>\n",
       "      <td>Tokens(USD)</td>\n",
       "      <td>Tokens(USD)</td>\n",
       "      <td>...</td>\n",
       "      <td>Tokens</td>\n",
       "      <td>Tokens</td>\n",
       "      <td>Tokens</td>\n",
       "      <td>Tokens</td>\n",
       "      <td>Tokens</td>\n",
       "      <td>Tokens</td>\n",
       "      <td>Tokens</td>\n",
       "      <td>Tokens</td>\n",
       "      <td>Tokens</td>\n",
       "      <td>Tokens</td>\n",
       "    </tr>\n",
       "    <tr>\n",
       "      <th>3</th>\n",
       "      <td>NaN</td>\n",
       "      <td>NaN</td>\n",
       "      <td>NaN</td>\n",
       "      <td>NaN</td>\n",
       "      <td>NaN</td>\n",
       "      <td>MATIC</td>\n",
       "      <td>UNKNOWN (0x0Ba45A8b5d5575935B8158a88C631E9F9C9...</td>\n",
       "      <td>bDIGG</td>\n",
       "      <td>JRT</td>\n",
       "      <td>BBO</td>\n",
       "      <td>...</td>\n",
       "      <td>CNDL</td>\n",
       "      <td>SATA</td>\n",
       "      <td>LYRA</td>\n",
       "      <td>POOL</td>\n",
       "      <td>THALES</td>\n",
       "      <td>PDI</td>\n",
       "      <td>SHIBGF</td>\n",
       "      <td>AST</td>\n",
       "      <td>WBNB</td>\n",
       "      <td>GUSD</td>\n",
       "    </tr>\n",
       "    <tr>\n",
       "      <th>4</th>\n",
       "      <td>NaN</td>\n",
       "      <td>20/11/2020</td>\n",
       "      <td>1.605830e+09</td>\n",
       "      <td>61963413</td>\n",
       "      <td>61963413</td>\n",
       "      <td>NaN</td>\n",
       "      <td>NaN</td>\n",
       "      <td>NaN</td>\n",
       "      <td>NaN</td>\n",
       "      <td>NaN</td>\n",
       "      <td>...</td>\n",
       "      <td>NaN</td>\n",
       "      <td>NaN</td>\n",
       "      <td>NaN</td>\n",
       "      <td>NaN</td>\n",
       "      <td>NaN</td>\n",
       "      <td>NaN</td>\n",
       "      <td>NaN</td>\n",
       "      <td>NaN</td>\n",
       "      <td>NaN</td>\n",
       "      <td>NaN</td>\n",
       "    </tr>\n",
       "    <tr>\n",
       "      <th>...</th>\n",
       "      <td>...</td>\n",
       "      <td>...</td>\n",
       "      <td>...</td>\n",
       "      <td>...</td>\n",
       "      <td>...</td>\n",
       "      <td>...</td>\n",
       "      <td>...</td>\n",
       "      <td>...</td>\n",
       "      <td>...</td>\n",
       "      <td>...</td>\n",
       "      <td>...</td>\n",
       "      <td>...</td>\n",
       "      <td>...</td>\n",
       "      <td>...</td>\n",
       "      <td>...</td>\n",
       "      <td>...</td>\n",
       "      <td>...</td>\n",
       "      <td>...</td>\n",
       "      <td>...</td>\n",
       "      <td>...</td>\n",
       "      <td>...</td>\n",
       "    </tr>\n",
       "    <tr>\n",
       "      <th>605</th>\n",
       "      <td>NaN</td>\n",
       "      <td>14/07/2022</td>\n",
       "      <td>1.657757e+09</td>\n",
       "      <td>153937574.276051</td>\n",
       "      <td>153937574.276051</td>\n",
       "      <td>330357.244628</td>\n",
       "      <td>NaN</td>\n",
       "      <td>NaN</td>\n",
       "      <td>45305.917892</td>\n",
       "      <td>17.239154</td>\n",
       "      <td>...</td>\n",
       "      <td>NaN</td>\n",
       "      <td>1283332.26988</td>\n",
       "      <td>19832.031562</td>\n",
       "      <td>0.0</td>\n",
       "      <td>1086.234028</td>\n",
       "      <td>877.450526</td>\n",
       "      <td>61538450618742.976562</td>\n",
       "      <td>0.0</td>\n",
       "      <td>0.0</td>\n",
       "      <td>0.0</td>\n",
       "    </tr>\n",
       "    <tr>\n",
       "      <th>606</th>\n",
       "      <td>NaN</td>\n",
       "      <td>15/07/2022</td>\n",
       "      <td>1.657843e+09</td>\n",
       "      <td>156627392.056605</td>\n",
       "      <td>156627392.056605</td>\n",
       "      <td>347895.311139</td>\n",
       "      <td>NaN</td>\n",
       "      <td>NaN</td>\n",
       "      <td>45745.603953</td>\n",
       "      <td>17.937671</td>\n",
       "      <td>...</td>\n",
       "      <td>NaN</td>\n",
       "      <td>1245242.282226</td>\n",
       "      <td>19832.031562</td>\n",
       "      <td>0.0</td>\n",
       "      <td>1086.234028</td>\n",
       "      <td>876.247593</td>\n",
       "      <td>61149056187702.476562</td>\n",
       "      <td>0.0</td>\n",
       "      <td>0.0</td>\n",
       "      <td>0.0</td>\n",
       "    </tr>\n",
       "    <tr>\n",
       "      <th>607</th>\n",
       "      <td>NaN</td>\n",
       "      <td>16/07/2022</td>\n",
       "      <td>1.657930e+09</td>\n",
       "      <td>157758299.836451</td>\n",
       "      <td>157758299.836451</td>\n",
       "      <td>347378.966455</td>\n",
       "      <td>NaN</td>\n",
       "      <td>NaN</td>\n",
       "      <td>45869.461937</td>\n",
       "      <td>16.78126</td>\n",
       "      <td>...</td>\n",
       "      <td>NaN</td>\n",
       "      <td>1238769.056802</td>\n",
       "      <td>19832.031562</td>\n",
       "      <td>0.0</td>\n",
       "      <td>1086.234028</td>\n",
       "      <td>874.167768</td>\n",
       "      <td>57938505540647.75</td>\n",
       "      <td>0.0</td>\n",
       "      <td>0.0</td>\n",
       "      <td>0.0</td>\n",
       "    </tr>\n",
       "    <tr>\n",
       "      <th>608</th>\n",
       "      <td>NaN</td>\n",
       "      <td>17/07/2022</td>\n",
       "      <td>1.658016e+09</td>\n",
       "      <td>165316758.668955</td>\n",
       "      <td>165316758.668955</td>\n",
       "      <td>368686.067284</td>\n",
       "      <td>NaN</td>\n",
       "      <td>NaN</td>\n",
       "      <td>49205.52038</td>\n",
       "      <td>17.826116</td>\n",
       "      <td>...</td>\n",
       "      <td>NaN</td>\n",
       "      <td>1237180.797775</td>\n",
       "      <td>18863.183586</td>\n",
       "      <td>0.0</td>\n",
       "      <td>1086.234028</td>\n",
       "      <td>868.821935</td>\n",
       "      <td>54689951422029.234375</td>\n",
       "      <td>0.0</td>\n",
       "      <td>0.0</td>\n",
       "      <td>0.0</td>\n",
       "    </tr>\n",
       "    <tr>\n",
       "      <th>609</th>\n",
       "      <td>NaN</td>\n",
       "      <td>18/07/2022</td>\n",
       "      <td>1.658102e+09</td>\n",
       "      <td>162336392.858996</td>\n",
       "      <td>162336392.858996</td>\n",
       "      <td>368930.046594</td>\n",
       "      <td>NaN</td>\n",
       "      <td>NaN</td>\n",
       "      <td>49215.196479</td>\n",
       "      <td>16.659327</td>\n",
       "      <td>...</td>\n",
       "      <td>NaN</td>\n",
       "      <td>1263248.329649</td>\n",
       "      <td>18863.183586</td>\n",
       "      <td>0.0</td>\n",
       "      <td>1086.234028</td>\n",
       "      <td>868.636844</td>\n",
       "      <td>54930841419223.78125</td>\n",
       "      <td>0.0</td>\n",
       "      <td>0.0</td>\n",
       "      <td>0.0</td>\n",
       "    </tr>\n",
       "  </tbody>\n",
       "</table>\n",
       "<p>610 rows × 1545 columns</p>\n",
       "</div>"
      ],
      "text/plain": [
       "     Unnamed: 0        Date     Timestamp            Bancor          Bancor.1  \\\n",
       "0           NaN         NaN           NaN             Dexes             Dexes   \n",
       "1           NaN         NaN           NaN          ethereum             Total   \n",
       "2           NaN         NaN           NaN               TVL               TVL   \n",
       "3           NaN         NaN           NaN               NaN               NaN   \n",
       "4           NaN  20/11/2020  1.605830e+09          61963413          61963413   \n",
       "..          ...         ...           ...               ...               ...   \n",
       "605         NaN  14/07/2022  1.657757e+09  153937574.276051  153937574.276051   \n",
       "606         NaN  15/07/2022  1.657843e+09  156627392.056605  156627392.056605   \n",
       "607         NaN  16/07/2022  1.657930e+09  157758299.836451  157758299.836451   \n",
       "608         NaN  17/07/2022  1.658016e+09  165316758.668955  165316758.668955   \n",
       "609         NaN  18/07/2022  1.658102e+09  162336392.858996  162336392.858996   \n",
       "\n",
       "          Bancor.2                                           Bancor.3  \\\n",
       "0            Dexes                                              Dexes   \n",
       "1         ethereum                                           ethereum   \n",
       "2      Tokens(USD)                                        Tokens(USD)   \n",
       "3            MATIC  UNKNOWN (0x0Ba45A8b5d5575935B8158a88C631E9F9C9...   \n",
       "4              NaN                                                NaN   \n",
       "..             ...                                                ...   \n",
       "605  330357.244628                                                NaN   \n",
       "606  347895.311139                                                NaN   \n",
       "607  347378.966455                                                NaN   \n",
       "608  368686.067284                                                NaN   \n",
       "609  368930.046594                                                NaN   \n",
       "\n",
       "        Bancor.4      Bancor.5     Bancor.6  ... Bancor.1532     Bancor.1533  \\\n",
       "0          Dexes         Dexes        Dexes  ...       Dexes           Dexes   \n",
       "1       ethereum      ethereum     ethereum  ...       Total           Total   \n",
       "2    Tokens(USD)   Tokens(USD)  Tokens(USD)  ...      Tokens          Tokens   \n",
       "3          bDIGG           JRT          BBO  ...        CNDL            SATA   \n",
       "4            NaN           NaN          NaN  ...         NaN             NaN   \n",
       "..           ...           ...          ...  ...         ...             ...   \n",
       "605          NaN  45305.917892    17.239154  ...         NaN   1283332.26988   \n",
       "606          NaN  45745.603953    17.937671  ...         NaN  1245242.282226   \n",
       "607          NaN  45869.461937     16.78126  ...         NaN  1238769.056802   \n",
       "608          NaN   49205.52038    17.826116  ...         NaN  1237180.797775   \n",
       "609          NaN  49215.196479    16.659327  ...         NaN  1263248.329649   \n",
       "\n",
       "      Bancor.1534 Bancor.1535  Bancor.1536 Bancor.1537            Bancor.1538  \\\n",
       "0           Dexes       Dexes        Dexes       Dexes                  Dexes   \n",
       "1           Total       Total        Total       Total                  Total   \n",
       "2          Tokens      Tokens       Tokens      Tokens                 Tokens   \n",
       "3            LYRA        POOL       THALES         PDI                 SHIBGF   \n",
       "4             NaN         NaN          NaN         NaN                    NaN   \n",
       "..            ...         ...          ...         ...                    ...   \n",
       "605  19832.031562         0.0  1086.234028  877.450526  61538450618742.976562   \n",
       "606  19832.031562         0.0  1086.234028  876.247593  61149056187702.476562   \n",
       "607  19832.031562         0.0  1086.234028  874.167768      57938505540647.75   \n",
       "608  18863.183586         0.0  1086.234028  868.821935  54689951422029.234375   \n",
       "609  18863.183586         0.0  1086.234028  868.636844   54930841419223.78125   \n",
       "\n",
       "    Bancor.1539 Bancor.1540 Bancor.1541  \n",
       "0         Dexes       Dexes       Dexes  \n",
       "1         Total       Total       Total  \n",
       "2        Tokens      Tokens      Tokens  \n",
       "3           AST        WBNB        GUSD  \n",
       "4           NaN         NaN         NaN  \n",
       "..          ...         ...         ...  \n",
       "605         0.0         0.0         0.0  \n",
       "606         0.0         0.0         0.0  \n",
       "607         0.0         0.0         0.0  \n",
       "608         0.0         0.0         0.0  \n",
       "609         0.0         0.0         0.0  \n",
       "\n",
       "[610 rows x 1545 columns]"
      ]
     },
     "execution_count": 8,
     "metadata": {},
     "output_type": "execute_result"
    }
   ],
   "source": [
    "lma"
   ]
  },
  {
   "cell_type": "code",
   "execution_count": 11,
   "metadata": {},
   "outputs": [
    {
     "data": {
      "text/plain": [
       "0                 Dexes\n",
       "1              ethereum\n",
       "2                   TVL\n",
       "3                   NaN\n",
       "4              61963413\n",
       "             ...       \n",
       "605    153937574.276051\n",
       "606    156627392.056605\n",
       "607    157758299.836451\n",
       "608    165316758.668955\n",
       "609    162336392.858996\n",
       "Name: Bancor, Length: 610, dtype: object"
      ]
     },
     "execution_count": 11,
     "metadata": {},
     "output_type": "execute_result"
    }
   ],
   "source": [
    "lma.iloc[:,3]"
   ]
  },
  {
   "cell_type": "code",
   "execution_count": 12,
   "metadata": {},
   "outputs": [
    {
     "data": {
      "text/plain": [
       "798159897.4739718"
      ]
     },
     "execution_count": 12,
     "metadata": {},
     "output_type": "execute_result"
    }
   ],
   "source": [
    "#Just eth currently can take total by changing the header\n",
    "lma.iloc[-183:, 3].astype(float).mean()"
   ]
  },
  {
   "cell_type": "code",
   "execution_count": null,
   "metadata": {},
   "outputs": [],
   "source": []
  },
  {
   "cell_type": "markdown",
   "metadata": {},
   "source": [
    "Largest Pool Concentration"
   ]
  },
  {
   "cell_type": "code",
   "execution_count": 13,
   "metadata": {},
   "outputs": [
    {
     "name": "stderr",
     "output_type": "stream",
     "text": [
      "/tmp/ipykernel_18302/2291472997.py:22: FutureWarning: The frame.append method is deprecated and will be removed from pandas in a future version. Use pandas.concat instead.\n",
      "  df = df.append(pool)\n"
     ]
    }
   ],
   "source": [
    "df = pd.DataFrame()\n",
    "ts = 0\n",
    "\n",
    "while True:\n",
    "    sl = len(df)\n",
    "    query = \"\"\"\n",
    "{\n",
    "  liquidityPools(first:1000, orderBy: createdTimestamp, orderDirection: asc, where: {createdTimestamp_gt: \"\"\"+f'\"{ts}\"'+\"\"\"}){\n",
    "    id\n",
    "    name\n",
    "    totalValueLockedUSD\n",
    "    cumulativeVolumeUSD\n",
    "    createdTimestamp\n",
    "    createdBlockNumber\n",
    "  }\n",
    "}\n",
    "\"\"\"\n",
    "    request = requests.post(endpoint, json={'query':query})\n",
    "    data = request.json()\n",
    "\n",
    "    pool = pd.json_normalize(data['data']['liquidityPools'])\n",
    "    df = df.append(pool)\n",
    "    df.drop_duplicates(inplace=True)\n",
    "    if len(df) == sl:\n",
    "      break\n",
    "    ts = df['createdTimestamp'].max()\n"
   ]
  },
  {
   "cell_type": "code",
   "execution_count": 14,
   "metadata": {},
   "outputs": [
    {
     "data": {
      "text/html": [
       "<div>\n",
       "<style scoped>\n",
       "    .dataframe tbody tr th:only-of-type {\n",
       "        vertical-align: middle;\n",
       "    }\n",
       "\n",
       "    .dataframe tbody tr th {\n",
       "        vertical-align: top;\n",
       "    }\n",
       "\n",
       "    .dataframe thead th {\n",
       "        text-align: right;\n",
       "    }\n",
       "</style>\n",
       "<table border=\"1\" class=\"dataframe\">\n",
       "  <thead>\n",
       "    <tr style=\"text-align: right;\">\n",
       "      <th></th>\n",
       "      <th>id</th>\n",
       "      <th>name</th>\n",
       "      <th>totalValueLockedUSD</th>\n",
       "      <th>cumulativeVolumeUSD</th>\n",
       "      <th>createdTimestamp</th>\n",
       "      <th>createdBlockNumber</th>\n",
       "    </tr>\n",
       "  </thead>\n",
       "  <tbody>\n",
       "    <tr>\n",
       "      <th>0</th>\n",
       "      <td>0xab05cf7c6c3a288cd36326e4f7b8600e7268e344</td>\n",
       "      <td>Bancor BNT Pool Token</td>\n",
       "      <td>3675108.331532131594193896</td>\n",
       "      <td>105421455.716859228814754751</td>\n",
       "      <td>1650287293</td>\n",
       "      <td>14609363</td>\n",
       "    </tr>\n",
       "    <tr>\n",
       "      <th>1</th>\n",
       "      <td>0x256ed1d83e3e4efdda977389a5389c3433137dda</td>\n",
       "      <td>Bancor ETH Pool Token</td>\n",
       "      <td>2915355.229978820480431689</td>\n",
       "      <td>66405707.088915762641108193</td>\n",
       "      <td>1650289027</td>\n",
       "      <td>14609486</td>\n",
       "    </tr>\n",
       "    <tr>\n",
       "      <th>2</th>\n",
       "      <td>0x06cd589760da4616a0606da1367855808196c352</td>\n",
       "      <td>Bancor DAI Pool Token</td>\n",
       "      <td>6916863.556142866281349342</td>\n",
       "      <td>13789800.804953783568465017</td>\n",
       "      <td>1650289179</td>\n",
       "      <td>14609495</td>\n",
       "    </tr>\n",
       "    <tr>\n",
       "      <th>3</th>\n",
       "      <td>0x516c164a879892a156920a215855c3416616c46e</td>\n",
       "      <td>Bancor LINK Pool Token</td>\n",
       "      <td>2986996.344672396969001947</td>\n",
       "      <td>30744513.371134321667281445</td>\n",
       "      <td>1650289263</td>\n",
       "      <td>14609502</td>\n",
       "    </tr>\n",
       "    <tr>\n",
       "      <th>4</th>\n",
       "      <td>0x0a8999e064ae4954dae9a7758aa4dc9995218576</td>\n",
       "      <td>Bancor AUC Pool Token</td>\n",
       "      <td>0</td>\n",
       "      <td>0</td>\n",
       "      <td>1654807590</td>\n",
       "      <td>14934606</td>\n",
       "    </tr>\n",
       "    <tr>\n",
       "      <th>...</th>\n",
       "      <td>...</td>\n",
       "      <td>...</td>\n",
       "      <td>...</td>\n",
       "      <td>...</td>\n",
       "      <td>...</td>\n",
       "      <td>...</td>\n",
       "    </tr>\n",
       "    <tr>\n",
       "      <th>143</th>\n",
       "      <td>0xfe5ff0fda76eae4fc1fd361aa2ae69a05ab7c503</td>\n",
       "      <td>Bancor WXT Pool Token</td>\n",
       "      <td>0</td>\n",
       "      <td>0</td>\n",
       "      <td>1654810086</td>\n",
       "      <td>14934755</td>\n",
       "    </tr>\n",
       "    <tr>\n",
       "      <th>144</th>\n",
       "      <td>0xb0bf2da95a49d247331b713b0a2f3161f0e35de1</td>\n",
       "      <td>Bancor SHIBGF Pool Token</td>\n",
       "      <td>13052.583394030550664298</td>\n",
       "      <td>20527.316972737900101654</td>\n",
       "      <td>1654810412</td>\n",
       "      <td>14934777</td>\n",
       "    </tr>\n",
       "    <tr>\n",
       "      <th>145</th>\n",
       "      <td>0x356d286a49f484b73e58d757d85fc5abc9ebf4f2</td>\n",
       "      <td>Bancor CROWN Pool Token</td>\n",
       "      <td>0</td>\n",
       "      <td>0</td>\n",
       "      <td>1655977348</td>\n",
       "      <td>15012316</td>\n",
       "    </tr>\n",
       "    <tr>\n",
       "      <th>146</th>\n",
       "      <td>0xe56249d86e692f6cd9aab091fc7b08edfe03b7cb</td>\n",
       "      <td>Bancor OCEAN Pool Token</td>\n",
       "      <td>28684.37363734349274832</td>\n",
       "      <td>1139.736711703573264417</td>\n",
       "      <td>1655977348</td>\n",
       "      <td>15012316</td>\n",
       "    </tr>\n",
       "    <tr>\n",
       "      <th>147</th>\n",
       "      <td>0xf4d96e11b531b99f1f04fbd77d39859a7689348d</td>\n",
       "      <td>Bancor USDT Pool Token</td>\n",
       "      <td>35452.678629665057416316</td>\n",
       "      <td>2803.269778177734931933</td>\n",
       "      <td>1655977348</td>\n",
       "      <td>15012316</td>\n",
       "    </tr>\n",
       "  </tbody>\n",
       "</table>\n",
       "<p>148 rows × 6 columns</p>\n",
       "</div>"
      ],
      "text/plain": [
       "                                             id                      name  \\\n",
       "0    0xab05cf7c6c3a288cd36326e4f7b8600e7268e344     Bancor BNT Pool Token   \n",
       "1    0x256ed1d83e3e4efdda977389a5389c3433137dda     Bancor ETH Pool Token   \n",
       "2    0x06cd589760da4616a0606da1367855808196c352     Bancor DAI Pool Token   \n",
       "3    0x516c164a879892a156920a215855c3416616c46e    Bancor LINK Pool Token   \n",
       "4    0x0a8999e064ae4954dae9a7758aa4dc9995218576     Bancor AUC Pool Token   \n",
       "..                                          ...                       ...   \n",
       "143  0xfe5ff0fda76eae4fc1fd361aa2ae69a05ab7c503     Bancor WXT Pool Token   \n",
       "144  0xb0bf2da95a49d247331b713b0a2f3161f0e35de1  Bancor SHIBGF Pool Token   \n",
       "145  0x356d286a49f484b73e58d757d85fc5abc9ebf4f2   Bancor CROWN Pool Token   \n",
       "146  0xe56249d86e692f6cd9aab091fc7b08edfe03b7cb   Bancor OCEAN Pool Token   \n",
       "147  0xf4d96e11b531b99f1f04fbd77d39859a7689348d    Bancor USDT Pool Token   \n",
       "\n",
       "            totalValueLockedUSD           cumulativeVolumeUSD  \\\n",
       "0    3675108.331532131594193896  105421455.716859228814754751   \n",
       "1    2915355.229978820480431689   66405707.088915762641108193   \n",
       "2    6916863.556142866281349342   13789800.804953783568465017   \n",
       "3    2986996.344672396969001947   30744513.371134321667281445   \n",
       "4                             0                             0   \n",
       "..                          ...                           ...   \n",
       "143                           0                             0   \n",
       "144    13052.583394030550664298      20527.316972737900101654   \n",
       "145                           0                             0   \n",
       "146     28684.37363734349274832       1139.736711703573264417   \n",
       "147    35452.678629665057416316       2803.269778177734931933   \n",
       "\n",
       "    createdTimestamp createdBlockNumber  \n",
       "0         1650287293           14609363  \n",
       "1         1650289027           14609486  \n",
       "2         1650289179           14609495  \n",
       "3         1650289263           14609502  \n",
       "4         1654807590           14934606  \n",
       "..               ...                ...  \n",
       "143       1654810086           14934755  \n",
       "144       1654810412           14934777  \n",
       "145       1655977348           15012316  \n",
       "146       1655977348           15012316  \n",
       "147       1655977348           15012316  \n",
       "\n",
       "[148 rows x 6 columns]"
      ]
     },
     "execution_count": 14,
     "metadata": {},
     "output_type": "execute_result"
    }
   ],
   "source": [
    "df"
   ]
  },
  {
   "cell_type": "code",
   "execution_count": 15,
   "metadata": {},
   "outputs": [
    {
     "data": {
      "text/plain": [
       "0.30731839237318975"
      ]
     },
     "execution_count": 15,
     "metadata": {},
     "output_type": "execute_result"
    }
   ],
   "source": [
    "df['totalValueLockedUSD'].astype(float).max()/df['totalValueLockedUSD'].astype(float).sum()"
   ]
  },
  {
   "cell_type": "code",
   "execution_count": 16,
   "metadata": {},
   "outputs": [
    {
     "data": {
      "text/plain": [
       "0.9304788700097002"
      ]
     },
     "execution_count": 16,
     "metadata": {},
     "output_type": "execute_result"
    }
   ],
   "source": [
    "df['totalValueLockedUSD'].astype(float).nlargest(10).sum()/df['totalValueLockedUSD'].astype(float).sum()"
   ]
  },
  {
   "cell_type": "markdown",
   "metadata": {},
   "source": [
    "Liquidity Pools with > $1mn TVL"
   ]
  },
  {
   "cell_type": "code",
   "execution_count": 17,
   "metadata": {},
   "outputs": [
    {
     "data": {
      "text/plain": [
       "5"
      ]
     },
     "execution_count": 17,
     "metadata": {},
     "output_type": "execute_result"
    }
   ],
   "source": [
    "len(df.loc[df['totalValueLockedUSD'].astype(float) > 1000000])"
   ]
  },
  {
   "cell_type": "code",
   "execution_count": null,
   "metadata": {},
   "outputs": [],
   "source": []
  },
  {
   "cell_type": "markdown",
   "metadata": {},
   "source": [
    "Monthly Active Users"
   ]
  },
  {
   "cell_type": "code",
   "execution_count": 18,
   "metadata": {},
   "outputs": [],
   "source": [
    "query = \"\"\"{\n",
    "  usageMetricsDailySnapshots(first: 183, orderBy: timestamp, orderDirection: desc){\n",
    "    timestamp\n",
    "    blockNumber\n",
    "    id\n",
    "    dailyActiveUsers\n",
    "    dailySwapCount\n",
    "    dailyDepositCount\n",
    "    dailyWithdrawCount \n",
    "  }\n",
    "}\n",
    "\"\"\""
   ]
  },
  {
   "cell_type": "code",
   "execution_count": 19,
   "metadata": {},
   "outputs": [],
   "source": [
    "request = requests.post(endpoint, json={'query':query})\n",
    "data = request.json()"
   ]
  },
  {
   "cell_type": "code",
   "execution_count": 20,
   "metadata": {},
   "outputs": [],
   "source": [
    "df = pd.json_normalize(data['data']['usageMetricsDailySnapshots'])"
   ]
  },
  {
   "cell_type": "code",
   "execution_count": 21,
   "metadata": {},
   "outputs": [],
   "source": [
    "df['date'] = df['timestamp'].astype(int).apply(lambda x: dt.datetime.fromtimestamp(x))"
   ]
  },
  {
   "cell_type": "code",
   "execution_count": 22,
   "metadata": {},
   "outputs": [],
   "source": [
    "monthactiveusers = []\n",
    "for i in range(len(df['date'].dt.month.unique())):\n",
    "    monthactiveusers.append(df['dailyActiveUsers'].loc[df['date'].dt.month == df['date'].dt.month.unique()[i]].astype(float).sum())"
   ]
  },
  {
   "cell_type": "code",
   "execution_count": 23,
   "metadata": {},
   "outputs": [
    {
     "data": {
      "text/plain": [
       "2129.0"
      ]
     },
     "execution_count": 23,
     "metadata": {},
     "output_type": "execute_result"
    }
   ],
   "source": [
    "np.mean(monthactiveusers) #can chart this easy"
   ]
  },
  {
   "cell_type": "code",
   "execution_count": null,
   "metadata": {},
   "outputs": [],
   "source": []
  },
  {
   "cell_type": "markdown",
   "metadata": {},
   "source": [
    "Implied slippage"
   ]
  },
  {
   "cell_type": "code",
   "execution_count": null,
   "metadata": {},
   "outputs": [],
   "source": []
  },
  {
   "cell_type": "code",
   "execution_count": null,
   "metadata": {},
   "outputs": [],
   "source": []
  },
  {
   "cell_type": "code",
   "execution_count": null,
   "metadata": {},
   "outputs": [],
   "source": []
  }
 ],
 "metadata": {
  "kernelspec": {
   "display_name": "Python 3.8.10 64-bit",
   "language": "python",
   "name": "python3"
  },
  "language_info": {
   "codemirror_mode": {
    "name": "ipython",
    "version": 3
   },
   "file_extension": ".py",
   "mimetype": "text/x-python",
   "name": "python",
   "nbconvert_exporter": "python",
   "pygments_lexer": "ipython3",
   "version": "3.8.10"
  },
  "orig_nbformat": 4,
  "vscode": {
   "interpreter": {
    "hash": "916dbcbb3f70747c44a77c7bcd40155683ae19c65e1c03b4aa3499c5328201f1"
   }
  }
 },
 "nbformat": 4,
 "nbformat_minor": 2
}
