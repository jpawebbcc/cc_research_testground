{
 "cells": [
  {
   "cell_type": "markdown",
   "metadata": {},
   "source": [
    "## Messari standardised subgraphs\n",
    "\n",
    "https://github.com/messari/subgraphs\n",
    "\n",
    "### VVS Finance"
   ]
  },
  {
   "cell_type": "code",
   "execution_count": 1,
   "metadata": {},
   "outputs": [],
   "source": [
    "import pandas as pd\n",
    "import numpy as np\n",
    "import time\n",
    "import requests\n",
    "import datetime as dt"
   ]
  },
  {
   "cell_type": "code",
   "execution_count": 2,
   "metadata": {},
   "outputs": [],
   "source": [
    "endpoint = 'https://graph.cronoslabs.com/subgraphs/name/messari/vvs-finance'"
   ]
  },
  {
   "cell_type": "markdown",
   "metadata": {},
   "source": [
    "6-Month Average Daily Volume"
   ]
  },
  {
   "cell_type": "code",
   "execution_count": 3,
   "metadata": {},
   "outputs": [],
   "source": [
    "query = \"\"\"{\n",
    "  financialsDailySnapshots(first: 183, orderBy: timestamp, orderDirection: desc){\n",
    "    id\n",
    "    protocol{\n",
    "      name\n",
    "    }\n",
    "    dailyVolumeUSD\n",
    "    dailyTotalRevenueUSD\n",
    "    dailySupplySideRevenueUSD\n",
    "    dailyProtocolSideRevenueUSD\n",
    "    timestamp\n",
    "    blockNumber\n",
    "  }\n",
    "}\n",
    "\"\"\""
   ]
  },
  {
   "cell_type": "code",
   "execution_count": 4,
   "metadata": {},
   "outputs": [],
   "source": [
    "request = requests.post(endpoint, json={'query':query})\n",
    "data = request.json()"
   ]
  },
  {
   "cell_type": "code",
   "execution_count": 5,
   "metadata": {},
   "outputs": [],
   "source": [
    "df = pd.json_normalize(data['data']['financialsDailySnapshots'])"
   ]
  },
  {
   "cell_type": "code",
   "execution_count": 6,
   "metadata": {},
   "outputs": [
    {
     "data": {
      "text/plain": [
       "0.0"
      ]
     },
     "execution_count": 6,
     "metadata": {},
     "output_type": "execute_result"
    }
   ],
   "source": [
    "df['dailyVolumeUSD'].astype(float).mean()"
   ]
  },
  {
   "cell_type": "markdown",
   "metadata": {},
   "source": [
    "6-Month Average TVL"
   ]
  },
  {
   "cell_type": "code",
   "execution_count": 8,
   "metadata": {},
   "outputs": [],
   "source": [
    "#DefiLlama https://defillama.com/protocols/dexes \n",
    "lma = pd.read_csv(\"https://api.llama.fi/dataset/vvs-finance.csv\")"
   ]
  },
  {
   "cell_type": "code",
   "execution_count": 9,
   "metadata": {},
   "outputs": [
    {
     "data": {
      "text/html": [
       "<div>\n",
       "<style scoped>\n",
       "    .dataframe tbody tr th:only-of-type {\n",
       "        vertical-align: middle;\n",
       "    }\n",
       "\n",
       "    .dataframe tbody tr th {\n",
       "        vertical-align: top;\n",
       "    }\n",
       "\n",
       "    .dataframe thead th {\n",
       "        text-align: right;\n",
       "    }\n",
       "</style>\n",
       "<table border=\"1\" class=\"dataframe\">\n",
       "  <thead>\n",
       "    <tr style=\"text-align: right;\">\n",
       "      <th></th>\n",
       "      <th>Unnamed: 0</th>\n",
       "      <th>Date</th>\n",
       "      <th>Timestamp</th>\n",
       "      <th>VVS Finance</th>\n",
       "      <th>VVS Finance.1</th>\n",
       "      <th>VVS Finance.2</th>\n",
       "      <th>VVS Finance.3</th>\n",
       "      <th>VVS Finance.4</th>\n",
       "      <th>VVS Finance.5</th>\n",
       "    </tr>\n",
       "  </thead>\n",
       "  <tbody>\n",
       "    <tr>\n",
       "      <th>0</th>\n",
       "      <td>NaN</td>\n",
       "      <td>NaN</td>\n",
       "      <td>NaN</td>\n",
       "      <td>Dexes</td>\n",
       "      <td>Dexes</td>\n",
       "      <td>Dexes</td>\n",
       "      <td>Dexes</td>\n",
       "      <td>Dexes</td>\n",
       "      <td>Dexes</td>\n",
       "    </tr>\n",
       "    <tr>\n",
       "      <th>1</th>\n",
       "      <td>NaN</td>\n",
       "      <td>NaN</td>\n",
       "      <td>NaN</td>\n",
       "      <td>cronos</td>\n",
       "      <td>Total</td>\n",
       "      <td>cronos</td>\n",
       "      <td>Total</td>\n",
       "      <td>cronos</td>\n",
       "      <td>Total</td>\n",
       "    </tr>\n",
       "    <tr>\n",
       "      <th>2</th>\n",
       "      <td>NaN</td>\n",
       "      <td>NaN</td>\n",
       "      <td>NaN</td>\n",
       "      <td>TVL</td>\n",
       "      <td>TVL</td>\n",
       "      <td>Tokens(USD)</td>\n",
       "      <td>Tokens(USD)</td>\n",
       "      <td>Tokens</td>\n",
       "      <td>Tokens</td>\n",
       "    </tr>\n",
       "    <tr>\n",
       "      <th>3</th>\n",
       "      <td>NaN</td>\n",
       "      <td>NaN</td>\n",
       "      <td>NaN</td>\n",
       "      <td>NaN</td>\n",
       "      <td>NaN</td>\n",
       "      <td>crypto-com-chain</td>\n",
       "      <td>crypto-com-chain</td>\n",
       "      <td>crypto-com-chain</td>\n",
       "      <td>crypto-com-chain</td>\n",
       "    </tr>\n",
       "    <tr>\n",
       "      <th>4</th>\n",
       "      <td>NaN</td>\n",
       "      <td>12/11/2021</td>\n",
       "      <td>1.636675e+09</td>\n",
       "      <td>289233660.20245445</td>\n",
       "      <td>289233660.20245445</td>\n",
       "      <td>289233660.20245445</td>\n",
       "      <td>289233660.20245445</td>\n",
       "      <td>822925598.77786</td>\n",
       "      <td>822925598.77786</td>\n",
       "    </tr>\n",
       "    <tr>\n",
       "      <th>...</th>\n",
       "      <td>...</td>\n",
       "      <td>...</td>\n",
       "      <td>...</td>\n",
       "      <td>...</td>\n",
       "      <td>...</td>\n",
       "      <td>...</td>\n",
       "      <td>...</td>\n",
       "      <td>...</td>\n",
       "      <td>...</td>\n",
       "    </tr>\n",
       "    <tr>\n",
       "      <th>248</th>\n",
       "      <td>NaN</td>\n",
       "      <td>14/07/2022</td>\n",
       "      <td>1.657757e+09</td>\n",
       "      <td>681537987.8634158</td>\n",
       "      <td>681537987.8634158</td>\n",
       "      <td>681537987.8634158</td>\n",
       "      <td>681537987.8634158</td>\n",
       "      <td>5862036829.11516</td>\n",
       "      <td>5862036829.11516</td>\n",
       "    </tr>\n",
       "    <tr>\n",
       "      <th>249</th>\n",
       "      <td>NaN</td>\n",
       "      <td>15/07/2022</td>\n",
       "      <td>1.657843e+09</td>\n",
       "      <td>685086520.6003187</td>\n",
       "      <td>685086520.6003187</td>\n",
       "      <td>685086520.6003187</td>\n",
       "      <td>685086520.6003187</td>\n",
       "      <td>5822644426.693399</td>\n",
       "      <td>5822644426.693399</td>\n",
       "    </tr>\n",
       "    <tr>\n",
       "      <th>250</th>\n",
       "      <td>NaN</td>\n",
       "      <td>16/07/2022</td>\n",
       "      <td>1.657930e+09</td>\n",
       "      <td>691277554.5109184</td>\n",
       "      <td>691277554.5109184</td>\n",
       "      <td>691277554.5109184</td>\n",
       "      <td>691277554.5109184</td>\n",
       "      <td>5806956767.814306</td>\n",
       "      <td>5806956767.814306</td>\n",
       "    </tr>\n",
       "    <tr>\n",
       "      <th>251</th>\n",
       "      <td>NaN</td>\n",
       "      <td>17/07/2022</td>\n",
       "      <td>1.658016e+09</td>\n",
       "      <td>703675140.0035027</td>\n",
       "      <td>703675140.0035027</td>\n",
       "      <td>703675140.0035027</td>\n",
       "      <td>703675140.0035027</td>\n",
       "      <td>5694408487.319259</td>\n",
       "      <td>5694408487.319259</td>\n",
       "    </tr>\n",
       "    <tr>\n",
       "      <th>252</th>\n",
       "      <td>NaN</td>\n",
       "      <td>18/07/2022</td>\n",
       "      <td>1.658102e+09</td>\n",
       "      <td>697202060.5116348</td>\n",
       "      <td>697202060.5116348</td>\n",
       "      <td>697202060.5116348</td>\n",
       "      <td>697202060.5116348</td>\n",
       "      <td>5760905451.952395</td>\n",
       "      <td>5760905451.952395</td>\n",
       "    </tr>\n",
       "  </tbody>\n",
       "</table>\n",
       "<p>253 rows × 9 columns</p>\n",
       "</div>"
      ],
      "text/plain": [
       "     Unnamed: 0        Date     Timestamp         VVS Finance  \\\n",
       "0           NaN         NaN           NaN               Dexes   \n",
       "1           NaN         NaN           NaN              cronos   \n",
       "2           NaN         NaN           NaN                 TVL   \n",
       "3           NaN         NaN           NaN                 NaN   \n",
       "4           NaN  12/11/2021  1.636675e+09  289233660.20245445   \n",
       "..          ...         ...           ...                 ...   \n",
       "248         NaN  14/07/2022  1.657757e+09   681537987.8634158   \n",
       "249         NaN  15/07/2022  1.657843e+09   685086520.6003187   \n",
       "250         NaN  16/07/2022  1.657930e+09   691277554.5109184   \n",
       "251         NaN  17/07/2022  1.658016e+09   703675140.0035027   \n",
       "252         NaN  18/07/2022  1.658102e+09   697202060.5116348   \n",
       "\n",
       "          VVS Finance.1       VVS Finance.2       VVS Finance.3  \\\n",
       "0                 Dexes               Dexes               Dexes   \n",
       "1                 Total              cronos               Total   \n",
       "2                   TVL         Tokens(USD)         Tokens(USD)   \n",
       "3                   NaN    crypto-com-chain    crypto-com-chain   \n",
       "4    289233660.20245445  289233660.20245445  289233660.20245445   \n",
       "..                  ...                 ...                 ...   \n",
       "248   681537987.8634158   681537987.8634158   681537987.8634158   \n",
       "249   685086520.6003187   685086520.6003187   685086520.6003187   \n",
       "250   691277554.5109184   691277554.5109184   691277554.5109184   \n",
       "251   703675140.0035027   703675140.0035027   703675140.0035027   \n",
       "252   697202060.5116348   697202060.5116348   697202060.5116348   \n",
       "\n",
       "         VVS Finance.4      VVS Finance.5  \n",
       "0                Dexes              Dexes  \n",
       "1               cronos              Total  \n",
       "2               Tokens             Tokens  \n",
       "3     crypto-com-chain   crypto-com-chain  \n",
       "4      822925598.77786    822925598.77786  \n",
       "..                 ...                ...  \n",
       "248   5862036829.11516   5862036829.11516  \n",
       "249  5822644426.693399  5822644426.693399  \n",
       "250  5806956767.814306  5806956767.814306  \n",
       "251  5694408487.319259  5694408487.319259  \n",
       "252  5760905451.952395  5760905451.952395  \n",
       "\n",
       "[253 rows x 9 columns]"
      ]
     },
     "execution_count": 9,
     "metadata": {},
     "output_type": "execute_result"
    }
   ],
   "source": [
    "lma"
   ]
  },
  {
   "cell_type": "code",
   "execution_count": 10,
   "metadata": {},
   "outputs": [
    {
     "data": {
      "text/plain": [
       "0                   Dexes\n",
       "1                  cronos\n",
       "2                     TVL\n",
       "3                     NaN\n",
       "4      289233660.20245445\n",
       "              ...        \n",
       "248     681537987.8634158\n",
       "249     685086520.6003187\n",
       "250     691277554.5109184\n",
       "251     703675140.0035027\n",
       "252     697202060.5116348\n",
       "Name: VVS Finance, Length: 253, dtype: object"
      ]
     },
     "execution_count": 10,
     "metadata": {},
     "output_type": "execute_result"
    }
   ],
   "source": [
    "lma.iloc[:,3]"
   ]
  },
  {
   "cell_type": "code",
   "execution_count": 11,
   "metadata": {},
   "outputs": [
    {
     "data": {
      "text/plain": [
       "1069543925.2167237"
      ]
     },
     "execution_count": 11,
     "metadata": {},
     "output_type": "execute_result"
    }
   ],
   "source": [
    "#Just eth currently can take total by changing the header\n",
    "lma.iloc[-183:, 3].astype(float).mean()"
   ]
  },
  {
   "cell_type": "code",
   "execution_count": null,
   "metadata": {},
   "outputs": [],
   "source": []
  },
  {
   "cell_type": "markdown",
   "metadata": {},
   "source": [
    "Largest Pool Concentration"
   ]
  },
  {
   "cell_type": "code",
   "execution_count": 12,
   "metadata": {},
   "outputs": [
    {
     "name": "stderr",
     "output_type": "stream",
     "text": [
      "/tmp/ipykernel_19009/2291472997.py:22: FutureWarning: The frame.append method is deprecated and will be removed from pandas in a future version. Use pandas.concat instead.\n",
      "  df = df.append(pool)\n"
     ]
    }
   ],
   "source": [
    "df = pd.DataFrame()\n",
    "ts = 0\n",
    "\n",
    "while True:\n",
    "    sl = len(df)\n",
    "    query = \"\"\"\n",
    "{\n",
    "  liquidityPools(first:1000, orderBy: createdTimestamp, orderDirection: asc, where: {createdTimestamp_gt: \"\"\"+f'\"{ts}\"'+\"\"\"}){\n",
    "    id\n",
    "    name\n",
    "    totalValueLockedUSD\n",
    "    cumulativeVolumeUSD\n",
    "    createdTimestamp\n",
    "    createdBlockNumber\n",
    "  }\n",
    "}\n",
    "\"\"\"\n",
    "    request = requests.post(endpoint, json={'query':query})\n",
    "    data = request.json()\n",
    "\n",
    "    pool = pd.json_normalize(data['data']['liquidityPools'])\n",
    "    df = df.append(pool)\n",
    "    df.drop_duplicates(inplace=True)\n",
    "    if len(df) == sl:\n",
    "      break\n",
    "    ts = df['createdTimestamp'].max()\n"
   ]
  },
  {
   "cell_type": "code",
   "execution_count": 13,
   "metadata": {},
   "outputs": [
    {
     "data": {
      "text/html": [
       "<div>\n",
       "<style scoped>\n",
       "    .dataframe tbody tr th:only-of-type {\n",
       "        vertical-align: middle;\n",
       "    }\n",
       "\n",
       "    .dataframe tbody tr th {\n",
       "        vertical-align: top;\n",
       "    }\n",
       "\n",
       "    .dataframe thead th {\n",
       "        text-align: right;\n",
       "    }\n",
       "</style>\n",
       "<table border=\"1\" class=\"dataframe\">\n",
       "  <thead>\n",
       "    <tr style=\"text-align: right;\">\n",
       "      <th></th>\n",
       "      <th>id</th>\n",
       "      <th>name</th>\n",
       "      <th>totalValueLockedUSD</th>\n",
       "      <th>cumulativeVolumeUSD</th>\n",
       "      <th>createdTimestamp</th>\n",
       "      <th>createdBlockNumber</th>\n",
       "    </tr>\n",
       "  </thead>\n",
       "  <tbody>\n",
       "    <tr>\n",
       "      <th>0</th>\n",
       "      <td>0xe61db569e231b3f5530168aa2c9d50246525b6d6</td>\n",
       "      <td>Trader Joe Wrapped CRO/USD Coin</td>\n",
       "      <td>0</td>\n",
       "      <td>0</td>\n",
       "      <td>1636431821</td>\n",
       "      <td>17798</td>\n",
       "    </tr>\n",
       "    <tr>\n",
       "      <th>1</th>\n",
       "      <td>0xa111c17f8b8303280d3eb01bbcd61000aa7f39f9</td>\n",
       "      <td>Trader Joe Wrapped CRO/Wrapped Ether</td>\n",
       "      <td>0</td>\n",
       "      <td>0</td>\n",
       "      <td>1636431947</td>\n",
       "      <td>17821</td>\n",
       "    </tr>\n",
       "    <tr>\n",
       "      <th>2</th>\n",
       "      <td>0xbf62c67ea509e86f07c8c69d0286c0636c50270b</td>\n",
       "      <td>Trader Joe VVSToken/Wrapped CRO</td>\n",
       "      <td>0</td>\n",
       "      <td>0</td>\n",
       "      <td>1636431959</td>\n",
       "      <td>17823</td>\n",
       "    </tr>\n",
       "    <tr>\n",
       "      <th>3</th>\n",
       "      <td>0x8f09fff247b8fdb80461e5cf5e82dd1ae2ebd6d7</td>\n",
       "      <td>Trader Joe Wrapped BTC/Wrapped CRO</td>\n",
       "      <td>0</td>\n",
       "      <td>0</td>\n",
       "      <td>1636431969</td>\n",
       "      <td>17825</td>\n",
       "    </tr>\n",
       "    <tr>\n",
       "      <th>4</th>\n",
       "      <td>0xfd0cd0c651569d1e2e3c768ac0ffdab3c8f4844f</td>\n",
       "      <td>Trader Joe USD Coin/Wrapped Ether</td>\n",
       "      <td>0</td>\n",
       "      <td>0</td>\n",
       "      <td>1636431975</td>\n",
       "      <td>17826</td>\n",
       "    </tr>\n",
       "    <tr>\n",
       "      <th>...</th>\n",
       "      <td>...</td>\n",
       "      <td>...</td>\n",
       "      <td>...</td>\n",
       "      <td>...</td>\n",
       "      <td>...</td>\n",
       "      <td>...</td>\n",
       "    </tr>\n",
       "    <tr>\n",
       "      <th>716</th>\n",
       "      <td>0x4e7bca7171328762af4114c10dab0c1e7ca7e1d1</td>\n",
       "      <td>Trader Joe FerroToken/SOL</td>\n",
       "      <td>0</td>\n",
       "      <td>0</td>\n",
       "      <td>1657765684</td>\n",
       "      <td>3678936</td>\n",
       "    </tr>\n",
       "    <tr>\n",
       "      <th>717</th>\n",
       "      <td>0x3905b7cf83265d2a17af2ccd24386f02897608a3</td>\n",
       "      <td>Trader Joe WOO Network/Fantom Token</td>\n",
       "      <td>0</td>\n",
       "      <td>0</td>\n",
       "      <td>1657774500</td>\n",
       "      <td>3680488</td>\n",
       "    </tr>\n",
       "    <tr>\n",
       "      <th>718</th>\n",
       "      <td>0xb25b4c60b4ff9fc81d6f8f03e7a626e99b0c9114</td>\n",
       "      <td>Trader Joe VSHARE/Wrapped Ether</td>\n",
       "      <td>0</td>\n",
       "      <td>0</td>\n",
       "      <td>1657839377</td>\n",
       "      <td>3691872</td>\n",
       "    </tr>\n",
       "    <tr>\n",
       "      <th>719</th>\n",
       "      <td>0x4cb526465c9477773a02baeaac1c2f9de60549ce</td>\n",
       "      <td>Trader Joe VersaGames/Argo Protocol</td>\n",
       "      <td>0</td>\n",
       "      <td>0</td>\n",
       "      <td>1657912801</td>\n",
       "      <td>3704769</td>\n",
       "    </tr>\n",
       "    <tr>\n",
       "      <th>720</th>\n",
       "      <td>0x5a118015a0b7e2efd7dcb2c770aa1c791bfeb745</td>\n",
       "      <td>Trader Joe VersaGames/FerroToken</td>\n",
       "      <td>0</td>\n",
       "      <td>0</td>\n",
       "      <td>1658019010</td>\n",
       "      <td>3723395</td>\n",
       "    </tr>\n",
       "  </tbody>\n",
       "</table>\n",
       "<p>721 rows × 6 columns</p>\n",
       "</div>"
      ],
      "text/plain": [
       "                                             id  \\\n",
       "0    0xe61db569e231b3f5530168aa2c9d50246525b6d6   \n",
       "1    0xa111c17f8b8303280d3eb01bbcd61000aa7f39f9   \n",
       "2    0xbf62c67ea509e86f07c8c69d0286c0636c50270b   \n",
       "3    0x8f09fff247b8fdb80461e5cf5e82dd1ae2ebd6d7   \n",
       "4    0xfd0cd0c651569d1e2e3c768ac0ffdab3c8f4844f   \n",
       "..                                          ...   \n",
       "716  0x4e7bca7171328762af4114c10dab0c1e7ca7e1d1   \n",
       "717  0x3905b7cf83265d2a17af2ccd24386f02897608a3   \n",
       "718  0xb25b4c60b4ff9fc81d6f8f03e7a626e99b0c9114   \n",
       "719  0x4cb526465c9477773a02baeaac1c2f9de60549ce   \n",
       "720  0x5a118015a0b7e2efd7dcb2c770aa1c791bfeb745   \n",
       "\n",
       "                                     name totalValueLockedUSD  \\\n",
       "0         Trader Joe Wrapped CRO/USD Coin                   0   \n",
       "1    Trader Joe Wrapped CRO/Wrapped Ether                   0   \n",
       "2         Trader Joe VVSToken/Wrapped CRO                   0   \n",
       "3      Trader Joe Wrapped BTC/Wrapped CRO                   0   \n",
       "4       Trader Joe USD Coin/Wrapped Ether                   0   \n",
       "..                                    ...                 ...   \n",
       "716             Trader Joe FerroToken/SOL                   0   \n",
       "717   Trader Joe WOO Network/Fantom Token                   0   \n",
       "718       Trader Joe VSHARE/Wrapped Ether                   0   \n",
       "719   Trader Joe VersaGames/Argo Protocol                   0   \n",
       "720      Trader Joe VersaGames/FerroToken                   0   \n",
       "\n",
       "    cumulativeVolumeUSD createdTimestamp createdBlockNumber  \n",
       "0                     0       1636431821              17798  \n",
       "1                     0       1636431947              17821  \n",
       "2                     0       1636431959              17823  \n",
       "3                     0       1636431969              17825  \n",
       "4                     0       1636431975              17826  \n",
       "..                  ...              ...                ...  \n",
       "716                   0       1657765684            3678936  \n",
       "717                   0       1657774500            3680488  \n",
       "718                   0       1657839377            3691872  \n",
       "719                   0       1657912801            3704769  \n",
       "720                   0       1658019010            3723395  \n",
       "\n",
       "[721 rows x 6 columns]"
      ]
     },
     "execution_count": 13,
     "metadata": {},
     "output_type": "execute_result"
    }
   ],
   "source": [
    "df"
   ]
  },
  {
   "cell_type": "code",
   "execution_count": 15,
   "metadata": {},
   "outputs": [
    {
     "data": {
      "text/plain": [
       "0.30731839237318975"
      ]
     },
     "execution_count": 15,
     "metadata": {},
     "output_type": "execute_result"
    }
   ],
   "source": [
    "df['totalValueLockedUSD'].astype(float).max()/df['totalValueLockedUSD'].astype(float).sum()"
   ]
  },
  {
   "cell_type": "code",
   "execution_count": 16,
   "metadata": {},
   "outputs": [
    {
     "data": {
      "text/plain": [
       "0.9304788700097002"
      ]
     },
     "execution_count": 16,
     "metadata": {},
     "output_type": "execute_result"
    }
   ],
   "source": [
    "df['totalValueLockedUSD'].astype(float).nlargest(10).sum()/df['totalValueLockedUSD'].astype(float).sum()"
   ]
  },
  {
   "cell_type": "markdown",
   "metadata": {},
   "source": [
    "Liquidity Pools with > $1mn TVL"
   ]
  },
  {
   "cell_type": "code",
   "execution_count": 17,
   "metadata": {},
   "outputs": [
    {
     "data": {
      "text/plain": [
       "5"
      ]
     },
     "execution_count": 17,
     "metadata": {},
     "output_type": "execute_result"
    }
   ],
   "source": [
    "len(df.loc[df['totalValueLockedUSD'].astype(float) > 1000000])"
   ]
  },
  {
   "cell_type": "code",
   "execution_count": null,
   "metadata": {},
   "outputs": [],
   "source": []
  },
  {
   "cell_type": "markdown",
   "metadata": {},
   "source": [
    "Monthly Active Users"
   ]
  },
  {
   "cell_type": "code",
   "execution_count": 14,
   "metadata": {},
   "outputs": [],
   "source": [
    "query = \"\"\"{\n",
    "  usageMetricsDailySnapshots(first: 183, orderBy: timestamp, orderDirection: desc){\n",
    "    timestamp\n",
    "    blockNumber\n",
    "    id\n",
    "    dailyActiveUsers\n",
    "    dailySwapCount\n",
    "    dailyDepositCount\n",
    "    dailyWithdrawCount \n",
    "  }\n",
    "}\n",
    "\"\"\""
   ]
  },
  {
   "cell_type": "code",
   "execution_count": 15,
   "metadata": {},
   "outputs": [],
   "source": [
    "request = requests.post(endpoint, json={'query':query})\n",
    "data = request.json()"
   ]
  },
  {
   "cell_type": "code",
   "execution_count": 16,
   "metadata": {},
   "outputs": [],
   "source": [
    "df = pd.json_normalize(data['data']['usageMetricsDailySnapshots'])"
   ]
  },
  {
   "cell_type": "code",
   "execution_count": 17,
   "metadata": {},
   "outputs": [],
   "source": [
    "df['date'] = df['timestamp'].astype(int).apply(lambda x: dt.datetime.fromtimestamp(x))"
   ]
  },
  {
   "cell_type": "code",
   "execution_count": 18,
   "metadata": {},
   "outputs": [],
   "source": [
    "monthactiveusers = []\n",
    "for i in range(len(df['date'].dt.month.unique())):\n",
    "    monthactiveusers.append(df['dailyActiveUsers'].loc[df['date'].dt.month == df['date'].dt.month.unique()[i]].astype(float).sum())"
   ]
  },
  {
   "cell_type": "code",
   "execution_count": 19,
   "metadata": {},
   "outputs": [
    {
     "data": {
      "text/plain": [
       "123099.28571428571"
      ]
     },
     "execution_count": 19,
     "metadata": {},
     "output_type": "execute_result"
    }
   ],
   "source": [
    "np.mean(monthactiveusers) #can chart this easy"
   ]
  },
  {
   "cell_type": "code",
   "execution_count": null,
   "metadata": {},
   "outputs": [],
   "source": []
  },
  {
   "cell_type": "markdown",
   "metadata": {},
   "source": [
    "Implied slippage"
   ]
  },
  {
   "cell_type": "code",
   "execution_count": null,
   "metadata": {},
   "outputs": [],
   "source": []
  },
  {
   "cell_type": "code",
   "execution_count": null,
   "metadata": {},
   "outputs": [],
   "source": []
  },
  {
   "cell_type": "code",
   "execution_count": null,
   "metadata": {},
   "outputs": [],
   "source": []
  }
 ],
 "metadata": {
  "kernelspec": {
   "display_name": "Python 3.8.10 64-bit",
   "language": "python",
   "name": "python3"
  },
  "language_info": {
   "codemirror_mode": {
    "name": "ipython",
    "version": 3
   },
   "file_extension": ".py",
   "mimetype": "text/x-python",
   "name": "python",
   "nbconvert_exporter": "python",
   "pygments_lexer": "ipython3",
   "version": "3.8.10"
  },
  "orig_nbformat": 4,
  "vscode": {
   "interpreter": {
    "hash": "916dbcbb3f70747c44a77c7bcd40155683ae19c65e1c03b4aa3499c5328201f1"
   }
  }
 },
 "nbformat": 4,
 "nbformat_minor": 2
}
