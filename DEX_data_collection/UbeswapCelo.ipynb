{
 "cells": [
  {
   "cell_type": "markdown",
   "metadata": {},
   "source": [
    "## Messari standardised subgraphs\n",
    "\n",
    "https://github.com/messari/subgraphs\n",
    "\n",
    "### Ubeswap Celo\n",
    "\n",
    "12/09/22"
   ]
  },
  {
   "cell_type": "code",
   "execution_count": 3,
   "metadata": {},
   "outputs": [],
   "source": [
    "import pandas as pd\n",
    "import numpy as np\n",
    "import time\n",
    "import requests\n",
    "import datetime as dt"
   ]
  },
  {
   "cell_type": "code",
   "execution_count": 4,
   "metadata": {},
   "outputs": [],
   "source": [
    "endpoint = 'https://api.thegraph.com/subgraphs/name/messari/ubeswap-celo'"
   ]
  },
  {
   "cell_type": "code",
   "execution_count": 5,
   "metadata": {},
   "outputs": [
    {
     "name": "stdout",
     "output_type": "stream",
     "text": [
      "2022-09-12 17:25:49\n"
     ]
    },
    {
     "data": {
      "text/plain": [
       "True"
      ]
     },
     "execution_count": 5,
     "metadata": {},
     "output_type": "execute_result"
    }
   ],
   "source": [
    "#Check if subgraph is up to date\n",
    "query = \"\"\"{\n",
    "  _meta{\n",
    "    block{\n",
    "      timestamp\n",
    "  \t\thash\n",
    "      number\n",
    "    }\n",
    "    hasIndexingErrors\n",
    "    deployment\n",
    "  }\n",
    "}\"\"\"\n",
    "request = requests.post(endpoint, json={'query':query})\n",
    "data = request.json()\n",
    "#Check if it is ok to run i.e. within 5 days of today\n",
    "print(dt.datetime.fromtimestamp(int(data['data']['_meta']['block']['timestamp'], base = 0)))\n",
    "int(data['data']['_meta']['block']['timestamp'], base = 0) > (dt.datetime.today().timestamp() - 3600*24*5)"
   ]
  },
  {
   "cell_type": "markdown",
   "metadata": {},
   "source": [
    "6-Month Average Daily Volume"
   ]
  },
  {
   "cell_type": "code",
   "execution_count": 6,
   "metadata": {},
   "outputs": [],
   "source": [
    "query = \"\"\"{\n",
    "  financialsDailySnapshots(first: 183, orderBy: timestamp, orderDirection: desc){\n",
    "    id\n",
    "    protocol{\n",
    "      name\n",
    "    }\n",
    "    dailyVolumeUSD\n",
    "    dailyTotalRevenueUSD\n",
    "    dailySupplySideRevenueUSD\n",
    "    dailyProtocolSideRevenueUSD\n",
    "    timestamp\n",
    "    blockNumber\n",
    "  }\n",
    "}\n",
    "\"\"\""
   ]
  },
  {
   "cell_type": "code",
   "execution_count": 7,
   "metadata": {},
   "outputs": [],
   "source": [
    "request = requests.post(endpoint, json={'query':query})\n",
    "if request.ok:\n",
    "    data = request.json()\n",
    "else:\n",
    "    print('Retry!')"
   ]
  },
  {
   "cell_type": "code",
   "execution_count": 8,
   "metadata": {},
   "outputs": [],
   "source": [
    "df = pd.json_normalize(data['data']['financialsDailySnapshots'])"
   ]
  },
  {
   "cell_type": "code",
   "execution_count": 9,
   "metadata": {},
   "outputs": [
    {
     "data": {
      "text/plain": [
       "892077.1628380137"
      ]
     },
     "execution_count": 9,
     "metadata": {},
     "output_type": "execute_result"
    }
   ],
   "source": [
    "df['dailyVolumeUSD'].astype(float).mean()"
   ]
  },
  {
   "cell_type": "markdown",
   "metadata": {},
   "source": [
    "6-Month Average TVL"
   ]
  },
  {
   "cell_type": "code",
   "execution_count": 10,
   "metadata": {},
   "outputs": [],
   "source": [
    "#DefiLlama https://defillama.com/protocols/dexes \n",
    "lma = pd.read_csv(\"https://api.llama.fi/dataset/ubeswap.csv\")"
   ]
  },
  {
   "cell_type": "code",
   "execution_count": 11,
   "metadata": {},
   "outputs": [
    {
     "data": {
      "text/html": [
       "<div>\n",
       "<style scoped>\n",
       "    .dataframe tbody tr th:only-of-type {\n",
       "        vertical-align: middle;\n",
       "    }\n",
       "\n",
       "    .dataframe tbody tr th {\n",
       "        vertical-align: top;\n",
       "    }\n",
       "\n",
       "    .dataframe thead th {\n",
       "        text-align: right;\n",
       "    }\n",
       "</style>\n",
       "<table border=\"1\" class=\"dataframe\">\n",
       "  <thead>\n",
       "    <tr style=\"text-align: right;\">\n",
       "      <th></th>\n",
       "      <th>Unnamed: 0</th>\n",
       "      <th>Date</th>\n",
       "      <th>Timestamp</th>\n",
       "      <th>Ubeswap</th>\n",
       "      <th>Ubeswap.1</th>\n",
       "      <th>Ubeswap.2</th>\n",
       "      <th>Ubeswap.3</th>\n",
       "      <th>Ubeswap.4</th>\n",
       "      <th>Ubeswap.5</th>\n",
       "      <th>Ubeswap.6</th>\n",
       "      <th>...</th>\n",
       "      <th>Ubeswap.84</th>\n",
       "      <th>Ubeswap.85</th>\n",
       "      <th>Ubeswap.86</th>\n",
       "      <th>Ubeswap.87</th>\n",
       "      <th>Ubeswap.88</th>\n",
       "      <th>Ubeswap.89</th>\n",
       "      <th>Ubeswap.90</th>\n",
       "      <th>Ubeswap.91</th>\n",
       "      <th>Ubeswap.92</th>\n",
       "      <th>Ubeswap.93</th>\n",
       "    </tr>\n",
       "  </thead>\n",
       "  <tbody>\n",
       "    <tr>\n",
       "      <th>0</th>\n",
       "      <td>NaN</td>\n",
       "      <td>NaN</td>\n",
       "      <td>NaN</td>\n",
       "      <td>Dexes</td>\n",
       "      <td>Dexes</td>\n",
       "      <td>Dexes</td>\n",
       "      <td>Dexes</td>\n",
       "      <td>Dexes</td>\n",
       "      <td>Dexes</td>\n",
       "      <td>Dexes</td>\n",
       "      <td>...</td>\n",
       "      <td>Dexes</td>\n",
       "      <td>Dexes</td>\n",
       "      <td>Dexes</td>\n",
       "      <td>Dexes</td>\n",
       "      <td>Dexes</td>\n",
       "      <td>Dexes</td>\n",
       "      <td>Dexes</td>\n",
       "      <td>Dexes</td>\n",
       "      <td>Dexes</td>\n",
       "      <td>Dexes</td>\n",
       "    </tr>\n",
       "    <tr>\n",
       "      <th>1</th>\n",
       "      <td>NaN</td>\n",
       "      <td>NaN</td>\n",
       "      <td>NaN</td>\n",
       "      <td>celo</td>\n",
       "      <td>Total</td>\n",
       "      <td>celo</td>\n",
       "      <td>celo</td>\n",
       "      <td>celo</td>\n",
       "      <td>celo</td>\n",
       "      <td>celo</td>\n",
       "      <td>...</td>\n",
       "      <td>Total</td>\n",
       "      <td>Total</td>\n",
       "      <td>Total</td>\n",
       "      <td>Total</td>\n",
       "      <td>Total</td>\n",
       "      <td>Total</td>\n",
       "      <td>Total</td>\n",
       "      <td>Total</td>\n",
       "      <td>Total</td>\n",
       "      <td>Total</td>\n",
       "    </tr>\n",
       "    <tr>\n",
       "      <th>2</th>\n",
       "      <td>NaN</td>\n",
       "      <td>NaN</td>\n",
       "      <td>NaN</td>\n",
       "      <td>TVL</td>\n",
       "      <td>TVL</td>\n",
       "      <td>Tokens(USD)</td>\n",
       "      <td>Tokens(USD)</td>\n",
       "      <td>Tokens(USD)</td>\n",
       "      <td>Tokens(USD)</td>\n",
       "      <td>Tokens(USD)</td>\n",
       "      <td>...</td>\n",
       "      <td>Tokens</td>\n",
       "      <td>Tokens</td>\n",
       "      <td>Tokens</td>\n",
       "      <td>Tokens</td>\n",
       "      <td>Tokens</td>\n",
       "      <td>Tokens</td>\n",
       "      <td>Tokens</td>\n",
       "      <td>Tokens</td>\n",
       "      <td>Tokens</td>\n",
       "      <td>Tokens</td>\n",
       "    </tr>\n",
       "    <tr>\n",
       "      <th>3</th>\n",
       "      <td>NaN</td>\n",
       "      <td>NaN</td>\n",
       "      <td>NaN</td>\n",
       "      <td>NaN</td>\n",
       "      <td>NaN</td>\n",
       "      <td>USDT</td>\n",
       "      <td>celo</td>\n",
       "      <td>CEUR</td>\n",
       "      <td>mceur</td>\n",
       "      <td>tether</td>\n",
       "      <td>...</td>\n",
       "      <td>ethereum</td>\n",
       "      <td>POOF</td>\n",
       "      <td>PREMIO</td>\n",
       "      <td>moola-celo-dollars</td>\n",
       "      <td>CELO</td>\n",
       "      <td>usd-coin</td>\n",
       "      <td>CUSD</td>\n",
       "      <td>mcelo</td>\n",
       "      <td>UBE</td>\n",
       "      <td>CREAL</td>\n",
       "    </tr>\n",
       "    <tr>\n",
       "      <th>4</th>\n",
       "      <td>NaN</td>\n",
       "      <td>22/02/2021</td>\n",
       "      <td>1.613952e+09</td>\n",
       "      <td>0.01001024525322803</td>\n",
       "      <td>0.01001024525322803</td>\n",
       "      <td>0.01001024525322803</td>\n",
       "      <td>NaN</td>\n",
       "      <td>NaN</td>\n",
       "      <td>NaN</td>\n",
       "      <td>NaN</td>\n",
       "      <td>...</td>\n",
       "      <td>NaN</td>\n",
       "      <td>NaN</td>\n",
       "      <td>NaN</td>\n",
       "      <td>NaN</td>\n",
       "      <td>NaN</td>\n",
       "      <td>NaN</td>\n",
       "      <td>NaN</td>\n",
       "      <td>NaN</td>\n",
       "      <td>NaN</td>\n",
       "      <td>NaN</td>\n",
       "    </tr>\n",
       "    <tr>\n",
       "      <th>...</th>\n",
       "      <td>...</td>\n",
       "      <td>...</td>\n",
       "      <td>...</td>\n",
       "      <td>...</td>\n",
       "      <td>...</td>\n",
       "      <td>...</td>\n",
       "      <td>...</td>\n",
       "      <td>...</td>\n",
       "      <td>...</td>\n",
       "      <td>...</td>\n",
       "      <td>...</td>\n",
       "      <td>...</td>\n",
       "      <td>...</td>\n",
       "      <td>...</td>\n",
       "      <td>...</td>\n",
       "      <td>...</td>\n",
       "      <td>...</td>\n",
       "      <td>...</td>\n",
       "      <td>...</td>\n",
       "      <td>...</td>\n",
       "      <td>...</td>\n",
       "    </tr>\n",
       "    <tr>\n",
       "      <th>562</th>\n",
       "      <td>NaN</td>\n",
       "      <td>08/09/2022</td>\n",
       "      <td>1.662595e+09</td>\n",
       "      <td>5464587.848124873</td>\n",
       "      <td>5464587.848124873</td>\n",
       "      <td>NaN</td>\n",
       "      <td>NaN</td>\n",
       "      <td>483.306069543005</td>\n",
       "      <td>1968257.8516175062</td>\n",
       "      <td>15.029263224485463</td>\n",
       "      <td>...</td>\n",
       "      <td>121.2997290301077</td>\n",
       "      <td>9267927.345678993</td>\n",
       "      <td>9440717.502169391</td>\n",
       "      <td>732554.8567348571</td>\n",
       "      <td>2613048.782920584</td>\n",
       "      <td>18.140877503508676</td>\n",
       "      <td>145388.43476376968</td>\n",
       "      <td>216434.13720917652</td>\n",
       "      <td>408831.570284287</td>\n",
       "      <td>NaN</td>\n",
       "    </tr>\n",
       "    <tr>\n",
       "      <th>563</th>\n",
       "      <td>NaN</td>\n",
       "      <td>09/09/2022</td>\n",
       "      <td>1.662682e+09</td>\n",
       "      <td>5607661.953285333</td>\n",
       "      <td>5607661.953285333</td>\n",
       "      <td>NaN</td>\n",
       "      <td>NaN</td>\n",
       "      <td>507.40111589390256</td>\n",
       "      <td>2002509.0058166739</td>\n",
       "      <td>15.044292487709948</td>\n",
       "      <td>...</td>\n",
       "      <td>120.92375513861553</td>\n",
       "      <td>9277519.165774042</td>\n",
       "      <td>8662342.53793398</td>\n",
       "      <td>733919.4387414741</td>\n",
       "      <td>2606203.630844389</td>\n",
       "      <td>18.140877503508676</td>\n",
       "      <td>147180.96119504058</td>\n",
       "      <td>215092.48003845187</td>\n",
       "      <td>423750.62642670196</td>\n",
       "      <td>16.404673607590063</td>\n",
       "    </tr>\n",
       "    <tr>\n",
       "      <th>564</th>\n",
       "      <td>NaN</td>\n",
       "      <td>10/09/2022</td>\n",
       "      <td>1.662768e+09</td>\n",
       "      <td>5773613.052006499</td>\n",
       "      <td>5773613.052006499</td>\n",
       "      <td>NaN</td>\n",
       "      <td>NaN</td>\n",
       "      <td>513.0804266775413</td>\n",
       "      <td>2049076.6027275568</td>\n",
       "      <td>15.044292487709948</td>\n",
       "      <td>...</td>\n",
       "      <td>118.02105604254925</td>\n",
       "      <td>9292591.494356267</td>\n",
       "      <td>8663085.793869982</td>\n",
       "      <td>735407.529570055</td>\n",
       "      <td>2569120.8021960394</td>\n",
       "      <td>18.140877503508676</td>\n",
       "      <td>150015.52102189665</td>\n",
       "      <td>212011.36410471474</td>\n",
       "      <td>422738.98945727444</td>\n",
       "      <td>16.19257525285381</td>\n",
       "    </tr>\n",
       "    <tr>\n",
       "      <th>565</th>\n",
       "      <td>NaN</td>\n",
       "      <td>11/09/2022</td>\n",
       "      <td>1.662854e+09</td>\n",
       "      <td>5750173.050259095</td>\n",
       "      <td>5750173.050259095</td>\n",
       "      <td>NaN</td>\n",
       "      <td>NaN</td>\n",
       "      <td>514.334663470112</td>\n",
       "      <td>2036385.2328312441</td>\n",
       "      <td>15.044292487709948</td>\n",
       "      <td>...</td>\n",
       "      <td>115.94262811044989</td>\n",
       "      <td>9292316.648520757</td>\n",
       "      <td>8663084.556851309</td>\n",
       "      <td>735763.710692097</td>\n",
       "      <td>2568641.73378544</td>\n",
       "      <td>18.140877503508676</td>\n",
       "      <td>150802.8316736963</td>\n",
       "      <td>212298.00214157347</td>\n",
       "      <td>422706.13126003166</td>\n",
       "      <td>16.296267763778708</td>\n",
       "    </tr>\n",
       "    <tr>\n",
       "      <th>566</th>\n",
       "      <td>NaN</td>\n",
       "      <td>12/09/2022</td>\n",
       "      <td>1.662941e+09</td>\n",
       "      <td>5675032.586929696</td>\n",
       "      <td>5675032.586929696</td>\n",
       "      <td>NaN</td>\n",
       "      <td>NaN</td>\n",
       "      <td>481.55326482968235</td>\n",
       "      <td>2025155.3472373514</td>\n",
       "      <td>15.044292487709948</td>\n",
       "      <td>...</td>\n",
       "      <td>116.74938108471999</td>\n",
       "      <td>9273998.88054425</td>\n",
       "      <td>8662236.679346891</td>\n",
       "      <td>733816.1208363571</td>\n",
       "      <td>2560577.952133455</td>\n",
       "      <td>18.140877503508676</td>\n",
       "      <td>151026.79153590466</td>\n",
       "      <td>212329.4845995492</td>\n",
       "      <td>424177.95673697407</td>\n",
       "      <td>16.5737801648371</td>\n",
       "    </tr>\n",
       "  </tbody>\n",
       "</table>\n",
       "<p>567 rows × 97 columns</p>\n",
       "</div>"
      ],
      "text/plain": [
       "     Unnamed: 0        Date     Timestamp              Ubeswap  \\\n",
       "0           NaN         NaN           NaN                Dexes   \n",
       "1           NaN         NaN           NaN                 celo   \n",
       "2           NaN         NaN           NaN                  TVL   \n",
       "3           NaN         NaN           NaN                  NaN   \n",
       "4           NaN  22/02/2021  1.613952e+09  0.01001024525322803   \n",
       "..          ...         ...           ...                  ...   \n",
       "562         NaN  08/09/2022  1.662595e+09    5464587.848124873   \n",
       "563         NaN  09/09/2022  1.662682e+09    5607661.953285333   \n",
       "564         NaN  10/09/2022  1.662768e+09    5773613.052006499   \n",
       "565         NaN  11/09/2022  1.662854e+09    5750173.050259095   \n",
       "566         NaN  12/09/2022  1.662941e+09    5675032.586929696   \n",
       "\n",
       "               Ubeswap.1            Ubeswap.2    Ubeswap.3  \\\n",
       "0                  Dexes                Dexes        Dexes   \n",
       "1                  Total                 celo         celo   \n",
       "2                    TVL          Tokens(USD)  Tokens(USD)   \n",
       "3                    NaN                 USDT         celo   \n",
       "4    0.01001024525322803  0.01001024525322803          NaN   \n",
       "..                   ...                  ...          ...   \n",
       "562    5464587.848124873                  NaN          NaN   \n",
       "563    5607661.953285333                  NaN          NaN   \n",
       "564    5773613.052006499                  NaN          NaN   \n",
       "565    5750173.050259095                  NaN          NaN   \n",
       "566    5675032.586929696                  NaN          NaN   \n",
       "\n",
       "              Ubeswap.4           Ubeswap.5           Ubeswap.6  ...  \\\n",
       "0                 Dexes               Dexes               Dexes  ...   \n",
       "1                  celo                celo                celo  ...   \n",
       "2           Tokens(USD)         Tokens(USD)         Tokens(USD)  ...   \n",
       "3                  CEUR               mceur              tether  ...   \n",
       "4                   NaN                 NaN                 NaN  ...   \n",
       "..                  ...                 ...                 ...  ...   \n",
       "562    483.306069543005  1968257.8516175062  15.029263224485463  ...   \n",
       "563  507.40111589390256  2002509.0058166739  15.044292487709948  ...   \n",
       "564   513.0804266775413  2049076.6027275568  15.044292487709948  ...   \n",
       "565    514.334663470112  2036385.2328312441  15.044292487709948  ...   \n",
       "566  481.55326482968235  2025155.3472373514  15.044292487709948  ...   \n",
       "\n",
       "             Ubeswap.84         Ubeswap.85         Ubeswap.86  \\\n",
       "0                 Dexes              Dexes              Dexes   \n",
       "1                 Total              Total              Total   \n",
       "2                Tokens             Tokens             Tokens   \n",
       "3              ethereum               POOF             PREMIO   \n",
       "4                   NaN                NaN                NaN   \n",
       "..                  ...                ...                ...   \n",
       "562   121.2997290301077  9267927.345678993  9440717.502169391   \n",
       "563  120.92375513861553  9277519.165774042   8662342.53793398   \n",
       "564  118.02105604254925  9292591.494356267  8663085.793869982   \n",
       "565  115.94262811044989  9292316.648520757  8663084.556851309   \n",
       "566  116.74938108471999   9273998.88054425  8662236.679346891   \n",
       "\n",
       "             Ubeswap.87          Ubeswap.88          Ubeswap.89  \\\n",
       "0                 Dexes               Dexes               Dexes   \n",
       "1                 Total               Total               Total   \n",
       "2                Tokens              Tokens              Tokens   \n",
       "3    moola-celo-dollars                CELO            usd-coin   \n",
       "4                   NaN                 NaN                 NaN   \n",
       "..                  ...                 ...                 ...   \n",
       "562   732554.8567348571   2613048.782920584  18.140877503508676   \n",
       "563   733919.4387414741   2606203.630844389  18.140877503508676   \n",
       "564    735407.529570055  2569120.8021960394  18.140877503508676   \n",
       "565    735763.710692097    2568641.73378544  18.140877503508676   \n",
       "566   733816.1208363571   2560577.952133455  18.140877503508676   \n",
       "\n",
       "             Ubeswap.90          Ubeswap.91          Ubeswap.92  \\\n",
       "0                 Dexes               Dexes               Dexes   \n",
       "1                 Total               Total               Total   \n",
       "2                Tokens              Tokens              Tokens   \n",
       "3                  CUSD               mcelo                 UBE   \n",
       "4                   NaN                 NaN                 NaN   \n",
       "..                  ...                 ...                 ...   \n",
       "562  145388.43476376968  216434.13720917652    408831.570284287   \n",
       "563  147180.96119504058  215092.48003845187  423750.62642670196   \n",
       "564  150015.52102189665  212011.36410471474  422738.98945727444   \n",
       "565   150802.8316736963  212298.00214157347  422706.13126003166   \n",
       "566  151026.79153590466   212329.4845995492  424177.95673697407   \n",
       "\n",
       "             Ubeswap.93  \n",
       "0                 Dexes  \n",
       "1                 Total  \n",
       "2                Tokens  \n",
       "3                 CREAL  \n",
       "4                   NaN  \n",
       "..                  ...  \n",
       "562                 NaN  \n",
       "563  16.404673607590063  \n",
       "564   16.19257525285381  \n",
       "565  16.296267763778708  \n",
       "566    16.5737801648371  \n",
       "\n",
       "[567 rows x 97 columns]"
      ]
     },
     "execution_count": 11,
     "metadata": {},
     "output_type": "execute_result"
    }
   ],
   "source": [
    "lma"
   ]
  },
  {
   "cell_type": "code",
   "execution_count": 12,
   "metadata": {},
   "outputs": [
    {
     "data": {
      "text/plain": [
       "0                    Dexes\n",
       "1                    Total\n",
       "2                      TVL\n",
       "3                      NaN\n",
       "4      0.01001024525322803\n",
       "              ...         \n",
       "562      5464587.848124873\n",
       "563      5607661.953285333\n",
       "564      5773613.052006499\n",
       "565      5750173.050259095\n",
       "566      5675032.586929696\n",
       "Name: Ubeswap.1, Length: 567, dtype: object"
      ]
     },
     "execution_count": 12,
     "metadata": {},
     "output_type": "execute_result"
    }
   ],
   "source": [
    "lma.iloc[:,4]"
   ]
  },
  {
   "cell_type": "code",
   "execution_count": 13,
   "metadata": {},
   "outputs": [
    {
     "data": {
      "text/plain": [
       "13252090.531421017"
      ]
     },
     "execution_count": 13,
     "metadata": {},
     "output_type": "execute_result"
    }
   ],
   "source": [
    "#Just eth currently can take total by changing the header\n",
    "lma.iloc[-183:, 4].astype(float).mean()"
   ]
  },
  {
   "cell_type": "code",
   "execution_count": null,
   "metadata": {},
   "outputs": [],
   "source": []
  },
  {
   "cell_type": "markdown",
   "metadata": {},
   "source": [
    "Largest Pool Concentration"
   ]
  },
  {
   "cell_type": "code",
   "execution_count": 14,
   "metadata": {},
   "outputs": [
    {
     "name": "stderr",
     "output_type": "stream",
     "text": [
      "/tmp/ipykernel_75326/2291472997.py:22: FutureWarning: The frame.append method is deprecated and will be removed from pandas in a future version. Use pandas.concat instead.\n",
      "  df = df.append(pool)\n"
     ]
    }
   ],
   "source": [
    "df = pd.DataFrame()\n",
    "ts = 0\n",
    "\n",
    "while True:\n",
    "    sl = len(df)\n",
    "    query = \"\"\"\n",
    "{\n",
    "  liquidityPools(first:1000, orderBy: createdTimestamp, orderDirection: asc, where: {createdTimestamp_gt: \"\"\"+f'\"{ts}\"'+\"\"\"}){\n",
    "    id\n",
    "    name\n",
    "    totalValueLockedUSD\n",
    "    cumulativeVolumeUSD\n",
    "    createdTimestamp\n",
    "    createdBlockNumber\n",
    "  }\n",
    "}\n",
    "\"\"\"\n",
    "    request = requests.post(endpoint, json={'query':query})\n",
    "    data = request.json()\n",
    "\n",
    "    pool = pd.json_normalize(data['data']['liquidityPools'])\n",
    "    df = df.append(pool)\n",
    "    df.drop_duplicates(inplace=True)\n",
    "    if len(df) == sl:\n",
    "      break\n",
    "    ts = df['createdTimestamp'].max()\n"
   ]
  },
  {
   "cell_type": "code",
   "execution_count": 15,
   "metadata": {},
   "outputs": [
    {
     "data": {
      "text/plain": [
       "0.23256924827913233"
      ]
     },
     "execution_count": 15,
     "metadata": {},
     "output_type": "execute_result"
    }
   ],
   "source": [
    "df['totalValueLockedUSD'].astype(float).max()/df['totalValueLockedUSD'].astype(float).sum()"
   ]
  },
  {
   "cell_type": "code",
   "execution_count": 16,
   "metadata": {},
   "outputs": [
    {
     "data": {
      "text/plain": [
       "0.7883377120486317"
      ]
     },
     "execution_count": 16,
     "metadata": {},
     "output_type": "execute_result"
    }
   ],
   "source": [
    "df['totalValueLockedUSD'].astype(float).nlargest(10).sum()/df['totalValueLockedUSD'].astype(float).sum()"
   ]
  },
  {
   "cell_type": "markdown",
   "metadata": {},
   "source": [
    "Liquidity Pools with > $1mn TVL"
   ]
  },
  {
   "cell_type": "code",
   "execution_count": 17,
   "metadata": {},
   "outputs": [
    {
     "data": {
      "text/plain": [
       "2"
      ]
     },
     "execution_count": 17,
     "metadata": {},
     "output_type": "execute_result"
    }
   ],
   "source": [
    "len(df.loc[df['totalValueLockedUSD'].astype(float) > 1000000])"
   ]
  },
  {
   "cell_type": "code",
   "execution_count": null,
   "metadata": {},
   "outputs": [],
   "source": []
  },
  {
   "cell_type": "markdown",
   "metadata": {},
   "source": [
    "Monthly Active Users"
   ]
  },
  {
   "cell_type": "code",
   "execution_count": 18,
   "metadata": {},
   "outputs": [],
   "source": [
    "query = \"\"\"{\n",
    "  usageMetricsDailySnapshots(first: 183, orderBy: timestamp, orderDirection: desc){\n",
    "    timestamp\n",
    "    blockNumber\n",
    "    id\n",
    "    dailyActiveUsers\n",
    "    dailySwapCount\n",
    "    dailyDepositCount\n",
    "    dailyWithdrawCount \n",
    "  }\n",
    "}\n",
    "\"\"\""
   ]
  },
  {
   "cell_type": "code",
   "execution_count": 19,
   "metadata": {},
   "outputs": [],
   "source": [
    "request = requests.post(endpoint, json={'query':query})\n",
    "data = request.json()"
   ]
  },
  {
   "cell_type": "code",
   "execution_count": 20,
   "metadata": {},
   "outputs": [],
   "source": [
    "df = pd.json_normalize(data['data']['usageMetricsDailySnapshots'])"
   ]
  },
  {
   "cell_type": "code",
   "execution_count": 21,
   "metadata": {},
   "outputs": [
    {
     "data": {
      "text/plain": [
       "534.8142076502733"
      ]
     },
     "execution_count": 21,
     "metadata": {},
     "output_type": "execute_result"
    }
   ],
   "source": [
    "df['dailyActiveUsers'].astype(float).mean()"
   ]
  },
  {
   "cell_type": "code",
   "execution_count": null,
   "metadata": {},
   "outputs": [],
   "source": []
  },
  {
   "cell_type": "markdown",
   "metadata": {},
   "source": [
    "Implied slippage"
   ]
  },
  {
   "cell_type": "code",
   "execution_count": 22,
   "metadata": {},
   "outputs": [],
   "source": [
    "query = \"\"\"\n",
    "{\n",
    "  liquidityPools(first:10, orderBy: totalValueLockedUSD, orderDirection: desc){\n",
    "    id\n",
    "    name\n",
    "    totalValueLockedUSD\n",
    "    cumulativeVolumeUSD\n",
    "    createdTimestamp\n",
    "    createdBlockNumber\n",
    "    inputTokens{\n",
    "      id\n",
    "      name\n",
    "      symbol\n",
    "      lastPriceUSD\n",
    "      decimals\n",
    "    }\n",
    "    inputTokenBalances\n",
    "  }\n",
    "}\n",
    "\"\"\"\n",
    "request = requests.post(endpoint, json={'query':query})\n",
    "if request.ok:\n",
    "    data = request.json()"
   ]
  },
  {
   "cell_type": "code",
   "execution_count": 23,
   "metadata": {},
   "outputs": [
    {
     "data": {
      "text/plain": [
       "{'data': {'liquidityPools': [{'id': '0xf94fea0c87d2b357dc72b743b45a8cb682b0716e',\n",
       "    'name': 'Ubeswap Moola interest bearing CUSD/Moola interest bearing CEUR',\n",
       "    'totalValueLockedUSD': '1324445.138787230835229968',\n",
       "    'cumulativeVolumeUSD': '50762177.63214418639434330591503276',\n",
       "    'createdTimestamp': '1634104380',\n",
       "    'createdBlockNumber': '9305489',\n",
       "    'inputTokens': [{'id': '0x918146359264c492bd6934071c6bd31c854edbc3',\n",
       "      'name': 'Moola interest bearing CUSD',\n",
       "      'symbol': 'mCUSD',\n",
       "      'lastPriceUSD': '1',\n",
       "      'decimals': 18},\n",
       "     {'id': '0xe273ad7ee11dcfaa87383ad5977ee1504ac07568',\n",
       "      'name': 'Moola interest bearing CEUR',\n",
       "      'symbol': 'mCEUR',\n",
       "      'lastPriceUSD': '1.00824758111311471509639811567899',\n",
       "      'decimals': 18}],\n",
       "    'inputTokenBalances': ['662222569393615417614984',\n",
       "     '656805512652473251188049']},\n",
       "   {'id': '0xb460f9ae1fea4f77107146c1960bb1c978118816',\n",
       "    'name': 'Ubeswap Celo Gold/Moola interest bearing CUSD',\n",
       "    'totalValueLockedUSD': '1042016.852389125153096404',\n",
       "    'cumulativeVolumeUSD': '266733625.6478661868197508260764712',\n",
       "    'createdTimestamp': '1634105185',\n",
       "    'createdBlockNumber': '9305650',\n",
       "    'inputTokens': [{'id': '0x471ece3750da237f93b8e339c536989b8978a438',\n",
       "      'name': 'Celo Gold',\n",
       "      'symbol': 'cGLD',\n",
       "      'lastPriceUSD': '0.8747474381877203183473266098541535',\n",
       "      'decimals': 18},\n",
       "     {'id': '0x918146359264c492bd6934071c6bd31c854edbc3',\n",
       "      'name': 'Moola interest bearing CUSD',\n",
       "      'symbol': 'mCUSD',\n",
       "      'lastPriceUSD': '1',\n",
       "      'decimals': 18}],\n",
       "    'inputTokenBalances': ['595610119503721776323824',\n",
       "     '521008426194562576548202']},\n",
       "   {'id': '0x313e1b5edeebab73b6e869a74a896dc999e204cc',\n",
       "    'name': 'Ubeswap Wrapped Ether/Moola interest bearing CUSD',\n",
       "    'totalValueLockedUSD': '395358.443543128964889512',\n",
       "    'cumulativeVolumeUSD': '36261260.3779775356453287696774827',\n",
       "    'createdTimestamp': '1638920261',\n",
       "    'createdBlockNumber': '10268464',\n",
       "    'inputTokens': [{'id': '0x122013fd7df1c6f636a5bb8f03108e876548b455',\n",
       "      'name': 'Wrapped Ether',\n",
       "      'symbol': 'WETH',\n",
       "      'lastPriceUSD': '1706.298685894581495716676732968054',\n",
       "      'decimals': 18},\n",
       "     {'id': '0x918146359264c492bd6934071c6bd31c854edbc3',\n",
       "      'name': 'Moola interest bearing CUSD',\n",
       "      'symbol': 'mCUSD',\n",
       "      'lastPriceUSD': '1',\n",
       "      'decimals': 18}],\n",
       "    'inputTokenBalances': ['115852648428856315347',\n",
       "     '197679221771564482444756']},\n",
       "   {'id': '0xe7b5ad135fa22678f426a381c7748f6a5f2c9e6c',\n",
       "    'name': 'Ubeswap Ubeswap/Celo Gold',\n",
       "    'totalValueLockedUSD': '389879.4033909118575906596182820726',\n",
       "    'cumulativeVolumeUSD': '108073597.2254181534995166343199368',\n",
       "    'createdTimestamp': '1619111937',\n",
       "    'createdBlockNumber': '6307099',\n",
       "    'inputTokens': [{'id': '0x00be915b9dcf56a3cbe739d9b9c202ca692409ec',\n",
       "      'name': 'Ubeswap',\n",
       "      'symbol': 'UBE',\n",
       "      'lastPriceUSD': '0.03377790064857190359307802922786813',\n",
       "      'decimals': 18},\n",
       "     {'id': '0x471ece3750da237f93b8e339c536989b8978a438',\n",
       "      'name': 'Celo Gold',\n",
       "      'symbol': 'cGLD',\n",
       "      'lastPriceUSD': '0.8747474381877203183473266098541535',\n",
       "      'decimals': 18}],\n",
       "    'inputTokenBalances': ['5771220175096873215267191',\n",
       "     '222947294910708344331763']},\n",
       "   {'id': '0xf5b1bc6c9c180b64f5711567b1d6a51a350f8422',\n",
       "    'name': 'Ubeswap Celo Gold/Moola cUSD AToken',\n",
       "    'totalValueLockedUSD': '355482.1739385786423959256210740068',\n",
       "    'cumulativeVolumeUSD': '208750587.3824279597464031983833004',\n",
       "    'createdTimestamp': '1618030492',\n",
       "    'createdBlockNumber': '6090851',\n",
       "    'inputTokens': [{'id': '0x471ece3750da237f93b8e339c536989b8978a438',\n",
       "      'name': 'Celo Gold',\n",
       "      'symbol': 'cGLD',\n",
       "      'lastPriceUSD': '0.8747474381877203183473266098541535',\n",
       "      'decimals': 18},\n",
       "     {'id': '0x64defa3544c695db8c535d289d843a189aa26b98',\n",
       "      'name': 'Moola cUSD AToken',\n",
       "      'symbol': 'mCUSD',\n",
       "      'lastPriceUSD': '0.9975185545995873356501494329067998',\n",
       "      'decimals': 18}],\n",
       "    'inputTokenBalances': ['203359046934869915425693',\n",
       "     '178183243893628067222830']},\n",
       "   {'id': '0x5d60b9766530c4535bd753b1fdd7efea400539bb',\n",
       "    'name': 'Ubeswap Celo Gold/Wrapped Ether (Wormhole)',\n",
       "    'totalValueLockedUSD': '241488.7876945872501935584774742714',\n",
       "    'cumulativeVolumeUSD': '285361.9301239047480421414656595112',\n",
       "    'createdTimestamp': '1655245636',\n",
       "    'createdBlockNumber': '13533282',\n",
       "    'inputTokens': [{'id': '0x471ece3750da237f93b8e339c536989b8978a438',\n",
       "      'name': 'Celo Gold',\n",
       "      'symbol': 'cGLD',\n",
       "      'lastPriceUSD': '0.8747474381877203183473266098541535',\n",
       "      'decimals': 18},\n",
       "     {'id': '0x66803fb87abd4aac3cbb3fad7c3aa01f6f3fb207',\n",
       "      'name': 'Wrapped Ether (Wormhole)',\n",
       "      'symbol': 'WETH',\n",
       "      'lastPriceUSD': '1710.587753259774674498434196754832',\n",
       "      'decimals': 18}],\n",
       "    'inputTokenBalances': ['137722055748882123706297',\n",
       "     '70586494973553713582']},\n",
       "   {'id': '0xa813bb1df70128d629f1a41830578fa616daeeec',\n",
       "    'name': 'Ubeswap Savings CELO/Celo Gold',\n",
       "    'totalValueLockedUSD': '228124.4200159055090285465462900184',\n",
       "    'cumulativeVolumeUSD': '6532415.762287323275134034107432793',\n",
       "    'createdTimestamp': '1618509287',\n",
       "    'createdBlockNumber': '6186590',\n",
       "    'inputTokens': [{'id': '0x2879bfd5e7c4ef331384e908aaa3bd3014b703fa',\n",
       "      'name': 'Savings CELO',\n",
       "      'symbol': 'sCELO',\n",
       "      'lastPriceUSD': '0.00001423128853910134471116657221268493',\n",
       "      'decimals': 18},\n",
       "     {'id': '0x471ece3750da237f93b8e339c536989b8978a438',\n",
       "      'name': 'Celo Gold',\n",
       "      'symbol': 'cGLD',\n",
       "      'lastPriceUSD': '0.8747474381877203183473266098541535',\n",
       "      'decimals': 18}],\n",
       "    'inputTokenBalances': ['8014889846029035517245201159',\n",
       "     '130369336954516732991898']},\n",
       "   {'id': '0xec5c9c99ad30adf396ac4b48fba09dc34819c65a',\n",
       "    'name': 'Ubeswap Toucan Protocol: Nature Carbon Tonne/Moola interest bearing CUSD',\n",
       "    'totalValueLockedUSD': '195311.010952163473137092',\n",
       "    'cumulativeVolumeUSD': '62741.393908401363257425',\n",
       "    'createdTimestamp': '1660762652',\n",
       "    'createdBlockNumber': '14618959',\n",
       "    'inputTokens': [{'id': '0x02de4766c272abc10bc88c220d214a26960a7e92',\n",
       "      'name': 'Toucan Protocol: Nature Carbon Tonne',\n",
       "      'symbol': 'NCT',\n",
       "      'lastPriceUSD': '2.220721708197859006928621051762738',\n",
       "      'decimals': 18},\n",
       "     {'id': '0x918146359264c492bd6934071c6bd31c854edbc3',\n",
       "      'name': 'Moola interest bearing CUSD',\n",
       "      'symbol': 'mCUSD',\n",
       "      'lastPriceUSD': '1',\n",
       "      'decimals': 18}],\n",
       "    'inputTokenBalances': ['43974670538673795827888',\n",
       "     '97655505476081736568546']},\n",
       "   {'id': '0x0448e99ab5f8230713a9f5d7e64ec2ab6e5952a3',\n",
       "    'name': 'Ubeswap Moola interest bearing CUSD/Wrapped BTC',\n",
       "    'totalValueLockedUSD': '166981.098254820329179952',\n",
       "    'cumulativeVolumeUSD': '15353269.507972264250700381',\n",
       "    'createdTimestamp': '1638920431',\n",
       "    'createdBlockNumber': '10268498',\n",
       "    'inputTokens': [{'id': '0x918146359264c492bd6934071c6bd31c854edbc3',\n",
       "      'name': 'Moola interest bearing CUSD',\n",
       "      'symbol': 'mCUSD',\n",
       "      'lastPriceUSD': '1',\n",
       "      'decimals': 18},\n",
       "     {'id': '0xbaab46e28388d2779e6e31fd00cf0e5ad95e327b',\n",
       "      'name': 'Wrapped BTC',\n",
       "      'symbol': 'WBTC',\n",
       "      'lastPriceUSD': '22113.60221939174570317603589295055',\n",
       "      'decimals': 8}],\n",
       "    'inputTokenBalances': ['83490549127410164589976', '377552912']},\n",
       "   {'id': '0x9f437509e61896738ea8cdb6cded618c0e509032',\n",
       "    'name': 'Ubeswap Celo Gold/Moola interest bearing CEUR',\n",
       "    'totalValueLockedUSD': '150743.030933175022818925240369277',\n",
       "    'cumulativeVolumeUSD': '44012568.31736336788762954623797469',\n",
       "    'createdTimestamp': '1634105375',\n",
       "    'createdBlockNumber': '9305688',\n",
       "    'inputTokens': [{'id': '0x471ece3750da237f93b8e339c536989b8978a438',\n",
       "      'name': 'Celo Gold',\n",
       "      'symbol': 'cGLD',\n",
       "      'lastPriceUSD': '0.8747474381877203183473266098541535',\n",
       "      'decimals': 18},\n",
       "     {'id': '0xe273ad7ee11dcfaa87383ad5977ee1504ac07568',\n",
       "      'name': 'Moola interest bearing CEUR',\n",
       "      'symbol': 'mCEUR',\n",
       "      'lastPriceUSD': '1.00824758111311471509639811567899',\n",
       "      'decimals': 18}],\n",
       "    'inputTokenBalances': ['86277090861070826609942',\n",
       "     '74703989929284355646974']}]}}"
      ]
     },
     "execution_count": 23,
     "metadata": {},
     "output_type": "execute_result"
    }
   ],
   "source": [
    "data"
   ]
  },
  {
   "cell_type": "code",
   "execution_count": 24,
   "metadata": {},
   "outputs": [],
   "source": [
    "slip1000 = []\n",
    "slip10000 = []\n",
    "slip100000 = []\n",
    "\n",
    "for pool in data['data']['liquidityPools']:\n",
    "    token0 = pool['inputTokens'][0]\n",
    "    token0_reserveUSD = (float(pool['inputTokenBalances'][0])/10**token0['decimals'])*float(token0['lastPriceUSD'])\n",
    "    \n",
    "    token1 = pool['inputTokens'][1]\n",
    "    token1_reserveUSD = (float(pool['inputTokenBalances'][1])/10**token1['decimals'])*float(token1['lastPriceUSD'])\n",
    "\n",
    "    try:\n",
    "        pi1000 = 1000/token0_reserveUSD\n",
    "    except:\n",
    "        pi1000 = 1000/token1_reserveUSD\n",
    "    \n",
    "    try:\n",
    "        pi10000 = 10000/token0_reserveUSD\n",
    "    except:\n",
    "        pi10000 = 10000/token1_reserveUSD\n",
    "    \n",
    "    try:\n",
    "        pi100000 = 100000/token0_reserveUSD\n",
    "    except:\n",
    "        pi100000 = 100000/token1_reserveUSD\n",
    "    \n",
    "    slip1000.append(pi1000)\n",
    "    slip10000.append(pi10000)\n",
    "    slip100000.append(pi100000)\n"
   ]
  },
  {
   "cell_type": "code",
   "execution_count": 25,
   "metadata": {},
   "outputs": [
    {
     "data": {
      "text/plain": [
       "0.007177492550630558"
      ]
     },
     "execution_count": 25,
     "metadata": {},
     "output_type": "execute_result"
    }
   ],
   "source": [
    "np.mean(slip1000)"
   ]
  },
  {
   "cell_type": "code",
   "execution_count": 26,
   "metadata": {},
   "outputs": [
    {
     "data": {
      "text/plain": [
       "0.07177492550630557"
      ]
     },
     "execution_count": 26,
     "metadata": {},
     "output_type": "execute_result"
    }
   ],
   "source": [
    "np.mean(slip10000)"
   ]
  },
  {
   "cell_type": "code",
   "execution_count": 27,
   "metadata": {},
   "outputs": [
    {
     "data": {
      "text/plain": [
       "0.7177492550630558"
      ]
     },
     "execution_count": 27,
     "metadata": {},
     "output_type": "execute_result"
    }
   ],
   "source": [
    "np.mean(slip100000)"
   ]
  },
  {
   "cell_type": "code",
   "execution_count": null,
   "metadata": {},
   "outputs": [],
   "source": []
  },
  {
   "cell_type": "code",
   "execution_count": null,
   "metadata": {},
   "outputs": [],
   "source": []
  }
 ],
 "metadata": {
  "kernelspec": {
   "display_name": "Python 3.8.10 64-bit",
   "language": "python",
   "name": "python3"
  },
  "language_info": {
   "codemirror_mode": {
    "name": "ipython",
    "version": 3
   },
   "file_extension": ".py",
   "mimetype": "text/x-python",
   "name": "python",
   "nbconvert_exporter": "python",
   "pygments_lexer": "ipython3",
   "version": "3.8.10"
  },
  "orig_nbformat": 4,
  "vscode": {
   "interpreter": {
    "hash": "916dbcbb3f70747c44a77c7bcd40155683ae19c65e1c03b4aa3499c5328201f1"
   }
  }
 },
 "nbformat": 4,
 "nbformat_minor": 2
}
