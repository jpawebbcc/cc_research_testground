{
 "cells": [
  {
   "cell_type": "markdown",
   "metadata": {},
   "source": [
    "## OSMOSIS DEX DATA\n",
    "\n",
    "Data source: https://api-osmosis.imperator.co/swagger/#/\n",
    "\n",
    "06/09/2022\n",
    "\n",
    "We need: \n",
    "- 6-month average daily volume\n",
    "- 6-month average TVL\n",
    "- Largest pool concentration\n",
    "- Liquidity pools with > 1mn TVL\n",
    "- 6 month average FDV:TVL\n",
    "- Monthly active users\n",
    "- Average trade execution time\n",
    "- Implied Slippage\n",
    "- MEV"
   ]
  },
  {
   "cell_type": "code",
   "execution_count": 1,
   "metadata": {},
   "outputs": [],
   "source": [
    "import pandas as pd\n",
    "import numpy as np\n",
    "import requests\n",
    "import datetime as dt \n",
    "from dateutil.relativedelta import relativedelta\n",
    "\n",
    "import warnings\n",
    "warnings.filterwarnings(action=\"ignore\")"
   ]
  },
  {
   "cell_type": "markdown",
   "metadata": {},
   "source": [
    "### 6-month average daily volume"
   ]
  },
  {
   "cell_type": "code",
   "execution_count": 2,
   "metadata": {},
   "outputs": [],
   "source": [
    "def get_6month_average_volume():\n",
    "    url = 'https://api-osmosis.imperator.co/volume/v2/historical/chart'\n",
    "    response = requests.get(url, headers= {'accept': 'application/json'})\n",
    "    if response.ok:\n",
    "        data = response.json()\n",
    "        df = pd.DataFrame(data)\n",
    "        df['time'] = pd.to_datetime(df['time'])\n",
    "        return df['value'].loc[df['time'] >= (dt.datetime.today() - relativedelta(months = 6))].sum()/len(pd.date_range(start = (dt.datetime.today().replace(hour=0,minute=0,second=0,microsecond=0) - relativedelta(months = 6)), end = (dt.datetime.today().replace(hour=0,minute=0,second=0,microsecond=0)), freq= 'D'))\n",
    "    else:\n",
    "        raise KeyError('Endpoint could be fucked!')"
   ]
  },
  {
   "cell_type": "code",
   "execution_count": 3,
   "metadata": {},
   "outputs": [
    {
     "data": {
      "text/plain": [
       "42737571.145576656"
      ]
     },
     "execution_count": 3,
     "metadata": {},
     "output_type": "execute_result"
    }
   ],
   "source": [
    "get_6month_average_volume()"
   ]
  },
  {
   "cell_type": "markdown",
   "metadata": {},
   "source": [
    "### 6-month average TVL"
   ]
  },
  {
   "cell_type": "code",
   "execution_count": 4,
   "metadata": {},
   "outputs": [],
   "source": [
    "def get_6month_average_TVL():\n",
    "    url = 'https://api-osmosis.imperator.co/liquidity/v2/historical/chart'\n",
    "    response = requests.get(url, headers= {'accept': 'application/json'})\n",
    "    if response.ok:\n",
    "        data = response.json()\n",
    "        df = pd.DataFrame(data)\n",
    "        df['time'] = pd.to_datetime(df['time'])\n",
    "        return df['value'].loc[df['time'] >= (dt.datetime.today() - relativedelta(months = 6))].sum()/len(pd.date_range(start = (dt.datetime.today().replace(hour=0,minute=0,second=0,microsecond=0) - relativedelta(months = 6)), end = (dt.datetime.today().replace(hour=0,minute=0,second=0,microsecond=0)), freq= 'D'))\n",
    "    else:\n",
    "        raise KeyError('Endpoint could be fucked!')"
   ]
  },
  {
   "cell_type": "code",
   "execution_count": 5,
   "metadata": {},
   "outputs": [
    {
     "data": {
      "text/plain": [
       "614450205.8819946"
      ]
     },
     "execution_count": 5,
     "metadata": {},
     "output_type": "execute_result"
    }
   ],
   "source": [
    "avgtvl = get_6month_average_TVL()\n",
    "avgtvl"
   ]
  },
  {
   "cell_type": "markdown",
   "metadata": {},
   "source": [
    "### Largest pool concentration "
   ]
  },
  {
   "cell_type": "code",
   "execution_count": 6,
   "metadata": {},
   "outputs": [],
   "source": [
    "def largest_pool_concentration_TVL():\n",
    "    url = 'https://api-osmosis.imperator.co/pools/v2/all?low_liquidity=true'\n",
    "    response = requests.get(url, headers= {'accept': 'application/json'})\n",
    "    if response.ok:\n",
    "        data = response.json()\n",
    "\n",
    "        df = pd.DataFrame()\n",
    "        for key in data.keys():\n",
    "            tdf = pd.DataFrame(data[key])\n",
    "            tdf['pool_id'] = key\n",
    "            df = df.append(tdf)\n",
    "        \n",
    "        ddf = df.drop_duplicates(subset='pool_id')\n",
    "        ddf['proportionTVL'] = ddf['liquidity'] / ddf['liquidity'].sum()\n",
    "        \n",
    "        largest_prop = ddf['proportionTVL'].max()\n",
    "        top10_prop = ddf['proportionTVL'].nlargest(10).sum()\n",
    "\n",
    "        return [largest_prop, top10_prop]\n",
    "    else:\n",
    "        raise KeyError('Endpoint could be fucked!')\n",
    "    "
   ]
  },
  {
   "cell_type": "code",
   "execution_count": 7,
   "metadata": {},
   "outputs": [
    {
     "data": {
      "text/plain": [
       "[0.39311949880955976, 0.8427253141222584]"
      ]
     },
     "execution_count": 7,
     "metadata": {},
     "output_type": "execute_result"
    }
   ],
   "source": [
    "largest_pool_concentration_TVL()"
   ]
  },
  {
   "cell_type": "code",
   "execution_count": 8,
   "metadata": {},
   "outputs": [],
   "source": [
    "def largest_pool_concentration_7d_volume():\n",
    "    url = 'https://api-osmosis.imperator.co/pools/v2/all?low_liquidity=true'\n",
    "    response = requests.get(url, headers= {'accept': 'application/json'})\n",
    "    if response.ok:\n",
    "        data = response.json()\n",
    "\n",
    "        df = pd.DataFrame()\n",
    "        for key in data.keys():\n",
    "            tdf = pd.DataFrame(data[key])\n",
    "            tdf['pool_id'] = key\n",
    "            df = df.append(tdf)\n",
    "        \n",
    "        ddf = df.drop_duplicates(subset='pool_id')\n",
    "        ddf['proportionVol'] = ddf['volume_7d'] / ddf['volume_7d'].sum()\n",
    "        \n",
    "        largest_prop = ddf['proportionVol'].max()\n",
    "        top10_prop = ddf['proportionVol'].nlargest(10).sum()\n",
    "\n",
    "        return [largest_prop, top10_prop]\n",
    "    else:\n",
    "        raise KeyError('Endpoint could be fucked!')"
   ]
  },
  {
   "cell_type": "code",
   "execution_count": 9,
   "metadata": {},
   "outputs": [
    {
     "data": {
      "text/plain": [
       "[0.3168231901744671, 0.8819459808131513]"
      ]
     },
     "execution_count": 9,
     "metadata": {},
     "output_type": "execute_result"
    }
   ],
   "source": [
    "largest_pool_concentration_7d_volume()"
   ]
  },
  {
   "cell_type": "markdown",
   "metadata": {},
   "source": [
    "### Liquidity pools with > 1mil USD  "
   ]
  },
  {
   "cell_type": "code",
   "execution_count": 10,
   "metadata": {},
   "outputs": [],
   "source": [
    "def no_pools_gte_1mUSD():\n",
    "    url = 'https://api-osmosis.imperator.co/pools/v2/all?low_liquidity=true'\n",
    "    response = requests.get(url, headers= {'accept': 'application/json'})\n",
    "    if response.ok:\n",
    "        data = response.json()\n",
    "\n",
    "        df = pd.DataFrame()\n",
    "        for key in data.keys():\n",
    "            tdf = pd.DataFrame(data[key])\n",
    "            tdf['pool_id'] = key\n",
    "            df = df.append(tdf)\n",
    "        \n",
    "        ddf = df.drop_duplicates(subset='pool_id')\n",
    "\n",
    "        return len(ddf.loc[ddf['liquidity'] >= 1000000])\n",
    "    else:\n",
    "        raise KeyError('Endpoint could be fucked!')"
   ]
  },
  {
   "cell_type": "code",
   "execution_count": 11,
   "metadata": {},
   "outputs": [
    {
     "data": {
      "text/plain": [
       "19"
      ]
     },
     "execution_count": 11,
     "metadata": {},
     "output_type": "execute_result"
    }
   ],
   "source": [
    "no_pools_gte_1mUSD()"
   ]
  },
  {
   "cell_type": "markdown",
   "metadata": {},
   "source": [
    "### Fee Spread"
   ]
  },
  {
   "cell_type": "code",
   "execution_count": 12,
   "metadata": {},
   "outputs": [],
   "source": [
    "def liquid_pair_fee_spread():\n",
    "    url = 'https://api-osmosis.imperator.co/pools/v2/all?low_liquidity=false'\n",
    "    response = requests.get(url, headers= {'accept': 'application/json'})\n",
    "    if response.ok:\n",
    "        data = response.json()\n",
    "\n",
    "        df = pd.DataFrame()\n",
    "        for key in data.keys():\n",
    "            tdf = pd.DataFrame(data[key])\n",
    "            tdf['pool_id'] = key\n",
    "            df = df.append(tdf)\n",
    "    \n",
    "        mini = df['fees'].apply(lambda x: float(x.replace('%', ''))).min()\n",
    "        maxi = df['fees'].apply(lambda x: float(x.replace('%', ''))).max()\n",
    "\n",
    "        return [mini, maxi]\n",
    "    else:\n",
    "        raise KeyError('Endpoint could be fucked!')"
   ]
  },
  {
   "cell_type": "code",
   "execution_count": 13,
   "metadata": {},
   "outputs": [
    {
     "data": {
      "text/plain": [
       "[0.04, 0.534]"
      ]
     },
     "execution_count": 13,
     "metadata": {},
     "output_type": "execute_result"
    }
   ],
   "source": [
    "liquid_pair_fee_spread()"
   ]
  },
  {
   "cell_type": "markdown",
   "metadata": {},
   "source": [
    "### 6 month average FDV/TVL "
   ]
  },
  {
   "cell_type": "code",
   "execution_count": null,
   "metadata": {},
   "outputs": [],
   "source": [
    "#FDV is the blocker"
   ]
  },
  {
   "cell_type": "code",
   "execution_count": null,
   "metadata": {},
   "outputs": [],
   "source": [
    "url = 'https://api.cosmostation.io/v1/status'\n",
    "response = requests.get(url)"
   ]
  },
  {
   "cell_type": "code",
   "execution_count": null,
   "metadata": {},
   "outputs": [],
   "source": [
    "response.ok"
   ]
  },
  {
   "cell_type": "code",
   "execution_count": null,
   "metadata": {},
   "outputs": [],
   "source": [
    "data = response.json()"
   ]
  },
  {
   "cell_type": "code",
   "execution_count": null,
   "metadata": {},
   "outputs": [],
   "source": [
    "data['total_supply_tokens']"
   ]
  },
  {
   "cell_type": "code",
   "execution_count": null,
   "metadata": {},
   "outputs": [],
   "source": [
    "total_supply = pd.DataFrame(data['total_supply_tokens']['supply'])"
   ]
  },
  {
   "cell_type": "code",
   "execution_count": null,
   "metadata": {},
   "outputs": [],
   "source": [
    "url = 'https://api-osmosis.imperator.co/pools/v2/all?low_liquidity=false'\n",
    "response = requests.get(url, headers= {'accept': 'application/json'})\n",
    "if response.ok:\n",
    "    data = response.json()\n",
    "\n",
    "    df = pd.DataFrame()\n",
    "    for key in data.keys():\n",
    "        tdf = pd.DataFrame(data[key])\n",
    "        tdf['pool_id'] = key\n",
    "        df = df.append(tdf)\n",
    "\n",
    "    ddf = df.drop_duplicates(subset='pool_id')\n",
    "    ids = list(ddf['pool_id'].loc[ddf['liquidity'].isin(ddf['liquidity'].nlargest(10))])"
   ]
  },
  {
   "cell_type": "code",
   "execution_count": null,
   "metadata": {},
   "outputs": [],
   "source": [
    "tdf = df.loc[df['pool_id'] == ids[1]]"
   ]
  },
  {
   "cell_type": "code",
   "execution_count": null,
   "metadata": {},
   "outputs": [],
   "source": [
    "tdf"
   ]
  },
  {
   "cell_type": "code",
   "execution_count": null,
   "metadata": {},
   "outputs": [],
   "source": [
    "total_supply.loc[total_supply['denom'] == tdf['denom'].iloc[0]]"
   ]
  },
  {
   "cell_type": "code",
   "execution_count": null,
   "metadata": {},
   "outputs": [],
   "source": []
  },
  {
   "cell_type": "code",
   "execution_count": null,
   "metadata": {},
   "outputs": [],
   "source": []
  },
  {
   "cell_type": "markdown",
   "metadata": {},
   "source": [
    "### Montly active users"
   ]
  },
  {
   "cell_type": "code",
   "execution_count": null,
   "metadata": {},
   "outputs": [],
   "source": []
  },
  {
   "cell_type": "markdown",
   "metadata": {},
   "source": [
    "### Average Trade Exection Time"
   ]
  },
  {
   "cell_type": "markdown",
   "metadata": {},
   "source": [
    "Block time: https://www.mintscan.io/cosmos/validators\n",
    "\n",
    "6.86s "
   ]
  },
  {
   "cell_type": "markdown",
   "metadata": {},
   "source": [
    "### Implied Slippage "
   ]
  },
  {
   "cell_type": "code",
   "execution_count": 14,
   "metadata": {},
   "outputs": [],
   "source": [
    "def balancer_slippage(tdf, dollar_value):\n",
    "    ep = tdf['amount'].iloc[-1]/tdf['amount'].iloc[0]\n",
    "    token0amountin = dollar_value/(tdf['price'].iloc[0])\n",
    "    token1out = token0amountin*(1-(tdf['amount'].iloc[0]/(tdf['amount'].iloc[0]+tdf['amount'].iloc[-1])))\n",
    "    nep = (tdf['amount'].iloc[-1] - token1out)/(tdf['amount'].iloc[0]+ token0amountin)\n",
    "    slipage = abs(ep/nep -1)\n",
    "    return slipage"
   ]
  },
  {
   "cell_type": "code",
   "execution_count": 15,
   "metadata": {},
   "outputs": [],
   "source": [
    "def get_slippage():\n",
    "    url = 'https://api-osmosis.imperator.co/pools/v2/all?low_liquidity=false'\n",
    "    response = requests.get(url, headers= {'accept': 'application/json'})\n",
    "    if response.ok:\n",
    "        data = response.json()\n",
    "\n",
    "        df = pd.DataFrame()\n",
    "        for key in data.keys():\n",
    "            tdf = pd.DataFrame(data[key])\n",
    "            tdf['pool_id'] = key\n",
    "            df = df.append(tdf)\n",
    "\n",
    "        ddf = df.drop_duplicates(subset='pool_id')\n",
    "        ids = list(ddf['pool_id'].loc[ddf['liquidity'].isin(ddf['liquidity'].nlargest(10))])\n",
    "\n",
    "        slip1000 = []\n",
    "        slip10000 = []\n",
    "        slip100000 = []\n",
    "        for i in range(len(ids)):\n",
    "            tdf = df.loc[df['pool_id'] == ids[i]]\n",
    "            slip1000.append(balancer_slippage(tdf, 1000))\n",
    "            slip10000.append(balancer_slippage(tdf, 10000))\n",
    "            slip100000.append(balancer_slippage(tdf, 100000))\n",
    "            \n",
    "        return  slip1000, slip10000, slip100000\n",
    "\n",
    "    else:\n",
    "        raise KeyError('Endpoint could be fucked!')\n"
   ]
  },
  {
   "cell_type": "code",
   "execution_count": 16,
   "metadata": {},
   "outputs": [],
   "source": [
    "s1, s2, s3 = get_slippage()"
   ]
  },
  {
   "cell_type": "code",
   "execution_count": 17,
   "metadata": {},
   "outputs": [
    {
     "data": {
      "text/plain": [
       "0.0004057317422300866"
      ]
     },
     "execution_count": 17,
     "metadata": {},
     "output_type": "execute_result"
    }
   ],
   "source": [
    "np.mean(s1)"
   ]
  },
  {
   "cell_type": "code",
   "execution_count": 18,
   "metadata": {},
   "outputs": [
    {
     "data": {
      "text/plain": [
       "0.00406675104618055"
      ]
     },
     "execution_count": 18,
     "metadata": {},
     "output_type": "execute_result"
    }
   ],
   "source": [
    "np.mean(s2)"
   ]
  },
  {
   "cell_type": "code",
   "execution_count": 19,
   "metadata": {},
   "outputs": [
    {
     "data": {
      "text/plain": [
       "0.041647486378403986"
      ]
     },
     "execution_count": 19,
     "metadata": {},
     "output_type": "execute_result"
    }
   ],
   "source": [
    "np.mean(s3)"
   ]
  },
  {
   "cell_type": "code",
   "execution_count": null,
   "metadata": {},
   "outputs": [],
   "source": []
  },
  {
   "cell_type": "markdown",
   "metadata": {},
   "source": [
    "### MEV"
   ]
  },
  {
   "cell_type": "code",
   "execution_count": null,
   "metadata": {},
   "outputs": [],
   "source": []
  },
  {
   "cell_type": "code",
   "execution_count": null,
   "metadata": {},
   "outputs": [],
   "source": []
  },
  {
   "cell_type": "code",
   "execution_count": null,
   "metadata": {},
   "outputs": [],
   "source": []
  }
 ],
 "metadata": {
  "kernelspec": {
   "display_name": "Python 3.8.10 64-bit",
   "language": "python",
   "name": "python3"
  },
  "language_info": {
   "codemirror_mode": {
    "name": "ipython",
    "version": 3
   },
   "file_extension": ".py",
   "mimetype": "text/x-python",
   "name": "python",
   "nbconvert_exporter": "python",
   "pygments_lexer": "ipython3",
   "version": "3.8.10"
  },
  "orig_nbformat": 4,
  "vscode": {
   "interpreter": {
    "hash": "916dbcbb3f70747c44a77c7bcd40155683ae19c65e1c03b4aa3499c5328201f1"
   }
  }
 },
 "nbformat": 4,
 "nbformat_minor": 2
}
