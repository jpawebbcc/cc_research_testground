{
 "cells": [
  {
   "cell_type": "markdown",
   "metadata": {},
   "source": [
    "## OSMOSIS DEX DATA\n",
    "\n",
    "Data source: https://api-osmosis.imperator.co/swagger/#/\n",
    "\n",
    "We need: \n",
    "- 6-month average daily volume\n",
    "- 6-month average TVL\n",
    "- Largest pool concentration\n",
    "- Liquidity pools with > 1mn TVL\n",
    "- 6 month average FDV:TVL\n",
    "- Monthly active users\n",
    "- Average trade execution time\n",
    "- Implied Slippage\n",
    "- MEV"
   ]
  },
  {
   "cell_type": "code",
   "execution_count": 1,
   "metadata": {},
   "outputs": [],
   "source": [
    "import pandas as pd\n",
    "import numpy as np\n",
    "import requests\n",
    "import datetime as dt \n",
    "from dateutil.relativedelta import relativedelta\n",
    "\n",
    "import warnings\n",
    "warnings.filterwarnings(action=\"ignore\")"
   ]
  },
  {
   "cell_type": "markdown",
   "metadata": {},
   "source": [
    "### 6-month average daily volume"
   ]
  },
  {
   "cell_type": "code",
   "execution_count": 2,
   "metadata": {},
   "outputs": [],
   "source": [
    "def get_6month_average_volume():\n",
    "    url = 'https://api-osmosis.imperator.co/volume/v2/historical/chart'\n",
    "    response = requests.get(url, headers= {'accept': 'application/json'})\n",
    "    if response.ok:\n",
    "        data = response.json()\n",
    "        df = pd.DataFrame(data)\n",
    "        df['time'] = pd.to_datetime(df['time'])\n",
    "        return df['value'].loc[df['time'] >= (dt.datetime.today() - relativedelta(months = 6))].sum()/len(pd.date_range(start = (dt.datetime.today().replace(hour=0,minute=0,second=0,microsecond=0) - relativedelta(months = 6)), end = (dt.datetime.today().replace(hour=0,minute=0,second=0,microsecond=0)), freq= 'D'))\n",
    "    else:\n",
    "        raise KeyError('Endpoint could be fucked!')"
   ]
  },
  {
   "cell_type": "code",
   "execution_count": 3,
   "metadata": {},
   "outputs": [
    {
     "data": {
      "text/plain": [
       "79269653.93604946"
      ]
     },
     "execution_count": 3,
     "metadata": {},
     "output_type": "execute_result"
    }
   ],
   "source": [
    "get_6month_average_volume()"
   ]
  },
  {
   "cell_type": "markdown",
   "metadata": {},
   "source": [
    "### 6-month average TVL"
   ]
  },
  {
   "cell_type": "code",
   "execution_count": 4,
   "metadata": {},
   "outputs": [],
   "source": [
    "def get_6month_average_TVL():\n",
    "    url = 'https://api-osmosis.imperator.co/liquidity/v2/historical/chart'\n",
    "    response = requests.get(url, headers= {'accept': 'application/json'})\n",
    "    if response.ok:\n",
    "        data = response.json()\n",
    "        df = pd.DataFrame(data)\n",
    "        df['time'] = pd.to_datetime(df['time'])\n",
    "        return df['value'].loc[df['time'] >= (dt.datetime.today() - relativedelta(months = 6))].sum()/len(pd.date_range(start = (dt.datetime.today().replace(hour=0,minute=0,second=0,microsecond=0) - relativedelta(months = 6)), end = (dt.datetime.today().replace(hour=0,minute=0,second=0,microsecond=0)), freq= 'D'))\n",
    "    else:\n",
    "        raise KeyError('Endpoint could be fucked!')"
   ]
  },
  {
   "cell_type": "code",
   "execution_count": 236,
   "metadata": {},
   "outputs": [
    {
     "data": {
      "text/plain": [
       "1063402584.373773"
      ]
     },
     "execution_count": 236,
     "metadata": {},
     "output_type": "execute_result"
    }
   ],
   "source": [
    "avgtvl = get_6month_average_TVL()\n",
    "avgtvl"
   ]
  },
  {
   "cell_type": "markdown",
   "metadata": {},
   "source": [
    "### Largest pool concentration "
   ]
  },
  {
   "cell_type": "code",
   "execution_count": 6,
   "metadata": {},
   "outputs": [],
   "source": [
    "def largest_pool_concentration_TVL():\n",
    "    url = 'https://api-osmosis.imperator.co/pools/v2/all?low_liquidity=true'\n",
    "    response = requests.get(url, headers= {'accept': 'application/json'})\n",
    "    if response.ok:\n",
    "        data = response.json()\n",
    "\n",
    "        df = pd.DataFrame()\n",
    "        for key in data.keys():\n",
    "            tdf = pd.DataFrame(data[key])\n",
    "            tdf['pool_id'] = key\n",
    "            df = df.append(tdf)\n",
    "        \n",
    "        ddf = df.drop_duplicates(subset='pool_id')\n",
    "        ddf['proportionTVL'] = ddf['liquidity'] / ddf['liquidity'].sum()\n",
    "        \n",
    "        largest_prop = ddf['proportionTVL'].max()\n",
    "        top10_prop = ddf['proportionTVL'].nlargest(10).sum()\n",
    "\n",
    "        return [largest_prop, top10_prop]\n",
    "    else:\n",
    "        raise KeyError('Endpoint could be fucked!')\n",
    "    "
   ]
  },
  {
   "cell_type": "code",
   "execution_count": 7,
   "metadata": {},
   "outputs": [
    {
     "data": {
      "text/plain": [
       "[0.43124148628714704, 0.8271723792313572]"
      ]
     },
     "execution_count": 7,
     "metadata": {},
     "output_type": "execute_result"
    }
   ],
   "source": [
    "largest_pool_concentration_TVL()"
   ]
  },
  {
   "cell_type": "code",
   "execution_count": 8,
   "metadata": {},
   "outputs": [],
   "source": [
    "def largest_pool_concentration_7d_volume():\n",
    "    url = 'https://api-osmosis.imperator.co/pools/v2/all?low_liquidity=true'\n",
    "    response = requests.get(url, headers= {'accept': 'application/json'})\n",
    "    if response.ok:\n",
    "        data = response.json()\n",
    "\n",
    "        df = pd.DataFrame()\n",
    "        for key in data.keys():\n",
    "            tdf = pd.DataFrame(data[key])\n",
    "            tdf['pool_id'] = key\n",
    "            df = df.append(tdf)\n",
    "        \n",
    "        ddf = df.drop_duplicates(subset='pool_id')\n",
    "        ddf['proportionVol'] = ddf['volume_7d'] / ddf['volume_7d'].sum()\n",
    "        \n",
    "        largest_prop = ddf['proportionVol'].max()\n",
    "        top10_prop = ddf['proportionVol'].nlargest(10).sum()\n",
    "\n",
    "        return [largest_prop, top10_prop]\n",
    "    else:\n",
    "        raise KeyError('Endpoint could be fucked!')"
   ]
  },
  {
   "cell_type": "code",
   "execution_count": 9,
   "metadata": {},
   "outputs": [
    {
     "data": {
      "text/plain": [
       "[0.33596960571310786, 0.8595311130473487]"
      ]
     },
     "execution_count": 9,
     "metadata": {},
     "output_type": "execute_result"
    }
   ],
   "source": [
    "largest_pool_concentration_7d_volume()"
   ]
  },
  {
   "cell_type": "markdown",
   "metadata": {},
   "source": [
    "### Liquidity pools with > 1mil USD  "
   ]
  },
  {
   "cell_type": "code",
   "execution_count": 10,
   "metadata": {},
   "outputs": [],
   "source": [
    "def no_pools_gte_1mUSD():\n",
    "    url = 'https://api-osmosis.imperator.co/pools/v2/all?low_liquidity=true'\n",
    "    response = requests.get(url, headers= {'accept': 'application/json'})\n",
    "    if response.ok:\n",
    "        data = response.json()\n",
    "\n",
    "        df = pd.DataFrame()\n",
    "        for key in data.keys():\n",
    "            tdf = pd.DataFrame(data[key])\n",
    "            tdf['pool_id'] = key\n",
    "            df = df.append(tdf)\n",
    "        \n",
    "        ddf = df.drop_duplicates(subset='pool_id')\n",
    "\n",
    "        return len(ddf.loc[ddf['liquidity'] >= 1000000])\n",
    "    else:\n",
    "        raise KeyError('Endpoint could be fucked!')"
   ]
  },
  {
   "cell_type": "code",
   "execution_count": 11,
   "metadata": {},
   "outputs": [
    {
     "data": {
      "text/plain": [
       "16"
      ]
     },
     "execution_count": 11,
     "metadata": {},
     "output_type": "execute_result"
    }
   ],
   "source": [
    "no_pools_gte_1mUSD()"
   ]
  },
  {
   "cell_type": "markdown",
   "metadata": {},
   "source": [
    "### Fee Spread"
   ]
  },
  {
   "cell_type": "code",
   "execution_count": 30,
   "metadata": {},
   "outputs": [],
   "source": [
    "def liquid_pair_fee_spread():\n",
    "    url = 'https://api-osmosis.imperator.co/pools/v2/all?low_liquidity=false'\n",
    "    response = requests.get(url, headers= {'accept': 'application/json'})\n",
    "    if response.ok:\n",
    "        data = response.json()\n",
    "\n",
    "        df = pd.DataFrame()\n",
    "        for key in data.keys():\n",
    "            tdf = pd.DataFrame(data[key])\n",
    "            tdf['pool_id'] = key\n",
    "            df = df.append(tdf)\n",
    "    \n",
    "        mini = df['fees'].apply(lambda x: float(x.replace('%', ''))).min()\n",
    "        maxi = df['fees'].apply(lambda x: float(x.replace('%', ''))).max()\n",
    "\n",
    "        return [mini, maxi]\n",
    "    else:\n",
    "        raise KeyError('Endpoint could be fucked!')"
   ]
  },
  {
   "cell_type": "code",
   "execution_count": 31,
   "metadata": {},
   "outputs": [
    {
     "data": {
      "text/plain": [
       "[0.04, 0.534]"
      ]
     },
     "execution_count": 31,
     "metadata": {},
     "output_type": "execute_result"
    }
   ],
   "source": [
    "liquid_pair_fee_spread()"
   ]
  },
  {
   "cell_type": "markdown",
   "metadata": {},
   "source": [
    "### 6 month average FDV/TVL "
   ]
  },
  {
   "cell_type": "code",
   "execution_count": 277,
   "metadata": {},
   "outputs": [],
   "source": [
    "#FDV is the blocker"
   ]
  },
  {
   "cell_type": "code",
   "execution_count": 283,
   "metadata": {},
   "outputs": [],
   "source": [
    "url = 'https://api.cosmostation.io/v1/status'\n",
    "response = requests.get(url)"
   ]
  },
  {
   "cell_type": "code",
   "execution_count": 284,
   "metadata": {},
   "outputs": [
    {
     "data": {
      "text/plain": [
       "True"
      ]
     },
     "execution_count": 284,
     "metadata": {},
     "output_type": "execute_result"
    }
   ],
   "source": [
    "response.ok"
   ]
  },
  {
   "cell_type": "code",
   "execution_count": 285,
   "metadata": {},
   "outputs": [],
   "source": [
    "data = response.json()"
   ]
  },
  {
   "cell_type": "code",
   "execution_count": 286,
   "metadata": {},
   "outputs": [
    {
     "data": {
      "text/plain": [
       "{'supply': [{'denom': 'ibc/0030B0AA8A1B9028703B1D17B965FBCBE0136571B854410BFEC3475B1DC765A1',\n",
       "   'amount': '43210'},\n",
       "  {'denom': 'ibc/0276EC3A17E2BADE81821D73FE20CB6D71487F151FEE36E159962B8721942F9D',\n",
       "   'amount': '1000000'},\n",
       "  {'denom': 'ibc/03FDDDFA51B58B17520629DD2082A9D8B2D72FA06BD060E660006ACF9D9AF58C',\n",
       "   'amount': '100000000000000000'},\n",
       "  {'denom': 'ibc/04F26F89E89475EBEDA75428CD312CF2DF569A3ED0C999CAC1CCA151FF30694A',\n",
       "   'amount': '5000000000'},\n",
       "  {'denom': 'ibc/07912C24004932CD561B1751562B22EA787F31F9821568B88F55A8F51D326722',\n",
       "   'amount': '5000'},\n",
       "  {'denom': 'ibc/080D7604D9C1960A3562E1AE4E8EA8F30B7813810AE30660D41DD6770B1C5929',\n",
       "   'amount': '2000000000'},\n",
       "  {'denom': 'ibc/08822F65D0CE3FD27B35B9E99046CBAB72D731C7991BBC8586E8916F78721FEF',\n",
       "   'amount': '100000'},\n",
       "  {'denom': 'ibc/08834A76F4E5AED08690916F61EA12AA71CFD636BBA328062027DF9FA620B7E3',\n",
       "   'amount': '1'},\n",
       "  {'denom': 'ibc/0C754B423F325B3C8DEBD837CE7C4CF0D4B0E60BEB710E8C8C2E231769DC357C',\n",
       "   'amount': '103000'},\n",
       "  {'denom': 'ibc/0D33E2077E140784912451ED189B11D78A4CD10C480C39E0CD91C67B1406B69F',\n",
       "   'amount': '4000000000'},\n",
       "  {'denom': 'ibc/0E018ACFCF79C355EBC45DDDB27B03ADB989D1DC976840BAACF81619EE47FDEF',\n",
       "   'amount': '1000000'},\n",
       "  {'denom': 'ibc/0EFC9CE517D5C868C23FB91F31B22AA1FA4B63BD7CC583BD5855F45F5DBF99BB',\n",
       "   'amount': '1'},\n",
       "  {'denom': 'ibc/0F123D0CF1614D8C6021E9342FF3C84D55B6BC306B2EF05CA07D89F6005BD6B2',\n",
       "   'amount': '1002000'},\n",
       "  {'denom': 'ibc/104BF1D9079A5833F018CC3840779D668021400F052F93F88000019F9939150B',\n",
       "   'amount': '113608'},\n",
       "  {'denom': 'ibc/1063D42B186F4305F1A9F65D2C9C817D55357D5B5102E177E6A404AE4CC6D561',\n",
       "   'amount': '100000'},\n",
       "  {'denom': 'ibc/12DA42304EE1CE96071F712AA4D58186AD11C3165C0DCDA71E017A54F3935E66',\n",
       "   'amount': '22566748590803'},\n",
       "  {'denom': 'ibc/13B770F3AA627CCD99D3275DEF01D74199472BDCAEE01E4C2646059143B47309',\n",
       "   'amount': '34461427'},\n",
       "  {'denom': 'ibc/13EB10FAE4E4E30658875B17E1338924D3EDEB8567011C3F61327E6FCBB3EAA6',\n",
       "   'amount': '9000'},\n",
       "  {'denom': 'ibc/14F9BC3E44B8A9C1BE1FB08980FAB87034C9905EF17CF2F5008FC085218811CC',\n",
       "   'amount': '168325099518'},\n",
       "  {'denom': 'ibc/1514A972E1FDA7311B0BFC9756B8D63AE0945279005D8DCC5751E3476AABB8F6',\n",
       "   'amount': '9500'},\n",
       "  {'denom': 'ibc/1542F8DC70E7999691E991E1EDEB1B47E65E3A217B1649D347098EE48ACB580F',\n",
       "   'amount': '441238970'},\n",
       "  {'denom': 'ibc/164D296F37491098DBBEB9AD5E53769B07B2A2CEEA43977CA673AA75A75C740A',\n",
       "   'amount': '6000000000000000000'},\n",
       "  {'denom': 'ibc/169D83A4FBC7F348FD03BBA25D153802EE1B1056F2718190AD6E00D68BA2EB8E',\n",
       "   'amount': '500'},\n",
       "  {'denom': 'ibc/17044DE725FD1979ADA26CA1DF34BDF53D663252B3B50EFE865EC2BE7F152BD8',\n",
       "   'amount': '90996'},\n",
       "  {'denom': 'ibc/178F0665CC78FD6ACA40E3ED23A728D96592B29961D3B29CD8F6088CB28D498F',\n",
       "   'amount': '1000'},\n",
       "  {'denom': 'ibc/188844D75719178A653C3783421F9731759815FE2D58BD37F612D954308A526E',\n",
       "   'amount': '1130000293761'},\n",
       "  {'denom': 'ibc/19DD710119533524061885A6F190B18AF28D9537E2BAE37F32A62C1A25979287',\n",
       "   'amount': '12104100000000000001'},\n",
       "  {'denom': 'ibc/19E0FA42DAD7753295D1BDE44B77F7B678CAD8083EFAE043F7D51DF6501EED63',\n",
       "   'amount': '1777000'},\n",
       "  {'denom': 'ibc/1A4215832B566E4C2CAE897E4A60EBB9498A5B879DDDA5EC3C21450632D6CD68',\n",
       "   'amount': '500'},\n",
       "  {'denom': 'ibc/1B72F641120380AB0B789F6A46B7F33B192A09FF93CBCC299044E7953FF5AC09',\n",
       "   'amount': '2000'},\n",
       "  {'denom': 'ibc/1BABB967BF30E33148F16C763D7E534CD6ED7A908930E6FB5BEFC4DE811286C2',\n",
       "   'amount': '987654'},\n",
       "  {'denom': 'ibc/1BE91D67775723D3230A9A5AC54BB29B92A5A51B4B8F20BBA37DF1CFA602297C',\n",
       "   'amount': '2124798358393'},\n",
       "  {'denom': 'ibc/1BF8329D782C76B7C600A4AE9D61655D6AC3F957BCB0C73D21F2ACCC60419FBE',\n",
       "   'amount': '100000'},\n",
       "  {'denom': 'ibc/1C73D5251879C4BB83106E890EE33BF5464D22066FCDCA5ECCA7CC5705AE13D5',\n",
       "   'amount': '1000000'},\n",
       "  {'denom': 'ibc/1C96AAF51605ACF5E4A9672B906E952E936A3E98B39FCD9EFE6ECE93A47DCEF6',\n",
       "   'amount': '1777'},\n",
       "  {'denom': 'ibc/1D40A21B46D4C9FF9DC1F34FEC2DA3C9C9FFA8D9494CAE3089C1E08839F058F9',\n",
       "   'amount': '500000'},\n",
       "  {'denom': 'ibc/1D5826F7EDE6E3B13009FEF994DC9CAAF15CC24CA7A9FF436FFB2E56FD72F54F',\n",
       "   'amount': '9379843588235796'},\n",
       "  {'denom': 'ibc/1FBDD58D438B4D04D26CBFB2E722C18984A0F1A52468C4F42F37D102F3D3F399',\n",
       "   'amount': '2344920422133'},\n",
       "  {'denom': 'ibc/20A7DC8E24709E6F1EE0F4E832C2ED345ADD77425890482A349AE3C43CAC6B2C',\n",
       "   'amount': '36415001'},\n",
       "  {'denom': 'ibc/21365569E56F540D26CA846D0947C9DE6E482F9291B0D1F884D5681B745C7462',\n",
       "   'amount': '100'},\n",
       "  {'denom': 'ibc/2154552F1CE0EF16FAC73B41A837A7D91DD9D2B6E193B53BE5C15AB78E1CFF40',\n",
       "   'amount': '1284259'},\n",
       "  {'denom': 'ibc/2181AAB0218EAC24BC9F86BD1364FBBFA3E6E3FCC25E88E3E68C15DC6E752D86',\n",
       "   'amount': '2521003620856'},\n",
       "  {'denom': 'ibc/239D0A5417EB70F4B519A82992900FDD8D51885905C893C9194540DD79261EAE',\n",
       "   'amount': '4237720'},\n",
       "  {'denom': 'ibc/23DCE674BC0760CE99F26CBF281ED46F9653ACE3BD490CBBE6103A4D73221637',\n",
       "   'amount': '2'},\n",
       "  {'denom': 'ibc/2860A66FFC565B72381D40777FBABC15F121160DBDDFF13FA62852A52FF76BB7',\n",
       "   'amount': '65431'},\n",
       "  {'denom': 'ibc/288B27E3A10E5FB982045F26541D39123A4850CBB56F4226EE9C1347F9DD8C43',\n",
       "   'amount': '10000000000000000'},\n",
       "  {'denom': 'ibc/29A28F2275A029E70751B8A2FDFD165DA5E6BE8AE66EA16973F6B6BD3B75984D',\n",
       "   'amount': '528722'},\n",
       "  {'denom': 'ibc/29B5CB3A3CF45C9DD637D85810F69A4C439E359E1C672A1672E04BEA351C1249',\n",
       "   'amount': '470000'},\n",
       "  {'denom': 'ibc/2A23796174090DCC8F258E1B0F830319AEFBCD8AA87C1DCB8BDB150AAD300624',\n",
       "   'amount': '14548089431497600'},\n",
       "  {'denom': 'ibc/2C3E071FC6D2C3C60C55773DCBCDD0C297A75439FF945FE646D49944DAD23862',\n",
       "   'amount': '1110908'},\n",
       "  {'denom': 'ibc/2C5A03312F1FD426F0CF174A12D3D0ADBDA55C3A5BA15C7D15020A038E02C434',\n",
       "   'amount': '120000'},\n",
       "  {'denom': 'ibc/2FE3BC121A18E75797637A73EAB543736462549E6E427C368DEBE90C3570312C',\n",
       "   'amount': '90674487'},\n",
       "  {'denom': 'ibc/30942D3854C79711654545073D2D6C7A59CA6C87FFD3792CF45EE6E3532B58E9',\n",
       "   'amount': '1000'},\n",
       "  {'denom': 'ibc/311A6F75115762F88F2AC7D7110C2694547CACA43110A8B523DEBBE7E6591E1A',\n",
       "   'amount': '500000'},\n",
       "  {'denom': 'ibc/3156D8BAD27478B0304EA36CF1D714E4A9BC2196E8038EDB40AC3E37689E7E3F',\n",
       "   'amount': '352620303'},\n",
       "  {'denom': 'ibc/3353ECFE33281DE5F84FEDDDFF495E5EBD53E9E4385F8ACCC81D456C93735EC7',\n",
       "   'amount': '577810849579886364007'},\n",
       "  {'denom': 'ibc/33A9D0DEFC6ECAE9A8931D42660C2E74180BEF7C7DEF217E4AAD6D81C18EB06F',\n",
       "   'amount': '99533000'},\n",
       "  {'denom': 'ibc/34CEF8B6A6424C45FE3CCC4A02C9DF9BB38BACC323E08DFFEFE9E4B18BB89AC4',\n",
       "   'amount': '559632048'},\n",
       "  {'denom': 'ibc/364D5AB672D6E8FCCCF59417CC2F8E66CC7CCA937B68D9D9FF800E141B51523A',\n",
       "   'amount': '4620936'},\n",
       "  {'denom': 'ibc/368B2285E53071AD6FA3856E0D19BAA7350CD2654F1BDD780765505FDDDE5DE9',\n",
       "   'amount': '10'},\n",
       "  {'denom': 'ibc/36ADA5E5F0BBC173A043098E1752AC0E5ACD7478A9367E63BB7213BA87C95E17',\n",
       "   'amount': '1421389'},\n",
       "  {'denom': 'ibc/370155D4E21CF406A8942C75970D2C27E51F101C95C60A7AD772A72EE03D7A1C',\n",
       "   'amount': '80000'},\n",
       "  {'denom': 'ibc/3792246C7C422C037C603C955F8383B4E32E7555D693344F9A029A67FE221C57',\n",
       "   'amount': '5240000000000000000'},\n",
       "  {'denom': 'ibc/37D8CDB76A194CF09364637F00CDC9FBF995041715C191D17D7B9DE5F2504AE1',\n",
       "   'amount': '5264780191'},\n",
       "  {'denom': 'ibc/393D4E7397A1C3CAB7D8584AE8414E0B9CABE1E60C4F0ED11FC84EE9836816CF',\n",
       "   'amount': '310248'},\n",
       "  {'denom': 'ibc/3A1278171A373AF397E56171B443E29D057F5B30955DBA5C5EA920ADC67E99BB',\n",
       "   'amount': '1'},\n",
       "  {'denom': 'ibc/3AE129A4129A68BD569B985E887757B4FD0F9E24B86E04ED3917060D32BAF569',\n",
       "   'amount': '1'},\n",
       "  {'denom': 'ibc/3BC7B6FD2C952A7C96F1BE408E049F19D8821EACEDDA4FA284BAB37B4854564A',\n",
       "   'amount': '2000000'},\n",
       "  {'denom': 'ibc/3C168643B15498A2F8BA843649D7CF207EA2F5A7C8AE77BC175EC2FBF21B1BAA',\n",
       "   'amount': '119100000000000000'},\n",
       "  {'denom': 'ibc/3DF5EB0F9512B86848E9C0B8333F811A9334DBA68CE13FF425C9AB2D09ECE753',\n",
       "   'amount': '6875019'},\n",
       "  {'denom': 'ibc/3F18D520CE791A40357D061FAD657CED6B21D023F229EAF131D7FE7CE6F488BD',\n",
       "   'amount': '1338747520'},\n",
       "  {'denom': 'ibc/3F70E88E901A63611399092992BDF1836E66F49B57102D56C10C1772927F2403',\n",
       "   'amount': '1100000000'},\n",
       "  {'denom': 'ibc/42E47A5BA708EBE6E0C227006254F2784E209F4DBD3C6BB77EDC4B29EF875E8E',\n",
       "   'amount': '221504270447992'},\n",
       "  {'denom': 'ibc/4535E39BCB6F931D492B0B01EB291C470416C7BE195110F1BAF0818E543CFE86',\n",
       "   'amount': '5000000'},\n",
       "  {'denom': 'ibc/458ABE3C3F954C04AB7BE753361027C2D18309F78EA81500A9C1AABDEC67560A',\n",
       "   'amount': '10'},\n",
       "  {'denom': 'ibc/461B408D03EEAE9A512C8EA8AF934933644BBEB0F78252A22E86E7035625CF64',\n",
       "   'amount': '1234'},\n",
       "  {'denom': 'ibc/465E4D584A91ACD3E7042300692DE110F83CEFBFB5D6D40A1C75494800410CD6',\n",
       "   'amount': '1240995182'},\n",
       "  {'denom': 'ibc/46D6E12030FF4352A75E6CF2913824B0E37B075B23A19F61A9E573F8007361EA',\n",
       "   'amount': '1110000'},\n",
       "  {'denom': 'ibc/4846F4382B7843861B6C5051134397359C8C94B547E8EA43EFAFEF4E5F7B7625',\n",
       "   'amount': '5711439'},\n",
       "  {'denom': 'ibc/4A98C8AC2C35498162346F28EEBF3206CBEF81F44725FE62A3DB0CC10E88E695',\n",
       "   'amount': '45749200000000000000'},\n",
       "  {'denom': 'ibc/4BAF1EAF87B5D0638D3517FF063774030AA41A62775FB1E9F388349BDF7D1A24',\n",
       "   'amount': '16001092528'},\n",
       "  {'denom': 'ibc/4CB51B3B099916162A0F4E1533B0AA18208F7C7D42ACE698C67DC23C9A4C54CD',\n",
       "   'amount': '832545879'},\n",
       "  {'denom': 'ibc/4D29AE92D3A145C62D7FB88AE96D9341B2A6CC23595FEBD519CBA20337A3F2AA',\n",
       "   'amount': '6336699231'},\n",
       "  {'denom': 'ibc/4FC4C3DD9E65A4E04C44DF4D205756B58C4D43A660D0900A27C5BEB3B9789294',\n",
       "   'amount': '5'},\n",
       "  {'denom': 'ibc/519E831DB5C36338F2D734CAF6CB7FC689B9267E10EE004542732758FB11F6B4',\n",
       "   'amount': '4835074'},\n",
       "  {'denom': 'ibc/52BCA95612A4944995CA31F26588ED1B968DA4CFBBE6D3515F9D60328BBE70D1',\n",
       "   'amount': '51023250'},\n",
       "  {'denom': 'ibc/52C6EB2F7E9CD1B4E5FCFF1F1941361F90C23CF8FECA747633F6027DE89F118A',\n",
       "   'amount': '201713721'},\n",
       "  {'denom': 'ibc/533E5FFC606FD11B8DCA309C66AFD6A1F046EF784A73F323A332CF6823F0EA87',\n",
       "   'amount': '4222952956'},\n",
       "  {'denom': 'ibc/535000B20060BB5D84D08E654539BD9320039BC75E019154B4CBA0601E86148A',\n",
       "   'amount': '2012731'},\n",
       "  {'denom': 'ibc/539EB57BAE88BAC13DB77A040F5649D74C2132879A26D82BF5B77931ED614020',\n",
       "   'amount': '13'},\n",
       "  {'denom': 'ibc/54512837405E95DF093B8374925F5033A319D57FF81CEF237C26F2D7E285725E',\n",
       "   'amount': '3194926'},\n",
       "  {'denom': 'ibc/54A7F26EE14F45C7491BA0CDCA305EA1E7BE2A4EDD342408F1338F2B9E6EAE88',\n",
       "   'amount': '1'},\n",
       "  {'denom': 'ibc/560D0E725FEDF81B11B89FCA67CB18460AFB9D355B136CF9880259ADD0B3341A',\n",
       "   'amount': '503000000000000091'},\n",
       "  {'denom': 'ibc/563D626738D8E0F32414A2C26253EBC96B105380FA9692A7DF717A91F8633C73',\n",
       "   'amount': '1000000000000000'},\n",
       "  {'denom': 'ibc/5662412372381F56C5F83A0404DC7209E5143ABD32EF67B5705DBE8D9C2BF001',\n",
       "   'amount': '36500000'},\n",
       "  {'denom': 'ibc/56FF313CB5E8D118ECE0EC69D3CF4BCBF393B285726D34D43B6F89A984DFAB7A',\n",
       "   'amount': '100000000000000'},\n",
       "  {'denom': 'ibc/57DEEBCB87A2E179F71567CFDD123907A4109A5E790801C4148A4A350A1B6DC4',\n",
       "   'amount': '131829'},\n",
       "  {'denom': 'ibc/57F14B6B1D8590647CCA908E9190DFAC99282C841AFD11FAA2E4CFBB19E6AB30',\n",
       "   'amount': '12531969'},\n",
       "  {'denom': 'ibc/599C557E2B49BDC36752F3C1734C6CF5881722A113300BBB5FF73FB5FFADA1C8',\n",
       "   'amount': '2'},\n",
       "  {'denom': 'ibc/5A66B6DB7A49F5EF247B7F50148F4E91C389736D22D6EF595DECDF395626B77A',\n",
       "   'amount': '810839'},\n",
       "  {'denom': 'ibc/5BAC41A24DE0C0703EA1A77866AC86BF1EF4EA71F26F132D1EFEEAF64405AB54',\n",
       "   'amount': '1070011'},\n",
       "  {'denom': 'ibc/5BB694D466CCF099EF73F165F88472AF51D9C4991EAA42BD1168C5304712CC0D',\n",
       "   'amount': '4321426'},\n",
       "  {'denom': 'ibc/5BD358D2143FD9F696119ECF9A24C86E6FE8402E1FCF252156ED1C7539481C77',\n",
       "   'amount': '11000000'},\n",
       "  {'denom': 'ibc/5E3E8B1254EC43D0189176958CB3DD92497F03D3971757A5D4DF4F32E9C5BBD7',\n",
       "   'amount': '1000'},\n",
       "  {'denom': 'ibc/5E642374260C98897D6A145DBCD768557C4237BA023F96B4FFCDD1E30F57A7EC',\n",
       "   'amount': '1282366'},\n",
       "  {'denom': 'ibc/5F814F0791F8428693252A0A7278ABBA161C10B23B9F0FF3E97C0F21B9B3607E',\n",
       "   'amount': '1'},\n",
       "  {'denom': 'ibc/61299CC2A07EF0366D96E9B370F49DEB9C335152B9267FC6F7A8560A955BC350',\n",
       "   'amount': '5000000'},\n",
       "  {'denom': 'ibc/621EBC891F642B44778FD0E9DACBBC14755280C897DD010AA104889C3FDCED06',\n",
       "   'amount': '36370463'},\n",
       "  {'denom': 'ibc/6469BDA6F62C4F4B8F76629FA1E72A02A3D1DD9E2B22DDB3C3B2296DEAD29AB8',\n",
       "   'amount': '63'},\n",
       "  {'denom': 'ibc/64C6ED520DF36224B43A629916EA925C8BF13B96A49616CB37164D58514D7EF9',\n",
       "   'amount': '137244070616'},\n",
       "  {'denom': 'ibc/66FC28246B9725B037D7D03051762612F0261CB9E151DB4D0D394EA5BA76009B',\n",
       "   'amount': '100'},\n",
       "  {'denom': 'ibc/6745F6061F4B0849894223BFF0B9C37F961DFCF509ED5B339C8708228802F841',\n",
       "   'amount': '1000000'},\n",
       "  {'denom': 'ibc/68A333688E5B07451F95555F8FE510E43EF9D3D44DF0909964F92081EF9BE5A7',\n",
       "   'amount': '321184780882'},\n",
       "  {'denom': 'ibc/69C22F31B25FD51E4712F7E85C29ADDEA49E1C20AF588216787B47729529C5EC',\n",
       "   'amount': '6782177'},\n",
       "  {'denom': 'ibc/6A6CBE51D3026873469B7593AC718D70733E43609775AA122AAFBB73F8AD4F7B',\n",
       "   'amount': '4259228766'},\n",
       "  {'denom': 'ibc/6C2BB0FDAE0ABFF0E965BFFCADEB0D9590F4A011A9EE678413B2F2587F05CB8C',\n",
       "   'amount': '2594666'},\n",
       "  {'denom': 'ibc/6D0A6AB570D4E3E5BF46A3BA4A1FF25A51D5C9E238AC94C187DCD2543F8781EC',\n",
       "   'amount': '9330000'},\n",
       "  {'denom': 'ibc/6ED744BDE05629151CCEA1124D641AEFD65D9CA70C985618F57D6BAF0AD514D7',\n",
       "   'amount': '500000'},\n",
       "  {'denom': 'ibc/6F69BA08C96F5020D87A2F60C6BEE29B7661511C9CE7A117641BAD3BD29E8401',\n",
       "   'amount': '4956268'},\n",
       "  {'denom': 'ibc/70ECFB79E4D5AE52F57DD75B1EC17E048472A40005711DE96FFF1CCE6F4471FE',\n",
       "   'amount': '500'},\n",
       "  {'denom': 'ibc/71C2C26A84996D9E86A007E887FB59649808A7473A89E747738EAE1BEC9311DE',\n",
       "   'amount': '1000'},\n",
       "  {'denom': 'ibc/71EFA0F8B47003A61A3B96BE70347951A961B56C903A508A6C03BCE2C3FED0BF',\n",
       "   'amount': '1000000'},\n",
       "  {'denom': 'ibc/7233992585D925B9159DC6456B37FAB42C71D9F5F46FBF6C63520B73C718DEC7',\n",
       "   'amount': '300010'},\n",
       "  {'denom': 'ibc/73CD9C0E5A4A255D81CAAD97F931084EFD006E68DE0EB0C2CBAA55F6E3B41691',\n",
       "   'amount': '1'},\n",
       "  {'denom': 'ibc/73F4DE2453778EAC29C11815DE2DF6D673B39D3931058767F3B5F2DBA7B69AC8',\n",
       "   'amount': '489642'},\n",
       "  {'denom': 'ibc/7680BD78A4B0ECAA2C2E818777E619E30CB1A8744DB74A65BF7D4E51E5C916A2',\n",
       "   'amount': '10203000'},\n",
       "  {'denom': 'ibc/76E71E69D8B487ECCCF930D24F599B548F1C2F9C8450BE7BEDD53A1F34772ABC',\n",
       "   'amount': '99'},\n",
       "  {'denom': 'ibc/76F23A686501479A6716D3C25141210F15B4156B48724156AB221954CEC2B808',\n",
       "   'amount': '16784901'},\n",
       "  {'denom': 'ibc/77FFA7FB5F19AE6E7091F86AD35714E35FAE82A7794F8A55BDC4E246316D2177',\n",
       "   'amount': '10807081'},\n",
       "  {'denom': 'ibc/78D2E72724FD470E451F08AEB65DBC011106CF76A9FFFD0F61D76178914A0970',\n",
       "   'amount': '990000'},\n",
       "  {'denom': 'ibc/79394A56DB854EF7CFA39C546C73E41C15CDEB2C92BFB566F37767EE07A85D77',\n",
       "   'amount': '3590'},\n",
       "  {'denom': 'ibc/7CA17FC7AE12B7F2A94A93AD1B74F10D751931DD6E69C03F8783C832D71C8E61',\n",
       "   'amount': '1199848'},\n",
       "  {'denom': 'ibc/7CBFE632599EC3393E43D899E05BF671A41BF388CF333FEDA0595C60E345DA27',\n",
       "   'amount': '109527257'},\n",
       "  {'denom': 'ibc/7EFF4F3192C809058AD2E3A6EC040B9E953F3FA949BAE1439D7641D56137F4F5',\n",
       "   'amount': '100000'},\n",
       "  {'denom': 'ibc/80321E1F00839E9A38B04007DE79450861D465AFCA869B4CF2D5078A5F320FFA',\n",
       "   'amount': '478162843767'},\n",
       "  {'denom': 'ibc/8062C496F4A92DE517F4FA91A497020564A5B477C7B8FA210F02BE14FA7596F8',\n",
       "   'amount': '50000'},\n",
       "  {'denom': 'ibc/812128191E8C4DCC10AB764A8A4DA23B8855462D4BD0A834C6F23F3E6878DA07',\n",
       "   'amount': '100000'},\n",
       "  {'denom': 'ibc/81D08BC39FB520EBD948CF017910DD69702D34BF5AC160F76D3B5CFC444EBCE0',\n",
       "   'amount': '473414333694'},\n",
       "  {'denom': 'ibc/82D1FDFA1D3D98852CB0394FBB0EA905D64F86FC336A0537DE47659719E53803',\n",
       "   'amount': '70000000000'},\n",
       "  {'denom': 'ibc/835EE9D00C35D72128F195B50F8A89EB83E5011C43EA0AA00D16348E2208FEBB',\n",
       "   'amount': '1233023'},\n",
       "  {'denom': 'ibc/84DE41E5C6D5B4AAE173757508B84280C4E7CC208BEC958297AB3ABB7C695BA5',\n",
       "   'amount': '303076'},\n",
       "  {'denom': 'ibc/854A2B3F3C679598591411883DF60EF216E0DCA83E141808A55D8C4BC8443641',\n",
       "   'amount': '2456933373'},\n",
       "  {'denom': 'ibc/857BB744A15CE6E4C423DBD4534F4430C3C364EA04316CFC1A69C7B02102BB9A',\n",
       "   'amount': '15002000'},\n",
       "  {'denom': 'ibc/861999A07B9A280A0262C761D2C8E030FDDF9B9E8A09BA8E0A967B0C381BA8E9',\n",
       "   'amount': '100000'},\n",
       "  {'denom': 'ibc/8870C4203CEBF2279BA065E3DE95FC3F8E05A4A93424E7DC707A21514BE353A0',\n",
       "   'amount': '16547503'},\n",
       "  {'denom': 'ibc/88A897D682D5EA9E42B4715BE062346F5DFBA7283A7A03470AD0DAA1E95D5477',\n",
       "   'amount': '10'},\n",
       "  {'denom': 'ibc/8A0303313DF60101F200DE2D3FFFAA8379FBA50243999D58F3F090E4BD01C34B',\n",
       "   'amount': '2000000'},\n",
       "  {'denom': 'ibc/8AF3B27A3ABC09F7DD629A647E4DA132D3ACF90678F8D2B3CD79B57A601C4C6C',\n",
       "   'amount': '600000'},\n",
       "  {'denom': 'ibc/8C9E8A9EFF706DF9853D5E8BD51AF305F49B7CD2A29F50444CDA711FFFA8DB38',\n",
       "   'amount': '1010001100'},\n",
       "  {'denom': 'ibc/8DF0130EDAD6A31B126028A28347FF753A4EAAD655460388D2B170C2CC1D5B42',\n",
       "   'amount': '1'},\n",
       "  {'denom': 'ibc/8E9C956B6B14D458596F73B8A2BFD28DFF17E216DEA78663AB0F31E1A4AE4B83',\n",
       "   'amount': '73509'},\n",
       "  {'denom': 'ibc/8FC21F2C5E48D572DA1A62043F77B1A6CF6CAED425BB33D2090F64D9E8E0AAFF',\n",
       "   'amount': '5000000'},\n",
       "  {'denom': 'ibc/902EB27DB5573282C1200C0E681541C1D4176CF851811530A5B77140777B0769',\n",
       "   'amount': '12000200'},\n",
       "  {'denom': 'ibc/90FA33F7AE39F882D4FE99EA95CEAE6337BE30ED0E1FB98544CC8F0723792218',\n",
       "   'amount': '71000000'},\n",
       "  {'denom': 'ibc/912694C1B675FD114E5223CE5D8A430FD908DDC0549578FF6C75B01A65A2392A',\n",
       "   'amount': '25000000100'},\n",
       "  {'denom': 'ibc/92676DAB5FBF71C5C6E819B065CBF0F2BA3907D6FD58EA7F66A2A2F4E3E3CD82',\n",
       "   'amount': '20000'},\n",
       "  {'denom': 'ibc/932D6003DA334ECBC5B23A071B4287D0A5CC97331197FE9F1C0689BA002A8421',\n",
       "   'amount': '6466099200'},\n",
       "  {'denom': 'ibc/96C56FECE6049162763F68641C90D3E4B899470728317E21EC96CB80A1675C72',\n",
       "   'amount': '1234644'},\n",
       "  {'denom': 'ibc/974934CDEA69DC8DB567A99255F2B0EE52FFEED0C3AAB8045D5F675884172E44',\n",
       "   'amount': '10'},\n",
       "  {'denom': 'ibc/977C824A11AF322AADA025C196ADC3A7F7409E342C35826106F9BF423AF32161',\n",
       "   'amount': '993846321500000003'},\n",
       "  {'denom': 'ibc/97A484736CA933C4B36991B5D7FBF340F500152502594108DD44657802F31DB0',\n",
       "   'amount': '1000000'},\n",
       "  {'denom': 'ibc/97FA0DCB67AD3CEDC07113B7603B8E50E1695F3BC4558B7BF7C3EED65DF0425E',\n",
       "   'amount': '500000'},\n",
       "  {'denom': 'ibc/9833C415A84AABD455F8FB57779D9E97881B4350D6DD7D109483A528E2AF9E62',\n",
       "   'amount': '26906022'},\n",
       "  {'denom': 'ibc/9A7FFF0D0251332931169278F78555D0F94E32E6B6366670A8F6E3FB98DE6CFD',\n",
       "   'amount': '1999877'},\n",
       "  {'denom': 'ibc/9B67CBD3F7DA98392E028E06D36C4FEFA78097D1BC15519751CB0C19573079A9',\n",
       "   'amount': '1000000'},\n",
       "  {'denom': 'ibc/9BE2D8181E4E838E5717677D7E03DABDE38A10C99C5BA40F7A3227C498B38F6C',\n",
       "   'amount': '2420'},\n",
       "  {'denom': 'ibc/9C457F36DB5B349CC11A934B304BFBB03499F21BC35023FEAAA4FB9ACFE2C9F2',\n",
       "   'amount': '777'},\n",
       "  {'denom': 'ibc/9FBA79F830617D8C17C6D22BA1BB069C0515DAF2F942C5D82863552832E00F01',\n",
       "   'amount': '14246703208'},\n",
       "  {'denom': 'ibc/A176A3E92976C7FB0FE2B50DC011D23EC84B50A03A88773EFC19F2738EF323C9',\n",
       "   'amount': '10'},\n",
       "  {'denom': 'ibc/A2A0769D568D330C6C6CAB8B5D827EF8BD9B5D505FCA587DCC8DA694E1799B06',\n",
       "   'amount': '104959261'},\n",
       "  {'denom': 'ibc/A4A79C0E690A9989DAFD6E6E62C67A3C6C9C938E8611496BCF77858EA5D86C57',\n",
       "   'amount': '1000'},\n",
       "  {'denom': 'ibc/A53CB948901A06E1FA71D4B284933114125575375AA9A9B239D9A96C5DCBEC06',\n",
       "   'amount': '781953'},\n",
       "  {'denom': 'ibc/A5BC4D892574D66B851893B7C8311FD6055F2EA189566BE88E9311023D134910',\n",
       "   'amount': '1000000'},\n",
       "  {'denom': 'ibc/A5E27D33CA1E367B852EACD5C22505FD7A58E2C7766E1EEE69BB67F9EF4412AC',\n",
       "   'amount': '119495155'},\n",
       "  {'denom': 'ibc/A83122162A9E0FF5B0B542F1E9695B73B5D0AD8C1475B37711A8D61985DDBEB1',\n",
       "   'amount': '1'},\n",
       "  {'denom': 'ibc/A98B70B3B16F7C82B28956F462BAC2A67DF52897BE5C63B0E11F0AB15D16D52A',\n",
       "   'amount': '10000000000'},\n",
       "  {'denom': 'ibc/A9B856B391FFAF2CABE7CA4A62304EA28FC97A6A187E326A1FA8CB2CF6FDD06A',\n",
       "   'amount': '10161100'},\n",
       "  {'denom': 'ibc/AA0116A8E9F429AFCBEF055DA1A85E2BC5545D0962EAE62E1DE7CDE25DFCDCFA',\n",
       "   'amount': '49478458353496472'},\n",
       "  {'denom': 'ibc/AA6107731C38F1DE5ECB8328CAD46512D16800D42489B6FA0EEF417368568C67',\n",
       "   'amount': '1000000'},\n",
       "  {'denom': 'ibc/AB6A01692B0CC51FAED256A9363E546BAF725EAE5534F67CA7BC7B0508E5D3EC',\n",
       "   'amount': '100000'},\n",
       "  {'denom': 'ibc/AB9FFBEDABA45CDBFD4F8DC98B6F40F0BEF20A75EA70CAA74D81A6AFA6A6B107',\n",
       "   'amount': '543210'},\n",
       "  {'denom': 'ibc/AC71C2F67A124D3E51AED4198AC588DE812B53F17DFE85430297193EFEF4E4FC',\n",
       "   'amount': '8660000'},\n",
       "  {'denom': 'ibc/ACB03194FA2EDB0D78B5F5532BE9C1297885DBDAF5AC95592361BCC69A0C1DB6',\n",
       "   'amount': '500204'},\n",
       "  {'denom': 'ibc/ADBEC1A7AC2FEF73E06B066A1C94DAB6C27924EF7EA3F5A43378150009620284',\n",
       "   'amount': '1312246592232'},\n",
       "  {'denom': 'ibc/AF85DFCAE1823C25CC314D88094DCED3698DFEF3352C183DC32237E49E053F1F',\n",
       "   'amount': '10'},\n",
       "  {'denom': 'ibc/AFE9092771F028A0690548E21D426FB1CA4E6D9F5DC8C6B3FEDF62E9A7A56BA3',\n",
       "   'amount': '1000000'},\n",
       "  {'denom': 'ibc/B17A749B0FD72FA2DF301551D3D91B69D57160A1CE36A40D7F76536891CF0001',\n",
       "   'amount': '52965106'},\n",
       "  {'denom': 'ibc/B1C89F17253FAEAEE8611AC4FA913D06E2E67A38C67F980E018DCEE56BCD0034',\n",
       "   'amount': '1480830043'},\n",
       "  {'denom': 'ibc/B2B5AEE174062FA7804AC95223D8169852F8F58962C51C66391C272C838258B7',\n",
       "   'amount': '1657717704227'},\n",
       "  {'denom': 'ibc/B2E09ADEE9816B9949E6CAAEE38E5BD24624BD99F5D07DE11BD6A104B2BB57C4',\n",
       "   'amount': '10000000000000000'},\n",
       "  {'denom': 'ibc/B636DC89A39575295EE764B3F955512EB6FB0233A9CDA681B5F391CEC48E0CA3',\n",
       "   'amount': '802193'},\n",
       "  {'denom': 'ibc/B92A261BA3A51BEBDEA5A41D3466DA6AED41E177F7DF01FAA128F5877430F977',\n",
       "   'amount': '125000000'},\n",
       "  {'denom': 'ibc/B9636F80F2E32C91D117E24D0E309111A62FF76A01768ED21A377A993EDD432F',\n",
       "   'amount': '10000000000000000000'},\n",
       "  {'denom': 'ibc/B9BAA617A3B4161A4EE037E2699EA766C26415699482C1B77312E6A35983C5C2',\n",
       "   'amount': '1972099'},\n",
       "  {'denom': 'ibc/BAE37B60ED630BAF283BF66B5808F57D0CB3E5958CC9A11696D7EBF726651346',\n",
       "   'amount': '10000000000'},\n",
       "  {'denom': 'ibc/BB33B7C57BBDE022FCC7922819D9018EAE2CE875AAD4D642A595CFC5DF6D63E0',\n",
       "   'amount': '200700016'},\n",
       "  {'denom': 'ibc/BB5D7FBBA895E6E43EAD8D49E084319663139CA438E41796A0ACB657AE64E8F3',\n",
       "   'amount': '2900000000000000000'},\n",
       "  {'denom': 'ibc/BDE165955287C32EE4B125781D1CE37A7F965764FEC3E5ED15DF7CB873BA4279',\n",
       "   'amount': '24'},\n",
       "  {'denom': 'ibc/BEF5255B0786AEB156EFC72C37D5B1269EF0183A377277EFEDE07A8DA91B15C3',\n",
       "   'amount': '1000'},\n",
       "  {'denom': 'ibc/BF1C4FDFC734EB58E49FB33B8111F846F97579C58E258D5390F77CAB016DCDEA',\n",
       "   'amount': '11560521'},\n",
       "  {'denom': 'ibc/BFF9EFDDEF4F3019C9C4ADC2BFB03ED1900AB8404B51D404DF4B9B9D5EEC764B',\n",
       "   'amount': '10'},\n",
       "  {'denom': 'ibc/C04F0D40E3ED58241DFB2E1A1C18F7A4A79374959FC6671861DECEA7575FC667',\n",
       "   'amount': '2000000000000000'},\n",
       "  {'denom': 'ibc/C0E16985AEBFDD5086B8B2C7BC432C82EF8A753EE823A9F2CC48927D5DED7836',\n",
       "   'amount': '1000000000'},\n",
       "  {'denom': 'ibc/C2E93CB53F969FC1FE2C12CAC4EA93358256695DD588534C48F032391E7D4D31',\n",
       "   'amount': '10000000'},\n",
       "  {'denom': 'ibc/C36089D3D468BA1047750B105928D5A46A1EF81B2AF36548A7E79F5925AF7DE9',\n",
       "   'amount': '4950000'},\n",
       "  {'denom': 'ibc/C6D690C0D4ED0752873876A5F2CA1D5CAC6F96FFD3FB584729DCAC77C42DBEDB',\n",
       "   'amount': '1100000'},\n",
       "  {'denom': 'ibc/C932ADFE2B4216397A4F17458B6E4468499B86C3BC8116180F85D799D6F5CC1B',\n",
       "   'amount': '69795979443725'},\n",
       "  {'denom': 'ibc/CA762713B4AE051660CEBA13D9EBB0EB9965A1C9BA5177BB96F002A380629F2C',\n",
       "   'amount': '100000000'},\n",
       "  {'denom': 'ibc/CBB95FCB60794A4D54E5706B5506D2BABBBEB542B0AD0A40D8688244C9A78D11',\n",
       "   'amount': '1'},\n",
       "  {'denom': 'ibc/CD1C69FB17355B0972385633BC0A8E519C42BD8409BD6964AEEE57E04F9F69BD',\n",
       "   'amount': '1000'},\n",
       "  {'denom': 'ibc/CD2B369F894163319E437B1A5EDE74AECE7F4533B8121308DBE6F5097F50AAF1',\n",
       "   'amount': '100000'},\n",
       "  {'denom': 'ibc/CDAB23DA5495290063363BD1C3499E26189036302DC689985A7E23F8DF8D8DB0',\n",
       "   'amount': '103627638'},\n",
       "  {'denom': 'ibc/CDCEF72D3C0C3801D366B32E7304973AC265D592AE9474F25DC1112E62583CDE',\n",
       "   'amount': '5433655'},\n",
       "  {'denom': 'ibc/CDF0B3B3B096CDDB0A5005E7198500B433E9D35FE88FE5FE80A8B0E1C72ACD4E',\n",
       "   'amount': '1000000'},\n",
       "  {'denom': 'ibc/CED3371B5000811FECF3FA4A70B9E4BD109C681574232436ADF553079FCCF29C',\n",
       "   'amount': '49000'},\n",
       "  {'denom': 'ibc/CF302234E3F454701E7372856611106F86DCCB21F99FA3560ED0E15F550A9A15',\n",
       "   'amount': '6000000'},\n",
       "  {'denom': 'ibc/D112D1F6923BB78A452ABFAA53E4568BA1E5C10EDEECD65F81C3383496301AF7',\n",
       "   'amount': '683294473467'},\n",
       "  {'denom': 'ibc/D6688E1B08EB99AB3E74B8964F10834B50D62C0046D150F495EF3FEA77F9A228',\n",
       "   'amount': '14942569'},\n",
       "  {'denom': 'ibc/D9812E55817B60C8B9063EEEF9A7BE7F090C40E2F13DAE6CE50EEF34CAD68B3F',\n",
       "   'amount': '9000000'},\n",
       "  {'denom': 'ibc/DA516182BDC455111803807AAFC827DF2321F3C39A279EC6C0DD940DAC8CDC97',\n",
       "   'amount': '511000'},\n",
       "  {'denom': 'ibc/DB0DD37576C1EE00465407327DF73DDC683B351D047B7A0165929E0AE4F4DC4A',\n",
       "   'amount': '50010'},\n",
       "  {'denom': 'ibc/DBCE959F66C04E186C8267DC3E10FBF37563B469DB14DD6574C1287EB4F2671A',\n",
       "   'amount': '1020000'},\n",
       "  {'denom': 'ibc/DC2C7CDBCD6A0E39694E99F31EAA796BA787250E4DDB73A7D9F05C42DCA1DA84',\n",
       "   'amount': '6529219'},\n",
       "  {'denom': 'ibc/DCD1849E20837BC8FB2C252A7AE1D8AA7A1876911EE669E6CE6FDF9FEA54083D',\n",
       "   'amount': '240848192325161'},\n",
       "  {'denom': 'ibc/DD0B6DBBD20F9FA7841F0CA12A10F7507890095374DD786435071864712FCE8B',\n",
       "   'amount': '184469558'},\n",
       "  {'denom': 'ibc/DD6665717C3B0C48544058206E7177248F70DE2B09F3B3CE281C60D4CED34B78',\n",
       "   'amount': '50765563'},\n",
       "  {'denom': 'ibc/DDC3CDD2C36C28973FF303B492F62AC195CCC28D759C543E03354282A5FB47ED',\n",
       "   'amount': '1000'},\n",
       "  {'denom': 'ibc/DEB372AB238538BD473A6C379DCD8C1B4E3023C99957A7A5A7CCB1B0031849E9',\n",
       "   'amount': '100000000000000000'},\n",
       "  {'denom': 'ibc/DEC41A02E47658D40FC71E5A35A9C807111F5A6662A3FB5DA84C4E6F53E616B3',\n",
       "   'amount': '127482876'},\n",
       "  {'denom': 'ibc/DF238CD259CD37AC9D9C085E3BA9770DF5DC8851C704DE350C77C50783D5ED6C',\n",
       "   'amount': '8540724'},\n",
       "  {'denom': 'ibc/DF3FB29F461503646FE5D5F7E40DDF76E2F981B7BA2B56031CFACE1CFC461729',\n",
       "   'amount': '900000000'},\n",
       "  {'denom': 'ibc/DF940414E6371DFE46748E6C520F6BB481A73FDF1AD2624725652211A0429273',\n",
       "   'amount': '1234567'},\n",
       "  {'denom': 'ibc/E070CE91CC4BD15AEC9B5788C0826755AAD35052A3037E9AC62BE70B4C9A7DBB',\n",
       "   'amount': '3943546732'},\n",
       "  {'denom': 'ibc/E23789E9F8102FECA1A2DCD3EAC8F6CF089D9E67CD22AC66C1D1FE8D0BE3CC26',\n",
       "   'amount': '70976865'},\n",
       "  {'denom': 'ibc/E2844A04A5DE4BDEC499251DB902F273369470F7FEDB6682952530CEBF99BABA',\n",
       "   'amount': '1000000'},\n",
       "  {'denom': 'ibc/E3737B5FD04C410A3F4A86293EFB8A560C93119A203B112FF0873CA748BEBB99',\n",
       "   'amount': '8571777612'},\n",
       "  {'denom': 'ibc/E3FDA6AFDB1BF3691255716806EB68634F104ACE9D750EA60224DC9E6B906298',\n",
       "   'amount': '100'},\n",
       "  {'denom': 'ibc/E6F4B55B4C89B26F0DEFC76B6F2D7C703BBE2C806DBBBE056B86C0FF97A24F3D',\n",
       "   'amount': '215785258'},\n",
       "  {'denom': 'ibc/E71D74AC4AE2845B8E514624AE5273FEBA8EB0C42F527DDEA7FA94915A32F142',\n",
       "   'amount': '333174926'},\n",
       "  {'denom': 'ibc/E7D5E9D0E9BF8B7354929A817DD28D4D017E745F638954764AA88522A7A409EC',\n",
       "   'amount': '3437820802697'},\n",
       "  {'denom': 'ibc/E8F578B93A25BAE12A8BAD4C6973CF6D3BEB9AC019C8C77E566CE1FFB8F010F3',\n",
       "   'amount': '162940200000000000000'},\n",
       "  {'denom': 'ibc/EAE4BF33CA0074186121B532289707E006B4C6294025CA6D5397293B287E98A5',\n",
       "   'amount': '10000000'},\n",
       "  {'denom': 'ibc/EAFDFD96349D3CBF496F91128D51221D53BDB06CB15C7AE85BD309ABC6EFFBA1',\n",
       "   'amount': '1180000'},\n",
       "  {'denom': 'ibc/EB92C6FAD5A99050D2FCCEC37FFB1E913B93E5622A59885F169A1A009A147079',\n",
       "   'amount': '1'},\n",
       "  {'denom': 'ibc/EC118CDADA85AAA1823B35F6B72DC7A7132D080418B9515051D161552962B70B',\n",
       "   'amount': '150000000000000000'},\n",
       "  {'denom': 'ibc/EC4B5D87917DD5668D9998146F82D70FDF86652DB333D04CE29D1EB18E296AF5',\n",
       "   'amount': '1912000'},\n",
       "  {'denom': 'ibc/ED7406B0BD7DB1271CA0839F112CDCD84796442D3F6B7A774F989C9AEEA72707',\n",
       "   'amount': '5'},\n",
       "  {'denom': 'ibc/EF0DFC4851126BA61650BEB46CF67D37859246BA20D7DC4CD0FA1B3B118927C1',\n",
       "   'amount': '4950000'},\n",
       "  {'denom': 'ibc/EF5D92D089048638894A9EEF7765CFD682FC71E50C4760A3970E33375D689281',\n",
       "   'amount': '10000000000000000000'},\n",
       "  {'denom': 'ibc/F02E88911AE47874FEA3F7333748DB54F42415018464B52074800CDBB7F9F2D7',\n",
       "   'amount': '20957764967'},\n",
       "  {'denom': 'ibc/F17BD1CE871E2E29D42B336FD471959F7719F2BCB203571F7D28A0C05C6A6C64',\n",
       "   'amount': '50000'},\n",
       "  {'denom': 'ibc/F5A22BEAA340446A5E85025BF9BCF883E484F4CC6452F215C5B62CE91A06ED0C',\n",
       "   'amount': '30'},\n",
       "  {'denom': 'ibc/F5ED5F3DC6F0EF73FA455337C027FE91ABCB375116BF51A228E44C493E020A09',\n",
       "   'amount': '501298438490673209436'},\n",
       "  {'denom': 'ibc/F63AC494F72CAD1B05FD99194BC765B16A83D0306E30688ADDB52867C493BCE4',\n",
       "   'amount': '1600090'},\n",
       "  {'denom': 'ibc/F683FCA3C6BBC6924D8BD651751DE36D395680611EEA8D72EB0798475C35D6BD',\n",
       "   'amount': '627963172473'},\n",
       "  {'denom': 'ibc/F6F9DA5F63AEB211898BF7A675161750A3DDAF9BDAC00194145504308BA8442E',\n",
       "   'amount': '1099273519'},\n",
       "  {'denom': 'ibc/F7AA8487A9FACE44A46AC1CD9A668EA10F9F16389F8591555C674FCD8CF70D5F',\n",
       "   'amount': '4632000'},\n",
       "  {'denom': 'ibc/F871EFABE94BCF72D386F0FBCACE79A63000B7A9C19B00B65CD16EA229693F66',\n",
       "   'amount': '35025239417'},\n",
       "  {'denom': 'ibc/F88BA88F3DEADCFDD835FA341537C47CFF00ABB017C566F9EDD46102D1A480DE',\n",
       "   'amount': '5010000'},\n",
       "  {'denom': 'ibc/FB6BDFCBC1A211B1CDE07599C88862371DFCDE45CD7FFA2FC6C3EA3A648F2B78',\n",
       "   'amount': '12459389749'},\n",
       "  {'denom': 'ibc/FE0FD152BC39C62485BF93F27D4F7257DB9570637E67574699F72B8B11DA8312',\n",
       "   'amount': '1'},\n",
       "  {'denom': 'ibc/FEE3FB19682DAAAB02A0328A2B84A80E7DDFE5BA48F7D2C8C30AAC649B8DD519',\n",
       "   'amount': '200000'},\n",
       "  {'denom': 'ibc/FF1FFD48ED80D891B8A75891D28B69038F33C37ECC8BCF542420FDFD2AA019F8',\n",
       "   'amount': '3000000'},\n",
       "  {'denom': 'pool2B9C24833CAA268C9081EC251693A724E8D343FC25A841FF00FD37B047BA4DEA',\n",
       "   'amount': '65770386'},\n",
       "  {'denom': 'pool32DD066BE949E5FDCC7DC09EBB67C7301D0CA957C2EF56A39B37430165447DAC',\n",
       "   'amount': '113955'},\n",
       "  {'denom': 'pool4BFAFC499776D30A4FA0D6033135F00CC4EFC770D19A74CAD37433B579F77FC0',\n",
       "   'amount': '49769'},\n",
       "  {'denom': 'pool60EFB07817D6B193A9FADA611404B8E11D82D6B7F0D10D57D3134C93E2BF7414',\n",
       "   'amount': '22096'},\n",
       "  {'denom': 'pool7AE391C099D1D88CC85A9FA8A0DC5650BF8DDE0DCE7D0824C073802C020A7747',\n",
       "   'amount': '19909'},\n",
       "  {'denom': 'poolAC9AF7B48E4497A0A9AF109E4286464A0EF06E7C35AD79198F03AB17A6A4CCA7',\n",
       "   'amount': '8344'},\n",
       "  {'denom': 'poolB457CE9240C221C0F76952FED6506F74375EDD38B32A6020B7DDDFD5A4867D5C',\n",
       "   'amount': '1227764'},\n",
       "  {'denom': 'poolBD5F1AF7A8B1F068C178F1D637DF126968EC10AB204A10116E320B2B8AF4FAC2',\n",
       "   'amount': '88147'},\n",
       "  {'denom': 'poolCF8B847997F5EB92B9C8DBAE41656F61D6BE708B1B42D31063291813014AD63F',\n",
       "   'amount': '1113316'},\n",
       "  {'denom': 'poolD1121E78E731AFD35FEA13CF9FA0044A1472F73A0EE784160CCAAAAE5C7AAD7E',\n",
       "   'amount': '8394'},\n",
       "  {'denom': 'poolD639A99414646D7136C65C6845D0EB3456EDD3D6C2C43050D3FA3A24995B0E75',\n",
       "   'amount': '127636416'},\n",
       "  {'denom': 'poolDFB8434D5A80B4EAFA94B6878BD5B85265AC6C5D37204AB899B1C3C52543DA7E',\n",
       "   'amount': '13311061827'},\n",
       "  {'denom': 'poolE71FE13681A283B7015E4E4C4852B0EDA72CC97A5CDE2ECA2A6C8C06C86AC775',\n",
       "   'amount': '253756908'},\n",
       "  {'denom': 'poolF2805980C54E1474BDCCF70EF5FE881F3B8EFCF8BA3198765C01D91904521788',\n",
       "   'amount': '14469'},\n",
       "  {'denom': 'poolFD005C5AB01714A4B62E87F5213F5D5CDE357773D70712916A93664BCE5A6931',\n",
       "   'amount': '3409697021'},\n",
       "  {'denom': 'uatom', 'amount': '298626222567797'}],\n",
       " 'pagination': {}}"
      ]
     },
     "execution_count": 286,
     "metadata": {},
     "output_type": "execute_result"
    }
   ],
   "source": [
    "data['total_supply_tokens']"
   ]
  },
  {
   "cell_type": "code",
   "execution_count": 259,
   "metadata": {},
   "outputs": [],
   "source": [
    "total_supply = pd.DataFrame(data['total_supply_tokens']['supply'])"
   ]
  },
  {
   "cell_type": "code",
   "execution_count": 260,
   "metadata": {},
   "outputs": [],
   "source": [
    "url = 'https://api-osmosis.imperator.co/pools/v2/all?low_liquidity=false'\n",
    "response = requests.get(url, headers= {'accept': 'application/json'})\n",
    "if response.ok:\n",
    "    data = response.json()\n",
    "\n",
    "    df = pd.DataFrame()\n",
    "    for key in data.keys():\n",
    "        tdf = pd.DataFrame(data[key])\n",
    "        tdf['pool_id'] = key\n",
    "        df = df.append(tdf)\n",
    "\n",
    "    ddf = df.drop_duplicates(subset='pool_id')\n",
    "    ids = list(ddf['pool_id'].loc[ddf['liquidity'].isin(ddf['liquidity'].nlargest(10))])"
   ]
  },
  {
   "cell_type": "code",
   "execution_count": 278,
   "metadata": {},
   "outputs": [],
   "source": [
    "tdf = df.loc[df['pool_id'] == ids[1]]"
   ]
  },
  {
   "cell_type": "code",
   "execution_count": 279,
   "metadata": {},
   "outputs": [
    {
     "data": {
      "text/html": [
       "<div>\n",
       "<style scoped>\n",
       "    .dataframe tbody tr th:only-of-type {\n",
       "        vertical-align: middle;\n",
       "    }\n",
       "\n",
       "    .dataframe tbody tr th {\n",
       "        vertical-align: top;\n",
       "    }\n",
       "\n",
       "    .dataframe thead th {\n",
       "        text-align: right;\n",
       "    }\n",
       "</style>\n",
       "<table border=\"1\" class=\"dataframe\">\n",
       "  <thead>\n",
       "    <tr style=\"text-align: right;\">\n",
       "      <th></th>\n",
       "      <th>symbol</th>\n",
       "      <th>amount</th>\n",
       "      <th>denom</th>\n",
       "      <th>coingecko_id</th>\n",
       "      <th>liquidity</th>\n",
       "      <th>liquidity_24h_change</th>\n",
       "      <th>volume_24h</th>\n",
       "      <th>volume_24h_change</th>\n",
       "      <th>volume_7d</th>\n",
       "      <th>price</th>\n",
       "      <th>fees</th>\n",
       "      <th>main</th>\n",
       "      <th>pool_id</th>\n",
       "    </tr>\n",
       "  </thead>\n",
       "  <tbody>\n",
       "    <tr>\n",
       "      <th>0</th>\n",
       "      <td>JUNO</td>\n",
       "      <td>1.305051e+06</td>\n",
       "      <td>ibc/46B44899322F3CD854D2D46DEEF881958467CDD4B3...</td>\n",
       "      <td>juno-network</td>\n",
       "      <td>6.388559e+06</td>\n",
       "      <td>-3.877527</td>\n",
       "      <td>205954.926023</td>\n",
       "      <td>-51.765194</td>\n",
       "      <td>1.667714e+06</td>\n",
       "      <td>2.447628</td>\n",
       "      <td>0.3%</td>\n",
       "      <td>True</td>\n",
       "      <td>497</td>\n",
       "    </tr>\n",
       "    <tr>\n",
       "      <th>1</th>\n",
       "      <td>OSMO</td>\n",
       "      <td>4.124375e+06</td>\n",
       "      <td>uosmo</td>\n",
       "      <td>osmosis</td>\n",
       "      <td>6.388559e+06</td>\n",
       "      <td>-3.877527</td>\n",
       "      <td>205954.926023</td>\n",
       "      <td>-51.765194</td>\n",
       "      <td>1.667714e+06</td>\n",
       "      <td>0.774488</td>\n",
       "      <td>0.3%</td>\n",
       "      <td>True</td>\n",
       "      <td>497</td>\n",
       "    </tr>\n",
       "  </tbody>\n",
       "</table>\n",
       "</div>"
      ],
      "text/plain": [
       "  symbol        amount                                              denom  \\\n",
       "0   JUNO  1.305051e+06  ibc/46B44899322F3CD854D2D46DEEF881958467CDD4B3...   \n",
       "1   OSMO  4.124375e+06                                              uosmo   \n",
       "\n",
       "   coingecko_id     liquidity  liquidity_24h_change     volume_24h  \\\n",
       "0  juno-network  6.388559e+06             -3.877527  205954.926023   \n",
       "1       osmosis  6.388559e+06             -3.877527  205954.926023   \n",
       "\n",
       "   volume_24h_change     volume_7d     price  fees  main pool_id  \n",
       "0         -51.765194  1.667714e+06  2.447628  0.3%  True     497  \n",
       "1         -51.765194  1.667714e+06  0.774488  0.3%  True     497  "
      ]
     },
     "execution_count": 279,
     "metadata": {},
     "output_type": "execute_result"
    }
   ],
   "source": [
    "tdf"
   ]
  },
  {
   "cell_type": "code",
   "execution_count": 281,
   "metadata": {},
   "outputs": [
    {
     "data": {
      "text/html": [
       "<div>\n",
       "<style scoped>\n",
       "    .dataframe tbody tr th:only-of-type {\n",
       "        vertical-align: middle;\n",
       "    }\n",
       "\n",
       "    .dataframe tbody tr th {\n",
       "        vertical-align: top;\n",
       "    }\n",
       "\n",
       "    .dataframe thead th {\n",
       "        text-align: right;\n",
       "    }\n",
       "</style>\n",
       "<table border=\"1\" class=\"dataframe\">\n",
       "  <thead>\n",
       "    <tr style=\"text-align: right;\">\n",
       "      <th></th>\n",
       "      <th>denom</th>\n",
       "      <th>amount</th>\n",
       "    </tr>\n",
       "  </thead>\n",
       "  <tbody>\n",
       "  </tbody>\n",
       "</table>\n",
       "</div>"
      ],
      "text/plain": [
       "Empty DataFrame\n",
       "Columns: [denom, amount]\n",
       "Index: []"
      ]
     },
     "execution_count": 281,
     "metadata": {},
     "output_type": "execute_result"
    }
   ],
   "source": [
    "total_supply.loc[total_supply['denom'] == tdf['denom'].iloc[0]]"
   ]
  },
  {
   "cell_type": "code",
   "execution_count": null,
   "metadata": {},
   "outputs": [],
   "source": []
  },
  {
   "cell_type": "code",
   "execution_count": null,
   "metadata": {},
   "outputs": [],
   "source": []
  },
  {
   "cell_type": "markdown",
   "metadata": {},
   "source": [
    "### Montly active users"
   ]
  },
  {
   "cell_type": "code",
   "execution_count": null,
   "metadata": {},
   "outputs": [],
   "source": []
  },
  {
   "cell_type": "markdown",
   "metadata": {},
   "source": [
    "### Average Trade Exection Time"
   ]
  },
  {
   "cell_type": "markdown",
   "metadata": {},
   "source": [
    "Block time: https://www.mintscan.io/cosmos/validators\n",
    "\n",
    "6.86s "
   ]
  },
  {
   "cell_type": "markdown",
   "metadata": {},
   "source": [
    "### Implied Slippage "
   ]
  },
  {
   "cell_type": "code",
   "execution_count": 225,
   "metadata": {},
   "outputs": [],
   "source": [
    "def balancer_slippage(tdf, dollar_value):\n",
    "    ep = tdf['amount'].iloc[-1]/tdf['amount'].iloc[0]\n",
    "    token0amountin = dollar_value/(tdf['price'].iloc[0])\n",
    "    token1out = token0amountin*(1-(tdf['amount'].iloc[0]/(tdf['amount'].iloc[0]+tdf['amount'].iloc[-1])))\n",
    "    nep = (tdf['amount'].iloc[-1] - token1out)/(tdf['amount'].iloc[0]+ token0amountin)\n",
    "    slipage = abs(ep/nep -1)\n",
    "    return slipage"
   ]
  },
  {
   "cell_type": "code",
   "execution_count": 226,
   "metadata": {},
   "outputs": [],
   "source": [
    "def get_slippage():\n",
    "    url = 'https://api-osmosis.imperator.co/pools/v2/all?low_liquidity=false'\n",
    "    response = requests.get(url, headers= {'accept': 'application/json'})\n",
    "    if response.ok:\n",
    "        data = response.json()\n",
    "\n",
    "        df = pd.DataFrame()\n",
    "        for key in data.keys():\n",
    "            tdf = pd.DataFrame(data[key])\n",
    "            tdf['pool_id'] = key\n",
    "            df = df.append(tdf)\n",
    "\n",
    "        ddf = df.drop_duplicates(subset='pool_id')\n",
    "        ids = list(ddf['pool_id'].loc[ddf['liquidity'].isin(ddf['liquidity'].nlargest(10))])\n",
    "\n",
    "        slip1000 = []\n",
    "        slip10000 = []\n",
    "        slip100000 = []\n",
    "        for i in range(len(ids)):\n",
    "            tdf = df.loc[df['pool_id'] == ids[i]]\n",
    "            slip1000.append(balancer_slippage(tdf, 1000))\n",
    "            slip10000.append(balancer_slippage(tdf, 10000))\n",
    "            slip100000.append(balancer_slippage(tdf, 100000))\n",
    "            \n",
    "        return  slip1000, slip10000, slip100000\n",
    "\n",
    "    else:\n",
    "        raise KeyError('Endpoint could be fucked!')\n"
   ]
  },
  {
   "cell_type": "code",
   "execution_count": 228,
   "metadata": {},
   "outputs": [],
   "source": [
    "s1, s2, s3 = get_slippage()"
   ]
  },
  {
   "cell_type": "code",
   "execution_count": 230,
   "metadata": {},
   "outputs": [
    {
     "data": {
      "text/plain": [
       "0.0006580321466434169"
      ]
     },
     "execution_count": 230,
     "metadata": {},
     "output_type": "execute_result"
    }
   ],
   "source": [
    "np.mean(s1)"
   ]
  },
  {
   "cell_type": "code",
   "execution_count": 233,
   "metadata": {},
   "outputs": [
    {
     "data": {
      "text/plain": [
       "0.006603324677011501"
      ]
     },
     "execution_count": 233,
     "metadata": {},
     "output_type": "execute_result"
    }
   ],
   "source": [
    "np.mean(s2)"
   ]
  },
  {
   "cell_type": "code",
   "execution_count": 234,
   "metadata": {},
   "outputs": [
    {
     "data": {
      "text/plain": [
       "0.06846529943753894"
      ]
     },
     "execution_count": 234,
     "metadata": {},
     "output_type": "execute_result"
    }
   ],
   "source": [
    "np.mean(s3)"
   ]
  },
  {
   "cell_type": "code",
   "execution_count": null,
   "metadata": {},
   "outputs": [],
   "source": []
  },
  {
   "cell_type": "markdown",
   "metadata": {},
   "source": [
    "### MEV"
   ]
  },
  {
   "cell_type": "code",
   "execution_count": null,
   "metadata": {},
   "outputs": [],
   "source": []
  },
  {
   "cell_type": "code",
   "execution_count": null,
   "metadata": {},
   "outputs": [],
   "source": []
  },
  {
   "cell_type": "code",
   "execution_count": null,
   "metadata": {},
   "outputs": [],
   "source": []
  }
 ],
 "metadata": {
  "kernelspec": {
   "display_name": "Python 3.8.10 64-bit",
   "language": "python",
   "name": "python3"
  },
  "language_info": {
   "codemirror_mode": {
    "name": "ipython",
    "version": 3
   },
   "file_extension": ".py",
   "mimetype": "text/x-python",
   "name": "python",
   "nbconvert_exporter": "python",
   "pygments_lexer": "ipython3",
   "version": "3.8.10"
  },
  "orig_nbformat": 4,
  "vscode": {
   "interpreter": {
    "hash": "31f2aee4e71d21fbe5cf8b01ff0e069b9275f58929596ceb00d14d90e3e16cd6"
   }
  }
 },
 "nbformat": 4,
 "nbformat_minor": 2
}
