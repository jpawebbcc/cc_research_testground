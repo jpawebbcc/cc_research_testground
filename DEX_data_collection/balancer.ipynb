{
 "cells": [
  {
   "cell_type": "markdown",
   "metadata": {},
   "source": [
    "## Messari standardised subgraphs\n",
    "\n",
    "https://github.com/messari/subgraphs\n",
    "\n",
    "### Balancer\n",
    "\n",
    "https://api.thegraph.com/subgraphs/name/messari/balancer-v2-ethereum"
   ]
  },
  {
   "cell_type": "code",
   "execution_count": 1,
   "metadata": {},
   "outputs": [],
   "source": [
    "import pandas as pd\n",
    "import numpy as np\n",
    "import time\n",
    "import requests\n",
    "import datetime as dt"
   ]
  },
  {
   "cell_type": "code",
   "execution_count": 2,
   "metadata": {},
   "outputs": [],
   "source": [
    "endpoint = 'https://api.thegraph.com/subgraphs/name/messari/balancer-v2-ethereum'"
   ]
  },
  {
   "cell_type": "markdown",
   "metadata": {},
   "source": [
    "6-Month Average Daily Volume"
   ]
  },
  {
   "cell_type": "code",
   "execution_count": 3,
   "metadata": {},
   "outputs": [],
   "source": [
    "query = \"\"\"{\n",
    "  financialsDailySnapshots(first: 183, orderBy: timestamp, orderDirection: desc){\n",
    "    id\n",
    "    protocol{\n",
    "      name\n",
    "    }\n",
    "    dailyVolumeUSD\n",
    "    dailyTotalRevenueUSD\n",
    "    dailySupplySideRevenueUSD\n",
    "    dailyProtocolSideRevenueUSD\n",
    "    timestamp\n",
    "    blockNumber\n",
    "  }\n",
    "}\n",
    "\"\"\""
   ]
  },
  {
   "cell_type": "code",
   "execution_count": 4,
   "metadata": {},
   "outputs": [],
   "source": [
    "request = requests.post(endpoint, json={'query':query})\n",
    "data = request.json()"
   ]
  },
  {
   "cell_type": "code",
   "execution_count": 5,
   "metadata": {},
   "outputs": [],
   "source": [
    "df = pd.json_normalize(data['data']['financialsDailySnapshots'])"
   ]
  },
  {
   "cell_type": "code",
   "execution_count": 6,
   "metadata": {},
   "outputs": [
    {
     "data": {
      "text/plain": [
       "108344346.07359475"
      ]
     },
     "execution_count": 6,
     "metadata": {},
     "output_type": "execute_result"
    }
   ],
   "source": [
    "df['dailyVolumeUSD'].astype(float).mean()"
   ]
  },
  {
   "cell_type": "markdown",
   "metadata": {},
   "source": [
    "6-Month Average TVL"
   ]
  },
  {
   "cell_type": "code",
   "execution_count": 18,
   "metadata": {},
   "outputs": [],
   "source": [
    "#DefiLlama https://defillama.com/protocols/dexes \n",
    "lma = pd.read_csv(\"https://api.llama.fi/dataset/balancer.csv\")"
   ]
  },
  {
   "cell_type": "code",
   "execution_count": 19,
   "metadata": {},
   "outputs": [
    {
     "data": {
      "text/html": [
       "<div>\n",
       "<style scoped>\n",
       "    .dataframe tbody tr th:only-of-type {\n",
       "        vertical-align: middle;\n",
       "    }\n",
       "\n",
       "    .dataframe tbody tr th {\n",
       "        vertical-align: top;\n",
       "    }\n",
       "\n",
       "    .dataframe thead th {\n",
       "        text-align: right;\n",
       "    }\n",
       "</style>\n",
       "<table border=\"1\" class=\"dataframe\">\n",
       "  <thead>\n",
       "    <tr style=\"text-align: right;\">\n",
       "      <th></th>\n",
       "      <th>Unnamed: 0</th>\n",
       "      <th>Date</th>\n",
       "      <th>Timestamp</th>\n",
       "      <th>Balancer</th>\n",
       "      <th>Balancer.1</th>\n",
       "      <th>Balancer.2</th>\n",
       "      <th>Balancer.3</th>\n",
       "      <th>Balancer.4</th>\n",
       "      <th>Balancer.5</th>\n",
       "      <th>Balancer.6</th>\n",
       "      <th>Balancer.7</th>\n",
       "      <th>Balancer.8</th>\n",
       "      <th>Balancer.9</th>\n",
       "      <th>Balancer.10</th>\n",
       "      <th>Balancer.11</th>\n",
       "    </tr>\n",
       "  </thead>\n",
       "  <tbody>\n",
       "    <tr>\n",
       "      <th>0</th>\n",
       "      <td>NaN</td>\n",
       "      <td>NaN</td>\n",
       "      <td>NaN</td>\n",
       "      <td>Dexes</td>\n",
       "      <td>Dexes</td>\n",
       "      <td>Dexes</td>\n",
       "      <td>Dexes</td>\n",
       "      <td>Dexes</td>\n",
       "      <td>Dexes</td>\n",
       "      <td>Dexes</td>\n",
       "      <td>Dexes</td>\n",
       "      <td>Dexes</td>\n",
       "      <td>Dexes</td>\n",
       "      <td>Dexes</td>\n",
       "      <td>Dexes</td>\n",
       "    </tr>\n",
       "    <tr>\n",
       "      <th>1</th>\n",
       "      <td>NaN</td>\n",
       "      <td>NaN</td>\n",
       "      <td>NaN</td>\n",
       "      <td>ethereum</td>\n",
       "      <td>polygon</td>\n",
       "      <td>arbitrum</td>\n",
       "      <td>Total</td>\n",
       "      <td>ethereum</td>\n",
       "      <td>polygon</td>\n",
       "      <td>arbitrum</td>\n",
       "      <td>Total</td>\n",
       "      <td>ethereum</td>\n",
       "      <td>polygon</td>\n",
       "      <td>arbitrum</td>\n",
       "      <td>Total</td>\n",
       "    </tr>\n",
       "    <tr>\n",
       "      <th>2</th>\n",
       "      <td>NaN</td>\n",
       "      <td>NaN</td>\n",
       "      <td>NaN</td>\n",
       "      <td>TVL</td>\n",
       "      <td>TVL</td>\n",
       "      <td>TVL</td>\n",
       "      <td>TVL</td>\n",
       "      <td>Tokens(USD)</td>\n",
       "      <td>Tokens(USD)</td>\n",
       "      <td>Tokens(USD)</td>\n",
       "      <td>Tokens(USD)</td>\n",
       "      <td>Tokens</td>\n",
       "      <td>Tokens</td>\n",
       "      <td>Tokens</td>\n",
       "      <td>Tokens</td>\n",
       "    </tr>\n",
       "    <tr>\n",
       "      <th>3</th>\n",
       "      <td>NaN</td>\n",
       "      <td>NaN</td>\n",
       "      <td>NaN</td>\n",
       "      <td>NaN</td>\n",
       "      <td>NaN</td>\n",
       "      <td>NaN</td>\n",
       "      <td>NaN</td>\n",
       "      <td>USDT</td>\n",
       "      <td>USDT</td>\n",
       "      <td>USDT</td>\n",
       "      <td>USDT</td>\n",
       "      <td>USDT</td>\n",
       "      <td>USDT</td>\n",
       "      <td>USDT</td>\n",
       "      <td>USDT</td>\n",
       "    </tr>\n",
       "    <tr>\n",
       "      <th>4</th>\n",
       "      <td>NaN</td>\n",
       "      <td>24/03/2020</td>\n",
       "      <td>1.585008e+09</td>\n",
       "      <td>7833.948843186513</td>\n",
       "      <td>NaN</td>\n",
       "      <td>NaN</td>\n",
       "      <td>7833.948843186513</td>\n",
       "      <td>7833.948843186513</td>\n",
       "      <td>NaN</td>\n",
       "      <td>NaN</td>\n",
       "      <td>7833.948843186513</td>\n",
       "      <td>7808.045244</td>\n",
       "      <td>NaN</td>\n",
       "      <td>NaN</td>\n",
       "      <td>7808.045244</td>\n",
       "    </tr>\n",
       "    <tr>\n",
       "      <th>...</th>\n",
       "      <td>...</td>\n",
       "      <td>...</td>\n",
       "      <td>...</td>\n",
       "      <td>...</td>\n",
       "      <td>...</td>\n",
       "      <td>...</td>\n",
       "      <td>...</td>\n",
       "      <td>...</td>\n",
       "      <td>...</td>\n",
       "      <td>...</td>\n",
       "      <td>...</td>\n",
       "      <td>...</td>\n",
       "      <td>...</td>\n",
       "      <td>...</td>\n",
       "      <td>...</td>\n",
       "    </tr>\n",
       "    <tr>\n",
       "      <th>845</th>\n",
       "      <td>NaN</td>\n",
       "      <td>14/07/2022</td>\n",
       "      <td>1.657757e+09</td>\n",
       "      <td>1216269288.255335</td>\n",
       "      <td>39158513.836108</td>\n",
       "      <td>11592946.567114</td>\n",
       "      <td>1267020748.6585572</td>\n",
       "      <td>1216269288.255335</td>\n",
       "      <td>39158513.836108</td>\n",
       "      <td>11592946.567114</td>\n",
       "      <td>1267020748.6585572</td>\n",
       "      <td>1216269288.255335</td>\n",
       "      <td>39158513.836108</td>\n",
       "      <td>11592946.567114</td>\n",
       "      <td>1267020748.6585572</td>\n",
       "    </tr>\n",
       "    <tr>\n",
       "      <th>846</th>\n",
       "      <td>NaN</td>\n",
       "      <td>15/07/2022</td>\n",
       "      <td>1.657843e+09</td>\n",
       "      <td>1224966514.939901</td>\n",
       "      <td>38574127.700004</td>\n",
       "      <td>12525253.81965</td>\n",
       "      <td>1276065896.4595551</td>\n",
       "      <td>1224966514.939901</td>\n",
       "      <td>38574127.700004</td>\n",
       "      <td>12525253.81965</td>\n",
       "      <td>1276065896.4595551</td>\n",
       "      <td>1224966514.939901</td>\n",
       "      <td>38574127.700004</td>\n",
       "      <td>12525253.81965</td>\n",
       "      <td>1276065896.4595551</td>\n",
       "    </tr>\n",
       "    <tr>\n",
       "      <th>847</th>\n",
       "      <td>NaN</td>\n",
       "      <td>16/07/2022</td>\n",
       "      <td>1.657930e+09</td>\n",
       "      <td>1246713654.1502051</td>\n",
       "      <td>37749738.749862134</td>\n",
       "      <td>12571579.731327616</td>\n",
       "      <td>1297034972.6313949</td>\n",
       "      <td>1246713654.1502051</td>\n",
       "      <td>37749738.749862134</td>\n",
       "      <td>12571579.731327616</td>\n",
       "      <td>1297034972.6313949</td>\n",
       "      <td>1245468185.964241</td>\n",
       "      <td>37712026.723139</td>\n",
       "      <td>12559020.710617</td>\n",
       "      <td>1295739233.3979971</td>\n",
       "    </tr>\n",
       "    <tr>\n",
       "      <th>848</th>\n",
       "      <td>NaN</td>\n",
       "      <td>17/07/2022</td>\n",
       "      <td>1.658016e+09</td>\n",
       "      <td>1293302760.413176</td>\n",
       "      <td>39876224.489226</td>\n",
       "      <td>13134777.303393</td>\n",
       "      <td>1346313762.205795</td>\n",
       "      <td>1293302760.413176</td>\n",
       "      <td>39876224.489226</td>\n",
       "      <td>13134777.303393</td>\n",
       "      <td>1346313762.205795</td>\n",
       "      <td>1293302760.413176</td>\n",
       "      <td>39876224.489226</td>\n",
       "      <td>13134777.303393</td>\n",
       "      <td>1346313762.205795</td>\n",
       "    </tr>\n",
       "    <tr>\n",
       "      <th>849</th>\n",
       "      <td>NaN</td>\n",
       "      <td>18/07/2022</td>\n",
       "      <td>1.658102e+09</td>\n",
       "      <td>1306315139.5450215</td>\n",
       "      <td>40616874.023125574</td>\n",
       "      <td>13037321.5913868</td>\n",
       "      <td>1359969335.159534</td>\n",
       "      <td>1306315139.5450215</td>\n",
       "      <td>40616874.023125574</td>\n",
       "      <td>13037321.5913868</td>\n",
       "      <td>1359969335.159534</td>\n",
       "      <td>1303707724.096828</td>\n",
       "      <td>40535802.418289</td>\n",
       "      <td>13011298.9934</td>\n",
       "      <td>1357254825.508517</td>\n",
       "    </tr>\n",
       "  </tbody>\n",
       "</table>\n",
       "<p>850 rows × 15 columns</p>\n",
       "</div>"
      ],
      "text/plain": [
       "     Unnamed: 0        Date     Timestamp            Balancer  \\\n",
       "0           NaN         NaN           NaN               Dexes   \n",
       "1           NaN         NaN           NaN            ethereum   \n",
       "2           NaN         NaN           NaN                 TVL   \n",
       "3           NaN         NaN           NaN                 NaN   \n",
       "4           NaN  24/03/2020  1.585008e+09   7833.948843186513   \n",
       "..          ...         ...           ...                 ...   \n",
       "845         NaN  14/07/2022  1.657757e+09   1216269288.255335   \n",
       "846         NaN  15/07/2022  1.657843e+09   1224966514.939901   \n",
       "847         NaN  16/07/2022  1.657930e+09  1246713654.1502051   \n",
       "848         NaN  17/07/2022  1.658016e+09   1293302760.413176   \n",
       "849         NaN  18/07/2022  1.658102e+09  1306315139.5450215   \n",
       "\n",
       "             Balancer.1          Balancer.2          Balancer.3  \\\n",
       "0                 Dexes               Dexes               Dexes   \n",
       "1               polygon            arbitrum               Total   \n",
       "2                   TVL                 TVL                 TVL   \n",
       "3                   NaN                 NaN                 NaN   \n",
       "4                   NaN                 NaN   7833.948843186513   \n",
       "..                  ...                 ...                 ...   \n",
       "845     39158513.836108     11592946.567114  1267020748.6585572   \n",
       "846     38574127.700004      12525253.81965  1276065896.4595551   \n",
       "847  37749738.749862134  12571579.731327616  1297034972.6313949   \n",
       "848     39876224.489226     13134777.303393   1346313762.205795   \n",
       "849  40616874.023125574    13037321.5913868   1359969335.159534   \n",
       "\n",
       "             Balancer.4          Balancer.5          Balancer.6  \\\n",
       "0                 Dexes               Dexes               Dexes   \n",
       "1              ethereum             polygon            arbitrum   \n",
       "2           Tokens(USD)         Tokens(USD)         Tokens(USD)   \n",
       "3                  USDT                USDT                USDT   \n",
       "4     7833.948843186513                 NaN                 NaN   \n",
       "..                  ...                 ...                 ...   \n",
       "845   1216269288.255335     39158513.836108     11592946.567114   \n",
       "846   1224966514.939901     38574127.700004      12525253.81965   \n",
       "847  1246713654.1502051  37749738.749862134  12571579.731327616   \n",
       "848   1293302760.413176     39876224.489226     13134777.303393   \n",
       "849  1306315139.5450215  40616874.023125574    13037321.5913868   \n",
       "\n",
       "             Balancer.7         Balancer.8       Balancer.9      Balancer.10  \\\n",
       "0                 Dexes              Dexes            Dexes            Dexes   \n",
       "1                 Total           ethereum          polygon         arbitrum   \n",
       "2           Tokens(USD)             Tokens           Tokens           Tokens   \n",
       "3                  USDT               USDT             USDT             USDT   \n",
       "4     7833.948843186513        7808.045244              NaN              NaN   \n",
       "..                  ...                ...              ...              ...   \n",
       "845  1267020748.6585572  1216269288.255335  39158513.836108  11592946.567114   \n",
       "846  1276065896.4595551  1224966514.939901  38574127.700004   12525253.81965   \n",
       "847  1297034972.6313949  1245468185.964241  37712026.723139  12559020.710617   \n",
       "848   1346313762.205795  1293302760.413176  39876224.489226  13134777.303393   \n",
       "849   1359969335.159534  1303707724.096828  40535802.418289    13011298.9934   \n",
       "\n",
       "            Balancer.11  \n",
       "0                 Dexes  \n",
       "1                 Total  \n",
       "2                Tokens  \n",
       "3                  USDT  \n",
       "4           7808.045244  \n",
       "..                  ...  \n",
       "845  1267020748.6585572  \n",
       "846  1276065896.4595551  \n",
       "847  1295739233.3979971  \n",
       "848   1346313762.205795  \n",
       "849   1357254825.508517  \n",
       "\n",
       "[850 rows x 15 columns]"
      ]
     },
     "execution_count": 19,
     "metadata": {},
     "output_type": "execute_result"
    }
   ],
   "source": [
    "lma"
   ]
  },
  {
   "cell_type": "code",
   "execution_count": 20,
   "metadata": {},
   "outputs": [
    {
     "data": {
      "text/plain": [
       "2368622794.775219"
      ]
     },
     "execution_count": 20,
     "metadata": {},
     "output_type": "execute_result"
    }
   ],
   "source": [
    "#Just eth currently can take total by changing the header\n",
    "lma.iloc[-183:, 3].astype(float).mean()"
   ]
  },
  {
   "cell_type": "code",
   "execution_count": null,
   "metadata": {},
   "outputs": [],
   "source": []
  },
  {
   "cell_type": "markdown",
   "metadata": {},
   "source": [
    "Largest Pool Concentration"
   ]
  },
  {
   "cell_type": "code",
   "execution_count": 7,
   "metadata": {},
   "outputs": [
    {
     "name": "stderr",
     "output_type": "stream",
     "text": [
      "/tmp/ipykernel_11865/2291472997.py:22: FutureWarning: The frame.append method is deprecated and will be removed from pandas in a future version. Use pandas.concat instead.\n",
      "  df = df.append(pool)\n"
     ]
    }
   ],
   "source": [
    "df = pd.DataFrame()\n",
    "ts = 0\n",
    "\n",
    "while True:\n",
    "    sl = len(df)\n",
    "    query = \"\"\"\n",
    "{\n",
    "  liquidityPools(first:1000, orderBy: createdTimestamp, orderDirection: asc, where: {createdTimestamp_gt: \"\"\"+f'\"{ts}\"'+\"\"\"}){\n",
    "    id\n",
    "    name\n",
    "    totalValueLockedUSD\n",
    "    cumulativeVolumeUSD\n",
    "    createdTimestamp\n",
    "    createdBlockNumber\n",
    "  }\n",
    "}\n",
    "\"\"\"\n",
    "    request = requests.post(endpoint, json={'query':query})\n",
    "    data = request.json()\n",
    "\n",
    "    pool = pd.json_normalize(data['data']['liquidityPools'])\n",
    "    df = df.append(pool)\n",
    "    df.drop_duplicates(inplace=True)\n",
    "    if len(df) == sl:\n",
    "      break\n",
    "    ts = df['createdTimestamp'].max()\n"
   ]
  },
  {
   "cell_type": "code",
   "execution_count": 8,
   "metadata": {},
   "outputs": [
    {
     "data": {
      "text/html": [
       "<div>\n",
       "<style scoped>\n",
       "    .dataframe tbody tr th:only-of-type {\n",
       "        vertical-align: middle;\n",
       "    }\n",
       "\n",
       "    .dataframe tbody tr th {\n",
       "        vertical-align: top;\n",
       "    }\n",
       "\n",
       "    .dataframe thead th {\n",
       "        text-align: right;\n",
       "    }\n",
       "</style>\n",
       "<table border=\"1\" class=\"dataframe\">\n",
       "  <thead>\n",
       "    <tr style=\"text-align: right;\">\n",
       "      <th></th>\n",
       "      <th>id</th>\n",
       "      <th>name</th>\n",
       "      <th>totalValueLockedUSD</th>\n",
       "      <th>cumulativeVolumeUSD</th>\n",
       "      <th>createdTimestamp</th>\n",
       "      <th>createdBlockNumber</th>\n",
       "    </tr>\n",
       "  </thead>\n",
       "  <tbody>\n",
       "    <tr>\n",
       "      <th>0</th>\n",
       "      <td>0x61d5dc44849c9c87b0856a2a311536205c96c7fd</td>\n",
       "      <td>Balancer v2 Comfy</td>\n",
       "      <td>20398.48614786238573090796947158718</td>\n",
       "      <td>12712670.72880471859715758724473423</td>\n",
       "      <td>1619037254</td>\n",
       "      <td>12285749</td>\n",
       "    </tr>\n",
       "    <tr>\n",
       "      <th>1</th>\n",
       "      <td>0x647c1fd457b95b75d0972ff08fe01d7d7bda05df</td>\n",
       "      <td>Balancer v2 Balancer 80 BAL 20 WETH</td>\n",
       "      <td>16.23566920498595271783626895059565</td>\n",
       "      <td>1693.037280185061522342577267617469</td>\n",
       "      <td>1619044051</td>\n",
       "      <td>12286257</td>\n",
       "    </tr>\n",
       "    <tr>\n",
       "      <th>2</th>\n",
       "      <td>0x0297e37f1873d2dab4487aa67cd56b58e2f27875</td>\n",
       "      <td>Balancer v2 Balancer 50 WBTC 50 WETH</td>\n",
       "      <td>5156.024834313822093418773152127843</td>\n",
       "      <td>9234.50843576363334143132482008345</td>\n",
       "      <td>1619044189</td>\n",
       "      <td>12286276</td>\n",
       "    </tr>\n",
       "    <tr>\n",
       "      <th>3</th>\n",
       "      <td>0xc6a5032dc4bf638e15b4a66bc718ba7ba474ff73</td>\n",
       "      <td>Balancer v2 Balancer 60 WETH 40 DAI</td>\n",
       "      <td>1811.215195230905578103102836670492</td>\n",
       "      <td>7544.756476919556580341633367559084</td>\n",
       "      <td>1619188473</td>\n",
       "      <td>12297008</td>\n",
       "    </tr>\n",
       "    <tr>\n",
       "      <th>4</th>\n",
       "      <td>0x3a19030ed746bd1c3f2b0f996ff9479af04c5f0a</td>\n",
       "      <td>Balancer v2 Balancer 50 WBTC 49 USDC 1 cUNI</td>\n",
       "      <td>0.0007169165524228923529056882647308386</td>\n",
       "      <td>68.87368912339535592605351237377125</td>\n",
       "      <td>1619219562</td>\n",
       "      <td>12299382</td>\n",
       "    </tr>\n",
       "    <tr>\n",
       "      <th>...</th>\n",
       "      <td>...</td>\n",
       "      <td>...</td>\n",
       "      <td>...</td>\n",
       "      <td>...</td>\n",
       "      <td>...</td>\n",
       "      <td>...</td>\n",
       "    </tr>\n",
       "    <tr>\n",
       "      <th>694</th>\n",
       "      <td>0x06b4007e0d903c8187e1f9ee6daef6695c42b0be</td>\n",
       "      <td>Balancer v2 80BANK-20WETH</td>\n",
       "      <td>1438.956881065522392462975508484237</td>\n",
       "      <td>0</td>\n",
       "      <td>1658007989</td>\n",
       "      <td>15156223</td>\n",
       "    </tr>\n",
       "    <tr>\n",
       "      <th>695</th>\n",
       "      <td>0xa6feeee62b839f1389d53eee2ca426bf6a8cf689</td>\n",
       "      <td>Balancer v2 SKI Copper LBP</td>\n",
       "      <td>113759.225764443641933729038627995</td>\n",
       "      <td>731138.1461260704958349792201987475</td>\n",
       "      <td>1658084231</td>\n",
       "      <td>15161866</td>\n",
       "    </tr>\n",
       "    <tr>\n",
       "      <th>696</th>\n",
       "      <td>0xba52a93a53f8161636f8233f36d32a0ce4ae844b</td>\n",
       "      <td>Balancer v2 30WBTC-50PAXG-20WETH</td>\n",
       "      <td>1818.658982473901785561903972173198</td>\n",
       "      <td>67.40893777652525257097968155344637</td>\n",
       "      <td>1658109628</td>\n",
       "      <td>15163799</td>\n",
       "    </tr>\n",
       "    <tr>\n",
       "      <th>697</th>\n",
       "      <td>0x13f2f70a951fb99d48ede6e25b0bdf06914db33f</td>\n",
       "      <td>Balancer v2 Balancer USDD-FRAX-USDC Stablepool</td>\n",
       "      <td>2.001065</td>\n",
       "      <td>0</td>\n",
       "      <td>1658133482</td>\n",
       "      <td>15165609</td>\n",
       "    </tr>\n",
       "    <tr>\n",
       "      <th>698</th>\n",
       "      <td>0xf93579002dbe8046c43fefe86ec78b1112247bb8</td>\n",
       "      <td>Balancer v2 Balancer USDD-FRAX-USDC Stablepool</td>\n",
       "      <td>2.001065</td>\n",
       "      <td>0</td>\n",
       "      <td>1658137075</td>\n",
       "      <td>15165862</td>\n",
       "    </tr>\n",
       "  </tbody>\n",
       "</table>\n",
       "<p>699 rows × 6 columns</p>\n",
       "</div>"
      ],
      "text/plain": [
       "                                             id  \\\n",
       "0    0x61d5dc44849c9c87b0856a2a311536205c96c7fd   \n",
       "1    0x647c1fd457b95b75d0972ff08fe01d7d7bda05df   \n",
       "2    0x0297e37f1873d2dab4487aa67cd56b58e2f27875   \n",
       "3    0xc6a5032dc4bf638e15b4a66bc718ba7ba474ff73   \n",
       "4    0x3a19030ed746bd1c3f2b0f996ff9479af04c5f0a   \n",
       "..                                          ...   \n",
       "694  0x06b4007e0d903c8187e1f9ee6daef6695c42b0be   \n",
       "695  0xa6feeee62b839f1389d53eee2ca426bf6a8cf689   \n",
       "696  0xba52a93a53f8161636f8233f36d32a0ce4ae844b   \n",
       "697  0x13f2f70a951fb99d48ede6e25b0bdf06914db33f   \n",
       "698  0xf93579002dbe8046c43fefe86ec78b1112247bb8   \n",
       "\n",
       "                                               name  \\\n",
       "0                                 Balancer v2 Comfy   \n",
       "1               Balancer v2 Balancer 80 BAL 20 WETH   \n",
       "2              Balancer v2 Balancer 50 WBTC 50 WETH   \n",
       "3               Balancer v2 Balancer 60 WETH 40 DAI   \n",
       "4       Balancer v2 Balancer 50 WBTC 49 USDC 1 cUNI   \n",
       "..                                              ...   \n",
       "694                       Balancer v2 80BANK-20WETH   \n",
       "695                      Balancer v2 SKI Copper LBP   \n",
       "696                Balancer v2 30WBTC-50PAXG-20WETH   \n",
       "697  Balancer v2 Balancer USDD-FRAX-USDC Stablepool   \n",
       "698  Balancer v2 Balancer USDD-FRAX-USDC Stablepool   \n",
       "\n",
       "                         totalValueLockedUSD  \\\n",
       "0        20398.48614786238573090796947158718   \n",
       "1        16.23566920498595271783626895059565   \n",
       "2        5156.024834313822093418773152127843   \n",
       "3        1811.215195230905578103102836670492   \n",
       "4    0.0007169165524228923529056882647308386   \n",
       "..                                       ...   \n",
       "694      1438.956881065522392462975508484237   \n",
       "695       113759.225764443641933729038627995   \n",
       "696      1818.658982473901785561903972173198   \n",
       "697                                 2.001065   \n",
       "698                                 2.001065   \n",
       "\n",
       "                     cumulativeVolumeUSD createdTimestamp createdBlockNumber  \n",
       "0    12712670.72880471859715758724473423       1619037254           12285749  \n",
       "1    1693.037280185061522342577267617469       1619044051           12286257  \n",
       "2     9234.50843576363334143132482008345       1619044189           12286276  \n",
       "3    7544.756476919556580341633367559084       1619188473           12297008  \n",
       "4    68.87368912339535592605351237377125       1619219562           12299382  \n",
       "..                                   ...              ...                ...  \n",
       "694                                    0       1658007989           15156223  \n",
       "695  731138.1461260704958349792201987475       1658084231           15161866  \n",
       "696  67.40893777652525257097968155344637       1658109628           15163799  \n",
       "697                                    0       1658133482           15165609  \n",
       "698                                    0       1658137075           15165862  \n",
       "\n",
       "[699 rows x 6 columns]"
      ]
     },
     "execution_count": 8,
     "metadata": {},
     "output_type": "execute_result"
    }
   ],
   "source": [
    "df"
   ]
  },
  {
   "cell_type": "code",
   "execution_count": 9,
   "metadata": {},
   "outputs": [
    {
     "data": {
      "text/plain": [
       "0.35027259731828947"
      ]
     },
     "execution_count": 9,
     "metadata": {},
     "output_type": "execute_result"
    }
   ],
   "source": [
    "df['totalValueLockedUSD'].astype(float).max()/df['totalValueLockedUSD'].astype(float).sum()"
   ]
  },
  {
   "cell_type": "code",
   "execution_count": 10,
   "metadata": {},
   "outputs": [
    {
     "data": {
      "text/plain": [
       "0.8136186971545017"
      ]
     },
     "execution_count": 10,
     "metadata": {},
     "output_type": "execute_result"
    }
   ],
   "source": [
    "df['totalValueLockedUSD'].astype(float).nlargest(10).sum()/df['totalValueLockedUSD'].astype(float).sum()"
   ]
  },
  {
   "cell_type": "markdown",
   "metadata": {},
   "source": [
    "Liquidity Pools with > $1mn TVL"
   ]
  },
  {
   "cell_type": "code",
   "execution_count": 11,
   "metadata": {},
   "outputs": [
    {
     "data": {
      "text/plain": [
       "37"
      ]
     },
     "execution_count": 11,
     "metadata": {},
     "output_type": "execute_result"
    }
   ],
   "source": [
    "len(df.loc[df['totalValueLockedUSD'].astype(float) > 1000000])"
   ]
  },
  {
   "cell_type": "code",
   "execution_count": null,
   "metadata": {},
   "outputs": [],
   "source": []
  },
  {
   "cell_type": "markdown",
   "metadata": {},
   "source": [
    "Monthly Active Users"
   ]
  },
  {
   "cell_type": "code",
   "execution_count": 12,
   "metadata": {},
   "outputs": [],
   "source": [
    "query = \"\"\"{\n",
    "  usageMetricsDailySnapshots(first: 183, orderBy: timestamp, orderDirection: desc){\n",
    "    timestamp\n",
    "    blockNumber\n",
    "    id\n",
    "    dailyActiveUsers\n",
    "    dailySwapCount\n",
    "    dailyDepositCount\n",
    "    dailyWithdrawCount \n",
    "  }\n",
    "}\n",
    "\"\"\""
   ]
  },
  {
   "cell_type": "code",
   "execution_count": 13,
   "metadata": {},
   "outputs": [],
   "source": [
    "request = requests.post(endpoint, json={'query':query})\n",
    "data = request.json()"
   ]
  },
  {
   "cell_type": "code",
   "execution_count": 14,
   "metadata": {},
   "outputs": [],
   "source": [
    "df = pd.json_normalize(data['data']['usageMetricsDailySnapshots'])"
   ]
  },
  {
   "cell_type": "code",
   "execution_count": 15,
   "metadata": {},
   "outputs": [],
   "source": [
    "df['date'] = df['timestamp'].astype(int).apply(lambda x: dt.datetime.fromtimestamp(x))"
   ]
  },
  {
   "cell_type": "code",
   "execution_count": 16,
   "metadata": {},
   "outputs": [],
   "source": [
    "monthactiveusers = []\n",
    "for i in range(len(df['date'].dt.month.unique())):\n",
    "    monthactiveusers.append(df['dailyActiveUsers'].loc[df['date'].dt.month == df['date'].dt.month.unique()[i]].astype(float).sum())"
   ]
  },
  {
   "cell_type": "code",
   "execution_count": 17,
   "metadata": {},
   "outputs": [
    {
     "data": {
      "text/plain": [
       "19874.714285714286"
      ]
     },
     "execution_count": 17,
     "metadata": {},
     "output_type": "execute_result"
    }
   ],
   "source": [
    "np.mean(monthactiveusers) #can chart this easy"
   ]
  },
  {
   "cell_type": "code",
   "execution_count": null,
   "metadata": {},
   "outputs": [],
   "source": []
  },
  {
   "cell_type": "markdown",
   "metadata": {},
   "source": [
    "Implied slippage"
   ]
  },
  {
   "cell_type": "code",
   "execution_count": null,
   "metadata": {},
   "outputs": [],
   "source": []
  },
  {
   "cell_type": "code",
   "execution_count": null,
   "metadata": {},
   "outputs": [],
   "source": []
  },
  {
   "cell_type": "code",
   "execution_count": null,
   "metadata": {},
   "outputs": [],
   "source": []
  }
 ],
 "metadata": {
  "kernelspec": {
   "display_name": "Python 3.8.10 64-bit",
   "language": "python",
   "name": "python3"
  },
  "language_info": {
   "codemirror_mode": {
    "name": "ipython",
    "version": 3
   },
   "file_extension": ".py",
   "mimetype": "text/x-python",
   "name": "python",
   "nbconvert_exporter": "python",
   "pygments_lexer": "ipython3",
   "version": "3.8.10"
  },
  "orig_nbformat": 4,
  "vscode": {
   "interpreter": {
    "hash": "916dbcbb3f70747c44a77c7bcd40155683ae19c65e1c03b4aa3499c5328201f1"
   }
  }
 },
 "nbformat": 4,
 "nbformat_minor": 2
}
