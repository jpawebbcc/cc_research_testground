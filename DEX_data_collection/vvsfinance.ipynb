{
 "cells": [
  {
   "cell_type": "markdown",
   "metadata": {},
   "source": [
    "## Messari standardised subgraphs\n",
    "\n",
    "https://github.com/messari/subgraphs\n",
    "\n",
    "### VVS Finance"
   ]
  },
  {
   "cell_type": "code",
   "execution_count": 7,
   "metadata": {},
   "outputs": [],
   "source": [
    "import pandas as pd\n",
    "import numpy as np\n",
    "import time\n",
    "import requests\n",
    "import datetime as dt"
   ]
  },
  {
   "cell_type": "code",
   "execution_count": 8,
   "metadata": {},
   "outputs": [],
   "source": [
    "endpoint = 'https://graph.cronoslabs.com/subgraphs/name/messari/vvs-finance'"
   ]
  },
  {
   "cell_type": "code",
   "execution_count": 9,
   "metadata": {},
   "outputs": [
    {
     "ename": "TypeError",
     "evalue": "int() can't convert non-string with explicit base",
     "output_type": "error",
     "traceback": [
      "\u001b[0;31m---------------------------------------------------------------------------\u001b[0m",
      "\u001b[0;31mTypeError\u001b[0m                                 Traceback (most recent call last)",
      "\u001b[1;32m/home/luke/Code/Research/cc_research_testground/DEX_data_collection/vvsfinance.ipynb Cell 4\u001b[0m in \u001b[0;36m<cell line: 15>\u001b[0;34m()\u001b[0m\n\u001b[1;32m     <a href='vscode-notebook-cell:/home/luke/Code/Research/cc_research_testground/DEX_data_collection/vvsfinance.ipynb#X46sZmlsZQ%3D%3D?line=12'>13</a>\u001b[0m data \u001b[39m=\u001b[39m request\u001b[39m.\u001b[39mjson()\n\u001b[1;32m     <a href='vscode-notebook-cell:/home/luke/Code/Research/cc_research_testground/DEX_data_collection/vvsfinance.ipynb#X46sZmlsZQ%3D%3D?line=13'>14</a>\u001b[0m \u001b[39m#Check if it is ok to run i.e. within 5 days of today\u001b[39;00m\n\u001b[0;32m---> <a href='vscode-notebook-cell:/home/luke/Code/Research/cc_research_testground/DEX_data_collection/vvsfinance.ipynb#X46sZmlsZQ%3D%3D?line=14'>15</a>\u001b[0m \u001b[39mint\u001b[39;49m(data[\u001b[39m'\u001b[39;49m\u001b[39mdata\u001b[39;49m\u001b[39m'\u001b[39;49m][\u001b[39m'\u001b[39;49m\u001b[39m_meta\u001b[39;49m\u001b[39m'\u001b[39;49m][\u001b[39m'\u001b[39;49m\u001b[39mblock\u001b[39;49m\u001b[39m'\u001b[39;49m], base \u001b[39m=\u001b[39;49m \u001b[39m0\u001b[39;49m) \u001b[39m>\u001b[39m (dt\u001b[39m.\u001b[39mdatetime\u001b[39m.\u001b[39mtoday()\u001b[39m.\u001b[39mtimestamp() \u001b[39m-\u001b[39m \u001b[39m3600\u001b[39m\u001b[39m*\u001b[39m\u001b[39m24\u001b[39m\u001b[39m*\u001b[39m\u001b[39m5\u001b[39m)\n",
      "\u001b[0;31mTypeError\u001b[0m: int() can't convert non-string with explicit base"
     ]
    }
   ],
   "source": [
    "#Check if subgraph is up to date\n",
    "query = \"\"\"{\n",
    "  _meta{\n",
    "    block{\n",
    "  \t\thash\n",
    "      number\n",
    "    }\n",
    "    hasIndexingErrors\n",
    "    deployment\n",
    "  }\n",
    "}\"\"\"\n",
    "request = requests.post(endpoint, json={'query':query})\n",
    "data = request.json()\n",
    "#Check if it is ok to run i.e. within 5 days of today\n",
    "int(data['data']['_meta']['block'], base = 0) > (dt.datetime.today().timestamp() - 3600*24*5)"
   ]
  },
  {
   "cell_type": "code",
   "execution_count": 10,
   "metadata": {},
   "outputs": [
    {
     "data": {
      "text/plain": [
       "{'data': {'_meta': {'block': {'hash': '0x55e8102f2f3e687014963468c51f56b449b133be11819987571256872cfa79b9',\n",
       "    'number': 4509736},\n",
       "   'hasIndexingErrors': False,\n",
       "   'deployment': 'QmeEKnjqXeSpwaqZy2ErhjA7L7v5rKnYdmJ3wgu4sRCTcc'}}}"
      ]
     },
     "execution_count": 10,
     "metadata": {},
     "output_type": "execute_result"
    }
   ],
   "source": [
    "data"
   ]
  },
  {
   "cell_type": "markdown",
   "metadata": {},
   "source": [
    "6-Month Average Daily Volume"
   ]
  },
  {
   "cell_type": "code",
   "execution_count": 11,
   "metadata": {},
   "outputs": [],
   "source": [
    "query = \"\"\"{\n",
    "  financialsDailySnapshots(first: 183, orderBy: timestamp, orderDirection: desc){\n",
    "    id\n",
    "    protocol{\n",
    "      name\n",
    "    }\n",
    "    dailyVolumeUSD\n",
    "    dailyTotalRevenueUSD\n",
    "    dailySupplySideRevenueUSD\n",
    "    dailyProtocolSideRevenueUSD\n",
    "    timestamp\n",
    "    blockNumber\n",
    "  }\n",
    "}\n",
    "\"\"\""
   ]
  },
  {
   "cell_type": "code",
   "execution_count": 12,
   "metadata": {},
   "outputs": [],
   "source": [
    "request = requests.post(endpoint, json={'query':query})\n",
    "data = request.json()"
   ]
  },
  {
   "cell_type": "code",
   "execution_count": 13,
   "metadata": {},
   "outputs": [],
   "source": [
    "df = pd.json_normalize(data['data']['financialsDailySnapshots'])"
   ]
  },
  {
   "cell_type": "code",
   "execution_count": 14,
   "metadata": {},
   "outputs": [
    {
     "data": {
      "text/html": [
       "<div>\n",
       "<style scoped>\n",
       "    .dataframe tbody tr th:only-of-type {\n",
       "        vertical-align: middle;\n",
       "    }\n",
       "\n",
       "    .dataframe tbody tr th {\n",
       "        vertical-align: top;\n",
       "    }\n",
       "\n",
       "    .dataframe thead th {\n",
       "        text-align: right;\n",
       "    }\n",
       "</style>\n",
       "<table border=\"1\" class=\"dataframe\">\n",
       "  <thead>\n",
       "    <tr style=\"text-align: right;\">\n",
       "      <th></th>\n",
       "      <th>id</th>\n",
       "      <th>dailyVolumeUSD</th>\n",
       "      <th>dailyTotalRevenueUSD</th>\n",
       "      <th>dailySupplySideRevenueUSD</th>\n",
       "      <th>dailyProtocolSideRevenueUSD</th>\n",
       "      <th>timestamp</th>\n",
       "      <th>blockNumber</th>\n",
       "      <th>protocol.name</th>\n",
       "    </tr>\n",
       "  </thead>\n",
       "  <tbody>\n",
       "    <tr>\n",
       "      <th>0</th>\n",
       "      <td>19241</td>\n",
       "      <td>1190768.886513239391107441556655335</td>\n",
       "      <td>3572.306659539718173322324669966004</td>\n",
       "      <td>2381.537773026478782214883113310666</td>\n",
       "      <td>1190.768886513239391107441556655335</td>\n",
       "      <td>1662481291</td>\n",
       "      <td>4509738</td>\n",
       "      <td>VVS Finance</td>\n",
       "    </tr>\n",
       "    <tr>\n",
       "      <th>1</th>\n",
       "      <td>19240</td>\n",
       "      <td>896483.0907708036684201159920118127</td>\n",
       "      <td>2689.449272312411005260347976035434</td>\n",
       "      <td>1792.966181541607336840231984023624</td>\n",
       "      <td>896.4830907708036684201159920118127</td>\n",
       "      <td>1662422380</td>\n",
       "      <td>4499329</td>\n",
       "      <td>VVS Finance</td>\n",
       "    </tr>\n",
       "    <tr>\n",
       "      <th>2</th>\n",
       "      <td>19239</td>\n",
       "      <td>1096139.484816084291839147503318073</td>\n",
       "      <td>3288.418454448252875517442509954215</td>\n",
       "      <td>2192.278969632168583678295006636145</td>\n",
       "      <td>1096.139484816084291839147503318073</td>\n",
       "      <td>1662335999</td>\n",
       "      <td>4484072</td>\n",
       "      <td>VVS Finance</td>\n",
       "    </tr>\n",
       "    <tr>\n",
       "      <th>3</th>\n",
       "      <td>19238</td>\n",
       "      <td>958334.571430100208091642801374814</td>\n",
       "      <td>2875.003714290300624274928404124444</td>\n",
       "      <td>1916.669142860200416183285602749632</td>\n",
       "      <td>958.334571430100208091642801374814</td>\n",
       "      <td>1662249588</td>\n",
       "      <td>4468802</td>\n",
       "      <td>VVS Finance</td>\n",
       "    </tr>\n",
       "    <tr>\n",
       "      <th>4</th>\n",
       "      <td>19237</td>\n",
       "      <td>1247014.193524339953047083414418144</td>\n",
       "      <td>3741.042580573019859141250243254433</td>\n",
       "      <td>2494.028387048679906094166828836296</td>\n",
       "      <td>1247.014193524339953047083414418144</td>\n",
       "      <td>1662163197</td>\n",
       "      <td>4453535</td>\n",
       "      <td>VVS Finance</td>\n",
       "    </tr>\n",
       "    <tr>\n",
       "      <th>...</th>\n",
       "      <td>...</td>\n",
       "      <td>...</td>\n",
       "      <td>...</td>\n",
       "      <td>...</td>\n",
       "      <td>...</td>\n",
       "      <td>...</td>\n",
       "      <td>...</td>\n",
       "      <td>...</td>\n",
       "    </tr>\n",
       "    <tr>\n",
       "      <th>178</th>\n",
       "      <td>19063</td>\n",
       "      <td>4828099.384884783015209280661115834</td>\n",
       "      <td>14484.29815465434904562784198334749</td>\n",
       "      <td>9656.198769769566030418561322231659</td>\n",
       "      <td>4828.099384884783015209280661115834</td>\n",
       "      <td>1647129580</td>\n",
       "      <td>1875181</td>\n",
       "      <td>VVS Finance</td>\n",
       "    </tr>\n",
       "    <tr>\n",
       "      <th>179</th>\n",
       "      <td>19062</td>\n",
       "      <td>5829387.959236297637541585573502189</td>\n",
       "      <td>17488.16387770889291262475672050658</td>\n",
       "      <td>11658.77591847259527508317114700438</td>\n",
       "      <td>5829.387959236297637541585573502189</td>\n",
       "      <td>1647043195</td>\n",
       "      <td>1860388</td>\n",
       "      <td>VVS Finance</td>\n",
       "    </tr>\n",
       "    <tr>\n",
       "      <th>180</th>\n",
       "      <td>19061</td>\n",
       "      <td>8104249.234263499836174721701987409</td>\n",
       "      <td>24312.74770279049950852416510596216</td>\n",
       "      <td>16208.49846852699967234944340397488</td>\n",
       "      <td>8104.249234263499836174721701987409</td>\n",
       "      <td>1646956798</td>\n",
       "      <td>1845630</td>\n",
       "      <td>VVS Finance</td>\n",
       "    </tr>\n",
       "    <tr>\n",
       "      <th>181</th>\n",
       "      <td>19060</td>\n",
       "      <td>5918802.29315851517819993242962691</td>\n",
       "      <td>17756.40687947554553459979728888068</td>\n",
       "      <td>11837.60458631703035639986485925378</td>\n",
       "      <td>5918.80229315851517819993242962691</td>\n",
       "      <td>1646870379</td>\n",
       "      <td>1830868</td>\n",
       "      <td>VVS Finance</td>\n",
       "    </tr>\n",
       "    <tr>\n",
       "      <th>182</th>\n",
       "      <td>19059</td>\n",
       "      <td>5581231.83524383872603799188241034</td>\n",
       "      <td>16743.69550573151617811397564723101</td>\n",
       "      <td>11162.46367048767745207598376482067</td>\n",
       "      <td>5581.23183524383872603799188241034</td>\n",
       "      <td>1646783998</td>\n",
       "      <td>1816069</td>\n",
       "      <td>VVS Finance</td>\n",
       "    </tr>\n",
       "  </tbody>\n",
       "</table>\n",
       "<p>183 rows × 8 columns</p>\n",
       "</div>"
      ],
      "text/plain": [
       "        id                       dailyVolumeUSD  \\\n",
       "0    19241  1190768.886513239391107441556655335   \n",
       "1    19240  896483.0907708036684201159920118127   \n",
       "2    19239  1096139.484816084291839147503318073   \n",
       "3    19238   958334.571430100208091642801374814   \n",
       "4    19237  1247014.193524339953047083414418144   \n",
       "..     ...                                  ...   \n",
       "178  19063  4828099.384884783015209280661115834   \n",
       "179  19062  5829387.959236297637541585573502189   \n",
       "180  19061  8104249.234263499836174721701987409   \n",
       "181  19060   5918802.29315851517819993242962691   \n",
       "182  19059   5581231.83524383872603799188241034   \n",
       "\n",
       "                    dailyTotalRevenueUSD            dailySupplySideRevenueUSD  \\\n",
       "0    3572.306659539718173322324669966004  2381.537773026478782214883113310666   \n",
       "1    2689.449272312411005260347976035434  1792.966181541607336840231984023624   \n",
       "2    3288.418454448252875517442509954215  2192.278969632168583678295006636145   \n",
       "3    2875.003714290300624274928404124444  1916.669142860200416183285602749632   \n",
       "4    3741.042580573019859141250243254433  2494.028387048679906094166828836296   \n",
       "..                                   ...                                  ...   \n",
       "178  14484.29815465434904562784198334749  9656.198769769566030418561322231659   \n",
       "179  17488.16387770889291262475672050658  11658.77591847259527508317114700438   \n",
       "180  24312.74770279049950852416510596216  16208.49846852699967234944340397488   \n",
       "181  17756.40687947554553459979728888068  11837.60458631703035639986485925378   \n",
       "182  16743.69550573151617811397564723101  11162.46367048767745207598376482067   \n",
       "\n",
       "             dailyProtocolSideRevenueUSD   timestamp blockNumber protocol.name  \n",
       "0    1190.768886513239391107441556655335  1662481291     4509738   VVS Finance  \n",
       "1    896.4830907708036684201159920118127  1662422380     4499329   VVS Finance  \n",
       "2    1096.139484816084291839147503318073  1662335999     4484072   VVS Finance  \n",
       "3     958.334571430100208091642801374814  1662249588     4468802   VVS Finance  \n",
       "4    1247.014193524339953047083414418144  1662163197     4453535   VVS Finance  \n",
       "..                                   ...         ...         ...           ...  \n",
       "178  4828.099384884783015209280661115834  1647129580     1875181   VVS Finance  \n",
       "179  5829.387959236297637541585573502189  1647043195     1860388   VVS Finance  \n",
       "180  8104.249234263499836174721701987409  1646956798     1845630   VVS Finance  \n",
       "181   5918.80229315851517819993242962691  1646870379     1830868   VVS Finance  \n",
       "182   5581.23183524383872603799188241034  1646783998     1816069   VVS Finance  \n",
       "\n",
       "[183 rows x 8 columns]"
      ]
     },
     "execution_count": 14,
     "metadata": {},
     "output_type": "execute_result"
    }
   ],
   "source": [
    "df"
   ]
  },
  {
   "cell_type": "code",
   "execution_count": 15,
   "metadata": {},
   "outputs": [
    {
     "data": {
      "text/plain": [
       "5676558.383805844"
      ]
     },
     "execution_count": 15,
     "metadata": {},
     "output_type": "execute_result"
    }
   ],
   "source": [
    "df['dailyVolumeUSD'].astype(float).mean()"
   ]
  },
  {
   "cell_type": "markdown",
   "metadata": {},
   "source": [
    "6-Month Average TVL"
   ]
  },
  {
   "cell_type": "code",
   "execution_count": 16,
   "metadata": {},
   "outputs": [],
   "source": [
    "#DefiLlama https://defillama.com/protocols/dexes \n",
    "lma = pd.read_csv(\"https://api.llama.fi/dataset/vvs-finance.csv\")"
   ]
  },
  {
   "cell_type": "code",
   "execution_count": 17,
   "metadata": {},
   "outputs": [
    {
     "data": {
      "text/html": [
       "<div>\n",
       "<style scoped>\n",
       "    .dataframe tbody tr th:only-of-type {\n",
       "        vertical-align: middle;\n",
       "    }\n",
       "\n",
       "    .dataframe tbody tr th {\n",
       "        vertical-align: top;\n",
       "    }\n",
       "\n",
       "    .dataframe thead th {\n",
       "        text-align: right;\n",
       "    }\n",
       "</style>\n",
       "<table border=\"1\" class=\"dataframe\">\n",
       "  <thead>\n",
       "    <tr style=\"text-align: right;\">\n",
       "      <th></th>\n",
       "      <th>Unnamed: 0</th>\n",
       "      <th>Date</th>\n",
       "      <th>Timestamp</th>\n",
       "      <th>VVS Finance</th>\n",
       "      <th>VVS Finance.1</th>\n",
       "      <th>VVS Finance.2</th>\n",
       "      <th>VVS Finance.3</th>\n",
       "      <th>VVS Finance.4</th>\n",
       "      <th>VVS Finance.5</th>\n",
       "      <th>VVS Finance.6</th>\n",
       "      <th>...</th>\n",
       "      <th>VVS Finance.92</th>\n",
       "      <th>VVS Finance.93</th>\n",
       "      <th>VVS Finance.94</th>\n",
       "      <th>VVS Finance.95</th>\n",
       "      <th>VVS Finance.96</th>\n",
       "      <th>VVS Finance.97</th>\n",
       "      <th>VVS Finance.98</th>\n",
       "      <th>VVS Finance.99</th>\n",
       "      <th>VVS Finance.100</th>\n",
       "      <th>VVS Finance.101</th>\n",
       "    </tr>\n",
       "  </thead>\n",
       "  <tbody>\n",
       "    <tr>\n",
       "      <th>0</th>\n",
       "      <td>NaN</td>\n",
       "      <td>NaN</td>\n",
       "      <td>NaN</td>\n",
       "      <td>Dexes</td>\n",
       "      <td>Dexes</td>\n",
       "      <td>Dexes</td>\n",
       "      <td>Dexes</td>\n",
       "      <td>Dexes</td>\n",
       "      <td>Dexes</td>\n",
       "      <td>Dexes</td>\n",
       "      <td>...</td>\n",
       "      <td>Dexes</td>\n",
       "      <td>Dexes</td>\n",
       "      <td>Dexes</td>\n",
       "      <td>Dexes</td>\n",
       "      <td>Dexes</td>\n",
       "      <td>Dexes</td>\n",
       "      <td>Dexes</td>\n",
       "      <td>Dexes</td>\n",
       "      <td>Dexes</td>\n",
       "      <td>Dexes</td>\n",
       "    </tr>\n",
       "    <tr>\n",
       "      <th>1</th>\n",
       "      <td>NaN</td>\n",
       "      <td>NaN</td>\n",
       "      <td>NaN</td>\n",
       "      <td>cronos</td>\n",
       "      <td>Total</td>\n",
       "      <td>cronos</td>\n",
       "      <td>cronos</td>\n",
       "      <td>cronos</td>\n",
       "      <td>cronos</td>\n",
       "      <td>cronos</td>\n",
       "      <td>...</td>\n",
       "      <td>Total</td>\n",
       "      <td>Total</td>\n",
       "      <td>Total</td>\n",
       "      <td>Total</td>\n",
       "      <td>Total</td>\n",
       "      <td>Total</td>\n",
       "      <td>Total</td>\n",
       "      <td>Total</td>\n",
       "      <td>Total</td>\n",
       "      <td>Total</td>\n",
       "    </tr>\n",
       "    <tr>\n",
       "      <th>2</th>\n",
       "      <td>NaN</td>\n",
       "      <td>NaN</td>\n",
       "      <td>NaN</td>\n",
       "      <td>TVL</td>\n",
       "      <td>TVL</td>\n",
       "      <td>Tokens(USD)</td>\n",
       "      <td>Tokens(USD)</td>\n",
       "      <td>Tokens(USD)</td>\n",
       "      <td>Tokens(USD)</td>\n",
       "      <td>Tokens(USD)</td>\n",
       "      <td>...</td>\n",
       "      <td>Tokens</td>\n",
       "      <td>Tokens</td>\n",
       "      <td>Tokens</td>\n",
       "      <td>Tokens</td>\n",
       "      <td>Tokens</td>\n",
       "      <td>Tokens</td>\n",
       "      <td>Tokens</td>\n",
       "      <td>Tokens</td>\n",
       "      <td>Tokens</td>\n",
       "      <td>Tokens</td>\n",
       "    </tr>\n",
       "    <tr>\n",
       "      <th>3</th>\n",
       "      <td>NaN</td>\n",
       "      <td>NaN</td>\n",
       "      <td>NaN</td>\n",
       "      <td>NaN</td>\n",
       "      <td>NaN</td>\n",
       "      <td>crypto-com-chain</td>\n",
       "      <td>alethea-artificial-liquid-intelligence-token</td>\n",
       "      <td>SKY</td>\n",
       "      <td>DUSD</td>\n",
       "      <td>CROGE</td>\n",
       "      <td>...</td>\n",
       "      <td>CRONA</td>\n",
       "      <td>DARK</td>\n",
       "      <td>cosmos</td>\n",
       "      <td>CHIBIKI</td>\n",
       "      <td>DAI</td>\n",
       "      <td>dogecoin</td>\n",
       "      <td>NESS</td>\n",
       "      <td>TUSD</td>\n",
       "      <td>USDC</td>\n",
       "      <td>ADA</td>\n",
       "    </tr>\n",
       "    <tr>\n",
       "      <th>4</th>\n",
       "      <td>NaN</td>\n",
       "      <td>12/11/2021</td>\n",
       "      <td>1.636675e+09</td>\n",
       "      <td>289233660.20245445</td>\n",
       "      <td>289233660.20245445</td>\n",
       "      <td>289233660.20245445</td>\n",
       "      <td>NaN</td>\n",
       "      <td>NaN</td>\n",
       "      <td>NaN</td>\n",
       "      <td>NaN</td>\n",
       "      <td>...</td>\n",
       "      <td>NaN</td>\n",
       "      <td>NaN</td>\n",
       "      <td>NaN</td>\n",
       "      <td>NaN</td>\n",
       "      <td>NaN</td>\n",
       "      <td>NaN</td>\n",
       "      <td>NaN</td>\n",
       "      <td>NaN</td>\n",
       "      <td>NaN</td>\n",
       "      <td>NaN</td>\n",
       "    </tr>\n",
       "    <tr>\n",
       "      <th>...</th>\n",
       "      <td>...</td>\n",
       "      <td>...</td>\n",
       "      <td>...</td>\n",
       "      <td>...</td>\n",
       "      <td>...</td>\n",
       "      <td>...</td>\n",
       "      <td>...</td>\n",
       "      <td>...</td>\n",
       "      <td>...</td>\n",
       "      <td>...</td>\n",
       "      <td>...</td>\n",
       "      <td>...</td>\n",
       "      <td>...</td>\n",
       "      <td>...</td>\n",
       "      <td>...</td>\n",
       "      <td>...</td>\n",
       "      <td>...</td>\n",
       "      <td>...</td>\n",
       "      <td>...</td>\n",
       "      <td>...</td>\n",
       "      <td>...</td>\n",
       "    </tr>\n",
       "    <tr>\n",
       "      <th>298</th>\n",
       "      <td>NaN</td>\n",
       "      <td>02/09/2022</td>\n",
       "      <td>1.662077e+09</td>\n",
       "      <td>498796369.9597525</td>\n",
       "      <td>498796369.9597525</td>\n",
       "      <td>NaN</td>\n",
       "      <td>113223.92863096953</td>\n",
       "      <td>6037.618760421786</td>\n",
       "      <td>51234.00644970171</td>\n",
       "      <td>156.41519187528345</td>\n",
       "      <td>...</td>\n",
       "      <td>2498.4970151785556</td>\n",
       "      <td>8325746.763311804</td>\n",
       "      <td>142193.045991</td>\n",
       "      <td>1.70143485588353</td>\n",
       "      <td>1447.5289824267584</td>\n",
       "      <td>4077524.06215904</td>\n",
       "      <td>1584623.6501056065</td>\n",
       "      <td>4432009.260717055</td>\n",
       "      <td>174836306.683946</td>\n",
       "      <td>1354.265647</td>\n",
       "    </tr>\n",
       "    <tr>\n",
       "      <th>299</th>\n",
       "      <td>NaN</td>\n",
       "      <td>03/09/2022</td>\n",
       "      <td>1.662163e+09</td>\n",
       "      <td>497964561.22147703</td>\n",
       "      <td>497964561.22147703</td>\n",
       "      <td>NaN</td>\n",
       "      <td>114283.17720887427</td>\n",
       "      <td>6078.501054846286</td>\n",
       "      <td>51763.47403938493</td>\n",
       "      <td>153.56756634683663</td>\n",
       "      <td>...</td>\n",
       "      <td>2498.4970151785556</td>\n",
       "      <td>8153747.144127194</td>\n",
       "      <td>139042.786402</td>\n",
       "      <td>1.70143485588353</td>\n",
       "      <td>1419.8852444660138</td>\n",
       "      <td>4054126.510858</td>\n",
       "      <td>1618846.0301573942</td>\n",
       "      <td>4442724.772463327</td>\n",
       "      <td>174770900.972584</td>\n",
       "      <td>1378.220373</td>\n",
       "    </tr>\n",
       "    <tr>\n",
       "      <th>300</th>\n",
       "      <td>NaN</td>\n",
       "      <td>04/09/2022</td>\n",
       "      <td>1.662250e+09</td>\n",
       "      <td>495424367.5198908</td>\n",
       "      <td>495424367.5198908</td>\n",
       "      <td>NaN</td>\n",
       "      <td>113811.49447912403</td>\n",
       "      <td>6035.685681028244</td>\n",
       "      <td>50817.9015234918</td>\n",
       "      <td>149.1574081579085</td>\n",
       "      <td>...</td>\n",
       "      <td>2498.4970151785556</td>\n",
       "      <td>8149656.870214803</td>\n",
       "      <td>138775.264592</td>\n",
       "      <td>1.70143485588353</td>\n",
       "      <td>1399.4796741828577</td>\n",
       "      <td>3978269.41612028</td>\n",
       "      <td>1616018.1937171088</td>\n",
       "      <td>4442662.548842686</td>\n",
       "      <td>174648761.232706</td>\n",
       "      <td>1340.289314</td>\n",
       "    </tr>\n",
       "    <tr>\n",
       "      <th>301</th>\n",
       "      <td>NaN</td>\n",
       "      <td>05/09/2022</td>\n",
       "      <td>1.662336e+09</td>\n",
       "      <td>498291400.38260263</td>\n",
       "      <td>498291400.38260263</td>\n",
       "      <td>NaN</td>\n",
       "      <td>112177.29919872114</td>\n",
       "      <td>5947.779263957811</td>\n",
       "      <td>50815.20870483427</td>\n",
       "      <td>165.99470905216162</td>\n",
       "      <td>...</td>\n",
       "      <td>2498.4970151785556</td>\n",
       "      <td>8133224.556424989</td>\n",
       "      <td>134490.973336</td>\n",
       "      <td>1.70143485588353</td>\n",
       "      <td>1399.4796741828577</td>\n",
       "      <td>3995267.35527827</td>\n",
       "      <td>1505127.3933491255</td>\n",
       "      <td>4454243.224381304</td>\n",
       "      <td>174783799.779261</td>\n",
       "      <td>1309.559877</td>\n",
       "    </tr>\n",
       "    <tr>\n",
       "      <th>302</th>\n",
       "      <td>NaN</td>\n",
       "      <td>06/09/2022</td>\n",
       "      <td>1.662422e+09</td>\n",
       "      <td>508372885.128933</td>\n",
       "      <td>508372885.128933</td>\n",
       "      <td>NaN</td>\n",
       "      <td>113159.15035223238</td>\n",
       "      <td>6185.156262405628</td>\n",
       "      <td>51553.36140539705</td>\n",
       "      <td>184.33626228646756</td>\n",
       "      <td>...</td>\n",
       "      <td>2264.7113645199065</td>\n",
       "      <td>8200327.001606665</td>\n",
       "      <td>136878.95997</td>\n",
       "      <td>1.70143485588353</td>\n",
       "      <td>1350.2989354137478</td>\n",
       "      <td>3993378.54339029</td>\n",
       "      <td>1534117.0489075242</td>\n",
       "      <td>4454469.608361891</td>\n",
       "      <td>175101395.978171</td>\n",
       "      <td>1361.671558</td>\n",
       "    </tr>\n",
       "  </tbody>\n",
       "</table>\n",
       "<p>303 rows × 105 columns</p>\n",
       "</div>"
      ],
      "text/plain": [
       "     Unnamed: 0        Date     Timestamp         VVS Finance  \\\n",
       "0           NaN         NaN           NaN               Dexes   \n",
       "1           NaN         NaN           NaN              cronos   \n",
       "2           NaN         NaN           NaN                 TVL   \n",
       "3           NaN         NaN           NaN                 NaN   \n",
       "4           NaN  12/11/2021  1.636675e+09  289233660.20245445   \n",
       "..          ...         ...           ...                 ...   \n",
       "298         NaN  02/09/2022  1.662077e+09   498796369.9597525   \n",
       "299         NaN  03/09/2022  1.662163e+09  497964561.22147703   \n",
       "300         NaN  04/09/2022  1.662250e+09   495424367.5198908   \n",
       "301         NaN  05/09/2022  1.662336e+09  498291400.38260263   \n",
       "302         NaN  06/09/2022  1.662422e+09    508372885.128933   \n",
       "\n",
       "          VVS Finance.1       VVS Finance.2  \\\n",
       "0                 Dexes               Dexes   \n",
       "1                 Total              cronos   \n",
       "2                   TVL         Tokens(USD)   \n",
       "3                   NaN    crypto-com-chain   \n",
       "4    289233660.20245445  289233660.20245445   \n",
       "..                  ...                 ...   \n",
       "298   498796369.9597525                 NaN   \n",
       "299  497964561.22147703                 NaN   \n",
       "300   495424367.5198908                 NaN   \n",
       "301  498291400.38260263                 NaN   \n",
       "302    508372885.128933                 NaN   \n",
       "\n",
       "                                    VVS Finance.3      VVS Finance.4  \\\n",
       "0                                           Dexes              Dexes   \n",
       "1                                          cronos             cronos   \n",
       "2                                     Tokens(USD)        Tokens(USD)   \n",
       "3    alethea-artificial-liquid-intelligence-token                SKY   \n",
       "4                                             NaN                NaN   \n",
       "..                                            ...                ...   \n",
       "298                            113223.92863096953  6037.618760421786   \n",
       "299                            114283.17720887427  6078.501054846286   \n",
       "300                            113811.49447912403  6035.685681028244   \n",
       "301                            112177.29919872114  5947.779263957811   \n",
       "302                            113159.15035223238  6185.156262405628   \n",
       "\n",
       "         VVS Finance.5       VVS Finance.6  ...      VVS Finance.92  \\\n",
       "0                Dexes               Dexes  ...               Dexes   \n",
       "1               cronos              cronos  ...               Total   \n",
       "2          Tokens(USD)         Tokens(USD)  ...              Tokens   \n",
       "3                 DUSD               CROGE  ...               CRONA   \n",
       "4                  NaN                 NaN  ...                 NaN   \n",
       "..                 ...                 ...  ...                 ...   \n",
       "298  51234.00644970171  156.41519187528345  ...  2498.4970151785556   \n",
       "299  51763.47403938493  153.56756634683663  ...  2498.4970151785556   \n",
       "300   50817.9015234918   149.1574081579085  ...  2498.4970151785556   \n",
       "301  50815.20870483427  165.99470905216162  ...  2498.4970151785556   \n",
       "302  51553.36140539705  184.33626228646756  ...  2264.7113645199065   \n",
       "\n",
       "        VVS Finance.93 VVS Finance.94    VVS Finance.95      VVS Finance.96  \\\n",
       "0                Dexes          Dexes             Dexes               Dexes   \n",
       "1                Total          Total             Total               Total   \n",
       "2               Tokens         Tokens            Tokens              Tokens   \n",
       "3                 DARK         cosmos           CHIBIKI                 DAI   \n",
       "4                  NaN            NaN               NaN                 NaN   \n",
       "..                 ...            ...               ...                 ...   \n",
       "298  8325746.763311804  142193.045991  1.70143485588353  1447.5289824267584   \n",
       "299  8153747.144127194  139042.786402  1.70143485588353  1419.8852444660138   \n",
       "300  8149656.870214803  138775.264592  1.70143485588353  1399.4796741828577   \n",
       "301  8133224.556424989  134490.973336  1.70143485588353  1399.4796741828577   \n",
       "302  8200327.001606665   136878.95997  1.70143485588353  1350.2989354137478   \n",
       "\n",
       "       VVS Finance.97      VVS Finance.98     VVS Finance.99  \\\n",
       "0               Dexes               Dexes              Dexes   \n",
       "1               Total               Total              Total   \n",
       "2              Tokens              Tokens             Tokens   \n",
       "3            dogecoin                NESS               TUSD   \n",
       "4                 NaN                 NaN                NaN   \n",
       "..                ...                 ...                ...   \n",
       "298  4077524.06215904  1584623.6501056065  4432009.260717055   \n",
       "299    4054126.510858  1618846.0301573942  4442724.772463327   \n",
       "300  3978269.41612028  1616018.1937171088  4442662.548842686   \n",
       "301  3995267.35527827  1505127.3933491255  4454243.224381304   \n",
       "302  3993378.54339029  1534117.0489075242  4454469.608361891   \n",
       "\n",
       "      VVS Finance.100 VVS Finance.101  \n",
       "0               Dexes           Dexes  \n",
       "1               Total           Total  \n",
       "2              Tokens          Tokens  \n",
       "3                USDC             ADA  \n",
       "4                 NaN             NaN  \n",
       "..                ...             ...  \n",
       "298  174836306.683946     1354.265647  \n",
       "299  174770900.972584     1378.220373  \n",
       "300  174648761.232706     1340.289314  \n",
       "301  174783799.779261     1309.559877  \n",
       "302  175101395.978171     1361.671558  \n",
       "\n",
       "[303 rows x 105 columns]"
      ]
     },
     "execution_count": 17,
     "metadata": {},
     "output_type": "execute_result"
    }
   ],
   "source": [
    "lma"
   ]
  },
  {
   "cell_type": "code",
   "execution_count": 18,
   "metadata": {},
   "outputs": [
    {
     "data": {
      "text/plain": [
       "0                   Dexes\n",
       "1                  cronos\n",
       "2                     TVL\n",
       "3                     NaN\n",
       "4      289233660.20245445\n",
       "              ...        \n",
       "298     498796369.9597525\n",
       "299    497964561.22147703\n",
       "300     495424367.5198908\n",
       "301    498291400.38260263\n",
       "302      508372885.128933\n",
       "Name: VVS Finance, Length: 303, dtype: object"
      ]
     },
     "execution_count": 18,
     "metadata": {},
     "output_type": "execute_result"
    }
   ],
   "source": [
    "lma.iloc[:,3]"
   ]
  },
  {
   "cell_type": "code",
   "execution_count": 19,
   "metadata": {},
   "outputs": [
    {
     "data": {
      "text/plain": [
       "895864944.8120493"
      ]
     },
     "execution_count": 19,
     "metadata": {},
     "output_type": "execute_result"
    }
   ],
   "source": [
    "#Just eth currently can take total by changing the header\n",
    "lma.iloc[-183:, 3].astype(float).mean()"
   ]
  },
  {
   "cell_type": "code",
   "execution_count": null,
   "metadata": {},
   "outputs": [],
   "source": []
  },
  {
   "cell_type": "markdown",
   "metadata": {},
   "source": [
    "Largest Pool Concentration"
   ]
  },
  {
   "cell_type": "code",
   "execution_count": 20,
   "metadata": {},
   "outputs": [
    {
     "name": "stderr",
     "output_type": "stream",
     "text": [
      "/tmp/ipykernel_117953/2291472997.py:22: FutureWarning: The frame.append method is deprecated and will be removed from pandas in a future version. Use pandas.concat instead.\n",
      "  df = df.append(pool)\n"
     ]
    }
   ],
   "source": [
    "df = pd.DataFrame()\n",
    "ts = 0\n",
    "\n",
    "while True:\n",
    "    sl = len(df)\n",
    "    query = \"\"\"\n",
    "{\n",
    "  liquidityPools(first:1000, orderBy: createdTimestamp, orderDirection: asc, where: {createdTimestamp_gt: \"\"\"+f'\"{ts}\"'+\"\"\"}){\n",
    "    id\n",
    "    name\n",
    "    totalValueLockedUSD\n",
    "    cumulativeVolumeUSD\n",
    "    createdTimestamp\n",
    "    createdBlockNumber\n",
    "  }\n",
    "}\n",
    "\"\"\"\n",
    "    request = requests.post(endpoint, json={'query':query})\n",
    "    data = request.json()\n",
    "\n",
    "    pool = pd.json_normalize(data['data']['liquidityPools'])\n",
    "    df = df.append(pool)\n",
    "    df.drop_duplicates(inplace=True)\n",
    "    if len(df) == sl:\n",
    "      break\n",
    "    ts = df['createdTimestamp'].max()\n"
   ]
  },
  {
   "cell_type": "code",
   "execution_count": 21,
   "metadata": {},
   "outputs": [
    {
     "data": {
      "text/html": [
       "<div>\n",
       "<style scoped>\n",
       "    .dataframe tbody tr th:only-of-type {\n",
       "        vertical-align: middle;\n",
       "    }\n",
       "\n",
       "    .dataframe tbody tr th {\n",
       "        vertical-align: top;\n",
       "    }\n",
       "\n",
       "    .dataframe thead th {\n",
       "        text-align: right;\n",
       "    }\n",
       "</style>\n",
       "<table border=\"1\" class=\"dataframe\">\n",
       "  <thead>\n",
       "    <tr style=\"text-align: right;\">\n",
       "      <th></th>\n",
       "      <th>id</th>\n",
       "      <th>name</th>\n",
       "      <th>totalValueLockedUSD</th>\n",
       "      <th>cumulativeVolumeUSD</th>\n",
       "      <th>createdTimestamp</th>\n",
       "      <th>createdBlockNumber</th>\n",
       "    </tr>\n",
       "  </thead>\n",
       "  <tbody>\n",
       "    <tr>\n",
       "      <th>0</th>\n",
       "      <td>0xe61db569e231b3f5530168aa2c9d50246525b6d6</td>\n",
       "      <td>VVS Finance Wrapped CRO/USD Coin</td>\n",
       "      <td>7276291.924057</td>\n",
       "      <td>1050573744.748573</td>\n",
       "      <td>1636431821</td>\n",
       "      <td>17798</td>\n",
       "    </tr>\n",
       "    <tr>\n",
       "      <th>1</th>\n",
       "      <td>0xa111c17f8b8303280d3eb01bbcd61000aa7f39f9</td>\n",
       "      <td>VVS Finance Wrapped CRO/Wrapped Ether</td>\n",
       "      <td>8599831.087633802160682308403341482</td>\n",
       "      <td>570882124.501524911498070361961484</td>\n",
       "      <td>1636431947</td>\n",
       "      <td>17821</td>\n",
       "    </tr>\n",
       "    <tr>\n",
       "      <th>2</th>\n",
       "      <td>0xbf62c67ea509e86f07c8c69d0286c0636c50270b</td>\n",
       "      <td>VVS Finance VVSToken/Wrapped CRO</td>\n",
       "      <td>50569188.93289926346561264512214109</td>\n",
       "      <td>0</td>\n",
       "      <td>1636431959</td>\n",
       "      <td>17823</td>\n",
       "    </tr>\n",
       "    <tr>\n",
       "      <th>3</th>\n",
       "      <td>0x8f09fff247b8fdb80461e5cf5e82dd1ae2ebd6d7</td>\n",
       "      <td>VVS Finance Wrapped BTC/Wrapped CRO</td>\n",
       "      <td>0</td>\n",
       "      <td>0</td>\n",
       "      <td>1636431969</td>\n",
       "      <td>17825</td>\n",
       "    </tr>\n",
       "    <tr>\n",
       "      <th>4</th>\n",
       "      <td>0xfd0cd0c651569d1e2e3c768ac0ffdab3c8f4844f</td>\n",
       "      <td>VVS Finance USD Coin/Wrapped Ether</td>\n",
       "      <td>67696.13325</td>\n",
       "      <td>1836952.393780991399387256042960667</td>\n",
       "      <td>1636431975</td>\n",
       "      <td>17826</td>\n",
       "    </tr>\n",
       "    <tr>\n",
       "      <th>...</th>\n",
       "      <td>...</td>\n",
       "      <td>...</td>\n",
       "      <td>...</td>\n",
       "      <td>...</td>\n",
       "      <td>...</td>\n",
       "      <td>...</td>\n",
       "    </tr>\n",
       "    <tr>\n",
       "      <th>903</th>\n",
       "      <td>0x6f9e2886bc263d9c2f0b795243edde6c250e1ba2</td>\n",
       "      <td>VVS Finance FerroToken/Fira</td>\n",
       "      <td>3.747191447475809746350295498865491</td>\n",
       "      <td>0</td>\n",
       "      <td>1662180008</td>\n",
       "      <td>4456506</td>\n",
       "    </tr>\n",
       "    <tr>\n",
       "      <th>904</th>\n",
       "      <td>0x4900c9e854fdc1db0b9dceab572319c29a41c924</td>\n",
       "      <td>VVS Finance Panterra Opal/HoloToken</td>\n",
       "      <td>2.188086269054424437322230801089404</td>\n",
       "      <td>0</td>\n",
       "      <td>1662350006</td>\n",
       "      <td>4486548</td>\n",
       "    </tr>\n",
       "    <tr>\n",
       "      <th>905</th>\n",
       "      <td>0x65c69d642cec2b71bbe0304278b496bfa183f235</td>\n",
       "      <td>VVS Finance WOO Network/HOD</td>\n",
       "      <td>0</td>\n",
       "      <td>0</td>\n",
       "      <td>1662350243</td>\n",
       "      <td>4486590</td>\n",
       "    </tr>\n",
       "    <tr>\n",
       "      <th>906</th>\n",
       "      <td>0x9aae44562397aecc8fdc83cac48f6b61244bdbcf</td>\n",
       "      <td>VVS Finance ATOM/ChainLink Token</td>\n",
       "      <td>0</td>\n",
       "      <td>0</td>\n",
       "      <td>1662350339</td>\n",
       "      <td>4486607</td>\n",
       "    </tr>\n",
       "    <tr>\n",
       "      <th>907</th>\n",
       "      <td>0x5382677a82a608669409d1064a48d51c323d3868</td>\n",
       "      <td>VVS Finance Mimas/VVSToken</td>\n",
       "      <td>0.0005985643548128590428452297380566471</td>\n",
       "      <td>0</td>\n",
       "      <td>1662400798</td>\n",
       "      <td>4495519</td>\n",
       "    </tr>\n",
       "  </tbody>\n",
       "</table>\n",
       "<p>908 rows × 6 columns</p>\n",
       "</div>"
      ],
      "text/plain": [
       "                                             id  \\\n",
       "0    0xe61db569e231b3f5530168aa2c9d50246525b6d6   \n",
       "1    0xa111c17f8b8303280d3eb01bbcd61000aa7f39f9   \n",
       "2    0xbf62c67ea509e86f07c8c69d0286c0636c50270b   \n",
       "3    0x8f09fff247b8fdb80461e5cf5e82dd1ae2ebd6d7   \n",
       "4    0xfd0cd0c651569d1e2e3c768ac0ffdab3c8f4844f   \n",
       "..                                          ...   \n",
       "903  0x6f9e2886bc263d9c2f0b795243edde6c250e1ba2   \n",
       "904  0x4900c9e854fdc1db0b9dceab572319c29a41c924   \n",
       "905  0x65c69d642cec2b71bbe0304278b496bfa183f235   \n",
       "906  0x9aae44562397aecc8fdc83cac48f6b61244bdbcf   \n",
       "907  0x5382677a82a608669409d1064a48d51c323d3868   \n",
       "\n",
       "                                      name  \\\n",
       "0         VVS Finance Wrapped CRO/USD Coin   \n",
       "1    VVS Finance Wrapped CRO/Wrapped Ether   \n",
       "2         VVS Finance VVSToken/Wrapped CRO   \n",
       "3      VVS Finance Wrapped BTC/Wrapped CRO   \n",
       "4       VVS Finance USD Coin/Wrapped Ether   \n",
       "..                                     ...   \n",
       "903            VVS Finance FerroToken/Fira   \n",
       "904    VVS Finance Panterra Opal/HoloToken   \n",
       "905            VVS Finance WOO Network/HOD   \n",
       "906       VVS Finance ATOM/ChainLink Token   \n",
       "907             VVS Finance Mimas/VVSToken   \n",
       "\n",
       "                         totalValueLockedUSD  \\\n",
       "0                             7276291.924057   \n",
       "1        8599831.087633802160682308403341482   \n",
       "2        50569188.93289926346561264512214109   \n",
       "3                                          0   \n",
       "4                                67696.13325   \n",
       "..                                       ...   \n",
       "903      3.747191447475809746350295498865491   \n",
       "904      2.188086269054424437322230801089404   \n",
       "905                                        0   \n",
       "906                                        0   \n",
       "907  0.0005985643548128590428452297380566471   \n",
       "\n",
       "                     cumulativeVolumeUSD createdTimestamp createdBlockNumber  \n",
       "0                      1050573744.748573       1636431821              17798  \n",
       "1     570882124.501524911498070361961484       1636431947              17821  \n",
       "2                                      0       1636431959              17823  \n",
       "3                                      0       1636431969              17825  \n",
       "4    1836952.393780991399387256042960667       1636431975              17826  \n",
       "..                                   ...              ...                ...  \n",
       "903                                    0       1662180008            4456506  \n",
       "904                                    0       1662350006            4486548  \n",
       "905                                    0       1662350243            4486590  \n",
       "906                                    0       1662350339            4486607  \n",
       "907                                    0       1662400798            4495519  \n",
       "\n",
       "[908 rows x 6 columns]"
      ]
     },
     "execution_count": 21,
     "metadata": {},
     "output_type": "execute_result"
    }
   ],
   "source": [
    "df"
   ]
  },
  {
   "cell_type": "code",
   "execution_count": 22,
   "metadata": {},
   "outputs": [
    {
     "data": {
      "text/plain": [
       "0.7720430891620029"
      ]
     },
     "execution_count": 22,
     "metadata": {},
     "output_type": "execute_result"
    }
   ],
   "source": [
    "df['totalValueLockedUSD'].astype(float).max()/df['totalValueLockedUSD'].astype(float).sum()"
   ]
  },
  {
   "cell_type": "code",
   "execution_count": 23,
   "metadata": {},
   "outputs": [
    {
     "data": {
      "text/plain": [
       "0.9854267638135864"
      ]
     },
     "execution_count": 23,
     "metadata": {},
     "output_type": "execute_result"
    }
   ],
   "source": [
    "df['totalValueLockedUSD'].astype(float).nlargest(10).sum()/df['totalValueLockedUSD'].astype(float).sum()"
   ]
  },
  {
   "cell_type": "markdown",
   "metadata": {},
   "source": [
    "Liquidity Pools with > $1mn TVL"
   ]
  },
  {
   "cell_type": "code",
   "execution_count": 24,
   "metadata": {},
   "outputs": [
    {
     "data": {
      "text/plain": [
       "12"
      ]
     },
     "execution_count": 24,
     "metadata": {},
     "output_type": "execute_result"
    }
   ],
   "source": [
    "len(df.loc[df['totalValueLockedUSD'].astype(float) > 1000000])"
   ]
  },
  {
   "cell_type": "code",
   "execution_count": null,
   "metadata": {},
   "outputs": [],
   "source": []
  },
  {
   "cell_type": "markdown",
   "metadata": {},
   "source": [
    "Monthly Active Users"
   ]
  },
  {
   "cell_type": "code",
   "execution_count": 26,
   "metadata": {},
   "outputs": [],
   "source": [
    "query = \"\"\"{\n",
    "  usageMetricsDailySnapshots(first: 183, orderBy: timestamp, orderDirection: desc){\n",
    "    timestamp\n",
    "    blockNumber\n",
    "    id\n",
    "    dailyActiveUsers\n",
    "    dailySwapCount\n",
    "    dailyDepositCount\n",
    "    dailyWithdrawCount \n",
    "  }\n",
    "}\n",
    "\"\"\""
   ]
  },
  {
   "cell_type": "code",
   "execution_count": 27,
   "metadata": {},
   "outputs": [],
   "source": [
    "request = requests.post(endpoint, json={'query':query})\n",
    "data = request.json()"
   ]
  },
  {
   "cell_type": "code",
   "execution_count": 28,
   "metadata": {},
   "outputs": [],
   "source": [
    "df = pd.json_normalize(data['data']['usageMetricsDailySnapshots'])"
   ]
  },
  {
   "cell_type": "code",
   "execution_count": 30,
   "metadata": {},
   "outputs": [
    {
     "data": {
      "text/plain": [
       "3954.9180327868853"
      ]
     },
     "execution_count": 30,
     "metadata": {},
     "output_type": "execute_result"
    }
   ],
   "source": [
    "df['dailyActiveUsers'].astype(float).mean()"
   ]
  },
  {
   "cell_type": "code",
   "execution_count": null,
   "metadata": {},
   "outputs": [],
   "source": []
  },
  {
   "cell_type": "markdown",
   "metadata": {},
   "source": [
    "Implied slippage"
   ]
  },
  {
   "cell_type": "code",
   "execution_count": 31,
   "metadata": {},
   "outputs": [],
   "source": [
    "query = \"\"\"\n",
    "{\n",
    "  liquidityPools(first:10, orderBy: totalValueLockedUSD, orderDirection: desc){\n",
    "    id\n",
    "    name\n",
    "    totalValueLockedUSD\n",
    "    cumulativeVolumeUSD\n",
    "    createdTimestamp\n",
    "    createdBlockNumber\n",
    "    inputTokens{\n",
    "      id\n",
    "      name\n",
    "      symbol\n",
    "      lastPriceUSD\n",
    "      decimals\n",
    "    }\n",
    "    inputTokenBalances\n",
    "  }\n",
    "}\n",
    "\"\"\"\n",
    "request = requests.post(endpoint, json={'query':query})\n",
    "if request.ok:\n",
    "    data = request.json()"
   ]
  },
  {
   "cell_type": "code",
   "execution_count": 36,
   "metadata": {},
   "outputs": [
    {
     "data": {
      "text/plain": [
       "{'id': '0xa111c17f8b8303280d3eb01bbcd61000aa7f39f9',\n",
       " 'name': 'VVS Finance Wrapped CRO/Wrapped Ether',\n",
       " 'totalValueLockedUSD': '8599831.087633802160682308403341482',\n",
       " 'cumulativeVolumeUSD': '570882124.501524911498070361961484',\n",
       " 'createdTimestamp': '1636431947',\n",
       " 'createdBlockNumber': '17821',\n",
       " 'inputTokens': [{'id': '0x5c7f8a570d578ed84e63fdfa7b1ee72deae1ae23',\n",
       "   'name': 'Wrapped CRO',\n",
       "   'symbol': 'WCRO',\n",
       "   'lastPriceUSD': '0',\n",
       "   'decimals': 18},\n",
       "  {'id': '0xe44fd7fcb2b1581822d0c862b68222998a0c299a',\n",
       "   'name': 'Wrapped Ether',\n",
       "   'symbol': 'WETH',\n",
       "   'lastPriceUSD': '1659.847735364287680749184649674773',\n",
       "   'decimals': 18}],\n",
       " 'inputTokenBalances': ['72561229893458450359982900',\n",
       "  '5159165945004724607551']}"
      ]
     },
     "execution_count": 36,
     "metadata": {},
     "output_type": "execute_result"
    }
   ],
   "source": [
    "data['data']['liquidityPools'][3]"
   ]
  },
  {
   "cell_type": "code",
   "execution_count": 37,
   "metadata": {},
   "outputs": [],
   "source": [
    "slip1000 = []\n",
    "slip10000 = []\n",
    "slip100000 = []\n",
    "\n",
    "for pool in data['data']['liquidityPools']:\n",
    "    token0 = pool['inputTokens'][0]\n",
    "    token0_reserveUSD = (float(pool['inputTokenBalances'][0])/10**token0['decimals'])*float(token0['lastPriceUSD'])\n",
    "    \n",
    "    token1 = pool['inputTokens'][1]\n",
    "    token1_reserveUSD = (float(pool['inputTokenBalances'][1])/10**token1['decimals'])*float(token1['lastPriceUSD'])\n",
    "\n",
    "    try:\n",
    "        pi1000 = 1000/token0_reserveUSD\n",
    "    except:\n",
    "        pi1000 = 1000/token1_reserveUSD\n",
    "    \n",
    "    try:\n",
    "        pi10000 = 10000/token0_reserveUSD\n",
    "    except:\n",
    "        pi10000 = 10000/token1_reserveUSD\n",
    "    \n",
    "    try:\n",
    "        pi100000 = 100000/token0_reserveUSD\n",
    "    except:\n",
    "        pi100000 = 100000/token1_reserveUSD\n",
    "    \n",
    "    slip1000.append(pi1000)\n",
    "    slip10000.append(pi10000)\n",
    "    slip100000.append(pi100000)\n",
    "\n"
   ]
  },
  {
   "cell_type": "code",
   "execution_count": 38,
   "metadata": {},
   "outputs": [
    {
     "data": {
      "text/plain": [
       "[6.349899816724522e-06,\n",
       " 1.9795453491298922e-05,\n",
       " 0.00022545502958664612,\n",
       " 0.00011677563902411123,\n",
       " 0.0001375066963896912,\n",
       " 0.0007489763070299202,\n",
       " 0.0007622187367320983,\n",
       " 0.0007880807231733858,\n",
       " 0.0009744867898414105,\n",
       " 0.0005482439081910527]"
      ]
     },
     "execution_count": 38,
     "metadata": {},
     "output_type": "execute_result"
    }
   ],
   "source": [
    "slip1000"
   ]
  },
  {
   "cell_type": "code",
   "execution_count": 39,
   "metadata": {},
   "outputs": [
    {
     "data": {
      "text/plain": [
       "0.000432788918327634"
      ]
     },
     "execution_count": 39,
     "metadata": {},
     "output_type": "execute_result"
    }
   ],
   "source": [
    "np.mean(slip1000)"
   ]
  },
  {
   "cell_type": "code",
   "execution_count": 40,
   "metadata": {},
   "outputs": [
    {
     "data": {
      "text/plain": [
       "0.004327889183276339"
      ]
     },
     "execution_count": 40,
     "metadata": {},
     "output_type": "execute_result"
    }
   ],
   "source": [
    "np.mean(slip10000)"
   ]
  },
  {
   "cell_type": "code",
   "execution_count": 41,
   "metadata": {},
   "outputs": [
    {
     "data": {
      "text/plain": [
       "0.0432788918327634"
      ]
     },
     "execution_count": 41,
     "metadata": {},
     "output_type": "execute_result"
    }
   ],
   "source": [
    "np.mean(slip100000)"
   ]
  },
  {
   "cell_type": "code",
   "execution_count": null,
   "metadata": {},
   "outputs": [],
   "source": [
    "#Check price impact calculation is correct d0/r0"
   ]
  },
  {
   "cell_type": "code",
   "execution_count": null,
   "metadata": {},
   "outputs": [],
   "source": []
  },
  {
   "cell_type": "code",
   "execution_count": null,
   "metadata": {},
   "outputs": [],
   "source": []
  }
 ],
 "metadata": {
  "kernelspec": {
   "display_name": "Python 3.8.10 64-bit",
   "language": "python",
   "name": "python3"
  },
  "language_info": {
   "codemirror_mode": {
    "name": "ipython",
    "version": 3
   },
   "file_extension": ".py",
   "mimetype": "text/x-python",
   "name": "python",
   "nbconvert_exporter": "python",
   "pygments_lexer": "ipython3",
   "version": "3.8.10"
  },
  "orig_nbformat": 4,
  "vscode": {
   "interpreter": {
    "hash": "916dbcbb3f70747c44a77c7bcd40155683ae19c65e1c03b4aa3499c5328201f1"
   }
  }
 },
 "nbformat": 4,
 "nbformat_minor": 2
}
