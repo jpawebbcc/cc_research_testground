{
 "cells": [
  {
   "cell_type": "markdown",
   "metadata": {},
   "source": [
    "## Subgraphs\n",
    "\n",
    "https://thegraph.com/hosted-service/subgraph/traderjoe-xyz/exchange\n",
    "\n",
    "### TraderJoe\n",
    "\n",
    "13/09/22"
   ]
  },
  {
   "cell_type": "code",
   "execution_count": 2,
   "metadata": {},
   "outputs": [],
   "source": [
    "import pandas as pd\n",
    "import numpy as np\n",
    "import time\n",
    "import requests\n",
    "import datetime as dt"
   ]
  },
  {
   "cell_type": "code",
   "execution_count": 15,
   "metadata": {},
   "outputs": [],
   "source": [
    "endpoint = 'https://api.thegraph.com/subgraphs/name/traderjoe-xyz/exchange'"
   ]
  },
  {
   "cell_type": "code",
   "execution_count": 22,
   "metadata": {},
   "outputs": [
    {
     "name": "stdout",
     "output_type": "stream",
     "text": [
      "2022-09-13 14:20:03\n"
     ]
    },
    {
     "data": {
      "text/plain": [
       "True"
      ]
     },
     "execution_count": 22,
     "metadata": {},
     "output_type": "execute_result"
    }
   ],
   "source": [
    "#Check if subgraph is up to date\n",
    "query = \"\"\"{\n",
    "  _meta{\n",
    "    block{\n",
    "      timestamp\n",
    "  \t\thash\n",
    "      number\n",
    "    }\n",
    "    hasIndexingErrors\n",
    "    deployment\n",
    "  }\n",
    "}\"\"\"\n",
    "response = requests.post(endpoint, json={'query':query})\n",
    "if response.ok:\n",
    "    data = response.json()\n",
    "else:\n",
    "    print('Error')\n",
    "#Check if it is ok to run i.e. within 5 days of today\n",
    "print(dt.datetime.fromtimestamp(int(data['data']['_meta']['block']['timestamp'], base = 0)))\n",
    "int(data['data']['_meta']['block']['timestamp'], base = 0) > (dt.datetime.today().timestamp() - 3600*24*5)"
   ]
  },
  {
   "cell_type": "markdown",
   "metadata": {},
   "source": [
    "6-Month Average Daily Volume"
   ]
  },
  {
   "cell_type": "code",
   "execution_count": 25,
   "metadata": {},
   "outputs": [],
   "source": [
    "query = \"\"\"{\n",
    "  dayDatas(first:183, orderBy: date, orderDirection:desc){\n",
    "  id\n",
    "  volumeUSD\n",
    "    volumeAVAX\n",
    "    txCount\n",
    "    date\n",
    "    liquidityUSD\n",
    "    liquidityAVAX\n",
    "  }\n",
    "}\"\"\""
   ]
  },
  {
   "cell_type": "code",
   "execution_count": 26,
   "metadata": {},
   "outputs": [],
   "source": [
    "request = requests.post(endpoint, json={'query':query})\n",
    "if request.ok:\n",
    "    data = request.json()\n",
    "else:\n",
    "    print('Retry!')"
   ]
  },
  {
   "cell_type": "code",
   "execution_count": 30,
   "metadata": {},
   "outputs": [],
   "source": [
    "df = pd.json_normalize(data['data']['dayDatas'])"
   ]
  },
  {
   "cell_type": "code",
   "execution_count": 32,
   "metadata": {},
   "outputs": [
    {
     "data": {
      "text/plain": [
       "66445023.02619464"
      ]
     },
     "execution_count": 32,
     "metadata": {},
     "output_type": "execute_result"
    }
   ],
   "source": [
    "df['volumeUSD'].astype(float).mean()"
   ]
  },
  {
   "cell_type": "markdown",
   "metadata": {},
   "source": [
    "6-Month Average TVL"
   ]
  },
  {
   "cell_type": "code",
   "execution_count": 35,
   "metadata": {},
   "outputs": [
    {
     "data": {
      "text/plain": [
       "416099949.584649"
      ]
     },
     "execution_count": 35,
     "metadata": {},
     "output_type": "execute_result"
    }
   ],
   "source": [
    "df['liquidityUSD'].astype(float).mean()"
   ]
  },
  {
   "cell_type": "markdown",
   "metadata": {},
   "source": [
    "Largest Pool Concentration"
   ]
  },
  {
   "cell_type": "code",
   "execution_count": 52,
   "metadata": {},
   "outputs": [
    {
     "name": "stderr",
     "output_type": "stream",
     "text": [
      "/tmp/ipykernel_118256/619727309.py:34: FutureWarning: The frame.append method is deprecated and will be removed from pandas in a future version. Use pandas.concat instead.\n",
      "  df = df.append(pool)\n",
      "/tmp/ipykernel_118256/619727309.py:34: FutureWarning: The frame.append method is deprecated and will be removed from pandas in a future version. Use pandas.concat instead.\n",
      "  df = df.append(pool)\n",
      "/tmp/ipykernel_118256/619727309.py:34: FutureWarning: The frame.append method is deprecated and will be removed from pandas in a future version. Use pandas.concat instead.\n",
      "  df = df.append(pool)\n",
      "/tmp/ipykernel_118256/619727309.py:34: FutureWarning: The frame.append method is deprecated and will be removed from pandas in a future version. Use pandas.concat instead.\n",
      "  df = df.append(pool)\n",
      "/tmp/ipykernel_118256/619727309.py:34: FutureWarning: The frame.append method is deprecated and will be removed from pandas in a future version. Use pandas.concat instead.\n",
      "  df = df.append(pool)\n",
      "/tmp/ipykernel_118256/619727309.py:34: FutureWarning: The frame.append method is deprecated and will be removed from pandas in a future version. Use pandas.concat instead.\n",
      "  df = df.append(pool)\n",
      "/tmp/ipykernel_118256/619727309.py:34: FutureWarning: The frame.append method is deprecated and will be removed from pandas in a future version. Use pandas.concat instead.\n",
      "  df = df.append(pool)\n",
      "/tmp/ipykernel_118256/619727309.py:34: FutureWarning: The frame.append method is deprecated and will be removed from pandas in a future version. Use pandas.concat instead.\n",
      "  df = df.append(pool)\n",
      "/tmp/ipykernel_118256/619727309.py:34: FutureWarning: The frame.append method is deprecated and will be removed from pandas in a future version. Use pandas.concat instead.\n",
      "  df = df.append(pool)\n",
      "/tmp/ipykernel_118256/619727309.py:34: FutureWarning: The frame.append method is deprecated and will be removed from pandas in a future version. Use pandas.concat instead.\n",
      "  df = df.append(pool)\n",
      "/tmp/ipykernel_118256/619727309.py:34: FutureWarning: The frame.append method is deprecated and will be removed from pandas in a future version. Use pandas.concat instead.\n",
      "  df = df.append(pool)\n",
      "/tmp/ipykernel_118256/619727309.py:34: FutureWarning: The frame.append method is deprecated and will be removed from pandas in a future version. Use pandas.concat instead.\n",
      "  df = df.append(pool)\n",
      "/tmp/ipykernel_118256/619727309.py:34: FutureWarning: The frame.append method is deprecated and will be removed from pandas in a future version. Use pandas.concat instead.\n",
      "  df = df.append(pool)\n",
      "/tmp/ipykernel_118256/619727309.py:34: FutureWarning: The frame.append method is deprecated and will be removed from pandas in a future version. Use pandas.concat instead.\n",
      "  df = df.append(pool)\n",
      "/tmp/ipykernel_118256/619727309.py:34: FutureWarning: The frame.append method is deprecated and will be removed from pandas in a future version. Use pandas.concat instead.\n",
      "  df = df.append(pool)\n",
      "/tmp/ipykernel_118256/619727309.py:34: FutureWarning: The frame.append method is deprecated and will be removed from pandas in a future version. Use pandas.concat instead.\n",
      "  df = df.append(pool)\n",
      "/tmp/ipykernel_118256/619727309.py:34: FutureWarning: The frame.append method is deprecated and will be removed from pandas in a future version. Use pandas.concat instead.\n",
      "  df = df.append(pool)\n",
      "/tmp/ipykernel_118256/619727309.py:34: FutureWarning: The frame.append method is deprecated and will be removed from pandas in a future version. Use pandas.concat instead.\n",
      "  df = df.append(pool)\n"
     ]
    }
   ],
   "source": [
    "df = pd.DataFrame()\n",
    "ts = 0\n",
    "\n",
    "while True:\n",
    "    sl = len(df)\n",
    "    query = \"\"\"\n",
    "query{\n",
    "pairs(first: 1000, where:{timestamp_gt: \"\"\"+f'\"{ts}\"'+\"\"\"}, \n",
    "  orderDirection: asc, orderBy: timestamp){\n",
    "    id\n",
    "    name\n",
    "    token0{\n",
    "      symbol\n",
    "      id\n",
    "    }\n",
    "    token1{\n",
    "      symbol\n",
    "      id\n",
    "    }\n",
    "    reserve0\n",
    "    reserve1\n",
    "    reserveUSD\n",
    "    token0Price\n",
    "    token1Price\n",
    "    timestamp\n",
    "    block\n",
    "}\n",
    "  }\n",
    "\"\"\"\n",
    "    request = requests.post(endpoint, json={'query':query})\n",
    "    if request.ok:\n",
    "        data = request.json()\n",
    "        pool = pd.json_normalize(data['data']['pairs'])\n",
    "        df = df.append(pool)\n",
    "        df.drop_duplicates(inplace=True)\n",
    "        if len(df) == sl:\n",
    "            break\n",
    "        ts = df['timestamp'].astype(int).max()"
   ]
  },
  {
   "cell_type": "code",
   "execution_count": 59,
   "metadata": {},
   "outputs": [],
   "source": [
    "df.reset_index(drop = True, inplace=True)"
   ]
  },
  {
   "cell_type": "code",
   "execution_count": 65,
   "metadata": {},
   "outputs": [
    {
     "data": {
      "text/plain": [
       "9901     1.048430e+12\n",
       "14911    3.005664e+09\n",
       "16781    1.849206e+09\n",
       "9720     2.682962e+08\n",
       "14119    5.164998e+07\n",
       "9725     3.582391e+07\n",
       "1514     2.953435e+07\n",
       "5337     2.565707e+07\n",
       "4873     1.649611e+07\n",
       "48       1.498821e+07\n",
       "Name: reserveUSD, dtype: float64"
      ]
     },
     "execution_count": 65,
     "metadata": {},
     "output_type": "execute_result"
    }
   ],
   "source": [
    "df['reserveUSD'].astype(float).nlargest(10)"
   ]
  },
  {
   "cell_type": "code",
   "execution_count": 68,
   "metadata": {},
   "outputs": [],
   "source": [
    "df.drop(9901, axis = 0, inplace=True)"
   ]
  },
  {
   "cell_type": "code",
   "execution_count": 69,
   "metadata": {},
   "outputs": [
    {
     "data": {
      "text/html": [
       "<div>\n",
       "<style scoped>\n",
       "    .dataframe tbody tr th:only-of-type {\n",
       "        vertical-align: middle;\n",
       "    }\n",
       "\n",
       "    .dataframe tbody tr th {\n",
       "        vertical-align: top;\n",
       "    }\n",
       "\n",
       "    .dataframe thead th {\n",
       "        text-align: right;\n",
       "    }\n",
       "</style>\n",
       "<table border=\"1\" class=\"dataframe\">\n",
       "  <thead>\n",
       "    <tr style=\"text-align: right;\">\n",
       "      <th></th>\n",
       "      <th>id</th>\n",
       "      <th>name</th>\n",
       "      <th>reserve0</th>\n",
       "      <th>reserve1</th>\n",
       "      <th>reserveUSD</th>\n",
       "      <th>token0Price</th>\n",
       "      <th>token1Price</th>\n",
       "      <th>timestamp</th>\n",
       "      <th>block</th>\n",
       "      <th>token0.symbol</th>\n",
       "      <th>token0.id</th>\n",
       "      <th>token1.symbol</th>\n",
       "      <th>token1.id</th>\n",
       "    </tr>\n",
       "  </thead>\n",
       "  <tbody>\n",
       "    <tr>\n",
       "      <th>0</th>\n",
       "      <td>0xe4b9865c0866346ba3613ec122040a365637fb46</td>\n",
       "      <td>WAVAX-USDT</td>\n",
       "      <td>66.655925611435778905</td>\n",
       "      <td>1353.151812</td>\n",
       "      <td>2667.979048581240155534706154927882</td>\n",
       "      <td>0.04925975416824537268180519570556508</td>\n",
       "      <td>20.30054791959632501661845815339531</td>\n",
       "      <td>1624941631</td>\n",
       "      <td>2504194</td>\n",
       "      <td>WAVAX</td>\n",
       "      <td>0xb31f66aa3c1e785363f0875a1b74e27b85fd66c7</td>\n",
       "      <td>USDT</td>\n",
       "      <td>0xde3a24028580884448a5397872046a019649b084</td>\n",
       "    </tr>\n",
       "    <tr>\n",
       "      <th>1</th>\n",
       "      <td>0x43b9c8dec26c2d21146466caacabf94fdbeac473</td>\n",
       "      <td>WAVAX-DAI</td>\n",
       "      <td>2.843082470273760778</td>\n",
       "      <td>54.220307747745336624</td>\n",
       "      <td>108.5583935837497499030108330140589</td>\n",
       "      <td>0.05243574941516236122432337162354385</td>\n",
       "      <td>19.07095848068186927870679512710967</td>\n",
       "      <td>1624941782</td>\n",
       "      <td>2504226</td>\n",
       "      <td>WAVAX</td>\n",
       "      <td>0xb31f66aa3c1e785363f0875a1b74e27b85fd66c7</td>\n",
       "      <td>DAI</td>\n",
       "      <td>0xba7deebbfc5fa1100fb055a87773e1e99cd3507a</td>\n",
       "    </tr>\n",
       "    <tr>\n",
       "      <th>2</th>\n",
       "      <td>0x454e67025631c065d3cfad6d71e6892f74487a15</td>\n",
       "      <td>JOE-WAVAX</td>\n",
       "      <td>17286792.793213274062898592</td>\n",
       "      <td>190579.524447463804592464</td>\n",
       "      <td>7607579.08983136112393525551898475</td>\n",
       "      <td>90.70645360949384693449353144990866</td>\n",
       "      <td>0.01102457388870216377837362093977407</td>\n",
       "      <td>1625028033</td>\n",
       "      <td>2516404</td>\n",
       "      <td>JOE</td>\n",
       "      <td>0x6e84a6216ea6dacc71ee8e6b0a5b7322eebc0fdd</td>\n",
       "      <td>WAVAX</td>\n",
       "      <td>0xb31f66aa3c1e785363f0875a1b74e27b85fd66c7</td>\n",
       "    </tr>\n",
       "    <tr>\n",
       "      <th>3</th>\n",
       "      <td>0xc992ab46428a5a2edeb8f44d946ce5642f97ef71</td>\n",
       "      <td>WAVAX-ETH</td>\n",
       "      <td>0.51308262619789782</td>\n",
       "      <td>0.005846738668896178</td>\n",
       "      <td>19.67197157622815917496675238570888</td>\n",
       "      <td>87.75535478050776489117986216710998</td>\n",
       "      <td>0.01139531601805021907293501104623983</td>\n",
       "      <td>1625029067</td>\n",
       "      <td>2516545</td>\n",
       "      <td>WAVAX</td>\n",
       "      <td>0xb31f66aa3c1e785363f0875a1b74e27b85fd66c7</td>\n",
       "      <td>ETH</td>\n",
       "      <td>0xf20d962a6c8f70c731bd838a3a388d7d48fa6e15</td>\n",
       "    </tr>\n",
       "    <tr>\n",
       "      <th>4</th>\n",
       "      <td>0xbeb0b5fbd99b8e7498a4063cb419646922f6eef8</td>\n",
       "      <td>WBTC-WAVAX</td>\n",
       "      <td>0.00003315</td>\n",
       "      <td>0.047651557468385073</td>\n",
       "      <td>1.603806833616522987499175463578525</td>\n",
       "      <td>0.0006956750578822888668574859723863619</td>\n",
       "      <td>1437.452713978433574660633484162896</td>\n",
       "      <td>1625029156</td>\n",
       "      <td>2516553</td>\n",
       "      <td>WBTC</td>\n",
       "      <td>0x408d4cd0adb7cebd1f1a1c33a0ba2098e1295bab</td>\n",
       "      <td>WAVAX</td>\n",
       "      <td>0xb31f66aa3c1e785363f0875a1b74e27b85fd66c7</td>\n",
       "    </tr>\n",
       "    <tr>\n",
       "      <th>...</th>\n",
       "      <td>...</td>\n",
       "      <td>...</td>\n",
       "      <td>...</td>\n",
       "      <td>...</td>\n",
       "      <td>...</td>\n",
       "      <td>...</td>\n",
       "      <td>...</td>\n",
       "      <td>...</td>\n",
       "      <td>...</td>\n",
       "      <td>...</td>\n",
       "      <td>...</td>\n",
       "      <td>...</td>\n",
       "      <td>...</td>\n",
       "    </tr>\n",
       "    <tr>\n",
       "      <th>16977</th>\n",
       "      <td>0x2a8e370d15350eed9e930084f2db5b52f695fac9</td>\n",
       "      <td>MF-WAVAX</td>\n",
       "      <td>222964163080044.628366002372248143</td>\n",
       "      <td>90.089715690042090994</td>\n",
       "      <td>3843.56028018297751225882701475625</td>\n",
       "      <td>2474912495530.159407466129692274804</td>\n",
       "      <td>0.000000000000404054689531876400831646135288559</td>\n",
       "      <td>1662818624</td>\n",
       "      <td>19734132</td>\n",
       "      <td>MF</td>\n",
       "      <td>0x9a73840d55e265efcae53c2406dc89382378690f</td>\n",
       "      <td>WAVAX</td>\n",
       "      <td>0xb31f66aa3c1e785363f0875a1b74e27b85fd66c7</td>\n",
       "    </tr>\n",
       "    <tr>\n",
       "      <th>16978</th>\n",
       "      <td>0xb887ce2409203c680b10aeda8986295f7204f8a6</td>\n",
       "      <td>WAVAX-AVL</td>\n",
       "      <td>0.013318812497170612</td>\n",
       "      <td>910895.410802632</td>\n",
       "      <td>0.5486529428923726249025847631461319</td>\n",
       "      <td>0.00000001462167043462738649184119999603524</td>\n",
       "      <td>68391638.59361624630852898363952464</td>\n",
       "      <td>1662858030</td>\n",
       "      <td>19746440</td>\n",
       "      <td>WAVAX</td>\n",
       "      <td>0xb31f66aa3c1e785363f0875a1b74e27b85fd66c7</td>\n",
       "      <td>AVL</td>\n",
       "      <td>0xf49d79dd8367de01d506732eab569932ce0b3d77</td>\n",
       "    </tr>\n",
       "    <tr>\n",
       "      <th>16979</th>\n",
       "      <td>0x7aac10f6eaec2e997316f732ce30968323a6cb83</td>\n",
       "      <td>BLZ-USDC</td>\n",
       "      <td>277153.967832836</td>\n",
       "      <td>0.106247</td>\n",
       "      <td>0.2124966062899240210489721410455237</td>\n",
       "      <td>2608581.586612666710589475467542613</td>\n",
       "      <td>0.0000003833500953667830414821732602663874</td>\n",
       "      <td>1662858671</td>\n",
       "      <td>19746679</td>\n",
       "      <td>BLZ</td>\n",
       "      <td>0x66e19a8898d66858329027013bda0497a1dde38f</td>\n",
       "      <td>USDC</td>\n",
       "      <td>0xb97ef9ef8734c71904d8002f8b6bc66dd9c48a6e</td>\n",
       "    </tr>\n",
       "    <tr>\n",
       "      <th>16980</th>\n",
       "      <td>0x996e16baaf3d39d4f5b4c7d5e96dcb6d865b1452</td>\n",
       "      <td>ACS-WAVAX</td>\n",
       "      <td>16053.873604120451098996</td>\n",
       "      <td>20.707328260426533629</td>\n",
       "      <td>825.8584480117593614981331062115924</td>\n",
       "      <td>775.2749848854605565720569863351826</td>\n",
       "      <td>0.001289864911799960125238402007441522</td>\n",
       "      <td>1662896239</td>\n",
       "      <td>19761258</td>\n",
       "      <td>ACS</td>\n",
       "      <td>0x18fc6360e83fe91404d47ea4400a221dfbbacf06</td>\n",
       "      <td>WAVAX</td>\n",
       "      <td>0xb31f66aa3c1e785363f0875a1b74e27b85fd66c7</td>\n",
       "    </tr>\n",
       "    <tr>\n",
       "      <th>16981</th>\n",
       "      <td>0xfab96f8f95a90cbe81fd0bbd222ea3845d4afdd8</td>\n",
       "      <td>SOB-FEED</td>\n",
       "      <td>13.22</td>\n",
       "      <td>3185</td>\n",
       "      <td>3.965982139379172636476804634196368</td>\n",
       "      <td>0.004150706436420722135007849293563579</td>\n",
       "      <td>240.9228441754916792738275340393343</td>\n",
       "      <td>1663031046</td>\n",
       "      <td>19814490</td>\n",
       "      <td>SOB</td>\n",
       "      <td>0x396b961098756f421b628e3180ba9dc24589250c</td>\n",
       "      <td>FEED</td>\n",
       "      <td>0xab592d197acc575d16c3346f4eb70c703f308d1e</td>\n",
       "    </tr>\n",
       "  </tbody>\n",
       "</table>\n",
       "<p>16981 rows × 13 columns</p>\n",
       "</div>"
      ],
      "text/plain": [
       "                                               id        name  \\\n",
       "0      0xe4b9865c0866346ba3613ec122040a365637fb46  WAVAX-USDT   \n",
       "1      0x43b9c8dec26c2d21146466caacabf94fdbeac473   WAVAX-DAI   \n",
       "2      0x454e67025631c065d3cfad6d71e6892f74487a15   JOE-WAVAX   \n",
       "3      0xc992ab46428a5a2edeb8f44d946ce5642f97ef71   WAVAX-ETH   \n",
       "4      0xbeb0b5fbd99b8e7498a4063cb419646922f6eef8  WBTC-WAVAX   \n",
       "...                                           ...         ...   \n",
       "16977  0x2a8e370d15350eed9e930084f2db5b52f695fac9    MF-WAVAX   \n",
       "16978  0xb887ce2409203c680b10aeda8986295f7204f8a6   WAVAX-AVL   \n",
       "16979  0x7aac10f6eaec2e997316f732ce30968323a6cb83    BLZ-USDC   \n",
       "16980  0x996e16baaf3d39d4f5b4c7d5e96dcb6d865b1452   ACS-WAVAX   \n",
       "16981  0xfab96f8f95a90cbe81fd0bbd222ea3845d4afdd8    SOB-FEED   \n",
       "\n",
       "                                 reserve0                   reserve1  \\\n",
       "0                   66.655925611435778905                1353.151812   \n",
       "1                    2.843082470273760778      54.220307747745336624   \n",
       "2             17286792.793213274062898592  190579.524447463804592464   \n",
       "3                     0.51308262619789782       0.005846738668896178   \n",
       "4                              0.00003315       0.047651557468385073   \n",
       "...                                   ...                        ...   \n",
       "16977  222964163080044.628366002372248143      90.089715690042090994   \n",
       "16978                0.013318812497170612           910895.410802632   \n",
       "16979                    277153.967832836                   0.106247   \n",
       "16980            16053.873604120451098996      20.707328260426533629   \n",
       "16981                               13.22                       3185   \n",
       "\n",
       "                                 reserveUSD  \\\n",
       "0       2667.979048581240155534706154927882   \n",
       "1       108.5583935837497499030108330140589   \n",
       "2        7607579.08983136112393525551898475   \n",
       "3       19.67197157622815917496675238570888   \n",
       "4       1.603806833616522987499175463578525   \n",
       "...                                     ...   \n",
       "16977    3843.56028018297751225882701475625   \n",
       "16978  0.5486529428923726249025847631461319   \n",
       "16979  0.2124966062899240210489721410455237   \n",
       "16980   825.8584480117593614981331062115924   \n",
       "16981   3.965982139379172636476804634196368   \n",
       "\n",
       "                                       token0Price  \\\n",
       "0            0.04925975416824537268180519570556508   \n",
       "1            0.05243574941516236122432337162354385   \n",
       "2              90.70645360949384693449353144990866   \n",
       "3              87.75535478050776489117986216710998   \n",
       "4          0.0006956750578822888668574859723863619   \n",
       "...                                            ...   \n",
       "16977          2474912495530.159407466129692274804   \n",
       "16978  0.00000001462167043462738649184119999603524   \n",
       "16979          2608581.586612666710589475467542613   \n",
       "16980          775.2749848854605565720569863351826   \n",
       "16981       0.004150706436420722135007849293563579   \n",
       "\n",
       "                                           token1Price   timestamp     block  \\\n",
       "0                  20.30054791959632501661845815339531  1624941631   2504194   \n",
       "1                  19.07095848068186927870679512710967  1624941782   2504226   \n",
       "2                0.01102457388870216377837362093977407  1625028033   2516404   \n",
       "3                0.01139531601805021907293501104623983  1625029067   2516545   \n",
       "4                  1437.452713978433574660633484162896  1625029156   2516553   \n",
       "...                                                ...         ...       ...   \n",
       "16977  0.000000000000404054689531876400831646135288559  1662818624  19734132   \n",
       "16978              68391638.59361624630852898363952464  1662858030  19746440   \n",
       "16979       0.0000003833500953667830414821732602663874  1662858671  19746679   \n",
       "16980           0.001289864911799960125238402007441522  1662896239  19761258   \n",
       "16981              240.9228441754916792738275340393343  1663031046  19814490   \n",
       "\n",
       "      token0.symbol                                   token0.id token1.symbol  \\\n",
       "0             WAVAX  0xb31f66aa3c1e785363f0875a1b74e27b85fd66c7          USDT   \n",
       "1             WAVAX  0xb31f66aa3c1e785363f0875a1b74e27b85fd66c7           DAI   \n",
       "2               JOE  0x6e84a6216ea6dacc71ee8e6b0a5b7322eebc0fdd         WAVAX   \n",
       "3             WAVAX  0xb31f66aa3c1e785363f0875a1b74e27b85fd66c7           ETH   \n",
       "4              WBTC  0x408d4cd0adb7cebd1f1a1c33a0ba2098e1295bab         WAVAX   \n",
       "...             ...                                         ...           ...   \n",
       "16977            MF  0x9a73840d55e265efcae53c2406dc89382378690f         WAVAX   \n",
       "16978         WAVAX  0xb31f66aa3c1e785363f0875a1b74e27b85fd66c7           AVL   \n",
       "16979           BLZ  0x66e19a8898d66858329027013bda0497a1dde38f          USDC   \n",
       "16980           ACS  0x18fc6360e83fe91404d47ea4400a221dfbbacf06         WAVAX   \n",
       "16981           SOB  0x396b961098756f421b628e3180ba9dc24589250c          FEED   \n",
       "\n",
       "                                        token1.id  \n",
       "0      0xde3a24028580884448a5397872046a019649b084  \n",
       "1      0xba7deebbfc5fa1100fb055a87773e1e99cd3507a  \n",
       "2      0xb31f66aa3c1e785363f0875a1b74e27b85fd66c7  \n",
       "3      0xf20d962a6c8f70c731bd838a3a388d7d48fa6e15  \n",
       "4      0xb31f66aa3c1e785363f0875a1b74e27b85fd66c7  \n",
       "...                                           ...  \n",
       "16977  0xb31f66aa3c1e785363f0875a1b74e27b85fd66c7  \n",
       "16978  0xf49d79dd8367de01d506732eab569932ce0b3d77  \n",
       "16979  0xb97ef9ef8734c71904d8002f8b6bc66dd9c48a6e  \n",
       "16980  0xb31f66aa3c1e785363f0875a1b74e27b85fd66c7  \n",
       "16981  0xab592d197acc575d16c3346f4eb70c703f308d1e  \n",
       "\n",
       "[16981 rows x 13 columns]"
      ]
     },
     "execution_count": 69,
     "metadata": {},
     "output_type": "execute_result"
    }
   ],
   "source": [
    "df"
   ]
  },
  {
   "cell_type": "code",
   "execution_count": 70,
   "metadata": {},
   "outputs": [
    {
     "data": {
      "text/plain": [
       "0.5518547613182163"
      ]
     },
     "execution_count": 70,
     "metadata": {},
     "output_type": "execute_result"
    }
   ],
   "source": [
    "df['reserveUSD'].astype(float).max()/df['reserveUSD'].astype(float).sum()"
   ]
  },
  {
   "cell_type": "code",
   "execution_count": 71,
   "metadata": {},
   "outputs": [
    {
     "data": {
      "text/plain": [
       "0.9746361473363759"
      ]
     },
     "execution_count": 71,
     "metadata": {},
     "output_type": "execute_result"
    }
   ],
   "source": [
    "df['reserveUSD'].astype(float).nlargest(10).sum()/df['reserveUSD'].astype(float).sum()"
   ]
  },
  {
   "cell_type": "markdown",
   "metadata": {},
   "source": [
    "Liquidity Pools with > $1mn TVL"
   ]
  },
  {
   "cell_type": "code",
   "execution_count": 72,
   "metadata": {},
   "outputs": [
    {
     "data": {
      "text/plain": [
       "37"
      ]
     },
     "execution_count": 72,
     "metadata": {},
     "output_type": "execute_result"
    }
   ],
   "source": [
    "len(df.loc[df['reserveUSD'].astype(float) > 1000000])"
   ]
  },
  {
   "cell_type": "markdown",
   "metadata": {},
   "source": [
    "Monthly Active Users"
   ]
  },
  {
   "cell_type": "code",
   "execution_count": null,
   "metadata": {},
   "outputs": [],
   "source": []
  },
  {
   "cell_type": "markdown",
   "metadata": {},
   "source": [
    "Price impact"
   ]
  },
  {
   "cell_type": "code",
   "execution_count": 88,
   "metadata": {},
   "outputs": [],
   "source": [
    "cs = df.loc[(df.index.isin(df['reserveUSD'].astype(float).nlargest(10).index)) & (df.index != 4873)].copy()"
   ]
  },
  {
   "cell_type": "code",
   "execution_count": 89,
   "metadata": {},
   "outputs": [],
   "source": [
    "cs['reserveUSD'] = cs['reserveUSD'].astype(float)"
   ]
  },
  {
   "cell_type": "code",
   "execution_count": 93,
   "metadata": {},
   "outputs": [
    {
     "data": {
      "text/plain": [
       "3.4014653975119434e-06"
      ]
     },
     "execution_count": 93,
     "metadata": {},
     "output_type": "execute_result"
    }
   ],
   "source": [
    "1000/(cs['reserveUSD']/2).mean()"
   ]
  },
  {
   "cell_type": "code",
   "execution_count": 94,
   "metadata": {},
   "outputs": [
    {
     "data": {
      "text/plain": [
       "3.4014653975119436e-05"
      ]
     },
     "execution_count": 94,
     "metadata": {},
     "output_type": "execute_result"
    }
   ],
   "source": [
    "10000/(cs['reserveUSD']/2).mean()"
   ]
  },
  {
   "cell_type": "code",
   "execution_count": 95,
   "metadata": {},
   "outputs": [
    {
     "data": {
      "text/plain": [
       "0.00034014653975119436"
      ]
     },
     "execution_count": 95,
     "metadata": {},
     "output_type": "execute_result"
    }
   ],
   "source": [
    "100000/(cs['reserveUSD']/2).mean()"
   ]
  },
  {
   "cell_type": "code",
   "execution_count": null,
   "metadata": {},
   "outputs": [],
   "source": []
  },
  {
   "cell_type": "code",
   "execution_count": null,
   "metadata": {},
   "outputs": [],
   "source": []
  },
  {
   "cell_type": "code",
   "execution_count": null,
   "metadata": {},
   "outputs": [],
   "source": []
  }
 ],
 "metadata": {
  "kernelspec": {
   "display_name": "Python 3.8.10 64-bit",
   "language": "python",
   "name": "python3"
  },
  "language_info": {
   "codemirror_mode": {
    "name": "ipython",
    "version": 3
   },
   "file_extension": ".py",
   "mimetype": "text/x-python",
   "name": "python",
   "nbconvert_exporter": "python",
   "pygments_lexer": "ipython3",
   "version": "3.8.10"
  },
  "orig_nbformat": 4,
  "vscode": {
   "interpreter": {
    "hash": "916dbcbb3f70747c44a77c7bcd40155683ae19c65e1c03b4aa3499c5328201f1"
   }
  }
 },
 "nbformat": 4,
 "nbformat_minor": 2
}
