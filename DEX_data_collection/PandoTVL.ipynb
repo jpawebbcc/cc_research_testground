{
 "cells": [
  {
   "cell_type": "code",
   "execution_count": 3,
   "metadata": {},
   "outputs": [],
   "source": [
    "import pandas as pd\n",
    "import numpy as np\n",
    "import time\n",
    "import requests\n",
    "import datetime as dt\n",
    "\n",
    "pd.set_option('display.max_columns', None)"
   ]
  },
  {
   "cell_type": "code",
   "execution_count": null,
   "metadata": {},
   "outputs": [],
   "source": []
  },
  {
   "cell_type": "code",
   "execution_count": null,
   "metadata": {},
   "outputs": [],
   "source": []
  },
  {
   "cell_type": "markdown",
   "metadata": {},
   "source": [
    "6-Month Average TVL"
   ]
  },
  {
   "cell_type": "code",
   "execution_count": 4,
   "metadata": {},
   "outputs": [],
   "source": [
    "url = \"https://mtgswap-api.fox.one/api/pairs\""
   ]
  },
  {
   "cell_type": "code",
   "execution_count": 5,
   "metadata": {},
   "outputs": [],
   "source": [
    "response = requests.get(url)"
   ]
  },
  {
   "cell_type": "code",
   "execution_count": 6,
   "metadata": {},
   "outputs": [],
   "source": [
    "data = response.json()"
   ]
  },
  {
   "cell_type": "code",
   "execution_count": 11,
   "metadata": {},
   "outputs": [],
   "source": [
    "df = pd.json_normalize(data['data']['pairs'])"
   ]
  },
  {
   "cell_type": "code",
   "execution_count": 19,
   "metadata": {},
   "outputs": [
    {
     "data": {
      "text/plain": [
       "31402961498.651962"
      ]
     },
     "execution_count": 19,
     "metadata": {},
     "output_type": "execute_result"
    }
   ],
   "source": [
    "(df['base_amount'].astype(float)/10**2).sum() + (df['quote_amount'].astype(float).sum()/10**2)"
   ]
  },
  {
   "cell_type": "code",
   "execution_count": 22,
   "metadata": {},
   "outputs": [
    {
     "data": {
      "text/plain": [
       "39     7.124941e+11\n",
       "113    1.044592e+10\n",
       "112    2.806804e+09\n",
       "59     5.330708e+08\n",
       "53     1.816203e+08\n",
       "Name: quote_amount, dtype: float64"
      ]
     },
     "execution_count": 22,
     "metadata": {},
     "output_type": "execute_result"
    }
   ],
   "source": [
    "df['quote_amount'].astype(float).nlargest(5)"
   ]
  },
  {
   "cell_type": "code",
   "execution_count": 21,
   "metadata": {},
   "outputs": [
    {
     "data": {
      "text/plain": [
       "40    2.017666e+12\n",
       "55    3.957728e+11\n",
       "16    2.270979e+08\n",
       "19    3.674954e+07\n",
       "96    2.085792e+07\n",
       "Name: base_amount, dtype: float64"
      ]
     },
     "execution_count": 21,
     "metadata": {},
     "output_type": "execute_result"
    }
   ],
   "source": [
    "df['base_amount'].astype(float).nlargest(5)"
   ]
  },
  {
   "cell_type": "markdown",
   "metadata": {},
   "source": []
  },
  {
   "cell_type": "code",
   "execution_count": 6,
   "metadata": {},
   "outputs": [],
   "source": [
    "endpoint = \"https://saberqltest.aleph.cloud/\""
   ]
  },
  {
   "cell_type": "code",
   "execution_count": 8,
   "metadata": {},
   "outputs": [],
   "source": [
    "query = \"\"\"{pools {\n",
    "  ammId    \n",
    "  name    \n",
    "  coin {\n",
    "    chainId\n",
    "    address      \n",
    "    name     \n",
    "    decimals  \n",
    "    symbol      \n",
    "    logoURI    }    \n",
    "  pc {      \n",
    "    chainId      \n",
    "    address      \n",
    "    name      \n",
    "    decimals      \n",
    "    symbol      \n",
    "    logoURI   }    \n",
    "  lp {      \n",
    "    chainId      \n",
    "    address    \n",
    "    name     \n",
    "    decimals      \n",
    "    symbol   \n",
    "    logoURI    }  \n",
    "  stats {   \n",
    "    tvl_pc    \n",
    "    tvl_coin\n",
    "    tvl_usd\n",
    "    price      \n",
    "    vol24h    } }}\"\"\""
   ]
  },
  {
   "cell_type": "code",
   "execution_count": 9,
   "metadata": {},
   "outputs": [],
   "source": [
    "request = requests.post(endpoint, json={'query':query})\n",
    "data = request.json()"
   ]
  },
  {
   "cell_type": "code",
   "execution_count": 13,
   "metadata": {},
   "outputs": [],
   "source": [
    "df= pd.json_normalize(data['data']['pools'])"
   ]
  },
  {
   "cell_type": "code",
   "execution_count": 14,
   "metadata": {},
   "outputs": [
    {
     "data": {
      "text/html": [
       "<div>\n",
       "<style scoped>\n",
       "    .dataframe tbody tr th:only-of-type {\n",
       "        vertical-align: middle;\n",
       "    }\n",
       "\n",
       "    .dataframe tbody tr th {\n",
       "        vertical-align: top;\n",
       "    }\n",
       "\n",
       "    .dataframe thead th {\n",
       "        text-align: right;\n",
       "    }\n",
       "</style>\n",
       "<table border=\"1\" class=\"dataframe\">\n",
       "  <thead>\n",
       "    <tr style=\"text-align: right;\">\n",
       "      <th></th>\n",
       "      <th>ammId</th>\n",
       "      <th>name</th>\n",
       "      <th>coin.chainId</th>\n",
       "      <th>coin.address</th>\n",
       "      <th>coin.name</th>\n",
       "      <th>coin.decimals</th>\n",
       "      <th>coin.symbol</th>\n",
       "      <th>coin.logoURI</th>\n",
       "      <th>pc.chainId</th>\n",
       "      <th>pc.address</th>\n",
       "      <th>pc.name</th>\n",
       "      <th>pc.decimals</th>\n",
       "      <th>pc.symbol</th>\n",
       "      <th>pc.logoURI</th>\n",
       "      <th>lp.chainId</th>\n",
       "      <th>lp.address</th>\n",
       "      <th>lp.name</th>\n",
       "      <th>lp.decimals</th>\n",
       "      <th>lp.symbol</th>\n",
       "      <th>lp.logoURI</th>\n",
       "      <th>stats.tvl_pc</th>\n",
       "      <th>stats.tvl_coin</th>\n",
       "      <th>stats.tvl_usd</th>\n",
       "      <th>stats.price</th>\n",
       "      <th>stats.vol24h</th>\n",
       "    </tr>\n",
       "  </thead>\n",
       "  <tbody>\n",
       "    <tr>\n",
       "      <th>0</th>\n",
       "      <td>3nesbuhAwCMGtsyypYtg4oRPwJ3FmHnytC5bqskhPh1x</td>\n",
       "      <td>TRYB-TRYB</td>\n",
       "      <td>101.0</td>\n",
       "      <td>9QBTKuSCDaJjtxYnYcVzoiKENMdJ5DRei5ZUCEeWyZnj</td>\n",
       "      <td>BiLira (Wormhole)</td>\n",
       "      <td>6</td>\n",
       "      <td>TRYB</td>\n",
       "      <td>https://cdn.jsdelivr.net/gh/saber-hq/spl-token...</td>\n",
       "      <td>101.0</td>\n",
       "      <td>A94X2fRy3wydNShU4dRaDyap2UuoeWJGWyATtyp61WZf</td>\n",
       "      <td>BiLira</td>\n",
       "      <td>6</td>\n",
       "      <td>TRYB</td>\n",
       "      <td>https://cdn.jsdelivr.net/gh/saber-hq/spl-token...</td>\n",
       "      <td>101.0</td>\n",
       "      <td>Lirav2gsqs7jL1PFRUBp8uKACT8LYjDBV8c6nzchoer</td>\n",
       "      <td>Saber TRYB-TRYB LP</td>\n",
       "      <td>6</td>\n",
       "      <td>TRYB-TRYB</td>\n",
       "      <td>https://cdn.jsdelivr.net/gh/saber-hq/spl-token...</td>\n",
       "      <td>0.000000</td>\n",
       "      <td>0.000000</td>\n",
       "      <td>0.000000</td>\n",
       "      <td>0.999611</td>\n",
       "      <td>0.000000</td>\n",
       "    </tr>\n",
       "    <tr>\n",
       "      <th>1</th>\n",
       "      <td>4EFeyTtMZZnAv3ZPs2jvps1T1J1JykbpyizrWjBQcA1S</td>\n",
       "      <td>wLUNA-srenLUNA-9</td>\n",
       "      <td>101.0</td>\n",
       "      <td>2Xf2yAXJfg82sWwdLUo2x9mZXy6JCdszdMZkcF1Hf4KV</td>\n",
       "      <td>Wrapped LUNA Token (Wormhole)</td>\n",
       "      <td>9</td>\n",
       "      <td>wLUNA</td>\n",
       "      <td>https://raw.githubusercontent.com/solana-labs/...</td>\n",
       "      <td>NaN</td>\n",
       "      <td>KUANeD8EQvwpT1W7QZDtDqctLEh2FfSTy5pThE9CogT</td>\n",
       "      <td>Saber Wrapped renLUNA (9 decimals)</td>\n",
       "      <td>9</td>\n",
       "      <td>srenLUNA-9</td>\n",
       "      <td>None</td>\n",
       "      <td>NaN</td>\n",
       "      <td>LUNkiLcb2wxcqULmJvMjuM6YQhpFBadG5KZBe7qBpSE</td>\n",
       "      <td>wLUNA-srenLUNA-9</td>\n",
       "      <td>9</td>\n",
       "      <td>wLUNA-srenLUNA-9</td>\n",
       "      <td>None</td>\n",
       "      <td>1539.521871</td>\n",
       "      <td>0.182031</td>\n",
       "      <td>0.000000</td>\n",
       "      <td>3.984003</td>\n",
       "      <td>0.000000</td>\n",
       "    </tr>\n",
       "    <tr>\n",
       "      <th>2</th>\n",
       "      <td>4xeRVccqvUgiV6VeF6NkWqkAYeewcJPRWFVginvJw1n4</td>\n",
       "      <td>wDAI-sUSDC-9</td>\n",
       "      <td>101.0</td>\n",
       "      <td>FYpdBuyAHSbdaAyD1sKkxyLWbAP8uUW9h6uvdhK74ij1</td>\n",
       "      <td>Dai Stablecoin (Wormhole)</td>\n",
       "      <td>9</td>\n",
       "      <td>wDAI</td>\n",
       "      <td>https://raw.githubusercontent.com/solana-labs/...</td>\n",
       "      <td>NaN</td>\n",
       "      <td>JEFFSQ3s8T3wKsvp4tnRAsUBW7Cqgnf8ukBZC4C8XBm1</td>\n",
       "      <td>Saber Wrapped USD Coin (9 decimals)</td>\n",
       "      <td>9</td>\n",
       "      <td>sUSDC-9</td>\n",
       "      <td>None</td>\n",
       "      <td>NaN</td>\n",
       "      <td>Daimhb91DY4e3aVaa7YCW5GgwaMT9j1ALSi2GriBvDNh</td>\n",
       "      <td>wDAI-sUSDC-9</td>\n",
       "      <td>9</td>\n",
       "      <td>wDAI-sUSDC-9</td>\n",
       "      <td>None</td>\n",
       "      <td>5892.514602</td>\n",
       "      <td>7968.916379</td>\n",
       "      <td>11785.029203</td>\n",
       "      <td>0.997858</td>\n",
       "      <td>0.000000</td>\n",
       "    </tr>\n",
       "    <tr>\n",
       "      <th>3</th>\n",
       "      <td>7dwD9TF6uikvHXxPFK9AsSim54yJoujQjY9vU6gNFumk</td>\n",
       "      <td>stSOL-mSOL</td>\n",
       "      <td>101.0</td>\n",
       "      <td>7dHbWXmci3dT8UFYWYZweBLXgycu7Y3iL6trKn1Y7ARj</td>\n",
       "      <td>Lido Staked SOL</td>\n",
       "      <td>9</td>\n",
       "      <td>stSOL</td>\n",
       "      <td>https://cdn.jsdelivr.net/gh/saber-hq/spl-token...</td>\n",
       "      <td>101.0</td>\n",
       "      <td>mSoLzYCxHdYgdzU16g5QSh3i5K3z3KZK7ytfqcJm7So</td>\n",
       "      <td>Marinade staked SOL (mSOL)</td>\n",
       "      <td>9</td>\n",
       "      <td>mSOL</td>\n",
       "      <td>https://cdn.jsdelivr.net/gh/saber-hq/spl-token...</td>\n",
       "      <td>101.0</td>\n",
       "      <td>4FKZsej5FonJWj24xhgG13wV4FSMQqTDwABBQaoQNMZF</td>\n",
       "      <td>Saber stSOL-mSOL LP</td>\n",
       "      <td>9</td>\n",
       "      <td>stSOL-mSOL</td>\n",
       "      <td>https://cdn.jsdelivr.net/gh/saber-hq/spl-token...</td>\n",
       "      <td>0.003414</td>\n",
       "      <td>0.003746</td>\n",
       "      <td>0.000000</td>\n",
       "      <td>0.985754</td>\n",
       "      <td>0.000000</td>\n",
       "    </tr>\n",
       "    <tr>\n",
       "      <th>4</th>\n",
       "      <td>7oAd7xG4m3oC2qeWB1szghTebAZyyGPAFDJ4wwwbRSNi</td>\n",
       "      <td>wUST-USDC</td>\n",
       "      <td>101.0</td>\n",
       "      <td>CXLBjMMcwkc17GfJtBos6rQCo1ypeH6eDbB82Kby4MRm</td>\n",
       "      <td>Wrapped UST (Wormhole)</td>\n",
       "      <td>9</td>\n",
       "      <td>wUST</td>\n",
       "      <td>https://raw.githubusercontent.com/solana-labs/...</td>\n",
       "      <td>NaN</td>\n",
       "      <td>JEFFSQ3s8T3wKsvp4tnRAsUBW7Cqgnf8ukBZC4C8XBm1</td>\n",
       "      <td>Saber Wrapped USD Coin (9 decimals)</td>\n",
       "      <td>9</td>\n",
       "      <td>sUSDC-9</td>\n",
       "      <td>None</td>\n",
       "      <td>NaN</td>\n",
       "      <td>UST32f2JtPGocLzsL41B3VBBoJzTm1mK1j3rwyM3Wgc</td>\n",
       "      <td>wUST-USDC</td>\n",
       "      <td>9</td>\n",
       "      <td>wUST-USDC</td>\n",
       "      <td>None</td>\n",
       "      <td>1333.062825</td>\n",
       "      <td>299561.043016</td>\n",
       "      <td>2666.125651</td>\n",
       "      <td>0.035571</td>\n",
       "      <td>65.796138</td>\n",
       "    </tr>\n",
       "    <tr>\n",
       "      <th>...</th>\n",
       "      <td>...</td>\n",
       "      <td>...</td>\n",
       "      <td>...</td>\n",
       "      <td>...</td>\n",
       "      <td>...</td>\n",
       "      <td>...</td>\n",
       "      <td>...</td>\n",
       "      <td>...</td>\n",
       "      <td>...</td>\n",
       "      <td>...</td>\n",
       "      <td>...</td>\n",
       "      <td>...</td>\n",
       "      <td>...</td>\n",
       "      <td>...</td>\n",
       "      <td>...</td>\n",
       "      <td>...</td>\n",
       "      <td>...</td>\n",
       "      <td>...</td>\n",
       "      <td>...</td>\n",
       "      <td>...</td>\n",
       "      <td>...</td>\n",
       "      <td>...</td>\n",
       "      <td>...</td>\n",
       "      <td>...</td>\n",
       "      <td>...</td>\n",
       "    </tr>\n",
       "    <tr>\n",
       "      <th>106</th>\n",
       "      <td>oKQqupM9E7SSLAFDLxr7mdsXP7znck9qRbVWc6Yyj7Q</td>\n",
       "      <td>wUSDK-USDC</td>\n",
       "      <td>101.0</td>\n",
       "      <td>43m2ewFV5nDepieFjT9EmAQnc1HRtAF247RBpLGFem5F</td>\n",
       "      <td>USDK (Wormhole)</td>\n",
       "      <td>8</td>\n",
       "      <td>wUSDK</td>\n",
       "      <td>https://spl-token-icons.static-assets.ship.cap...</td>\n",
       "      <td>101.0</td>\n",
       "      <td>88881Hu2jGMfCs9tMu5Rr7Ah7WBNBuXqde4nR5ZmKYYy</td>\n",
       "      <td>Saber Wrapped USD Coin (8 decimals)</td>\n",
       "      <td>8</td>\n",
       "      <td>sUSDC-8</td>\n",
       "      <td>https://spl-token-icons.static-assets.ship.cap...</td>\n",
       "      <td>101.0</td>\n",
       "      <td>USDKKmk1anWU1aEn6GJ6skL3ZvcB9CBAWVkmPGQEHtz</td>\n",
       "      <td>wUSDK-USDC Saber LP</td>\n",
       "      <td>8</td>\n",
       "      <td>wUSDK-USDC</td>\n",
       "      <td>https://registry.saber.so/token-icons/slp.png</td>\n",
       "      <td>17357.182700</td>\n",
       "      <td>18781.329125</td>\n",
       "      <td>34714.365399</td>\n",
       "      <td>0.995969</td>\n",
       "      <td>0.000000</td>\n",
       "    </tr>\n",
       "    <tr>\n",
       "      <th>107</th>\n",
       "      <td>okgoAkj7GvBT1Q54j6Qvm6AZPritriGTjcEpkPhdWqf</td>\n",
       "      <td>USDK-sUSDC-9</td>\n",
       "      <td>NaN</td>\n",
       "      <td>2kycGCD8tJbrjJJqWN2Qz5ysN9iB4Bth3Uic4mSB7uak</td>\n",
       "      <td>USDK</td>\n",
       "      <td>9</td>\n",
       "      <td>USDK</td>\n",
       "      <td>None</td>\n",
       "      <td>NaN</td>\n",
       "      <td>JEFFSQ3s8T3wKsvp4tnRAsUBW7Cqgnf8ukBZC4C8XBm1</td>\n",
       "      <td>Saber Wrapped USD Coin (9 decimals)</td>\n",
       "      <td>9</td>\n",
       "      <td>sUSDC-9</td>\n",
       "      <td>None</td>\n",
       "      <td>NaN</td>\n",
       "      <td>uSdKg2Cs5bCtFSeNXs7aRVNzZJauX58eCkdsfssxTdW</td>\n",
       "      <td>USDK-sUSDC-9</td>\n",
       "      <td>9</td>\n",
       "      <td>USDK-sUSDC-9</td>\n",
       "      <td>None</td>\n",
       "      <td>795.935829</td>\n",
       "      <td>8347.955140</td>\n",
       "      <td>1591.871658</td>\n",
       "      <td>0.907005</td>\n",
       "      <td>0.000000</td>\n",
       "    </tr>\n",
       "    <tr>\n",
       "      <th>108</th>\n",
       "      <td>parEAJhzYzHW87y9VoZAQ22dzQ2MD2ekEtTReaxbMcz</td>\n",
       "      <td>pSOL-prtSOL</td>\n",
       "      <td>101.0</td>\n",
       "      <td>9EaLkQrbjmbbuZG9Wdpo8qfNUEjHATJFSycEmw6f1rGX</td>\n",
       "      <td>pSOL (Parrot SOL)</td>\n",
       "      <td>9</td>\n",
       "      <td>pSOL</td>\n",
       "      <td>https://raw.githubusercontent.com/solana-labs/...</td>\n",
       "      <td>NaN</td>\n",
       "      <td>BdZPG9xWrG3uFrx2KrUW1jT4tZ9VKPDWknYihzoPRJS3</td>\n",
       "      <td>Parrot Stake Pool SOL</td>\n",
       "      <td>9</td>\n",
       "      <td>prtSOL</td>\n",
       "      <td>None</td>\n",
       "      <td>NaN</td>\n",
       "      <td>PSopTFPXzTRysj2H6W8oTvYBZmJHtRcVaQaDkckifAy</td>\n",
       "      <td>pSOL-prtSOL</td>\n",
       "      <td>9</td>\n",
       "      <td>pSOL-prtSOL</td>\n",
       "      <td>None</td>\n",
       "      <td>587.221322</td>\n",
       "      <td>2569.122423</td>\n",
       "      <td>0.000000</td>\n",
       "      <td>0.940964</td>\n",
       "      <td>5.711857</td>\n",
       "    </tr>\n",
       "    <tr>\n",
       "      <th>109</th>\n",
       "      <td>vEnkoSUkpnbRrPgBz9DfcVxNz67zjwMYBZraAvDDNSf</td>\n",
       "      <td>weUSDT-USDT</td>\n",
       "      <td>101.0</td>\n",
       "      <td>Dn4noZ5jgGfkntzcQSUZ8czkreiZ1ForXYoV2H8Dm7S1</td>\n",
       "      <td>USDT (ETH Wormhole)</td>\n",
       "      <td>6</td>\n",
       "      <td>weUSDT</td>\n",
       "      <td>https://spl-token-icons.static-assets.ship.cap...</td>\n",
       "      <td>101.0</td>\n",
       "      <td>Es9vMFrzaCERmJfrF4H2FYD4KCoNkY11McCe8BenwNYB</td>\n",
       "      <td>USDT</td>\n",
       "      <td>6</td>\n",
       "      <td>USDT</td>\n",
       "      <td>https://spl-token-icons.static-assets.ship.cap...</td>\n",
       "      <td>101.0</td>\n",
       "      <td>USDTJZL2vH92K5QeCvQTTzvMXUYAdvk3v46CwZyfsue</td>\n",
       "      <td>weUSDT-USDT Saber LP</td>\n",
       "      <td>6</td>\n",
       "      <td>weUSDT-USDT</td>\n",
       "      <td>https://registry.saber.so/token-icons/slp.png</td>\n",
       "      <td>3146.734712</td>\n",
       "      <td>4489.792571</td>\n",
       "      <td>6293.469424</td>\n",
       "      <td>1.000022</td>\n",
       "      <td>399.094737</td>\n",
       "    </tr>\n",
       "    <tr>\n",
       "      <th>110</th>\n",
       "      <td>wrmcMSHFi3sWpAEy4rGDvQb3ezh3PhXoV2xNjgLBkKU</td>\n",
       "      <td>ETH-whETH</td>\n",
       "      <td>101.0</td>\n",
       "      <td>SL819j8K9FuFPL84UepVcFkEZqDUUvVzwDmJjCHySYj</td>\n",
       "      <td>Saber Wrapped Wrapped Ethereum (Sollet) (8 dec...</td>\n",
       "      <td>8</td>\n",
       "      <td>sETH-8</td>\n",
       "      <td>https://spl-token-icons.static-assets.ship.cap...</td>\n",
       "      <td>101.0</td>\n",
       "      <td>7vfCXTUXx5WJV5JADk17DUJ4ksgau7utNKj4b963voxs</td>\n",
       "      <td>Ether (Wormhole)</td>\n",
       "      <td>8</td>\n",
       "      <td>whETH</td>\n",
       "      <td>https://spl-token-icons.static-assets.ship.cap...</td>\n",
       "      <td>101.0</td>\n",
       "      <td>WTHPuMavN9HBvgUafjrL65WqQytQHDwnTAmdFB9whXA</td>\n",
       "      <td>ETH-whETH Saber LP</td>\n",
       "      <td>8</td>\n",
       "      <td>ETH-whETH</td>\n",
       "      <td>https://registry.saber.so/token-icons/slp.png</td>\n",
       "      <td>20.344256</td>\n",
       "      <td>29.580428</td>\n",
       "      <td>0.000000</td>\n",
       "      <td>0.999197</td>\n",
       "      <td>53.465665</td>\n",
       "    </tr>\n",
       "  </tbody>\n",
       "</table>\n",
       "<p>111 rows × 25 columns</p>\n",
       "</div>"
      ],
      "text/plain": [
       "                                            ammId              name  \\\n",
       "0    3nesbuhAwCMGtsyypYtg4oRPwJ3FmHnytC5bqskhPh1x         TRYB-TRYB   \n",
       "1    4EFeyTtMZZnAv3ZPs2jvps1T1J1JykbpyizrWjBQcA1S  wLUNA-srenLUNA-9   \n",
       "2    4xeRVccqvUgiV6VeF6NkWqkAYeewcJPRWFVginvJw1n4      wDAI-sUSDC-9   \n",
       "3    7dwD9TF6uikvHXxPFK9AsSim54yJoujQjY9vU6gNFumk        stSOL-mSOL   \n",
       "4    7oAd7xG4m3oC2qeWB1szghTebAZyyGPAFDJ4wwwbRSNi         wUST-USDC   \n",
       "..                                            ...               ...   \n",
       "106   oKQqupM9E7SSLAFDLxr7mdsXP7znck9qRbVWc6Yyj7Q        wUSDK-USDC   \n",
       "107   okgoAkj7GvBT1Q54j6Qvm6AZPritriGTjcEpkPhdWqf      USDK-sUSDC-9   \n",
       "108   parEAJhzYzHW87y9VoZAQ22dzQ2MD2ekEtTReaxbMcz       pSOL-prtSOL   \n",
       "109   vEnkoSUkpnbRrPgBz9DfcVxNz67zjwMYBZraAvDDNSf       weUSDT-USDT   \n",
       "110   wrmcMSHFi3sWpAEy4rGDvQb3ezh3PhXoV2xNjgLBkKU         ETH-whETH   \n",
       "\n",
       "     coin.chainId                                  coin.address  \\\n",
       "0           101.0  9QBTKuSCDaJjtxYnYcVzoiKENMdJ5DRei5ZUCEeWyZnj   \n",
       "1           101.0  2Xf2yAXJfg82sWwdLUo2x9mZXy6JCdszdMZkcF1Hf4KV   \n",
       "2           101.0  FYpdBuyAHSbdaAyD1sKkxyLWbAP8uUW9h6uvdhK74ij1   \n",
       "3           101.0  7dHbWXmci3dT8UFYWYZweBLXgycu7Y3iL6trKn1Y7ARj   \n",
       "4           101.0  CXLBjMMcwkc17GfJtBos6rQCo1ypeH6eDbB82Kby4MRm   \n",
       "..            ...                                           ...   \n",
       "106         101.0  43m2ewFV5nDepieFjT9EmAQnc1HRtAF247RBpLGFem5F   \n",
       "107           NaN  2kycGCD8tJbrjJJqWN2Qz5ysN9iB4Bth3Uic4mSB7uak   \n",
       "108         101.0  9EaLkQrbjmbbuZG9Wdpo8qfNUEjHATJFSycEmw6f1rGX   \n",
       "109         101.0  Dn4noZ5jgGfkntzcQSUZ8czkreiZ1ForXYoV2H8Dm7S1   \n",
       "110         101.0   SL819j8K9FuFPL84UepVcFkEZqDUUvVzwDmJjCHySYj   \n",
       "\n",
       "                                             coin.name  coin.decimals  \\\n",
       "0                                    BiLira (Wormhole)              6   \n",
       "1                        Wrapped LUNA Token (Wormhole)              9   \n",
       "2                            Dai Stablecoin (Wormhole)              9   \n",
       "3                                      Lido Staked SOL              9   \n",
       "4                               Wrapped UST (Wormhole)              9   \n",
       "..                                                 ...            ...   \n",
       "106                                    USDK (Wormhole)              8   \n",
       "107                                               USDK              9   \n",
       "108                                  pSOL (Parrot SOL)              9   \n",
       "109                                USDT (ETH Wormhole)              6   \n",
       "110  Saber Wrapped Wrapped Ethereum (Sollet) (8 dec...              8   \n",
       "\n",
       "    coin.symbol                                       coin.logoURI  \\\n",
       "0          TRYB  https://cdn.jsdelivr.net/gh/saber-hq/spl-token...   \n",
       "1         wLUNA  https://raw.githubusercontent.com/solana-labs/...   \n",
       "2          wDAI  https://raw.githubusercontent.com/solana-labs/...   \n",
       "3         stSOL  https://cdn.jsdelivr.net/gh/saber-hq/spl-token...   \n",
       "4          wUST  https://raw.githubusercontent.com/solana-labs/...   \n",
       "..          ...                                                ...   \n",
       "106       wUSDK  https://spl-token-icons.static-assets.ship.cap...   \n",
       "107        USDK                                               None   \n",
       "108        pSOL  https://raw.githubusercontent.com/solana-labs/...   \n",
       "109      weUSDT  https://spl-token-icons.static-assets.ship.cap...   \n",
       "110      sETH-8  https://spl-token-icons.static-assets.ship.cap...   \n",
       "\n",
       "     pc.chainId                                    pc.address  \\\n",
       "0         101.0  A94X2fRy3wydNShU4dRaDyap2UuoeWJGWyATtyp61WZf   \n",
       "1           NaN   KUANeD8EQvwpT1W7QZDtDqctLEh2FfSTy5pThE9CogT   \n",
       "2           NaN  JEFFSQ3s8T3wKsvp4tnRAsUBW7Cqgnf8ukBZC4C8XBm1   \n",
       "3         101.0   mSoLzYCxHdYgdzU16g5QSh3i5K3z3KZK7ytfqcJm7So   \n",
       "4           NaN  JEFFSQ3s8T3wKsvp4tnRAsUBW7Cqgnf8ukBZC4C8XBm1   \n",
       "..          ...                                           ...   \n",
       "106       101.0  88881Hu2jGMfCs9tMu5Rr7Ah7WBNBuXqde4nR5ZmKYYy   \n",
       "107         NaN  JEFFSQ3s8T3wKsvp4tnRAsUBW7Cqgnf8ukBZC4C8XBm1   \n",
       "108         NaN  BdZPG9xWrG3uFrx2KrUW1jT4tZ9VKPDWknYihzoPRJS3   \n",
       "109       101.0  Es9vMFrzaCERmJfrF4H2FYD4KCoNkY11McCe8BenwNYB   \n",
       "110       101.0  7vfCXTUXx5WJV5JADk17DUJ4ksgau7utNKj4b963voxs   \n",
       "\n",
       "                                 pc.name  pc.decimals   pc.symbol  \\\n",
       "0                                 BiLira            6        TRYB   \n",
       "1     Saber Wrapped renLUNA (9 decimals)            9  srenLUNA-9   \n",
       "2    Saber Wrapped USD Coin (9 decimals)            9     sUSDC-9   \n",
       "3             Marinade staked SOL (mSOL)            9        mSOL   \n",
       "4    Saber Wrapped USD Coin (9 decimals)            9     sUSDC-9   \n",
       "..                                   ...          ...         ...   \n",
       "106  Saber Wrapped USD Coin (8 decimals)            8     sUSDC-8   \n",
       "107  Saber Wrapped USD Coin (9 decimals)            9     sUSDC-9   \n",
       "108                Parrot Stake Pool SOL            9      prtSOL   \n",
       "109                                 USDT            6        USDT   \n",
       "110                     Ether (Wormhole)            8       whETH   \n",
       "\n",
       "                                            pc.logoURI  lp.chainId  \\\n",
       "0    https://cdn.jsdelivr.net/gh/saber-hq/spl-token...       101.0   \n",
       "1                                                 None         NaN   \n",
       "2                                                 None         NaN   \n",
       "3    https://cdn.jsdelivr.net/gh/saber-hq/spl-token...       101.0   \n",
       "4                                                 None         NaN   \n",
       "..                                                 ...         ...   \n",
       "106  https://spl-token-icons.static-assets.ship.cap...       101.0   \n",
       "107                                               None         NaN   \n",
       "108                                               None         NaN   \n",
       "109  https://spl-token-icons.static-assets.ship.cap...       101.0   \n",
       "110  https://spl-token-icons.static-assets.ship.cap...       101.0   \n",
       "\n",
       "                                       lp.address               lp.name  \\\n",
       "0     Lirav2gsqs7jL1PFRUBp8uKACT8LYjDBV8c6nzchoer    Saber TRYB-TRYB LP   \n",
       "1     LUNkiLcb2wxcqULmJvMjuM6YQhpFBadG5KZBe7qBpSE      wLUNA-srenLUNA-9   \n",
       "2    Daimhb91DY4e3aVaa7YCW5GgwaMT9j1ALSi2GriBvDNh          wDAI-sUSDC-9   \n",
       "3    4FKZsej5FonJWj24xhgG13wV4FSMQqTDwABBQaoQNMZF   Saber stSOL-mSOL LP   \n",
       "4     UST32f2JtPGocLzsL41B3VBBoJzTm1mK1j3rwyM3Wgc             wUST-USDC   \n",
       "..                                            ...                   ...   \n",
       "106   USDKKmk1anWU1aEn6GJ6skL3ZvcB9CBAWVkmPGQEHtz   wUSDK-USDC Saber LP   \n",
       "107   uSdKg2Cs5bCtFSeNXs7aRVNzZJauX58eCkdsfssxTdW          USDK-sUSDC-9   \n",
       "108   PSopTFPXzTRysj2H6W8oTvYBZmJHtRcVaQaDkckifAy           pSOL-prtSOL   \n",
       "109   USDTJZL2vH92K5QeCvQTTzvMXUYAdvk3v46CwZyfsue  weUSDT-USDT Saber LP   \n",
       "110   WTHPuMavN9HBvgUafjrL65WqQytQHDwnTAmdFB9whXA    ETH-whETH Saber LP   \n",
       "\n",
       "     lp.decimals         lp.symbol  \\\n",
       "0              6         TRYB-TRYB   \n",
       "1              9  wLUNA-srenLUNA-9   \n",
       "2              9      wDAI-sUSDC-9   \n",
       "3              9        stSOL-mSOL   \n",
       "4              9         wUST-USDC   \n",
       "..           ...               ...   \n",
       "106            8        wUSDK-USDC   \n",
       "107            9      USDK-sUSDC-9   \n",
       "108            9       pSOL-prtSOL   \n",
       "109            6       weUSDT-USDT   \n",
       "110            8         ETH-whETH   \n",
       "\n",
       "                                            lp.logoURI  stats.tvl_pc  \\\n",
       "0    https://cdn.jsdelivr.net/gh/saber-hq/spl-token...      0.000000   \n",
       "1                                                 None   1539.521871   \n",
       "2                                                 None   5892.514602   \n",
       "3    https://cdn.jsdelivr.net/gh/saber-hq/spl-token...      0.003414   \n",
       "4                                                 None   1333.062825   \n",
       "..                                                 ...           ...   \n",
       "106      https://registry.saber.so/token-icons/slp.png  17357.182700   \n",
       "107                                               None    795.935829   \n",
       "108                                               None    587.221322   \n",
       "109      https://registry.saber.so/token-icons/slp.png   3146.734712   \n",
       "110      https://registry.saber.so/token-icons/slp.png     20.344256   \n",
       "\n",
       "     stats.tvl_coin  stats.tvl_usd  stats.price  stats.vol24h  \n",
       "0          0.000000       0.000000     0.999611      0.000000  \n",
       "1          0.182031       0.000000     3.984003      0.000000  \n",
       "2       7968.916379   11785.029203     0.997858      0.000000  \n",
       "3          0.003746       0.000000     0.985754      0.000000  \n",
       "4     299561.043016    2666.125651     0.035571     65.796138  \n",
       "..              ...            ...          ...           ...  \n",
       "106    18781.329125   34714.365399     0.995969      0.000000  \n",
       "107     8347.955140    1591.871658     0.907005      0.000000  \n",
       "108     2569.122423       0.000000     0.940964      5.711857  \n",
       "109     4489.792571    6293.469424     1.000022    399.094737  \n",
       "110       29.580428       0.000000     0.999197     53.465665  \n",
       "\n",
       "[111 rows x 25 columns]"
      ]
     },
     "execution_count": 14,
     "metadata": {},
     "output_type": "execute_result"
    }
   ],
   "source": [
    "df"
   ]
  },
  {
   "cell_type": "code",
   "execution_count": 15,
   "metadata": {},
   "outputs": [
    {
     "data": {
      "text/plain": [
       "0.25398253095490425"
      ]
     },
     "execution_count": 15,
     "metadata": {},
     "output_type": "execute_result"
    }
   ],
   "source": [
    "df['stats.tvl_usd'].astype(float).max()/df['stats.tvl_usd'].astype(float).sum()"
   ]
  },
  {
   "cell_type": "code",
   "execution_count": 16,
   "metadata": {},
   "outputs": [
    {
     "data": {
      "text/plain": [
       "0.9720466898714312"
      ]
     },
     "execution_count": 16,
     "metadata": {},
     "output_type": "execute_result"
    }
   ],
   "source": [
    "df['stats.tvl_usd'].astype(float).nlargest(10).sum()/df['stats.tvl_usd'].astype(float).sum()"
   ]
  },
  {
   "cell_type": "code",
   "execution_count": 17,
   "metadata": {},
   "outputs": [
    {
     "data": {
      "text/plain": [
       "5"
      ]
     },
     "execution_count": 17,
     "metadata": {},
     "output_type": "execute_result"
    }
   ],
   "source": [
    "#Liquidity Pools with > $1mn TVL\n",
    "len(df.loc[df['stats.tvl_usd'].astype(float) > 1000000])"
   ]
  },
  {
   "cell_type": "code",
   "execution_count": null,
   "metadata": {},
   "outputs": [],
   "source": []
  },
  {
   "cell_type": "code",
   "execution_count": 32,
   "metadata": {},
   "outputs": [],
   "source": [
    "headers = {# Chrome 83 Mac\n",
    "    \"Connection\": \"keep-alive\",\n",
    "    \"DNT\": \"1\",\n",
    "    \"Upgrade-Insecure-Requests\": \"1\",\n",
    "    \"User-Agent\": \"Mozilla/5.0 (Macintosh; Intel Mac OS X 10_15_5) AppleWebKit/537.36 (KHTML, like Gecko) Chrome/83.0.4103.97 Safari/537.36\",\n",
    "    \"Accept\": \"text/html,application/xhtml+xml,application/xml;q=0.9,image/webp,image/apng,*/*;q=0.8,application/signed-exchange;v=b3;q=0.9\",\n",
    "    \"Sec-Fetch-Site\": \"none\",\n",
    "    \"Sec-Fetch-Mode\": \"navigate\",\n",
    "    \"Sec-Fetch-Dest\": \"document\",\n",
    "    \"Referer\": \"https://www.google.com/\",\n",
    "    \"Accept-Encoding\": \"gzip, deflate, br\",\n",
    "    \"Accept-Language\": \"en-GB,en-US;q=0.9,en;q=0.8\"}"
   ]
  },
  {
   "cell_type": "code",
   "execution_count": 33,
   "metadata": {},
   "outputs": [],
   "source": [
    "#active users\n",
    "url = \"https://brew.hellomoon.io/api/aggregations/defi-program-by-active-user-count?timeRangeFilter=all&protocolFilter=aeb145d8f590503f3e6cab0b0a6d97fb\""
   ]
  },
  {
   "cell_type": "code",
   "execution_count": 34,
   "metadata": {},
   "outputs": [],
   "source": [
    "resp = requests.get(url, headers = headers)"
   ]
  },
  {
   "cell_type": "code",
   "execution_count": 35,
   "metadata": {},
   "outputs": [],
   "source": [
    "data =resp.json()"
   ]
  },
  {
   "cell_type": "code",
   "execution_count": 36,
   "metadata": {},
   "outputs": [],
   "source": [
    "df = pd.DataFrame(data['data'])"
   ]
  },
  {
   "cell_type": "code",
   "execution_count": 37,
   "metadata": {},
   "outputs": [
    {
     "data": {
      "text/plain": [
       "1497.950819672131"
      ]
     },
     "execution_count": 37,
     "metadata": {},
     "output_type": "execute_result"
    }
   ],
   "source": [
    "df['y'].head(183).mean()"
   ]
  },
  {
   "cell_type": "code",
   "execution_count": null,
   "metadata": {},
   "outputs": [],
   "source": []
  },
  {
   "cell_type": "code",
   "execution_count": 18,
   "metadata": {},
   "outputs": [],
   "source": [
    "url = \"https://nomics.com/data/exchange-volume-history?convert=USD&exchange=saber&interval=all\""
   ]
  },
  {
   "cell_type": "code",
   "execution_count": 19,
   "metadata": {},
   "outputs": [],
   "source": [
    "resp = requests.get(url)"
   ]
  },
  {
   "cell_type": "code",
   "execution_count": 20,
   "metadata": {},
   "outputs": [],
   "source": [
    "data = resp.json()"
   ]
  },
  {
   "cell_type": "code",
   "execution_count": 21,
   "metadata": {},
   "outputs": [],
   "source": [
    "df = pd.DataFrame(data['items'])"
   ]
  },
  {
   "cell_type": "code",
   "execution_count": 22,
   "metadata": {},
   "outputs": [
    {
     "data": {
      "text/plain": [
       "32981775.240437157"
      ]
     },
     "execution_count": 22,
     "metadata": {},
     "output_type": "execute_result"
    }
   ],
   "source": [
    "df['volume'].astype(float).tail(183).mean()"
   ]
  },
  {
   "cell_type": "code",
   "execution_count": null,
   "metadata": {},
   "outputs": [],
   "source": []
  }
 ],
 "metadata": {
  "kernelspec": {
   "display_name": "Python 3.8.10 64-bit",
   "language": "python",
   "name": "python3"
  },
  "language_info": {
   "codemirror_mode": {
    "name": "ipython",
    "version": 3
   },
   "file_extension": ".py",
   "mimetype": "text/x-python",
   "name": "python",
   "nbconvert_exporter": "python",
   "pygments_lexer": "ipython3",
   "version": "3.8.10"
  },
  "orig_nbformat": 4,
  "vscode": {
   "interpreter": {
    "hash": "916dbcbb3f70747c44a77c7bcd40155683ae19c65e1c03b4aa3499c5328201f1"
   }
  }
 },
 "nbformat": 4,
 "nbformat_minor": 2
}
