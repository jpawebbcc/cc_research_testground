{
 "cells": [
  {
   "cell_type": "markdown",
   "metadata": {},
   "source": [
    "### Sunswap\n",
    "\n",
    "https://www.sunswap.com/docs/sunswap-interfaces_en.pdf\n",
    "\n",
    "13/09/22"
   ]
  },
  {
   "cell_type": "code",
   "execution_count": 44,
   "metadata": {},
   "outputs": [],
   "source": [
    "import pandas as pd\n",
    "import numpy as np\n",
    "import time\n",
    "import requests\n",
    "import datetime as dt\n",
    "import time"
   ]
  },
  {
   "cell_type": "markdown",
   "metadata": {},
   "source": [
    "6 month volume"
   ]
  },
  {
   "cell_type": "code",
   "execution_count": 12,
   "metadata": {},
   "outputs": [],
   "source": [
    "url = 'https://abc.ablesdxd.link/swap/scan/volumeall'"
   ]
  },
  {
   "cell_type": "code",
   "execution_count": 13,
   "metadata": {},
   "outputs": [
    {
     "data": {
      "text/plain": [
       "True"
      ]
     },
     "execution_count": 13,
     "metadata": {},
     "output_type": "execute_result"
    }
   ],
   "source": [
    "response = requests.get(url)\n",
    "response.ok"
   ]
  },
  {
   "cell_type": "code",
   "execution_count": 14,
   "metadata": {},
   "outputs": [],
   "source": [
    "data = response.json()"
   ]
  },
  {
   "cell_type": "code",
   "execution_count": 16,
   "metadata": {},
   "outputs": [],
   "source": [
    "df = pd.json_normalize(data['data'])"
   ]
  },
  {
   "cell_type": "code",
   "execution_count": 18,
   "metadata": {},
   "outputs": [
    {
     "data": {
      "text/plain": [
       "50043224.36852048"
      ]
     },
     "execution_count": 18,
     "metadata": {},
     "output_type": "execute_result"
    }
   ],
   "source": [
    "df['volume'].tail(183).astype(float).mean()"
   ]
  },
  {
   "cell_type": "code",
   "execution_count": null,
   "metadata": {},
   "outputs": [],
   "source": []
  },
  {
   "cell_type": "markdown",
   "metadata": {},
   "source": [
    "Get 6 month TVL"
   ]
  },
  {
   "cell_type": "code",
   "execution_count": 2,
   "metadata": {},
   "outputs": [],
   "source": [
    "url = 'https://abc.ablesdxd.link/swap/scan/liquidityall'"
   ]
  },
  {
   "cell_type": "code",
   "execution_count": 4,
   "metadata": {},
   "outputs": [
    {
     "data": {
      "text/plain": [
       "True"
      ]
     },
     "execution_count": 4,
     "metadata": {},
     "output_type": "execute_result"
    }
   ],
   "source": [
    "response = requests.get(url)\n",
    "response.ok"
   ]
  },
  {
   "cell_type": "code",
   "execution_count": 5,
   "metadata": {},
   "outputs": [],
   "source": [
    "data = response.json()"
   ]
  },
  {
   "cell_type": "code",
   "execution_count": 8,
   "metadata": {},
   "outputs": [],
   "source": [
    "df = pd.json_normalize(data['data'])"
   ]
  },
  {
   "cell_type": "code",
   "execution_count": 11,
   "metadata": {},
   "outputs": [
    {
     "data": {
      "text/plain": [
       "723724661.5742342"
      ]
     },
     "execution_count": 11,
     "metadata": {},
     "output_type": "execute_result"
    }
   ],
   "source": [
    "df['liquidity'].tail(183).astype(float).mean()"
   ]
  },
  {
   "cell_type": "code",
   "execution_count": null,
   "metadata": {},
   "outputs": [],
   "source": []
  },
  {
   "cell_type": "markdown",
   "metadata": {},
   "source": [
    "Largest Pool Concentration"
   ]
  },
  {
   "cell_type": "code",
   "execution_count": 45,
   "metadata": {},
   "outputs": [
    {
     "name": "stderr",
     "output_type": "stream",
     "text": [
      "/tmp/ipykernel_124611/382098712.py:12: FutureWarning: The frame.append method is deprecated and will be removed from pandas in a future version. Use pandas.concat instead.\n",
      "  df = df.append(tdf)\n",
      "/tmp/ipykernel_124611/382098712.py:12: FutureWarning: The frame.append method is deprecated and will be removed from pandas in a future version. Use pandas.concat instead.\n",
      "  df = df.append(tdf)\n",
      "/tmp/ipykernel_124611/382098712.py:12: FutureWarning: The frame.append method is deprecated and will be removed from pandas in a future version. Use pandas.concat instead.\n",
      "  df = df.append(tdf)\n",
      "/tmp/ipykernel_124611/382098712.py:12: FutureWarning: The frame.append method is deprecated and will be removed from pandas in a future version. Use pandas.concat instead.\n",
      "  df = df.append(tdf)\n",
      "/tmp/ipykernel_124611/382098712.py:12: FutureWarning: The frame.append method is deprecated and will be removed from pandas in a future version. Use pandas.concat instead.\n",
      "  df = df.append(tdf)\n",
      "/tmp/ipykernel_124611/382098712.py:12: FutureWarning: The frame.append method is deprecated and will be removed from pandas in a future version. Use pandas.concat instead.\n",
      "  df = df.append(tdf)\n",
      "/tmp/ipykernel_124611/382098712.py:12: FutureWarning: The frame.append method is deprecated and will be removed from pandas in a future version. Use pandas.concat instead.\n",
      "  df = df.append(tdf)\n",
      "/tmp/ipykernel_124611/382098712.py:12: FutureWarning: The frame.append method is deprecated and will be removed from pandas in a future version. Use pandas.concat instead.\n",
      "  df = df.append(tdf)\n",
      "/tmp/ipykernel_124611/382098712.py:12: FutureWarning: The frame.append method is deprecated and will be removed from pandas in a future version. Use pandas.concat instead.\n",
      "  df = df.append(tdf)\n",
      "/tmp/ipykernel_124611/382098712.py:12: FutureWarning: The frame.append method is deprecated and will be removed from pandas in a future version. Use pandas.concat instead.\n",
      "  df = df.append(tdf)\n",
      "/tmp/ipykernel_124611/382098712.py:12: FutureWarning: The frame.append method is deprecated and will be removed from pandas in a future version. Use pandas.concat instead.\n",
      "  df = df.append(tdf)\n",
      "/tmp/ipykernel_124611/382098712.py:12: FutureWarning: The frame.append method is deprecated and will be removed from pandas in a future version. Use pandas.concat instead.\n",
      "  df = df.append(tdf)\n",
      "/tmp/ipykernel_124611/382098712.py:12: FutureWarning: The frame.append method is deprecated and will be removed from pandas in a future version. Use pandas.concat instead.\n",
      "  df = df.append(tdf)\n",
      "/tmp/ipykernel_124611/382098712.py:12: FutureWarning: The frame.append method is deprecated and will be removed from pandas in a future version. Use pandas.concat instead.\n",
      "  df = df.append(tdf)\n",
      "/tmp/ipykernel_124611/382098712.py:12: FutureWarning: The frame.append method is deprecated and will be removed from pandas in a future version. Use pandas.concat instead.\n",
      "  df = df.append(tdf)\n",
      "/tmp/ipykernel_124611/382098712.py:12: FutureWarning: The frame.append method is deprecated and will be removed from pandas in a future version. Use pandas.concat instead.\n",
      "  df = df.append(tdf)\n",
      "/tmp/ipykernel_124611/382098712.py:12: FutureWarning: The frame.append method is deprecated and will be removed from pandas in a future version. Use pandas.concat instead.\n",
      "  df = df.append(tdf)\n",
      "/tmp/ipykernel_124611/382098712.py:12: FutureWarning: The frame.append method is deprecated and will be removed from pandas in a future version. Use pandas.concat instead.\n",
      "  df = df.append(tdf)\n",
      "/tmp/ipykernel_124611/382098712.py:12: FutureWarning: The frame.append method is deprecated and will be removed from pandas in a future version. Use pandas.concat instead.\n",
      "  df = df.append(tdf)\n",
      "/tmp/ipykernel_124611/382098712.py:12: FutureWarning: The frame.append method is deprecated and will be removed from pandas in a future version. Use pandas.concat instead.\n",
      "  df = df.append(tdf)\n",
      "/tmp/ipykernel_124611/382098712.py:12: FutureWarning: The frame.append method is deprecated and will be removed from pandas in a future version. Use pandas.concat instead.\n",
      "  df = df.append(tdf)\n",
      "/tmp/ipykernel_124611/382098712.py:12: FutureWarning: The frame.append method is deprecated and will be removed from pandas in a future version. Use pandas.concat instead.\n",
      "  df = df.append(tdf)\n",
      "/tmp/ipykernel_124611/382098712.py:12: FutureWarning: The frame.append method is deprecated and will be removed from pandas in a future version. Use pandas.concat instead.\n",
      "  df = df.append(tdf)\n",
      "/tmp/ipykernel_124611/382098712.py:12: FutureWarning: The frame.append method is deprecated and will be removed from pandas in a future version. Use pandas.concat instead.\n",
      "  df = df.append(tdf)\n",
      "/tmp/ipykernel_124611/382098712.py:12: FutureWarning: The frame.append method is deprecated and will be removed from pandas in a future version. Use pandas.concat instead.\n",
      "  df = df.append(tdf)\n",
      "/tmp/ipykernel_124611/382098712.py:12: FutureWarning: The frame.append method is deprecated and will be removed from pandas in a future version. Use pandas.concat instead.\n",
      "  df = df.append(tdf)\n",
      "/tmp/ipykernel_124611/382098712.py:12: FutureWarning: The frame.append method is deprecated and will be removed from pandas in a future version. Use pandas.concat instead.\n",
      "  df = df.append(tdf)\n",
      "/tmp/ipykernel_124611/382098712.py:12: FutureWarning: The frame.append method is deprecated and will be removed from pandas in a future version. Use pandas.concat instead.\n",
      "  df = df.append(tdf)\n",
      "/tmp/ipykernel_124611/382098712.py:12: FutureWarning: The frame.append method is deprecated and will be removed from pandas in a future version. Use pandas.concat instead.\n",
      "  df = df.append(tdf)\n",
      "/tmp/ipykernel_124611/382098712.py:12: FutureWarning: The frame.append method is deprecated and will be removed from pandas in a future version. Use pandas.concat instead.\n",
      "  df = df.append(tdf)\n",
      "/tmp/ipykernel_124611/382098712.py:12: FutureWarning: The frame.append method is deprecated and will be removed from pandas in a future version. Use pandas.concat instead.\n",
      "  df = df.append(tdf)\n",
      "/tmp/ipykernel_124611/382098712.py:12: FutureWarning: The frame.append method is deprecated and will be removed from pandas in a future version. Use pandas.concat instead.\n",
      "  df = df.append(tdf)\n",
      "/tmp/ipykernel_124611/382098712.py:12: FutureWarning: The frame.append method is deprecated and will be removed from pandas in a future version. Use pandas.concat instead.\n",
      "  df = df.append(tdf)\n",
      "/tmp/ipykernel_124611/382098712.py:12: FutureWarning: The frame.append method is deprecated and will be removed from pandas in a future version. Use pandas.concat instead.\n",
      "  df = df.append(tdf)\n",
      "/tmp/ipykernel_124611/382098712.py:12: FutureWarning: The frame.append method is deprecated and will be removed from pandas in a future version. Use pandas.concat instead.\n",
      "  df = df.append(tdf)\n",
      "/tmp/ipykernel_124611/382098712.py:12: FutureWarning: The frame.append method is deprecated and will be removed from pandas in a future version. Use pandas.concat instead.\n",
      "  df = df.append(tdf)\n",
      "/tmp/ipykernel_124611/382098712.py:12: FutureWarning: The frame.append method is deprecated and will be removed from pandas in a future version. Use pandas.concat instead.\n",
      "  df = df.append(tdf)\n",
      "/tmp/ipykernel_124611/382098712.py:12: FutureWarning: The frame.append method is deprecated and will be removed from pandas in a future version. Use pandas.concat instead.\n",
      "  df = df.append(tdf)\n",
      "/tmp/ipykernel_124611/382098712.py:12: FutureWarning: The frame.append method is deprecated and will be removed from pandas in a future version. Use pandas.concat instead.\n",
      "  df = df.append(tdf)\n",
      "/tmp/ipykernel_124611/382098712.py:12: FutureWarning: The frame.append method is deprecated and will be removed from pandas in a future version. Use pandas.concat instead.\n",
      "  df = df.append(tdf)\n",
      "/tmp/ipykernel_124611/382098712.py:12: FutureWarning: The frame.append method is deprecated and will be removed from pandas in a future version. Use pandas.concat instead.\n",
      "  df = df.append(tdf)\n"
     ]
    }
   ],
   "source": [
    "df = pd.DataFrame()\n",
    "i=0\n",
    "\n",
    "while True:\n",
    "    url = f'https://abc.ablesdxd.link/v2/allpairs?page_size=500&page_num={i}'\n",
    "    response = requests.get(url)\n",
    "    if response.ok:\n",
    "        data = response.json()\n",
    "        tdf = pd.DataFrame(data['data']).T\n",
    "        if tdf.empty:\n",
    "            break\n",
    "        df = df.append(tdf)\n",
    "        i += 1\n",
    "        time.sleep(1)\n",
    "    else:\n",
    "        time.sleep(1)\n"
   ]
  },
  {
   "cell_type": "code",
   "execution_count": 46,
   "metadata": {},
   "outputs": [
    {
     "data": {
      "text/html": [
       "<div>\n",
       "<style scoped>\n",
       "    .dataframe tbody tr th:only-of-type {\n",
       "        vertical-align: middle;\n",
       "    }\n",
       "\n",
       "    .dataframe tbody tr th {\n",
       "        vertical-align: top;\n",
       "    }\n",
       "\n",
       "    .dataframe thead th {\n",
       "        text-align: right;\n",
       "    }\n",
       "</style>\n",
       "<table border=\"1\" class=\"dataframe\">\n",
       "  <thead>\n",
       "    <tr style=\"text-align: right;\">\n",
       "      <th></th>\n",
       "      <th>quote_name</th>\n",
       "      <th>base_decimal</th>\n",
       "      <th>quote_symbol</th>\n",
       "      <th>base_name</th>\n",
       "      <th>base_id</th>\n",
       "      <th>price</th>\n",
       "      <th>quote_volume</th>\n",
       "      <th>quote_id</th>\n",
       "      <th>base_volume</th>\n",
       "      <th>base_symbol</th>\n",
       "      <th>quote_decimal</th>\n",
       "    </tr>\n",
       "  </thead>\n",
       "  <tbody>\n",
       "    <tr>\n",
       "      <th>0_TR7NHqjeKQxGTCi8q8ZY4pL8otSzgjLj6t</th>\n",
       "      <td>TRX</td>\n",
       "      <td>6</td>\n",
       "      <td>TRX</td>\n",
       "      <td>Tether USD</td>\n",
       "      <td>TR7NHqjeKQxGTCi8q8ZY4pL8otSzgjLj6t</td>\n",
       "      <td>16.133505489136249283</td>\n",
       "      <td>81345324714951</td>\n",
       "      <td>0</td>\n",
       "      <td>5147059887361</td>\n",
       "      <td>USDT</td>\n",
       "      <td>6</td>\n",
       "    </tr>\n",
       "    <tr>\n",
       "      <th>0_TT1PZTk5mZRXM3C428tHRw7JZhCMrdVjCQ</th>\n",
       "      <td>TRX</td>\n",
       "      <td>0</td>\n",
       "      <td>TRX</td>\n",
       "      <td>AssetsTraceabilityCoin</td>\n",
       "      <td>TT1PZTk5mZRXM3C428tHRw7JZhCMrdVjCQ</td>\n",
       "      <td>0</td>\n",
       "      <td>0</td>\n",
       "      <td>0</td>\n",
       "      <td>0</td>\n",
       "      <td>ATC</td>\n",
       "      <td>6</td>\n",
       "    </tr>\n",
       "    <tr>\n",
       "      <th>0_TTddyZzcvER4VmLBcKsR2FfFReXoNxgbZU</th>\n",
       "      <td>TRX</td>\n",
       "      <td>6</td>\n",
       "      <td>TRX</td>\n",
       "      <td>Miraculous</td>\n",
       "      <td>TTddyZzcvER4VmLBcKsR2FfFReXoNxgbZU</td>\n",
       "      <td>0</td>\n",
       "      <td>0</td>\n",
       "      <td>0</td>\n",
       "      <td>0</td>\n",
       "      <td>MIR</td>\n",
       "      <td>6</td>\n",
       "    </tr>\n",
       "    <tr>\n",
       "      <th>0_TLa2f6VPqDgRE67v1736s7bJ8Ray5wYjU7</th>\n",
       "      <td>TRX</td>\n",
       "      <td>6</td>\n",
       "      <td>TRX</td>\n",
       "      <td>WINK</td>\n",
       "      <td>TLa2f6VPqDgRE67v1736s7bJ8Ray5wYjU7</td>\n",
       "      <td>0.001703201662508900</td>\n",
       "      <td>2574648023959</td>\n",
       "      <td>0</td>\n",
       "      <td>1508251199892525</td>\n",
       "      <td>WIN</td>\n",
       "      <td>6</td>\n",
       "    </tr>\n",
       "    <tr>\n",
       "      <th>0_TMwFHYXLJaRUPeW6421aqXL4ZEzPRFGkGT</th>\n",
       "      <td>TRX</td>\n",
       "      <td>18</td>\n",
       "      <td>TRX</td>\n",
       "      <td>JUST Stablecoin</td>\n",
       "      <td>TMwFHYXLJaRUPeW6421aqXL4ZEzPRFGkGT</td>\n",
       "      <td>16.121451277767298475</td>\n",
       "      <td>11740696259055</td>\n",
       "      <td>0</td>\n",
       "      <td>742081800799684400000000</td>\n",
       "      <td>USDJ</td>\n",
       "      <td>6</td>\n",
       "    </tr>\n",
       "    <tr>\n",
       "      <th>...</th>\n",
       "      <td>...</td>\n",
       "      <td>...</td>\n",
       "      <td>...</td>\n",
       "      <td>...</td>\n",
       "      <td>...</td>\n",
       "      <td>...</td>\n",
       "      <td>...</td>\n",
       "      <td>...</td>\n",
       "      <td>...</td>\n",
       "      <td>...</td>\n",
       "      <td>...</td>\n",
       "    </tr>\n",
       "    <tr>\n",
       "      <th>0_TZ8PdVAKePssfZjs7MTGXc6Ygi3DPJJDKA</th>\n",
       "      <td>TRX</td>\n",
       "      <td>6</td>\n",
       "      <td>TRX</td>\n",
       "      <td>FIItt</td>\n",
       "      <td>TZ8PdVAKePssfZjs7MTGXc6Ygi3DPJJDKA</td>\n",
       "      <td>0.089198941793428104</td>\n",
       "      <td>89865551369</td>\n",
       "      <td>0</td>\n",
       "      <td>14986006077</td>\n",
       "      <td>FII</td>\n",
       "      <td>6</td>\n",
       "    </tr>\n",
       "    <tr>\n",
       "      <th>0_TA988QJ1jF66WWjFMMCwkhxRGbuJnhkZNK</th>\n",
       "      <td>TRX</td>\n",
       "      <td>6</td>\n",
       "      <td>TRX</td>\n",
       "      <td>YYDS</td>\n",
       "      <td>TA988QJ1jF66WWjFMMCwkhxRGbuJnhkZNK</td>\n",
       "      <td>1283.390714090850947982</td>\n",
       "      <td>1405450000</td>\n",
       "      <td>0</td>\n",
       "      <td>1287789</td>\n",
       "      <td>YYDS</td>\n",
       "      <td>6</td>\n",
       "    </tr>\n",
       "    <tr>\n",
       "      <th>0_TTpDb1Xube6PPYVvUNxoQi1cAn2CMeo1xU</th>\n",
       "      <td>TRX</td>\n",
       "      <td>6</td>\n",
       "      <td>TRX</td>\n",
       "      <td>MMNsbf</td>\n",
       "      <td>TTpDb1Xube6PPYVvUNxoQi1cAn2CMeo1xU</td>\n",
       "      <td>4.025953220744519478</td>\n",
       "      <td>132464210638</td>\n",
       "      <td>0</td>\n",
       "      <td>733416023</td>\n",
       "      <td>MMN</td>\n",
       "      <td>6</td>\n",
       "    </tr>\n",
       "    <tr>\n",
       "      <th>0_TAWoCPWhWHAEqESURukBESD12bpx43sJLp</th>\n",
       "      <td>TRX</td>\n",
       "      <td>6</td>\n",
       "      <td>TRX</td>\n",
       "      <td>wbc38.com</td>\n",
       "      <td>TAWoCPWhWHAEqESURukBESD12bpx43sJLp</td>\n",
       "      <td>0.001382011894071367</td>\n",
       "      <td>1858995540</td>\n",
       "      <td>0</td>\n",
       "      <td>1456445908268</td>\n",
       "      <td>wbc38.com</td>\n",
       "      <td>6</td>\n",
       "    </tr>\n",
       "    <tr>\n",
       "      <th>0_TCgSnZDVHvwGutu1d4jXXww7fyjZZg53ag</th>\n",
       "      <td>TRX</td>\n",
       "      <td>8</td>\n",
       "      <td>TRX</td>\n",
       "      <td>TDITS</td>\n",
       "      <td>TCgSnZDVHvwGutu1d4jXXww7fyjZZg53ag</td>\n",
       "      <td>6.483539286207383882</td>\n",
       "      <td>1592963707887</td>\n",
       "      <td>0</td>\n",
       "      <td>220805072154747</td>\n",
       "      <td>TDS</td>\n",
       "      <td>6</td>\n",
       "    </tr>\n",
       "  </tbody>\n",
       "</table>\n",
       "<p>20144 rows × 11 columns</p>\n",
       "</div>"
      ],
      "text/plain": [
       "                                     quote_name base_decimal quote_symbol  \\\n",
       "0_TR7NHqjeKQxGTCi8q8ZY4pL8otSzgjLj6t        TRX            6          TRX   \n",
       "0_TT1PZTk5mZRXM3C428tHRw7JZhCMrdVjCQ        TRX            0          TRX   \n",
       "0_TTddyZzcvER4VmLBcKsR2FfFReXoNxgbZU        TRX            6          TRX   \n",
       "0_TLa2f6VPqDgRE67v1736s7bJ8Ray5wYjU7        TRX            6          TRX   \n",
       "0_TMwFHYXLJaRUPeW6421aqXL4ZEzPRFGkGT        TRX           18          TRX   \n",
       "...                                         ...          ...          ...   \n",
       "0_TZ8PdVAKePssfZjs7MTGXc6Ygi3DPJJDKA        TRX            6          TRX   \n",
       "0_TA988QJ1jF66WWjFMMCwkhxRGbuJnhkZNK        TRX            6          TRX   \n",
       "0_TTpDb1Xube6PPYVvUNxoQi1cAn2CMeo1xU        TRX            6          TRX   \n",
       "0_TAWoCPWhWHAEqESURukBESD12bpx43sJLp        TRX            6          TRX   \n",
       "0_TCgSnZDVHvwGutu1d4jXXww7fyjZZg53ag        TRX            8          TRX   \n",
       "\n",
       "                                                   base_name  \\\n",
       "0_TR7NHqjeKQxGTCi8q8ZY4pL8otSzgjLj6t              Tether USD   \n",
       "0_TT1PZTk5mZRXM3C428tHRw7JZhCMrdVjCQ  AssetsTraceabilityCoin   \n",
       "0_TTddyZzcvER4VmLBcKsR2FfFReXoNxgbZU              Miraculous   \n",
       "0_TLa2f6VPqDgRE67v1736s7bJ8Ray5wYjU7                    WINK   \n",
       "0_TMwFHYXLJaRUPeW6421aqXL4ZEzPRFGkGT         JUST Stablecoin   \n",
       "...                                                      ...   \n",
       "0_TZ8PdVAKePssfZjs7MTGXc6Ygi3DPJJDKA                   FIItt   \n",
       "0_TA988QJ1jF66WWjFMMCwkhxRGbuJnhkZNK                    YYDS   \n",
       "0_TTpDb1Xube6PPYVvUNxoQi1cAn2CMeo1xU                  MMNsbf   \n",
       "0_TAWoCPWhWHAEqESURukBESD12bpx43sJLp               wbc38.com   \n",
       "0_TCgSnZDVHvwGutu1d4jXXww7fyjZZg53ag                   TDITS   \n",
       "\n",
       "                                                                 base_id  \\\n",
       "0_TR7NHqjeKQxGTCi8q8ZY4pL8otSzgjLj6t  TR7NHqjeKQxGTCi8q8ZY4pL8otSzgjLj6t   \n",
       "0_TT1PZTk5mZRXM3C428tHRw7JZhCMrdVjCQ  TT1PZTk5mZRXM3C428tHRw7JZhCMrdVjCQ   \n",
       "0_TTddyZzcvER4VmLBcKsR2FfFReXoNxgbZU  TTddyZzcvER4VmLBcKsR2FfFReXoNxgbZU   \n",
       "0_TLa2f6VPqDgRE67v1736s7bJ8Ray5wYjU7  TLa2f6VPqDgRE67v1736s7bJ8Ray5wYjU7   \n",
       "0_TMwFHYXLJaRUPeW6421aqXL4ZEzPRFGkGT  TMwFHYXLJaRUPeW6421aqXL4ZEzPRFGkGT   \n",
       "...                                                                  ...   \n",
       "0_TZ8PdVAKePssfZjs7MTGXc6Ygi3DPJJDKA  TZ8PdVAKePssfZjs7MTGXc6Ygi3DPJJDKA   \n",
       "0_TA988QJ1jF66WWjFMMCwkhxRGbuJnhkZNK  TA988QJ1jF66WWjFMMCwkhxRGbuJnhkZNK   \n",
       "0_TTpDb1Xube6PPYVvUNxoQi1cAn2CMeo1xU  TTpDb1Xube6PPYVvUNxoQi1cAn2CMeo1xU   \n",
       "0_TAWoCPWhWHAEqESURukBESD12bpx43sJLp  TAWoCPWhWHAEqESURukBESD12bpx43sJLp   \n",
       "0_TCgSnZDVHvwGutu1d4jXXww7fyjZZg53ag  TCgSnZDVHvwGutu1d4jXXww7fyjZZg53ag   \n",
       "\n",
       "                                                        price    quote_volume  \\\n",
       "0_TR7NHqjeKQxGTCi8q8ZY4pL8otSzgjLj6t    16.133505489136249283  81345324714951   \n",
       "0_TT1PZTk5mZRXM3C428tHRw7JZhCMrdVjCQ                        0               0   \n",
       "0_TTddyZzcvER4VmLBcKsR2FfFReXoNxgbZU                        0               0   \n",
       "0_TLa2f6VPqDgRE67v1736s7bJ8Ray5wYjU7     0.001703201662508900   2574648023959   \n",
       "0_TMwFHYXLJaRUPeW6421aqXL4ZEzPRFGkGT    16.121451277767298475  11740696259055   \n",
       "...                                                       ...             ...   \n",
       "0_TZ8PdVAKePssfZjs7MTGXc6Ygi3DPJJDKA     0.089198941793428104     89865551369   \n",
       "0_TA988QJ1jF66WWjFMMCwkhxRGbuJnhkZNK  1283.390714090850947982      1405450000   \n",
       "0_TTpDb1Xube6PPYVvUNxoQi1cAn2CMeo1xU     4.025953220744519478    132464210638   \n",
       "0_TAWoCPWhWHAEqESURukBESD12bpx43sJLp     0.001382011894071367      1858995540   \n",
       "0_TCgSnZDVHvwGutu1d4jXXww7fyjZZg53ag     6.483539286207383882   1592963707887   \n",
       "\n",
       "                                     quote_id               base_volume  \\\n",
       "0_TR7NHqjeKQxGTCi8q8ZY4pL8otSzgjLj6t        0             5147059887361   \n",
       "0_TT1PZTk5mZRXM3C428tHRw7JZhCMrdVjCQ        0                         0   \n",
       "0_TTddyZzcvER4VmLBcKsR2FfFReXoNxgbZU        0                         0   \n",
       "0_TLa2f6VPqDgRE67v1736s7bJ8Ray5wYjU7        0          1508251199892525   \n",
       "0_TMwFHYXLJaRUPeW6421aqXL4ZEzPRFGkGT        0  742081800799684400000000   \n",
       "...                                       ...                       ...   \n",
       "0_TZ8PdVAKePssfZjs7MTGXc6Ygi3DPJJDKA        0               14986006077   \n",
       "0_TA988QJ1jF66WWjFMMCwkhxRGbuJnhkZNK        0                   1287789   \n",
       "0_TTpDb1Xube6PPYVvUNxoQi1cAn2CMeo1xU        0                 733416023   \n",
       "0_TAWoCPWhWHAEqESURukBESD12bpx43sJLp        0             1456445908268   \n",
       "0_TCgSnZDVHvwGutu1d4jXXww7fyjZZg53ag        0           220805072154747   \n",
       "\n",
       "                                     base_symbol quote_decimal  \n",
       "0_TR7NHqjeKQxGTCi8q8ZY4pL8otSzgjLj6t        USDT             6  \n",
       "0_TT1PZTk5mZRXM3C428tHRw7JZhCMrdVjCQ         ATC             6  \n",
       "0_TTddyZzcvER4VmLBcKsR2FfFReXoNxgbZU         MIR             6  \n",
       "0_TLa2f6VPqDgRE67v1736s7bJ8Ray5wYjU7         WIN             6  \n",
       "0_TMwFHYXLJaRUPeW6421aqXL4ZEzPRFGkGT        USDJ             6  \n",
       "...                                          ...           ...  \n",
       "0_TZ8PdVAKePssfZjs7MTGXc6Ygi3DPJJDKA         FII             6  \n",
       "0_TA988QJ1jF66WWjFMMCwkhxRGbuJnhkZNK        YYDS             6  \n",
       "0_TTpDb1Xube6PPYVvUNxoQi1cAn2CMeo1xU         MMN             6  \n",
       "0_TAWoCPWhWHAEqESURukBESD12bpx43sJLp   wbc38.com             6  \n",
       "0_TCgSnZDVHvwGutu1d4jXXww7fyjZZg53ag         TDS             6  \n",
       "\n",
       "[20144 rows x 11 columns]"
      ]
     },
     "execution_count": 46,
     "metadata": {},
     "output_type": "execute_result"
    }
   ],
   "source": [
    "df"
   ]
  },
  {
   "cell_type": "code",
   "execution_count": null,
   "metadata": {},
   "outputs": [],
   "source": []
  },
  {
   "cell_type": "code",
   "execution_count": null,
   "metadata": {},
   "outputs": [],
   "source": []
  }
 ],
 "metadata": {
  "kernelspec": {
   "display_name": "Python 3.8.10 64-bit",
   "language": "python",
   "name": "python3"
  },
  "language_info": {
   "codemirror_mode": {
    "name": "ipython",
    "version": 3
   },
   "file_extension": ".py",
   "mimetype": "text/x-python",
   "name": "python",
   "nbconvert_exporter": "python",
   "pygments_lexer": "ipython3",
   "version": "3.8.10"
  },
  "orig_nbformat": 4,
  "vscode": {
   "interpreter": {
    "hash": "916dbcbb3f70747c44a77c7bcd40155683ae19c65e1c03b4aa3499c5328201f1"
   }
  }
 },
 "nbformat": 4,
 "nbformat_minor": 2
}
