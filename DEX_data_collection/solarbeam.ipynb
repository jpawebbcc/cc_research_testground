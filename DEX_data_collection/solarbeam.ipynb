{
 "cells": [
  {
   "cell_type": "markdown",
   "metadata": {},
   "source": [
    "## Messari standardised subgraphs\n",
    "\n",
    "https://github.com/messari/subgraphs\n",
    "\n",
    "### Solarbeam - https://docs.solarbeam.io/faq"
   ]
  },
  {
   "cell_type": "code",
   "execution_count": 2,
   "metadata": {},
   "outputs": [],
   "source": [
    "import pandas as pd\n",
    "import numpy as np\n",
    "import time\n",
    "import requests\n",
    "import datetime as dt"
   ]
  },
  {
   "cell_type": "code",
   "execution_count": 3,
   "metadata": {},
   "outputs": [],
   "source": [
    "endpoint = 'https://api.thegraph.com/subgraphs/name/messari/solarbeam-moonriver'"
   ]
  },
  {
   "cell_type": "markdown",
   "metadata": {},
   "source": [
    "6-Month Average Daily Volume"
   ]
  },
  {
   "cell_type": "code",
   "execution_count": 4,
   "metadata": {},
   "outputs": [],
   "source": [
    "query = \"\"\"{\n",
    "  financialsDailySnapshots(first: 183, orderBy: timestamp, orderDirection: desc){\n",
    "    id\n",
    "    protocol{\n",
    "      name\n",
    "    }\n",
    "    dailyVolumeUSD\n",
    "    dailyTotalRevenueUSD\n",
    "    dailySupplySideRevenueUSD\n",
    "    dailyProtocolSideRevenueUSD\n",
    "    timestamp\n",
    "    blockNumber\n",
    "  }\n",
    "}\n",
    "\"\"\""
   ]
  },
  {
   "cell_type": "code",
   "execution_count": 5,
   "metadata": {},
   "outputs": [],
   "source": [
    "request = requests.post(endpoint, json={'query':query})\n",
    "data = request.json()"
   ]
  },
  {
   "cell_type": "code",
   "execution_count": 6,
   "metadata": {},
   "outputs": [],
   "source": [
    "df = pd.json_normalize(data['data']['financialsDailySnapshots'])"
   ]
  },
  {
   "cell_type": "code",
   "execution_count": 7,
   "metadata": {},
   "outputs": [
    {
     "data": {
      "text/plain": [
       "3310237.488307767"
      ]
     },
     "execution_count": 7,
     "metadata": {},
     "output_type": "execute_result"
    }
   ],
   "source": [
    "df['dailyVolumeUSD'].astype(float).mean()"
   ]
  },
  {
   "cell_type": "markdown",
   "metadata": {},
   "source": [
    "6-Month Average TVL"
   ]
  },
  {
   "cell_type": "code",
   "execution_count": 9,
   "metadata": {},
   "outputs": [],
   "source": [
    "#DefiLlama https://defillama.com/protocols/dexes \n",
    "lma = pd.read_csv(\"https://api.llama.fi/dataset/solarbeam.csv\")"
   ]
  },
  {
   "cell_type": "code",
   "execution_count": 10,
   "metadata": {},
   "outputs": [
    {
     "data": {
      "text/html": [
       "<div>\n",
       "<style scoped>\n",
       "    .dataframe tbody tr th:only-of-type {\n",
       "        vertical-align: middle;\n",
       "    }\n",
       "\n",
       "    .dataframe tbody tr th {\n",
       "        vertical-align: top;\n",
       "    }\n",
       "\n",
       "    .dataframe thead th {\n",
       "        text-align: right;\n",
       "    }\n",
       "</style>\n",
       "<table border=\"1\" class=\"dataframe\">\n",
       "  <thead>\n",
       "    <tr style=\"text-align: right;\">\n",
       "      <th></th>\n",
       "      <th>Unnamed: 0</th>\n",
       "      <th>Date</th>\n",
       "      <th>Timestamp</th>\n",
       "      <th>Solarbeam</th>\n",
       "      <th>Solarbeam.1</th>\n",
       "      <th>Solarbeam.2</th>\n",
       "      <th>Solarbeam.3</th>\n",
       "      <th>Solarbeam.4</th>\n",
       "      <th>Solarbeam.5</th>\n",
       "      <th>Solarbeam.6</th>\n",
       "      <th>...</th>\n",
       "      <th>Solarbeam.32</th>\n",
       "      <th>Solarbeam.33</th>\n",
       "      <th>Solarbeam.34</th>\n",
       "      <th>Solarbeam.35</th>\n",
       "      <th>Solarbeam.36</th>\n",
       "      <th>Solarbeam.37</th>\n",
       "      <th>Solarbeam.38</th>\n",
       "      <th>Solarbeam.39</th>\n",
       "      <th>Solarbeam.40</th>\n",
       "      <th>Solarbeam.41</th>\n",
       "    </tr>\n",
       "  </thead>\n",
       "  <tbody>\n",
       "    <tr>\n",
       "      <th>0</th>\n",
       "      <td>NaN</td>\n",
       "      <td>NaN</td>\n",
       "      <td>NaN</td>\n",
       "      <td>Dexes</td>\n",
       "      <td>Dexes</td>\n",
       "      <td>Dexes</td>\n",
       "      <td>Dexes</td>\n",
       "      <td>Dexes</td>\n",
       "      <td>Dexes</td>\n",
       "      <td>Dexes</td>\n",
       "      <td>...</td>\n",
       "      <td>Dexes</td>\n",
       "      <td>Dexes</td>\n",
       "      <td>Dexes</td>\n",
       "      <td>Dexes</td>\n",
       "      <td>Dexes</td>\n",
       "      <td>Dexes</td>\n",
       "      <td>Dexes</td>\n",
       "      <td>Dexes</td>\n",
       "      <td>Dexes</td>\n",
       "      <td>Dexes</td>\n",
       "    </tr>\n",
       "    <tr>\n",
       "      <th>1</th>\n",
       "      <td>NaN</td>\n",
       "      <td>NaN</td>\n",
       "      <td>NaN</td>\n",
       "      <td>Total</td>\n",
       "      <td>moonriver</td>\n",
       "      <td>Total</td>\n",
       "      <td>Total</td>\n",
       "      <td>Total</td>\n",
       "      <td>Total</td>\n",
       "      <td>Total</td>\n",
       "      <td>...</td>\n",
       "      <td>moonriver</td>\n",
       "      <td>moonriver</td>\n",
       "      <td>moonriver</td>\n",
       "      <td>moonriver</td>\n",
       "      <td>moonriver</td>\n",
       "      <td>moonriver</td>\n",
       "      <td>moonriver</td>\n",
       "      <td>moonriver</td>\n",
       "      <td>moonriver</td>\n",
       "      <td>moonriver</td>\n",
       "    </tr>\n",
       "    <tr>\n",
       "      <th>2</th>\n",
       "      <td>NaN</td>\n",
       "      <td>NaN</td>\n",
       "      <td>NaN</td>\n",
       "      <td>TVL</td>\n",
       "      <td>TVL</td>\n",
       "      <td>Tokens(USD)</td>\n",
       "      <td>Tokens(USD)</td>\n",
       "      <td>Tokens(USD)</td>\n",
       "      <td>Tokens(USD)</td>\n",
       "      <td>Tokens(USD)</td>\n",
       "      <td>...</td>\n",
       "      <td>Tokens</td>\n",
       "      <td>Tokens</td>\n",
       "      <td>Tokens</td>\n",
       "      <td>Tokens</td>\n",
       "      <td>Tokens</td>\n",
       "      <td>Tokens</td>\n",
       "      <td>Tokens</td>\n",
       "      <td>Tokens</td>\n",
       "      <td>Tokens</td>\n",
       "      <td>Tokens</td>\n",
       "    </tr>\n",
       "    <tr>\n",
       "      <th>3</th>\n",
       "      <td>NaN</td>\n",
       "      <td>NaN</td>\n",
       "      <td>NaN</td>\n",
       "      <td>NaN</td>\n",
       "      <td>NaN</td>\n",
       "      <td>USDT</td>\n",
       "      <td>moonriver</td>\n",
       "      <td>kusama</td>\n",
       "      <td>frax</td>\n",
       "      <td>tether</td>\n",
       "      <td>...</td>\n",
       "      <td>USDT</td>\n",
       "      <td>moonriver</td>\n",
       "      <td>kusama</td>\n",
       "      <td>frax</td>\n",
       "      <td>tether</td>\n",
       "      <td>magic-internet-money</td>\n",
       "      <td>binance-usd</td>\n",
       "      <td>usd-coin</td>\n",
       "      <td>bitcoin</td>\n",
       "      <td>mimatic</td>\n",
       "    </tr>\n",
       "    <tr>\n",
       "      <th>4</th>\n",
       "      <td>NaN</td>\n",
       "      <td>04/09/2021</td>\n",
       "      <td>1.630714e+09</td>\n",
       "      <td>324457.32223</td>\n",
       "      <td>324457.32223</td>\n",
       "      <td>324457.32223</td>\n",
       "      <td>NaN</td>\n",
       "      <td>NaN</td>\n",
       "      <td>NaN</td>\n",
       "      <td>NaN</td>\n",
       "      <td>...</td>\n",
       "      <td>324457.32223</td>\n",
       "      <td>NaN</td>\n",
       "      <td>NaN</td>\n",
       "      <td>NaN</td>\n",
       "      <td>NaN</td>\n",
       "      <td>NaN</td>\n",
       "      <td>NaN</td>\n",
       "      <td>NaN</td>\n",
       "      <td>NaN</td>\n",
       "      <td>NaN</td>\n",
       "    </tr>\n",
       "    <tr>\n",
       "      <th>...</th>\n",
       "      <td>...</td>\n",
       "      <td>...</td>\n",
       "      <td>...</td>\n",
       "      <td>...</td>\n",
       "      <td>...</td>\n",
       "      <td>...</td>\n",
       "      <td>...</td>\n",
       "      <td>...</td>\n",
       "      <td>...</td>\n",
       "      <td>...</td>\n",
       "      <td>...</td>\n",
       "      <td>...</td>\n",
       "      <td>...</td>\n",
       "      <td>...</td>\n",
       "      <td>...</td>\n",
       "      <td>...</td>\n",
       "      <td>...</td>\n",
       "      <td>...</td>\n",
       "      <td>...</td>\n",
       "      <td>...</td>\n",
       "      <td>...</td>\n",
       "    </tr>\n",
       "    <tr>\n",
       "      <th>301</th>\n",
       "      <td>NaN</td>\n",
       "      <td>14/07/2022</td>\n",
       "      <td>1.657757e+09</td>\n",
       "      <td>28461440.367345914</td>\n",
       "      <td>28461440.367345914</td>\n",
       "      <td>NaN</td>\n",
       "      <td>NaN</td>\n",
       "      <td>2643393.8337562983</td>\n",
       "      <td>4254053.773291846</td>\n",
       "      <td>1497841.581498</td>\n",
       "      <td>...</td>\n",
       "      <td>NaN</td>\n",
       "      <td>NaN</td>\n",
       "      <td>53858.880068384235</td>\n",
       "      <td>4254053.773291846</td>\n",
       "      <td>1497841.581498</td>\n",
       "      <td>13807.563647947374</td>\n",
       "      <td>1599473.4762276385</td>\n",
       "      <td>18107119.951185003</td>\n",
       "      <td>15.169546539999999</td>\n",
       "      <td>12925.43129256925</td>\n",
       "    </tr>\n",
       "    <tr>\n",
       "      <th>302</th>\n",
       "      <td>NaN</td>\n",
       "      <td>15/07/2022</td>\n",
       "      <td>1.657843e+09</td>\n",
       "      <td>28884345.0476636</td>\n",
       "      <td>28884345.0476636</td>\n",
       "      <td>NaN</td>\n",
       "      <td>NaN</td>\n",
       "      <td>2767076.3041666993</td>\n",
       "      <td>4286519.62034963</td>\n",
       "      <td>1504180.515069</td>\n",
       "      <td>...</td>\n",
       "      <td>NaN</td>\n",
       "      <td>NaN</td>\n",
       "      <td>53771.40116919353</td>\n",
       "      <td>4288543.81302938</td>\n",
       "      <td>1504180.515069</td>\n",
       "      <td>13298.210665077342</td>\n",
       "      <td>1581088.3172103465</td>\n",
       "      <td>18388780.116411</td>\n",
       "      <td>15.18552451</td>\n",
       "      <td>12872.519871707229</td>\n",
       "    </tr>\n",
       "    <tr>\n",
       "      <th>303</th>\n",
       "      <td>NaN</td>\n",
       "      <td>16/07/2022</td>\n",
       "      <td>1.657930e+09</td>\n",
       "      <td>29449453.66706093</td>\n",
       "      <td>29449453.66706093</td>\n",
       "      <td>NaN</td>\n",
       "      <td>NaN</td>\n",
       "      <td>3023641.383569109</td>\n",
       "      <td>4337876.53026205</td>\n",
       "      <td>1497503.3321958708</td>\n",
       "      <td>...</td>\n",
       "      <td>NaN</td>\n",
       "      <td>NaN</td>\n",
       "      <td>55479.658414112084</td>\n",
       "      <td>4341979.701079571</td>\n",
       "      <td>1496007.324871</td>\n",
       "      <td>12929.133892575117</td>\n",
       "      <td>1565125.9972548452</td>\n",
       "      <td>18680548.02257</td>\n",
       "      <td>15.23401261</td>\n",
       "      <td>12947.800295072697</td>\n",
       "    </tr>\n",
       "    <tr>\n",
       "      <th>304</th>\n",
       "      <td>NaN</td>\n",
       "      <td>17/07/2022</td>\n",
       "      <td>1.658016e+09</td>\n",
       "      <td>30363374.27842397</td>\n",
       "      <td>30363374.27842397</td>\n",
       "      <td>NaN</td>\n",
       "      <td>NaN</td>\n",
       "      <td>3149329.881285669</td>\n",
       "      <td>4331279.594472345</td>\n",
       "      <td>1490856.749114</td>\n",
       "      <td>...</td>\n",
       "      <td>NaN</td>\n",
       "      <td>NaN</td>\n",
       "      <td>55563.33594364271</td>\n",
       "      <td>4339055.181357337</td>\n",
       "      <td>1490856.749114</td>\n",
       "      <td>10952.886643002565</td>\n",
       "      <td>1553833.3544719461</td>\n",
       "      <td>19493407.330275</td>\n",
       "      <td>15.399206190000001</td>\n",
       "      <td>12895.986060362737</td>\n",
       "    </tr>\n",
       "    <tr>\n",
       "      <th>305</th>\n",
       "      <td>NaN</td>\n",
       "      <td>18/07/2022</td>\n",
       "      <td>1.658102e+09</td>\n",
       "      <td>29895708.6068861</td>\n",
       "      <td>29895708.6068861</td>\n",
       "      <td>NaN</td>\n",
       "      <td>NaN</td>\n",
       "      <td>3100945.1432865155</td>\n",
       "      <td>4341602.082922784</td>\n",
       "      <td>1487444.564222</td>\n",
       "      <td>...</td>\n",
       "      <td>NaN</td>\n",
       "      <td>NaN</td>\n",
       "      <td>56576.266069814184</td>\n",
       "      <td>4344699.853918628</td>\n",
       "      <td>1487444.564222</td>\n",
       "      <td>12084.310423441488</td>\n",
       "      <td>1557158.1044331503</td>\n",
       "      <td>19045436.090058</td>\n",
       "      <td>15.385292589999999</td>\n",
       "      <td>11903.003067272051</td>\n",
       "    </tr>\n",
       "  </tbody>\n",
       "</table>\n",
       "<p>306 rows × 45 columns</p>\n",
       "</div>"
      ],
      "text/plain": [
       "     Unnamed: 0        Date     Timestamp           Solarbeam  \\\n",
       "0           NaN         NaN           NaN               Dexes   \n",
       "1           NaN         NaN           NaN               Total   \n",
       "2           NaN         NaN           NaN                 TVL   \n",
       "3           NaN         NaN           NaN                 NaN   \n",
       "4           NaN  04/09/2021  1.630714e+09        324457.32223   \n",
       "..          ...         ...           ...                 ...   \n",
       "301         NaN  14/07/2022  1.657757e+09  28461440.367345914   \n",
       "302         NaN  15/07/2022  1.657843e+09    28884345.0476636   \n",
       "303         NaN  16/07/2022  1.657930e+09   29449453.66706093   \n",
       "304         NaN  17/07/2022  1.658016e+09   30363374.27842397   \n",
       "305         NaN  18/07/2022  1.658102e+09    29895708.6068861   \n",
       "\n",
       "            Solarbeam.1   Solarbeam.2  Solarbeam.3         Solarbeam.4  \\\n",
       "0                 Dexes         Dexes        Dexes               Dexes   \n",
       "1             moonriver         Total        Total               Total   \n",
       "2                   TVL   Tokens(USD)  Tokens(USD)         Tokens(USD)   \n",
       "3                   NaN          USDT    moonriver              kusama   \n",
       "4          324457.32223  324457.32223          NaN                 NaN   \n",
       "..                  ...           ...          ...                 ...   \n",
       "301  28461440.367345914           NaN          NaN  2643393.8337562983   \n",
       "302    28884345.0476636           NaN          NaN  2767076.3041666993   \n",
       "303   29449453.66706093           NaN          NaN   3023641.383569109   \n",
       "304   30363374.27842397           NaN          NaN   3149329.881285669   \n",
       "305    29895708.6068861           NaN          NaN  3100945.1432865155   \n",
       "\n",
       "           Solarbeam.5         Solarbeam.6  ...  Solarbeam.32 Solarbeam.33  \\\n",
       "0                Dexes               Dexes  ...         Dexes        Dexes   \n",
       "1                Total               Total  ...     moonriver    moonriver   \n",
       "2          Tokens(USD)         Tokens(USD)  ...        Tokens       Tokens   \n",
       "3                 frax              tether  ...          USDT    moonriver   \n",
       "4                  NaN                 NaN  ...  324457.32223          NaN   \n",
       "..                 ...                 ...  ...           ...          ...   \n",
       "301  4254053.773291846      1497841.581498  ...           NaN          NaN   \n",
       "302   4286519.62034963      1504180.515069  ...           NaN          NaN   \n",
       "303   4337876.53026205  1497503.3321958708  ...           NaN          NaN   \n",
       "304  4331279.594472345      1490856.749114  ...           NaN          NaN   \n",
       "305  4341602.082922784      1487444.564222  ...           NaN          NaN   \n",
       "\n",
       "           Solarbeam.34       Solarbeam.35    Solarbeam.36  \\\n",
       "0                 Dexes              Dexes           Dexes   \n",
       "1             moonriver          moonriver       moonriver   \n",
       "2                Tokens             Tokens          Tokens   \n",
       "3                kusama               frax          tether   \n",
       "4                   NaN                NaN             NaN   \n",
       "..                  ...                ...             ...   \n",
       "301  53858.880068384235  4254053.773291846  1497841.581498   \n",
       "302   53771.40116919353   4288543.81302938  1504180.515069   \n",
       "303  55479.658414112084  4341979.701079571  1496007.324871   \n",
       "304   55563.33594364271  4339055.181357337  1490856.749114   \n",
       "305  56576.266069814184  4344699.853918628  1487444.564222   \n",
       "\n",
       "             Solarbeam.37        Solarbeam.38        Solarbeam.39  \\\n",
       "0                   Dexes               Dexes               Dexes   \n",
       "1               moonriver           moonriver           moonriver   \n",
       "2                  Tokens              Tokens              Tokens   \n",
       "3    magic-internet-money         binance-usd            usd-coin   \n",
       "4                     NaN                 NaN                 NaN   \n",
       "..                    ...                 ...                 ...   \n",
       "301    13807.563647947374  1599473.4762276385  18107119.951185003   \n",
       "302    13298.210665077342  1581088.3172103465     18388780.116411   \n",
       "303    12929.133892575117  1565125.9972548452      18680548.02257   \n",
       "304    10952.886643002565  1553833.3544719461     19493407.330275   \n",
       "305    12084.310423441488  1557158.1044331503     19045436.090058   \n",
       "\n",
       "           Solarbeam.40        Solarbeam.41  \n",
       "0                 Dexes               Dexes  \n",
       "1             moonriver           moonriver  \n",
       "2                Tokens              Tokens  \n",
       "3               bitcoin             mimatic  \n",
       "4                   NaN                 NaN  \n",
       "..                  ...                 ...  \n",
       "301  15.169546539999999   12925.43129256925  \n",
       "302         15.18552451  12872.519871707229  \n",
       "303         15.23401261  12947.800295072697  \n",
       "304  15.399206190000001  12895.986060362737  \n",
       "305  15.385292589999999  11903.003067272051  \n",
       "\n",
       "[306 rows x 45 columns]"
      ]
     },
     "execution_count": 10,
     "metadata": {},
     "output_type": "execute_result"
    }
   ],
   "source": [
    "lma"
   ]
  },
  {
   "cell_type": "code",
   "execution_count": 11,
   "metadata": {},
   "outputs": [
    {
     "data": {
      "text/plain": [
       "0                   Dexes\n",
       "1                   Total\n",
       "2                     TVL\n",
       "3                     NaN\n",
       "4            324457.32223\n",
       "              ...        \n",
       "301    28461440.367345914\n",
       "302      28884345.0476636\n",
       "303     29449453.66706093\n",
       "304     30363374.27842397\n",
       "305      29895708.6068861\n",
       "Name: Solarbeam, Length: 306, dtype: object"
      ]
     },
     "execution_count": 11,
     "metadata": {},
     "output_type": "execute_result"
    }
   ],
   "source": [
    "lma.iloc[:,3]"
   ]
  },
  {
   "cell_type": "code",
   "execution_count": 12,
   "metadata": {},
   "outputs": [
    {
     "data": {
      "text/plain": [
       "27671389.253872823"
      ]
     },
     "execution_count": 12,
     "metadata": {},
     "output_type": "execute_result"
    }
   ],
   "source": [
    "#Just eth currently can take total by changing the header\n",
    "lma.iloc[-183:, 3].astype(float).mean()"
   ]
  },
  {
   "cell_type": "code",
   "execution_count": null,
   "metadata": {},
   "outputs": [],
   "source": []
  },
  {
   "cell_type": "markdown",
   "metadata": {},
   "source": [
    "Largest Pool Concentration"
   ]
  },
  {
   "cell_type": "code",
   "execution_count": 13,
   "metadata": {},
   "outputs": [
    {
     "name": "stderr",
     "output_type": "stream",
     "text": [
      "/tmp/ipykernel_26721/2291472997.py:22: FutureWarning: The frame.append method is deprecated and will be removed from pandas in a future version. Use pandas.concat instead.\n",
      "  df = df.append(pool)\n"
     ]
    }
   ],
   "source": [
    "df = pd.DataFrame()\n",
    "ts = 0\n",
    "\n",
    "while True:\n",
    "    sl = len(df)\n",
    "    query = \"\"\"\n",
    "{\n",
    "  liquidityPools(first:1000, orderBy: createdTimestamp, orderDirection: asc, where: {createdTimestamp_gt: \"\"\"+f'\"{ts}\"'+\"\"\"}){\n",
    "    id\n",
    "    name\n",
    "    totalValueLockedUSD\n",
    "    cumulativeVolumeUSD\n",
    "    createdTimestamp\n",
    "    createdBlockNumber\n",
    "  }\n",
    "}\n",
    "\"\"\"\n",
    "    request = requests.post(endpoint, json={'query':query})\n",
    "    data = request.json()\n",
    "\n",
    "    pool = pd.json_normalize(data['data']['liquidityPools'])\n",
    "    df = df.append(pool)\n",
    "    df.drop_duplicates(inplace=True)\n",
    "    if len(df) == sl:\n",
    "      break\n",
    "    ts = df['createdTimestamp'].max()\n"
   ]
  },
  {
   "cell_type": "code",
   "execution_count": 14,
   "metadata": {},
   "outputs": [
    {
     "data": {
      "text/html": [
       "<div>\n",
       "<style scoped>\n",
       "    .dataframe tbody tr th:only-of-type {\n",
       "        vertical-align: middle;\n",
       "    }\n",
       "\n",
       "    .dataframe tbody tr th {\n",
       "        vertical-align: top;\n",
       "    }\n",
       "\n",
       "    .dataframe thead th {\n",
       "        text-align: right;\n",
       "    }\n",
       "</style>\n",
       "<table border=\"1\" class=\"dataframe\">\n",
       "  <thead>\n",
       "    <tr style=\"text-align: right;\">\n",
       "      <th></th>\n",
       "      <th>id</th>\n",
       "      <th>name</th>\n",
       "      <th>totalValueLockedUSD</th>\n",
       "      <th>cumulativeVolumeUSD</th>\n",
       "      <th>createdTimestamp</th>\n",
       "      <th>createdBlockNumber</th>\n",
       "    </tr>\n",
       "  </thead>\n",
       "  <tbody>\n",
       "    <tr>\n",
       "      <th>0</th>\n",
       "      <td>0x7eda899b3522683636746a2f3a7814e6ffca75e1</td>\n",
       "      <td>Solarbeam SolarBeam Token/Wrapped MOVR</td>\n",
       "      <td>853733.3648512254512654433166792969</td>\n",
       "      <td>205543096.6628514407555319408610099</td>\n",
       "      <td>1630515054</td>\n",
       "      <td>442666</td>\n",
       "    </tr>\n",
       "    <tr>\n",
       "      <th>1</th>\n",
       "      <td>0x0acdb54e610dabc82b8fa454b21ad425ae460df9</td>\n",
       "      <td>Solarbeam Wrapped MOVR/RiverBoat</td>\n",
       "      <td>4775.656638286683044985000896202641</td>\n",
       "      <td>9603406.542980087604806227894956822</td>\n",
       "      <td>1630611180</td>\n",
       "      <td>450311</td>\n",
       "    </tr>\n",
       "    <tr>\n",
       "      <th>2</th>\n",
       "      <td>0xf9b7495b833804e4d894fc5f7b39c10016e0a911</td>\n",
       "      <td>Solarbeam SolarBeam Token/RiverBoat</td>\n",
       "      <td>277.9427404740971427328836599553315</td>\n",
       "      <td>0</td>\n",
       "      <td>1630611240</td>\n",
       "      <td>450316</td>\n",
       "    </tr>\n",
       "    <tr>\n",
       "      <th>3</th>\n",
       "      <td>0xe537f70a8b62204832b8ba91940b77d3f79aeb81</td>\n",
       "      <td>Solarbeam Wrapped MOVR/USD Coin</td>\n",
       "      <td>3191609.770498</td>\n",
       "      <td>992057351.1648944266028174263536332</td>\n",
       "      <td>1630679850</td>\n",
       "      <td>455797</td>\n",
       "    </tr>\n",
       "    <tr>\n",
       "      <th>4</th>\n",
       "      <td>0xdb66be1005f5fe1d2f486e75ce3c50b52535f886</td>\n",
       "      <td>Solarbeam SolarBeam Token/USD Coin</td>\n",
       "      <td>208237.8449707489771023962367543884</td>\n",
       "      <td>174615224.793827</td>\n",
       "      <td>1630680156</td>\n",
       "      <td>455822</td>\n",
       "    </tr>\n",
       "    <tr>\n",
       "      <th>...</th>\n",
       "      <td>...</td>\n",
       "      <td>...</td>\n",
       "      <td>...</td>\n",
       "      <td>...</td>\n",
       "      <td>...</td>\n",
       "      <td>...</td>\n",
       "    </tr>\n",
       "    <tr>\n",
       "      <th>569</th>\n",
       "      <td>0x2326a8bb4cbeb647f3f3ac0c9d8b3c066edecbd6</td>\n",
       "      <td>Solarbeam DPS Rum/DPSDoubloon</td>\n",
       "      <td>156.2031373587818004548834870099137</td>\n",
       "      <td>0</td>\n",
       "      <td>1654768332</td>\n",
       "      <td>1988583</td>\n",
       "    </tr>\n",
       "    <tr>\n",
       "      <th>570</th>\n",
       "      <td>0x0efb74592e3c83e5ebd3049441bb320a8f5d9665</td>\n",
       "      <td>Solarbeam Scion USD Coin Vault/USD Coin</td>\n",
       "      <td>0.001</td>\n",
       "      <td>0</td>\n",
       "      <td>1654925892</td>\n",
       "      <td>2000057</td>\n",
       "    </tr>\n",
       "    <tr>\n",
       "      <th>571</th>\n",
       "      <td>0x28d3f510cb19bd357dad67ec4b68464e875a42c4</td>\n",
       "      <td>Solarbeam XR COIN/Wrapped MOVR</td>\n",
       "      <td>0</td>\n",
       "      <td>0</td>\n",
       "      <td>1656271434</td>\n",
       "      <td>2097291</td>\n",
       "    </tr>\n",
       "    <tr>\n",
       "      <th>572</th>\n",
       "      <td>0x2bbcd270aafc3de77c236f4b2102287aed38f68d</td>\n",
       "      <td>Solarbeam Wrapped MOVR/TEER</td>\n",
       "      <td>0.000003161705010510359858925835005805607</td>\n",
       "      <td>0</td>\n",
       "      <td>1656668058</td>\n",
       "      <td>2123923</td>\n",
       "    </tr>\n",
       "    <tr>\n",
       "      <th>573</th>\n",
       "      <td>0x4dad69773da6ad4ed78ef38a3d3d563ec0c8df3f</td>\n",
       "      <td>Solarbeam Wrapped MOVR/szumbieszczadu</td>\n",
       "      <td>55.3281484605696731715259061055351</td>\n",
       "      <td>0</td>\n",
       "      <td>1657735320</td>\n",
       "      <td>2194885</td>\n",
       "    </tr>\n",
       "  </tbody>\n",
       "</table>\n",
       "<p>574 rows × 6 columns</p>\n",
       "</div>"
      ],
      "text/plain": [
       "                                             id  \\\n",
       "0    0x7eda899b3522683636746a2f3a7814e6ffca75e1   \n",
       "1    0x0acdb54e610dabc82b8fa454b21ad425ae460df9   \n",
       "2    0xf9b7495b833804e4d894fc5f7b39c10016e0a911   \n",
       "3    0xe537f70a8b62204832b8ba91940b77d3f79aeb81   \n",
       "4    0xdb66be1005f5fe1d2f486e75ce3c50b52535f886   \n",
       "..                                          ...   \n",
       "569  0x2326a8bb4cbeb647f3f3ac0c9d8b3c066edecbd6   \n",
       "570  0x0efb74592e3c83e5ebd3049441bb320a8f5d9665   \n",
       "571  0x28d3f510cb19bd357dad67ec4b68464e875a42c4   \n",
       "572  0x2bbcd270aafc3de77c236f4b2102287aed38f68d   \n",
       "573  0x4dad69773da6ad4ed78ef38a3d3d563ec0c8df3f   \n",
       "\n",
       "                                        name  \\\n",
       "0     Solarbeam SolarBeam Token/Wrapped MOVR   \n",
       "1           Solarbeam Wrapped MOVR/RiverBoat   \n",
       "2        Solarbeam SolarBeam Token/RiverBoat   \n",
       "3            Solarbeam Wrapped MOVR/USD Coin   \n",
       "4         Solarbeam SolarBeam Token/USD Coin   \n",
       "..                                       ...   \n",
       "569            Solarbeam DPS Rum/DPSDoubloon   \n",
       "570  Solarbeam Scion USD Coin Vault/USD Coin   \n",
       "571           Solarbeam XR COIN/Wrapped MOVR   \n",
       "572              Solarbeam Wrapped MOVR/TEER   \n",
       "573    Solarbeam Wrapped MOVR/szumbieszczadu   \n",
       "\n",
       "                           totalValueLockedUSD  \\\n",
       "0          853733.3648512254512654433166792969   \n",
       "1          4775.656638286683044985000896202641   \n",
       "2          277.9427404740971427328836599553315   \n",
       "3                               3191609.770498   \n",
       "4          208237.8449707489771023962367543884   \n",
       "..                                         ...   \n",
       "569        156.2031373587818004548834870099137   \n",
       "570                                      0.001   \n",
       "571                                          0   \n",
       "572  0.000003161705010510359858925835005805607   \n",
       "573         55.3281484605696731715259061055351   \n",
       "\n",
       "                     cumulativeVolumeUSD createdTimestamp createdBlockNumber  \n",
       "0    205543096.6628514407555319408610099       1630515054             442666  \n",
       "1    9603406.542980087604806227894956822       1630611180             450311  \n",
       "2                                      0       1630611240             450316  \n",
       "3    992057351.1648944266028174263536332       1630679850             455797  \n",
       "4                       174615224.793827       1630680156             455822  \n",
       "..                                   ...              ...                ...  \n",
       "569                                    0       1654768332            1988583  \n",
       "570                                    0       1654925892            2000057  \n",
       "571                                    0       1656271434            2097291  \n",
       "572                                    0       1656668058            2123923  \n",
       "573                                    0       1657735320            2194885  \n",
       "\n",
       "[574 rows x 6 columns]"
      ]
     },
     "execution_count": 14,
     "metadata": {},
     "output_type": "execute_result"
    }
   ],
   "source": [
    "df"
   ]
  },
  {
   "cell_type": "code",
   "execution_count": 15,
   "metadata": {},
   "outputs": [
    {
     "data": {
      "text/plain": [
       "0.2958274692546129"
      ]
     },
     "execution_count": 15,
     "metadata": {},
     "output_type": "execute_result"
    }
   ],
   "source": [
    "df['totalValueLockedUSD'].astype(float).max()/df['totalValueLockedUSD'].astype(float).sum()"
   ]
  },
  {
   "cell_type": "code",
   "execution_count": 16,
   "metadata": {},
   "outputs": [
    {
     "data": {
      "text/plain": [
       "0.9613813781454142"
      ]
     },
     "execution_count": 16,
     "metadata": {},
     "output_type": "execute_result"
    }
   ],
   "source": [
    "df['totalValueLockedUSD'].astype(float).nlargest(10).sum()/df['totalValueLockedUSD'].astype(float).sum()"
   ]
  },
  {
   "cell_type": "markdown",
   "metadata": {},
   "source": [
    "Liquidity Pools with > $1mn TVL"
   ]
  },
  {
   "cell_type": "code",
   "execution_count": 17,
   "metadata": {},
   "outputs": [
    {
     "data": {
      "text/plain": [
       "5"
      ]
     },
     "execution_count": 17,
     "metadata": {},
     "output_type": "execute_result"
    }
   ],
   "source": [
    "len(df.loc[df['totalValueLockedUSD'].astype(float) > 1000000])"
   ]
  },
  {
   "cell_type": "code",
   "execution_count": null,
   "metadata": {},
   "outputs": [],
   "source": []
  },
  {
   "cell_type": "markdown",
   "metadata": {},
   "source": [
    "Monthly Active Users"
   ]
  },
  {
   "cell_type": "code",
   "execution_count": 18,
   "metadata": {},
   "outputs": [],
   "source": [
    "query = \"\"\"{\n",
    "  usageMetricsDailySnapshots(first: 183, orderBy: timestamp, orderDirection: desc){\n",
    "    timestamp\n",
    "    blockNumber\n",
    "    id\n",
    "    dailyActiveUsers\n",
    "    dailySwapCount\n",
    "    dailyDepositCount\n",
    "    dailyWithdrawCount \n",
    "  }\n",
    "}\n",
    "\"\"\""
   ]
  },
  {
   "cell_type": "code",
   "execution_count": 19,
   "metadata": {},
   "outputs": [],
   "source": [
    "request = requests.post(endpoint, json={'query':query})\n",
    "data = request.json()"
   ]
  },
  {
   "cell_type": "code",
   "execution_count": 20,
   "metadata": {},
   "outputs": [],
   "source": [
    "df = pd.json_normalize(data['data']['usageMetricsDailySnapshots'])"
   ]
  },
  {
   "cell_type": "code",
   "execution_count": 21,
   "metadata": {},
   "outputs": [],
   "source": [
    "df['date'] = df['timestamp'].astype(int).apply(lambda x: dt.datetime.fromtimestamp(x))"
   ]
  },
  {
   "cell_type": "code",
   "execution_count": 22,
   "metadata": {},
   "outputs": [],
   "source": [
    "monthactiveusers = []\n",
    "for i in range(len(df['date'].dt.month.unique())):\n",
    "    monthactiveusers.append(df['dailyActiveUsers'].loc[df['date'].dt.month == df['date'].dt.month.unique()[i]].astype(float).sum())"
   ]
  },
  {
   "cell_type": "code",
   "execution_count": 23,
   "metadata": {},
   "outputs": [
    {
     "data": {
      "text/plain": [
       "24336.14285714286"
      ]
     },
     "execution_count": 23,
     "metadata": {},
     "output_type": "execute_result"
    }
   ],
   "source": [
    "np.mean(monthactiveusers) #can chart this easy"
   ]
  },
  {
   "cell_type": "code",
   "execution_count": null,
   "metadata": {},
   "outputs": [],
   "source": []
  },
  {
   "cell_type": "markdown",
   "metadata": {},
   "source": [
    "Implied slippage"
   ]
  },
  {
   "cell_type": "code",
   "execution_count": null,
   "metadata": {},
   "outputs": [],
   "source": []
  },
  {
   "cell_type": "code",
   "execution_count": null,
   "metadata": {},
   "outputs": [],
   "source": []
  },
  {
   "cell_type": "code",
   "execution_count": null,
   "metadata": {},
   "outputs": [],
   "source": []
  }
 ],
 "metadata": {
  "kernelspec": {
   "display_name": "Python 3.8.10 64-bit",
   "language": "python",
   "name": "python3"
  },
  "language_info": {
   "codemirror_mode": {
    "name": "ipython",
    "version": 3
   },
   "file_extension": ".py",
   "mimetype": "text/x-python",
   "name": "python",
   "nbconvert_exporter": "python",
   "pygments_lexer": "ipython3",
   "version": "3.8.10"
  },
  "orig_nbformat": 4,
  "vscode": {
   "interpreter": {
    "hash": "916dbcbb3f70747c44a77c7bcd40155683ae19c65e1c03b4aa3499c5328201f1"
   }
  }
 },
 "nbformat": 4,
 "nbformat_minor": 2
}
